{
 "cells": [
  {
   "cell_type": "code",
   "execution_count": 80,
   "metadata": {},
   "outputs": [],
   "source": [
    "using Pkg\n",
    "using LightGraphs\n",
    "using IterTools\n",
    "using DataStructures\n",
    "using Base\n",
    "using Combinatorics\n",
    "#use Pkg.add(\"<<name>>\") if you don't have a particular package"
   ]
  },
  {
   "cell_type": "code",
   "execution_count": null,
   "metadata": {},
   "outputs": [],
   "source": []
  },
  {
   "cell_type": "code",
   "execution_count": null,
   "metadata": {},
   "outputs": [],
   "source": [
    "\n"
   ]
  },
  {
   "cell_type": "code",
   "execution_count": 81,
   "metadata": {},
   "outputs": [
    {
     "data": {
      "text/plain": [
       "make_omino_set (generic function with 2 methods)"
      ]
     },
     "execution_count": 81,
     "metadata": {},
     "output_type": "execute_result"
    }
   ],
   "source": [
    "function valid_omino(omino,cont=\"rc\")\n",
    "    if 2 in omino\n",
    "        return false\n",
    "    end\n",
    "    n1 = size(omino)[1]\n",
    "    n2 = size(omino)[2]\n",
    "    check = zeros(Int8, n1,n2)\n",
    "    _f = false\n",
    "    g = Grid([n1,n2])\n",
    "\n",
    "\n",
    "    \n",
    "    if cont == \"qc\" \n",
    "        for i=1:n1-1\n",
    "           for j=1:n2-1\n",
    "\n",
    "               add_edge!(g,((i-1)*n2+j),i*n2+j+1) \n",
    "\n",
    "            end\n",
    "\n",
    "\n",
    "        end\n",
    "        for i=1:n1-1\n",
    "            for j=2:n2\n",
    "                add_edge!(g,((i-1)*n2+j),i*n2+j-1)\n",
    "\n",
    "            end\n",
    "        end\n",
    "    end\n",
    "    \n",
    "    for i=n1:-1:1\n",
    "        for j=n2:-1:1\n",
    "           if omino[i,j] ==0\n",
    "                rem_vertex!(g,((i-1)*n2+j))\n",
    "            end\n",
    "           \n",
    "        end   \n",
    "    end\n",
    "    \n",
    "    return length(connected_components(g)) == 1\n",
    "            \n",
    "    \n",
    "end\n",
    "    \n",
    "\n",
    "\n",
    "function make_omino(inds,dim,cont=\"rc\")\n",
    "    \n",
    "    p = zeros(Int8,dim[1],dim[2])\n",
    "    for loc in inds\n",
    "        p[loc[1],loc[2]]=1\n",
    "    end\n",
    "    if valid_omino(p,cont)\n",
    "        return p\n",
    "    else\n",
    "        return zeros(Int8,dim[1],dim[2])\n",
    "    end\n",
    "\n",
    "end\n",
    "\n",
    "\n",
    "\n",
    "\n",
    "\n",
    "\n",
    "\n",
    "\n",
    "\n",
    "function make_omino_set(cells,grid,cont=\"rc\")\n",
    "    \n",
    "   pair_idx = []\n",
    "    for i=1:grid[1]\n",
    "        for j=1:grid[2]\n",
    "            push!(pair_idx, (i,j))\n",
    "        end\n",
    "    end\n",
    "    ominos = []\n",
    "    for t in subsets(pair_idx, Val{cells}())\n",
    "        p = make_omino(t,grid,cont)\n",
    "        \n",
    "        if sum(p)!=0\n",
    "            push!(ominos,p)\n",
    "        end\n",
    "    end\n",
    "    \n",
    "    \n",
    "    return ominos\n",
    "        \n",
    "    \n",
    "    \n",
    "    \n",
    "    \n",
    "end\n"
   ]
  },
  {
   "cell_type": "code",
   "execution_count": null,
   "metadata": {},
   "outputs": [],
   "source": [
    "\n"
   ]
  },
  {
   "cell_type": "code",
   "execution_count": 82,
   "metadata": {},
   "outputs": [
    {
     "data": {
      "text/plain": [
       "16-element Array{Any,1}:\n",
       " Int8[1 0 0 0; 0 0 0 0; 0 0 0 0; 0 0 0 0]\n",
       " Int8[0 1 0 0; 0 0 0 0; 0 0 0 0; 0 0 0 0]\n",
       " Int8[0 0 1 0; 0 0 0 0; 0 0 0 0; 0 0 0 0]\n",
       " Int8[0 0 0 1; 0 0 0 0; 0 0 0 0; 0 0 0 0]\n",
       " Int8[0 0 0 0; 1 0 0 0; 0 0 0 0; 0 0 0 0]\n",
       " Int8[0 0 0 0; 0 1 0 0; 0 0 0 0; 0 0 0 0]\n",
       " Int8[0 0 0 0; 0 0 1 0; 0 0 0 0; 0 0 0 0]\n",
       " Int8[0 0 0 0; 0 0 0 1; 0 0 0 0; 0 0 0 0]\n",
       " Int8[0 0 0 0; 0 0 0 0; 1 0 0 0; 0 0 0 0]\n",
       " Int8[0 0 0 0; 0 0 0 0; 0 1 0 0; 0 0 0 0]\n",
       " Int8[0 0 0 0; 0 0 0 0; 0 0 1 0; 0 0 0 0]\n",
       " Int8[0 0 0 0; 0 0 0 0; 0 0 0 1; 0 0 0 0]\n",
       " Int8[0 0 0 0; 0 0 0 0; 0 0 0 0; 1 0 0 0]\n",
       " Int8[0 0 0 0; 0 0 0 0; 0 0 0 0; 0 1 0 0]\n",
       " Int8[0 0 0 0; 0 0 0 0; 0 0 0 0; 0 0 1 0]\n",
       " Int8[0 0 0 0; 0 0 0 0; 0 0 0 0; 0 0 0 1]"
      ]
     },
     "execution_count": 82,
     "metadata": {},
     "output_type": "execute_result"
    }
   ],
   "source": [
    "make_omino_set_qc(1,[4,4])"
   ]
  },
  {
   "cell_type": "code",
   "execution_count": 83,
   "metadata": {},
   "outputs": [
    {
     "data": {
      "text/plain": [
       "biggen (generic function with 2 methods)"
      ]
     },
     "execution_count": 83,
     "metadata": {},
     "output_type": "execute_result"
    }
   ],
   "source": [
    "function biggen(omlist,grid,bad,cont=\"rc\")\n",
    "    new_oms = Set()\n",
    "    for o in omlist\n",
    "        \n",
    "        for i = 1:grid[1]\n",
    "            for j = 1:grid[2]\n",
    "                z = zeros(Int8,grid[1],grid[2])\n",
    "                z[i,j]+=1\n",
    "                if o[i,j]==0 && valid_omino(z+o,cont)\n",
    "                    push!(new_oms,z+o)\n",
    " \n",
    "                    \n",
    "                end\n",
    "            end\n",
    "        end\n",
    "    \n",
    "        \n",
    "        \n",
    "        \n",
    "        \n",
    "        \n",
    "    end\n",
    "       \n",
    "    return collect(new_oms)\n",
    "end"
   ]
  },
  {
   "cell_type": "code",
   "execution_count": null,
   "metadata": {},
   "outputs": [],
   "source": []
  },
  {
   "cell_type": "code",
   "execution_count": 84,
   "metadata": {},
   "outputs": [
    {
     "data": {
      "text/plain": [
       "check_holes (generic function with 2 methods)"
      ]
     },
     "execution_count": 84,
     "metadata": {},
     "output_type": "execute_result"
    }
   ],
   "source": [
    "function check_holes(omino, bad_holes,cont=\"rc\")\n",
    "\n",
    "    n1 = size(omino)[1]\n",
    "    n2 = size(omino)[2]\n",
    "    check = ones(Int8, n1,n2)-omino\n",
    "    _f = false\n",
    "    g = Grid([n1,n2])\n",
    "    \n",
    "    \n",
    "    if cont == \"qc\"\n",
    "        for i=1:n1-1\n",
    "           for j=1:n2-1\n",
    "\n",
    "               add_edge!(g,((i-1)*n2+j),i*n2+j+1  ) \n",
    "\n",
    "            end\n",
    "\n",
    "\n",
    "        end\n",
    "        for i=1:n1-1\n",
    "            for j=2:n2\n",
    "                add_edge!(g,((i-1)*n2+j),i*n2+j-1)\n",
    "\n",
    "            end\n",
    "        end        \n",
    "\n",
    "    end\n",
    "    \n",
    "    \n",
    "    \n",
    "    \n",
    "    \n",
    "    for i=n1:-1:1\n",
    "        for j=n2:-1:1\n",
    "           if check[i,j] ==0\n",
    "                rem_vertex!(g,((i-1)*n2+j))\n",
    "            end\n",
    "            \n",
    "            \n",
    "            \n",
    "            \n",
    "            \n",
    "        end   \n",
    "    end\n",
    "    \n",
    "    for c in connected_components(g)\n",
    "        if length(c) in bad_holes\n",
    "            return false\n",
    "        end\n",
    "    end\n",
    "    return true\n",
    "            \n",
    "    \n",
    "    \n",
    "end\n"
   ]
  },
  {
   "cell_type": "code",
   "execution_count": 85,
   "metadata": {},
   "outputs": [
    {
     "data": {
      "text/plain": [
       "first_one (generic function with 1 method)"
      ]
     },
     "execution_count": 85,
     "metadata": {},
     "output_type": "execute_result"
    }
   ],
   "source": [
    "function first_zero(mat)\n",
    "    \n",
    "   for i=1:size(mat,1)\n",
    "        for j=1:size(mat,2)\n",
    "            if mat[i,j]==0\n",
    "                return (i,j)\n",
    "            end\n",
    "        end\n",
    "    end\n",
    "    return nothing\n",
    "    \n",
    "end\n",
    "function first_one(mat)\n",
    "    \n",
    "   for i=1:size(mat,1)\n",
    "        for j=1:size(mat,2)\n",
    "            if mat[i,j]==1\n",
    "                return (i,j)\n",
    "            end\n",
    "        end\n",
    "    end\n",
    "    return nothing\n",
    "    \n",
    "end"
   ]
  },
  {
   "cell_type": "code",
   "execution_count": null,
   "metadata": {},
   "outputs": [],
   "source": []
  },
  {
   "cell_type": "code",
   "execution_count": 86,
   "metadata": {},
   "outputs": [
    {
     "data": {
      "text/plain": [
       "build_conflicts (generic function with 2 methods)"
      ]
     },
     "execution_count": 86,
     "metadata": {},
     "output_type": "execute_result"
    }
   ],
   "source": [
    "function build_conflicts(omlist, bad_holes,num_parts,cont=\"rc\")\n",
    "    \n",
    "    \n",
    "    firstdict = DefaultDict(Set)\n",
    "    \n",
    "    for o in 1:length(omlist)\n",
    "        k = first_one(omlist[o])\n",
    "        push!(firstdict[k],o)\n",
    "    end\n",
    "    \n",
    "\n",
    "    conflict = DefaultDict(Set)\n",
    "    print(length(omlist),\"  \")\n",
    "    for os in subsets(1:length(omlist),Val{2}())\n",
    "        i = os[1]\n",
    "        j = os[2]\n",
    "        if i%500 == 0 && j==i+1\n",
    "            print(i,\"  \")\n",
    "        end\n",
    "        _c = true\n",
    "            for p in zip(omlist[i],omlist[j])\n",
    "                if _c && p[1]*p[2] ==1\n",
    "                    _c = false\n",
    "                end\n",
    "            end\n",
    "            if _c && check_holes(omlist[i]+omlist[j],bad_holes,cont)\n",
    "                push!(conflict[i],j)\n",
    "                push!(conflict[j],i)\n",
    "            end\n",
    "        \n",
    "    end\n",
    "    return firstdict,conflict\n",
    "end\n",
    "\n",
    "\n",
    "\n"
   ]
  },
  {
   "cell_type": "code",
   "execution_count": null,
   "metadata": {},
   "outputs": [],
   "source": []
  },
  {
   "cell_type": "code",
   "execution_count": 87,
   "metadata": {},
   "outputs": [
    {
     "data": {
      "text/plain": [
       "get_next (generic function with 1 method)"
      ]
     },
     "execution_count": 87,
     "metadata": {},
     "output_type": "execute_result"
    }
   ],
   "source": [
    "function get_next(fd, curr_inds, omlist)\n",
    "    \n",
    "   return [ d for d in fd[first_zero( sum([omlist[j] for j in curr_inds    ])     )] if verify(curr_inds + d)   ] \n",
    "    \n",
    "end\n",
    "            "
   ]
  },
  {
   "cell_type": "code",
   "execution_count": 88,
   "metadata": {},
   "outputs": [
    {
     "data": {
      "text/plain": [
       "enumerator (generic function with 3 methods)"
      ]
     },
     "execution_count": 88,
     "metadata": {},
     "output_type": "execute_result"
    }
   ],
   "source": [
    "function enumerator(grid, om_sizes,num_parts, cont=\"rc\", io=false)\n",
    "    count = 0\n",
    "    oms = []\n",
    "    bad_hole_sizes = [ [i for i = 1:minimum(om_sizes)-1] ;[i for i = maximum(om_sizes)+1:2*minimum(om_sizes)-1]        ]\n",
    "    \n",
    "    tmp_oms = make_omino_set(1,grid,cont)\n",
    "    if io\n",
    "        os = om_sizes\n",
    "        gr = grid\n",
    "        np = num_parts\n",
    "        outfile = open(replace(\"enumerations/enum_$(gr)_$(os)_$(np)_$(cont).txt\",\" \"=>\"\"),\"w\")\n",
    "    end\n",
    "    \n",
    "    \n",
    "    if 1 in om_sizes\n",
    "        oms = [oms;tmp_oms]\n",
    "    end\n",
    "    \n",
    "    for sz = 2:maximum(om_sizes)\n",
    "        tmp_oms = biggen(tmp_oms,grid,bad_hole_sizes,cont)\n",
    "        if sz in om_sizes\n",
    "            oms = [oms;tmp_oms]\n",
    "        end\n",
    "        #print(\"MADE SZ \",sz ,' ',length(tmp_oms),\"\\n\")\n",
    "\n",
    "\n",
    "    end\n",
    "    \n",
    "    \n",
    "    oms = [ o for o in oms if check_holes(o,bad_hole_sizes,cont)]\n",
    "\n",
    "    #print(\"MADE OMINOS\\n\")\n",
    "    \n",
    "    \n",
    "    \n",
    "    fd,cf = build_conflicts(oms,bad_hole_sizes,num_parts,cont)\n",
    "    #print(\"MADE DICTIONARIES\\n\")           \n",
    "    \n",
    "    function verify(plan)\n",
    "        #print(plan,'\\n')\n",
    "        \n",
    "        for p in subsets(plan,Val{2}())\n",
    "            if !(p[2] in cf[p[1]])\n",
    "                return false\n",
    "            end\n",
    "        end\n",
    "        return true\n",
    "    end\n",
    "           \n",
    "                \n",
    "                \n",
    "    function recurs_part(plan,steps)\n",
    "        #print(\"plan:\",plan,\"  sum: \",sum([oms[j] for j in plan]),'\\n')\n",
    "        if steps == 0\n",
    "            if sum(sum( [oms[j] for j in plan])) == grid[1]*grid[2] #&& sort!(collect([sum(oms[j]) for j in plan    ] )) == om_sizes\n",
    "                count +=1\n",
    "                if io\n",
    "                    strrep = \"$(sum([j.*oms[plan[j]] for j in 1:length(plan)]))\\n\"\n",
    "                    strrep = replace(strrep,\" \"=>\",\")\n",
    "                    strrep = replace(strrep,\"[\"=>\"\")\n",
    "                    strrep = replace(strrep,\";\"=>\"\")\n",
    "                    strrep = replace(strrep,\"]\"=>\"\")\n",
    "                    write(outfile,  strrep)\n",
    "                end\n",
    "                return\n",
    "            end\n",
    "        elseif sum(sum( [oms[j] for j in plan])) == grid[1]*grid[2]\n",
    "        return\n",
    "        end\n",
    "        for q in fd[first_zero( sum([oms[j] for j in plan     ]))]\n",
    "            if verify([plan;[q]])\n",
    "                recurs_part([plan;[q]],steps-1)\n",
    "            end\n",
    "        end\n",
    "    end\n",
    "    \n",
    "    #print(\"NEED TO DO \",length(fd[(1,1)]), \" TOP-LEVELS\\n\")\n",
    "    for p in fd[(1,1)]\n",
    "        #print(\" \",p,\" \")\n",
    "        recurs_part([p],num_parts-1)\n",
    "    end\n",
    "    \n",
    "    \n",
    "   print('\\n')\n",
    "    if io\n",
    "        close(outfile)\n",
    "    end\n",
    "   return count \n",
    "    \n",
    "end"
   ]
  },
  {
   "cell_type": "code",
   "execution_count": 94,
   "metadata": {},
   "outputs": [
    {
     "name": "stdout",
     "output_type": "stream",
     "text": [
      "42  \n",
      "  0.014581 seconds (87.89 k allocations: 6.870 MiB, 30.17% gc time)\n"
     ]
    },
    {
     "data": {
      "text/plain": [
       "62"
      ]
     },
     "execution_count": 94,
     "metadata": {},
     "output_type": "execute_result"
    }
   ],
   "source": [
    "@time enumerator([3,5],[3],5,\"rc\",false)"
   ]
  },
  {
   "cell_type": "code",
   "execution_count": null,
   "metadata": {},
   "outputs": [],
   "source": [
    "@time enumerator([2,2],[2],2,\"rc\",true)\n",
    "@time enumerator([2,2],[2],2,\"qc\",true)\n",
    "@time enumerator([2,2],[1,2,3],2,\"rc\",true)\n",
    "@time enumerator([2,2],[1,2,3],2,\"qc\",true)\n",
    "@time enumerator([2,2],[1,2,3,4],2,\"rc\",true)\n",
    "@time enumerator([2,2],[1,2,3,4],2,\"qc\",true)\n",
    "@time enumerator([2,2],[1,2,3,4,5],2,\"rc\",true)\n",
    "@time enumerator([2,2],[1,2,3,4,5],2,\"qc\",true)\n",
    "@time enumerator([2,2],[1,2,3,4,5,6,7,8],2,\"rc\",true)\n",
    "@time enumerator([2,2],[1,2,3,4,5,6,7,8],2,\"qc\",true)\n",
    "\n",
    "\n",
    "\n",
    "@time enumerator([3,3],[3],3,\"rc\",true)\n",
    "@time enumerator([3,3],[3],3,\"qc\",true)\n",
    "@time enumerator([3,3],[2,3,4],3,\"rc\",true)\n",
    "@time enumerator([3,3],[2,3,4],3,\"qc\",true)\n",
    "@time enumerator([3,3],[1,2,3,4,5],3,\"rc\",true)\n",
    "@time enumerator([3,3],[1,2,3,4,5],3,\"qc\",true)\n",
    "@time enumerator([3,3],[1,2,3,4,5,6],3,\"rc\",true)\n",
    "@time enumerator([3,3],[1,2,3,4,5,6],3,\"qc\",true)\n",
    "@time enumerator([3,3],[1,2,3,4,5,6,7,8,9],3,\"rc\",true)\n",
    "@time enumerator([3,3],[1,2,3,4,5,6,7,8,9],3,\"qc\",true)\n",
    "\n",
    "\n",
    "\n",
    "@time enumerator([4,4],[4],4,\"rc\",true)\n",
    "@time enumerator([4,4],[4],4,\"qc\",true)\n",
    "@time enumerator([4,4],[3,4,5],4,\"rc\",true)\n",
    "@time enumerator([4,4],[3,4,5],4,\"qc\",true)\n",
    "@time enumerator([4,4],[2,3,4,5,6],4,\"rc\",true)\n",
    "@time enumerator([4,4],[2,3,4,5,6],4,\"qc\",true)\n",
    "@time enumerator([4,4],[1,2,3,4,5,6,7],4,\"rc\",true)\n",
    "@time enumerator([4,4],[1,2,3,4,5,6,7],4,\"qc\",true)\n",
    "@time enumerator([4,4],[i for i=1:16],4,\"rc\",true)\n",
    "@time enumerator([4,4],[i for i=1:16],4,\"qc\",true)\n"
   ]
  },
  {
   "cell_type": "code",
   "execution_count": null,
   "metadata": {},
   "outputs": [],
   "source": [
    "@time enumerator([4,4],[2],8,\"rc\",true)\n",
    "@time enumerator([4,4],[2],8,\"qc\",true)\n",
    "@time enumerator([4,4],[1,2,3],8,\"rc\",true)\n",
    "@time enumerator([4,4],[1,2,3],8,\"qc\",true)\n",
    "@time enumerator([4,4],[1,2,3,4],8,\"rc\",true)\n",
    "@time enumerator([4,4],[1,2,3,4],8,\"qc\",true)\n",
    "@time enumerator([4,4],[1,2,3,4,5],8,\"rc\",true)\n",
    "@time enumerator([4,4],[1,2,3,4,5],8,\"qc\",true)\n",
    "@time enumerator([4,4],[i for i=1:16],8,\"rc\",true)\n",
    "@time enumerator([4,4],[i for i=1:16],8,\"qc\",true)\n",
    "\n",
    "\n",
    "\n",
    "@time enumerator([4,4],[8],2,\"rc\",true)\n",
    "@time enumerator([4,4],[8],2,\"qc\",true)\n",
    "@time enumerator([4,4],[7,8,9],2,\"rc\",true)\n",
    "@time enumerator([4,4],[7,8,9],2,\"qc\",true)\n",
    "@time enumerator([4,4],[6,7,8,9,10],2,\"rc\",true)\n",
    "@time enumerator([4,4],[6,7,8,9,10],2,\"qc\",true)\n",
    "@time enumerator([4,4],[5,6,7,8,9,10,11],2,\"rc\",true)\n",
    "@time enumerator([4,4],[5,6,7,8,9,10,11],2,\"qc\",true)\n",
    "@time enumerator([4,4],[i for i=1:16],2,\"rc\",true)\n"
   ]
  },
  {
   "cell_type": "code",
   "execution_count": null,
   "metadata": {},
   "outputs": [],
   "source": [
    "#=\n",
    "\n",
    "@time enumerator([5,5],[5],5,\"rc\",true)\n",
    "@time enumerator([5,5],[4,5,6],5,\"rc\",true)\n",
    "@time enumerator([5,5],[3,4,5,6,7],5,\"rc\",true)\n",
    "@time enumerator([5,5],[2,3,4,5,6,7,8],5,\"rc\",true)\n",
    "\n",
    "\n",
    "@time enumerator([6,6],[6],6,\"rc\",true)\n",
    "@time enumerator([6,6],[2],18,\"rc\",true)\n",
    "@time enumerator([6,6],[3],12,\"rc\",true)\n",
    "@time enumerator([6,6],[4],9,\"rc\",true)\n",
    "@time enumerator([6,6],[9],4,\"rc\",true)\n",
    "@time enumerator([6,6],[12],3,\"rc\",true)\n",
    "@time enumerator([6,6],[2],18,\"qc\",true)\n",
    "\n",
    "\n",
    "\n",
    "\n",
    "\n",
    "=#\n",
    "\n",
    "\n",
    "\n",
    "\n",
    "\n",
    "#@time enumerator([5,5],[5],5,\"qc\",true)\n",
    "@time enumerator([5,5],[4,5,6],5,\"qc\",true)\n",
    "#@time enumerator([5,5],[3,4,5,6,7],5,\"qc\",true)\n",
    "#@time enumerator([5,5],[2,3,4,5,6,7,8],5,\"qc\",true)\n",
    "\n"
   ]
  },
  {
   "cell_type": "code",
   "execution_count": 44,
   "metadata": {},
   "outputs": [
    {
     "name": "stdout",
     "output_type": "stream",
     "text": [
      "ONES: 9\n",
      "11  \n",
      "  0.013547 seconds (13.42 k allocations: 1.077 MiB)\n"
     ]
    },
    {
     "data": {
      "text/plain": [
       "4"
      ]
     },
     "execution_count": 44,
     "metadata": {},
     "output_type": "execute_result"
    }
   ],
   "source": [
    "@time enumerator([3,3],[3],3,\"rc\",false)"
   ]
  },
  {
   "cell_type": "code",
   "execution_count": null,
   "metadata": {},
   "outputs": [],
   "source": []
  },
  {
   "cell_type": "code",
   "execution_count": null,
   "metadata": {
    "scrolled": true
   },
   "outputs": [],
   "source": [
    "@time enumerator_qc([5,5],[4,5,6],5)"
   ]
  },
  {
   "cell_type": "code",
   "execution_count": 31,
   "metadata": {},
   "outputs": [
    {
     "ename": "UndefVarError",
     "evalue": "UndefVarError: sub2ind not defined",
     "output_type": "error",
     "traceback": [
      "UndefVarError: sub2ind not defined",
      "",
      "Stacktrace:",
      " [1] top-level scope at In[31]:1"
     ]
    }
   ],
   "source": []
  },
  {
   "cell_type": "code",
   "execution_count": null,
   "metadata": {},
   "outputs": [],
   "source": []
  },
  {
   "cell_type": "code",
   "execution_count": null,
   "metadata": {},
   "outputs": [],
   "source": []
  },
  {
   "cell_type": "code",
   "execution_count": null,
   "metadata": {},
   "outputs": [],
   "source": []
  },
  {
   "cell_type": "code",
   "execution_count": null,
   "metadata": {},
   "outputs": [],
   "source": []
  },
  {
   "cell_type": "code",
   "execution_count": null,
   "metadata": {},
   "outputs": [],
   "source": [
    "enumerator()"
   ]
  },
  {
   "cell_type": "code",
   "execution_count": null,
   "metadata": {},
   "outputs": [],
   "source": []
  },
  {
   "cell_type": "code",
   "execution_count": null,
   "metadata": {},
   "outputs": [],
   "source": []
  },
  {
   "cell_type": "code",
   "execution_count": null,
   "metadata": {},
   "outputs": [],
   "source": []
  },
  {
   "cell_type": "code",
   "execution_count": null,
   "metadata": {},
   "outputs": [],
   "source": []
  }
 ],
 "metadata": {
  "kernelspec": {
   "display_name": "Julia 1.0.1",
   "language": "julia",
   "name": "julia-1.0"
  },
  "language_info": {
   "file_extension": ".jl",
   "mimetype": "application/julia",
   "name": "julia",
   "version": "1.0.1"
  }
 },
 "nbformat": 4,
 "nbformat_minor": 2
}
