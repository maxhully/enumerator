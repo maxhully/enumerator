{
 "cells": [
  {
   "cell_type": "code",
   "execution_count": 1,
   "metadata": {},
   "outputs": [],
   "source": [
    "using Pkg\n",
    "using LightGraphs\n",
    "using IterTools\n",
    "using DataStructures\n",
    "using Base\n",
    "using Combinatorics\n",
    "#use Pkg.add(\"<<name>>\") if you don't have a particular package"
   ]
  },
  {
   "cell_type": "code",
   "execution_count": null,
   "metadata": {},
   "outputs": [],
   "source": []
  },
  {
   "cell_type": "code",
   "execution_count": null,
   "metadata": {},
   "outputs": [],
   "source": [
    "\n"
   ]
  },
  {
   "cell_type": "code",
   "execution_count": 2,
   "metadata": {},
   "outputs": [
    {
     "data": {
      "text/plain": [
       "make_omino_set (generic function with 1 method)"
      ]
     },
     "execution_count": 2,
     "metadata": {},
     "output_type": "execute_result"
    }
   ],
   "source": [
    "function valid_omino(omino)\n",
    "    if 2 in omino\n",
    "        return false\n",
    "    end\n",
    "    n1 = size(omino)[1]\n",
    "    n2 = size(omino)[2]\n",
    "    check = zeros(Int8, n1,n2)\n",
    "    _f = false\n",
    "    g = Grid([n1,n2])\n",
    "    for i=n1:-1:1\n",
    "        for j=n2:-1:1\n",
    "           if omino[i,j] ==0\n",
    "                rem_vertex!(g,(i-1)*n1+j)\n",
    "            end\n",
    "            \n",
    "            \n",
    "            \n",
    "            \n",
    "            \n",
    "        end   \n",
    "    end\n",
    "    \n",
    "    return length(connected_components(g)) == 1\n",
    "            \n",
    "    \n",
    "end\n",
    "\n",
    "\n",
    "\n",
    "function make_omino(inds,dim)\n",
    "    \n",
    "    p = zeros(Int8,dim[1],dim[2])\n",
    "    for loc in inds\n",
    "        p[loc[1],loc[2]]=1\n",
    "    end\n",
    "    if valid_omino(p)\n",
    "        return p\n",
    "    else\n",
    "        return zeros(Int8,dim[1],dim[2])\n",
    "    end\n",
    "\n",
    "end\n",
    "\n",
    "\n",
    "function make_omino_set(cells,grid)\n",
    "    \n",
    "   pair_idx = []\n",
    "    for i=1:grid[1]\n",
    "        for j=1:grid[2]\n",
    "            push!(pair_idx, (i,j))\n",
    "        end\n",
    "    end\n",
    "    ominos = []\n",
    "    for t in subsets(pair_idx, Val{cells}())\n",
    "        p = make_omino(t,grid)\n",
    "        \n",
    "        if sum(p)!=0\n",
    "            push!(ominos,p)\n",
    "        end\n",
    "    end\n",
    "    \n",
    "    \n",
    "    return ominos\n",
    "        \n",
    "    \n",
    "    \n",
    "    \n",
    "    \n",
    "end\n"
   ]
  },
  {
   "cell_type": "code",
   "execution_count": 3,
   "metadata": {},
   "outputs": [
    {
     "data": {
      "text/plain": [
       "make_omino_set_qc (generic function with 1 method)"
      ]
     },
     "execution_count": 3,
     "metadata": {},
     "output_type": "execute_result"
    }
   ],
   "source": [
    "function valid_omino_qc(omino)\n",
    "    if 2 in omino\n",
    "        return false\n",
    "    end\n",
    "    n1 = size(omino)[1]\n",
    "    n2 = size(omino)[2]\n",
    "    check = zeros(Int8, n1,n2)\n",
    "    _f = false\n",
    "    g = Grid([n1,n2])\n",
    "    \n",
    "    \n",
    "    for i=1:n1-1\n",
    "       for j=1:n2-1\n",
    "            \n",
    "           add_edge!(g,(i-1)*n1+j,i*n1+j+1) \n",
    "            \n",
    "        end\n",
    "        \n",
    "        \n",
    "    end\n",
    "    for i=1:n1-1\n",
    "        for j=2:n2\n",
    "            add_edge!(g,(i-1)*n1+j,i*n1+j-1)\n",
    "            \n",
    "        end\n",
    "    end\n",
    "    \n",
    "    for i=n1:-1:1\n",
    "        for j=n2:-1:1\n",
    "           if omino[i,j] ==0\n",
    "                rem_vertex!(g,(i-1)*n1+j)\n",
    "            end\n",
    "            \n",
    "            \n",
    "            \n",
    "            \n",
    "            \n",
    "        end   \n",
    "    end\n",
    "    \n",
    "    return length(connected_components(g)) == 1\n",
    "            \n",
    "    \n",
    "end\n",
    "\n",
    "\n",
    "\n",
    "function make_omino_qc(inds,dim)\n",
    "    \n",
    "    p = zeros(Int8,dim[1],dim[2])\n",
    "    for loc in inds\n",
    "        p[loc[1],loc[2]]=1\n",
    "    end\n",
    "    if valid_omino_qc(p)\n",
    "        return p\n",
    "    else\n",
    "        return zeros(Int8,dim[1],dim[2])\n",
    "    end\n",
    "\n",
    "end\n",
    "\n",
    "\n",
    "function make_omino_set_qc(cells,grid)\n",
    "    \n",
    "   pair_idx = []\n",
    "    for i=1:grid[1]\n",
    "        for j=1:grid[2]\n",
    "            push!(pair_idx, (i,j))\n",
    "        end\n",
    "    end\n",
    "    ominos = []\n",
    "    for t in subsets(pair_idx, Val{cells}())\n",
    "        p = make_omino_qc(t,grid)\n",
    "        \n",
    "        if sum(p)!=0\n",
    "            push!(ominos,p)\n",
    "        end\n",
    "    end\n",
    "    \n",
    "    \n",
    "    return ominos\n",
    "        \n",
    "    \n",
    "    \n",
    "    \n",
    "    \n",
    "end\n"
   ]
  },
  {
   "cell_type": "code",
   "execution_count": 4,
   "metadata": {},
   "outputs": [
    {
     "data": {
      "text/plain": [
       "16-element Array{Any,1}:\n",
       " Int8[1 0 0 0; 0 0 0 0; 0 0 0 0; 0 0 0 0]\n",
       " Int8[0 1 0 0; 0 0 0 0; 0 0 0 0; 0 0 0 0]\n",
       " Int8[0 0 1 0; 0 0 0 0; 0 0 0 0; 0 0 0 0]\n",
       " Int8[0 0 0 1; 0 0 0 0; 0 0 0 0; 0 0 0 0]\n",
       " Int8[0 0 0 0; 1 0 0 0; 0 0 0 0; 0 0 0 0]\n",
       " Int8[0 0 0 0; 0 1 0 0; 0 0 0 0; 0 0 0 0]\n",
       " Int8[0 0 0 0; 0 0 1 0; 0 0 0 0; 0 0 0 0]\n",
       " Int8[0 0 0 0; 0 0 0 1; 0 0 0 0; 0 0 0 0]\n",
       " Int8[0 0 0 0; 0 0 0 0; 1 0 0 0; 0 0 0 0]\n",
       " Int8[0 0 0 0; 0 0 0 0; 0 1 0 0; 0 0 0 0]\n",
       " Int8[0 0 0 0; 0 0 0 0; 0 0 1 0; 0 0 0 0]\n",
       " Int8[0 0 0 0; 0 0 0 0; 0 0 0 1; 0 0 0 0]\n",
       " Int8[0 0 0 0; 0 0 0 0; 0 0 0 0; 1 0 0 0]\n",
       " Int8[0 0 0 0; 0 0 0 0; 0 0 0 0; 0 1 0 0]\n",
       " Int8[0 0 0 0; 0 0 0 0; 0 0 0 0; 0 0 1 0]\n",
       " Int8[0 0 0 0; 0 0 0 0; 0 0 0 0; 0 0 0 1]"
      ]
     },
     "execution_count": 4,
     "metadata": {},
     "output_type": "execute_result"
    }
   ],
   "source": [
    "make_omino_set_qc(1,[4,4])"
   ]
  },
  {
   "cell_type": "code",
   "execution_count": 5,
   "metadata": {},
   "outputs": [
    {
     "data": {
      "text/plain": [
       "biggen (generic function with 1 method)"
      ]
     },
     "execution_count": 5,
     "metadata": {},
     "output_type": "execute_result"
    }
   ],
   "source": [
    "function biggen(omlist,grid,bad)\n",
    "    new_oms = Set()\n",
    "    for o in omlist\n",
    "        \n",
    "        for i = 1:grid[1]\n",
    "            for j = 1:grid[2]\n",
    "                z = zeros(Int8,grid[1],grid[2])\n",
    "                z[i,j]+=1\n",
    "                if o[i,j]==0 && valid_omino(z+o)\n",
    "                    push!(new_oms,z+o)\n",
    " \n",
    "                    \n",
    "                end\n",
    "            end\n",
    "        end\n",
    "    \n",
    "        \n",
    "        \n",
    "        \n",
    "        \n",
    "        \n",
    "    end\n",
    "       \n",
    "    return collect(new_oms)\n",
    "end"
   ]
  },
  {
   "cell_type": "code",
   "execution_count": 6,
   "metadata": {},
   "outputs": [
    {
     "data": {
      "text/plain": [
       "biggen_qc (generic function with 1 method)"
      ]
     },
     "execution_count": 6,
     "metadata": {},
     "output_type": "execute_result"
    }
   ],
   "source": [
    "function biggen_qc(omlist,grid,bad)\n",
    "    new_oms = Set()\n",
    "    for o in omlist\n",
    "        \n",
    "        for i = 1:grid[1]\n",
    "            for j = 1:grid[2]\n",
    "                z = zeros(Int8,grid[1],grid[2])\n",
    "                z[i,j]+=1\n",
    "                if o[i,j]==0 && valid_omino_qc(z+o)\n",
    "                    push!(new_oms,z+o)\n",
    " \n",
    "                    \n",
    "                end\n",
    "            end\n",
    "        end\n",
    "    \n",
    "        \n",
    "        \n",
    "        \n",
    "        \n",
    "        \n",
    "    end\n",
    "       \n",
    "    return collect(new_oms)\n",
    "end"
   ]
  },
  {
   "cell_type": "code",
   "execution_count": 7,
   "metadata": {},
   "outputs": [
    {
     "data": {
      "text/plain": [
       "check_holes_qc (generic function with 1 method)"
      ]
     },
     "execution_count": 7,
     "metadata": {},
     "output_type": "execute_result"
    }
   ],
   "source": [
    "function check_holes(omino, bad_holes)\n",
    "\n",
    "    n1 = size(omino)[1]\n",
    "    n2 = size(omino)[2]\n",
    "    check = ones(Int8, n1,n2)-omino\n",
    "    _f = false\n",
    "    g = Grid([n1,n2])\n",
    "    for i=n1:-1:1\n",
    "        for j=n2:-1:1\n",
    "           if check[i,j] ==0\n",
    "                rem_vertex!(g,(i-1)*n1+j)\n",
    "            end\n",
    "            \n",
    "            \n",
    "            \n",
    "            \n",
    "            \n",
    "        end   \n",
    "    end\n",
    "    \n",
    "    for c in connected_components(g)\n",
    "        if length(c) in bad_holes\n",
    "            return false\n",
    "        end\n",
    "    end\n",
    "    return true\n",
    "            \n",
    "    \n",
    "    \n",
    "end\n",
    "function check_holes_qc(omino, bad_holes)\n",
    "\n",
    "    n1 = size(omino)[1]\n",
    "    n2 = size(omino)[2]\n",
    "    check = ones(Int8, n1,n2)-omino\n",
    "    _f = false\n",
    "    g = Grid([n1,n2])\n",
    "    \n",
    "    for i=1:n1-1\n",
    "       for j=1:n2-1\n",
    "            \n",
    "           add_edge!(g,(i-1)*n1+j,i*n1+j+1  ) \n",
    "            \n",
    "        end\n",
    "        \n",
    "        \n",
    "    end\n",
    "    for i=1:n1-1\n",
    "        for j=2:n2\n",
    "            add_edge!(g,(i-1)*n1+j,i*n1+j-1)\n",
    "            \n",
    "        end\n",
    "    end    \n",
    "    \n",
    "    \n",
    "    \n",
    "    \n",
    "    \n",
    "    \n",
    "    for i=n1:-1:1\n",
    "        for j=n2:-1:1\n",
    "           if check[i,j] ==0\n",
    "                rem_vertex!(g,(i-1)*n1+j)\n",
    "            end\n",
    "            \n",
    "            \n",
    "            \n",
    "            \n",
    "            \n",
    "        end   \n",
    "    end\n",
    "    \n",
    "    \n",
    "    #nc = 0\n",
    "    \n",
    "    for c in connected_components(g)\n",
    "        #nc+=1\n",
    "        if length(c) in bad_holes\n",
    "            return false\n",
    "        end\n",
    "    end\n",
    "    return true\n",
    "            \n",
    "    \n",
    "    \n",
    "end"
   ]
  },
  {
   "cell_type": "code",
   "execution_count": 8,
   "metadata": {},
   "outputs": [
    {
     "data": {
      "text/plain": [
       "first_one (generic function with 1 method)"
      ]
     },
     "execution_count": 8,
     "metadata": {},
     "output_type": "execute_result"
    }
   ],
   "source": [
    "function first_zero(mat)\n",
    "    \n",
    "   for i=1:size(mat,1)\n",
    "        for j=1:size(mat,2)\n",
    "            if mat[i,j]==0\n",
    "                return (i,j)\n",
    "            end\n",
    "        end\n",
    "    end\n",
    "    return nothing\n",
    "    \n",
    "end\n",
    "function first_one(mat)\n",
    "    \n",
    "   for i=1:size(mat,1)\n",
    "        for j=1:size(mat,2)\n",
    "            if mat[i,j]==1\n",
    "                return (i,j)\n",
    "            end\n",
    "        end\n",
    "    end\n",
    "    return nothing\n",
    "    \n",
    "end"
   ]
  },
  {
   "cell_type": "code",
   "execution_count": null,
   "metadata": {},
   "outputs": [],
   "source": []
  },
  {
   "cell_type": "code",
   "execution_count": 9,
   "metadata": {},
   "outputs": [
    {
     "data": {
      "text/plain": [
       "build_conflicts_qc (generic function with 1 method)"
      ]
     },
     "execution_count": 9,
     "metadata": {},
     "output_type": "execute_result"
    }
   ],
   "source": [
    "function build_conflicts(omlist, bad_holes,num_parts)\n",
    "    \n",
    "    \n",
    "    firstdict = DefaultDict(Set)\n",
    "    \n",
    "    for o in 1:length(omlist)\n",
    "        k = first_one(omlist[o])\n",
    "        push!(firstdict[k],o)\n",
    "    end\n",
    "    \n",
    "    \n",
    "    \n",
    "    \n",
    "    \n",
    "    conflict = DefaultDict(Set)\n",
    "    print(length(omlist),\"  \")\n",
    "    for os in subsets(1:length(omlist),Val{2}())\n",
    "        i = os[1]\n",
    "        j = os[2]\n",
    "        if i%500 == 0 && j==i+1\n",
    "            print(i,\"  \")\n",
    "        end\n",
    "        _c = true\n",
    "            for p in zip(omlist[i],omlist[j])\n",
    "                if _c && p[1]*p[2] ==1\n",
    "                    _c = false\n",
    "                end\n",
    "            end\n",
    "            if _c && check_holes(omlist[i]+omlist[j],bad_holes)\n",
    "                push!(conflict[i],j)\n",
    "                push!(conflict[j],i)\n",
    "            end\n",
    "        \n",
    "    end\n",
    "    return firstdict,conflict\n",
    "end\n",
    "\n",
    "\n",
    "\n",
    "function build_conflicts_qc(omlist, bad_holes,num_parts)\n",
    "    \n",
    "    \n",
    "    firstdict = DefaultDict(Set)\n",
    "    \n",
    "    for o in 1:length(omlist)\n",
    "        k = first_one(omlist[o])\n",
    "        push!(firstdict[k],o)\n",
    "    end\n",
    "    \n",
    "    \n",
    "    \n",
    "    \n",
    "    \n",
    "    conflict = DefaultDict(Set)\n",
    "    print(length(omlist),\"  \")\n",
    "    for os in subsets(1:length(omlist),Val{2}())\n",
    "        i = os[1]\n",
    "        j = os[2]\n",
    "        if i%500 == 0 && j==i+1\n",
    "            print(i,\"  \")\n",
    "        end\n",
    "        _c = true\n",
    "            for p in zip(omlist[i],omlist[j])\n",
    "                if _c && p[1]*p[2] ==1\n",
    "                    _c = false\n",
    "                end\n",
    "            end\n",
    "            if _c && check_holes_qc(omlist[i]+omlist[j],bad_holes)\n",
    "                push!(conflict[i],j)\n",
    "                push!(conflict[j],i)\n",
    "            end\n",
    "        \n",
    "    end\n",
    "    return firstdict,conflict\n",
    "end"
   ]
  },
  {
   "cell_type": "code",
   "execution_count": 10,
   "metadata": {},
   "outputs": [
    {
     "name": "stdout",
     "output_type": "stream",
     "text": [
      "22  "
     ]
    },
    {
     "data": {
      "text/plain": [
       "(DefaultDict{Any,Any,UnionAll}((1, 2)=>Set(Any[7, 9, 10, 8, 6]),(2, 3)=>Set(Any[21]),(3, 1)=>Set(Any[22]),(2, 2)=>Set(Any[20, 19, 17, 18]),(1, 1)=>Set(Any[4, 2, 3, 5, 1]),(1, 3)=>Set(Any[11, 12]),(2, 1)=>Set(Any[13, 14, 16, 15])), DefaultDict{Any,Any,UnionAll}(1=>Set(Any[20, 22, 13, 14, 16, 17, 19, 15, 21, 18]),2=>Set(Any[20, 22, 19, 17, 11, 21, 12, 18]),16=>Set(Any[7, 9, 12, 18, 3, 11, 6, 1]),11=>Set(Any[2, 16, 5, 22]),21=>Set(Any[4, 14, 2, 3, 5, 8, 6, 1]),7=>Set(Any[4, 14, 16, 19, 5, 15, 22, 20]),9=>Set(Any[16, 5, 22]),10=>Set(Any[5, 12]),19=>Set(Any[7, 2, 12, 1]),17=>Set(Any[2, 5, 1])…))"
      ]
     },
     "execution_count": 10,
     "metadata": {},
     "output_type": "execute_result"
    }
   ],
   "source": [
    "f,c= build_conflicts(make_omino_set(3,[3,3]),[],2)"
   ]
  },
  {
   "cell_type": "code",
   "execution_count": 11,
   "metadata": {},
   "outputs": [
    {
     "data": {
      "text/plain": [
       "get_next (generic function with 1 method)"
      ]
     },
     "execution_count": 11,
     "metadata": {},
     "output_type": "execute_result"
    }
   ],
   "source": [
    "function get_next(fd, curr_inds, omlist)\n",
    "    \n",
    "   return [ d for d in fd[first_zero( sum([omlist[j] for j in curr_inds    ])     )] if verify(curr_inds + d)   ] \n",
    "    \n",
    "end\n",
    "            "
   ]
  },
  {
   "cell_type": "code",
   "execution_count": 12,
   "metadata": {},
   "outputs": [
    {
     "data": {
      "text/plain": [
       "enumerator (generic function with 1 method)"
      ]
     },
     "execution_count": 12,
     "metadata": {},
     "output_type": "execute_result"
    }
   ],
   "source": [
    "function enumerator(grid, om_sizes,num_parts)\n",
    "    count = 0\n",
    "    oms = []\n",
    "    bad_hole_sizes = [ [i for i = 1:minimum(om_sizes)-1] ;[i for i = maximum(om_sizes)+1:2*minimum(om_sizes)-1]        ]\n",
    "    \n",
    "    tmp_oms = make_omino_set(1,grid)\n",
    "    \n",
    "    if 1 in om_sizes\n",
    "        oms = [oms;tmp_oms]\n",
    "    end\n",
    "    \n",
    "    for sz = 2:maximum(om_sizes)\n",
    "        tmp_oms = biggen(tmp_oms,grid,bad_hole_sizes)\n",
    "        if sz in om_sizes\n",
    "            oms = [oms;tmp_oms]\n",
    "        end\n",
    "        print(\"MADE SZ \",sz ,' ',length(tmp_oms),\"\\n\")\n",
    "\n",
    "\n",
    "    end\n",
    "    \n",
    "    \n",
    "    oms = [ o for o in oms if check_holes(o,bad_hole_sizes)]\n",
    "\n",
    "    print(\"MADE OMINOS\\n\")\n",
    "    \n",
    "    \n",
    "    \n",
    "    fd,cf = build_conflicts(oms,bad_hole_sizes,num_parts)\n",
    "    print(\"MADE DICTIONARIES\\n\")           \n",
    "    \n",
    "    function verify(plan)\n",
    "        #print(plan,'\\n')\n",
    "        \n",
    "        for p in subsets(plan,Val{2}())\n",
    "            if !(p[2] in cf[p[1]])\n",
    "                return false\n",
    "            end\n",
    "        end\n",
    "        return true\n",
    "    end\n",
    "           \n",
    "                \n",
    "                \n",
    "    function recurs_part(plan,steps)\n",
    "        #print(\"plan:\",plan,\"  sum: \",sum([oms[j] for j in plan]),'\\n')\n",
    "        if steps == 0\n",
    "            if sum(sum( [oms[j] for j in plan])) == grid[1]*grid[2] #&& sort!(collect([sum(oms[j]) for j in plan    ] )) == om_sizes\n",
    "                count +=1\n",
    "                return\n",
    "            end\n",
    "        elseif sum(sum( [oms[j] for j in plan])) == grid[1]*grid[2]\n",
    "        return\n",
    "        end\n",
    "        for q in fd[first_zero( sum([oms[j] for j in plan     ]))]\n",
    "            if verify([plan;[q]])\n",
    "                recurs_part([plan;[q]],steps-1)\n",
    "            end\n",
    "        end\n",
    "    end\n",
    "    \n",
    "    print(\"NEED TO DO \",length(fd[(1,1)]), \" TOP-LEVELS\\n\")\n",
    "    for p in fd[(1,1)]\n",
    "        print(\" \",p,\" \")\n",
    "        recurs_part([p],num_parts-1)\n",
    "    end\n",
    "    \n",
    "    \n",
    "   print('\\n') \n",
    "   return count \n",
    "    \n",
    "end"
   ]
  },
  {
   "cell_type": "code",
   "execution_count": 27,
   "metadata": {},
   "outputs": [
    {
     "data": {
      "text/plain": [
       "enumerator_qc (generic function with 1 method)"
      ]
     },
     "execution_count": 27,
     "metadata": {},
     "output_type": "execute_result"
    }
   ],
   "source": [
    "function enumerator_qc(grid, om_sizes,num_parts)\n",
    "    count = 0\n",
    "    oms = []\n",
    "    bad_hole_sizes = [ [i for i = 1:minimum(om_sizes)-1]      ;[i for i = maximum(om_sizes)+1:2*minimum(om_sizes)-1]        ]\n",
    "    \n",
    "    tmp_oms = make_omino_set_qc(1,grid)\n",
    "    \n",
    "    if 1 in om_sizes\n",
    "        oms = [oms;tmp_oms]\n",
    "    end\n",
    "    \n",
    "    for sz = 2:maximum(om_sizes)\n",
    "        tmp_oms = biggen_qc(tmp_oms,grid,bad_hole_sizes)\n",
    "        if sz in om_sizes\n",
    "            oms = [oms;tmp_oms]\n",
    "        end\n",
    "        print(\"MADE SZ \",sz, \"\\n\")\n",
    "\n",
    "    end\n",
    "    \n",
    "    oms = [ o for o in oms if check_holes_qc(o,bad_hole_sizes)]\n",
    "\n",
    "    print(\"MADE OMINOS\\n\")\n",
    "    \n",
    "    \n",
    "    \n",
    "    fd,cf = build_conflicts_qc(oms,bad_hole_sizes,num_parts)\n",
    "    print(\"MADE DICTIONARIES\\n\")           \n",
    "    \n",
    "    function verify(plan)\n",
    "        #print(plan,'\\n')\n",
    "        \n",
    "        for p in subsets(plan,Val{2}())\n",
    "            if !(p[2] in cf[p[1]])\n",
    "                return false\n",
    "            end\n",
    "        end\n",
    "        return true\n",
    "    end\n",
    "           \n",
    "                \n",
    "                \n",
    "    function recurs_part(plan,steps)\n",
    "        #print(\"plan:\",plan,\"  sum: \",sum([oms[j] for j in plan]),'\\n')\n",
    "        if steps == 0\n",
    "            if sum(sum( [oms[j] for j in plan])) == grid[1]*grid[2] #&& sort!(collect([sum(oms[j]) for j in plan    ] )) == om_sizes\n",
    "                count +=1\n",
    "            \n",
    "            return\n",
    "        end\n",
    "        elseif sum(sum( [oms[j] for j in plan])) == grid[1]*grid[2]\n",
    "        return\n",
    "        end\n",
    "        for q in fd[first_zero( sum([oms[j] for j in plan     ]))]\n",
    "            if verify([plan;[q]])\n",
    "                recurs_part([plan;[q]],steps-1)\n",
    "            end\n",
    "        end\n",
    "    end\n",
    "    print(\"NEED TO DO \",length(fd[(1,1)]), \" TOP-LEVELS\\n\")\n",
    "    \n",
    "    #print(fd,'\\n')\n",
    "    for p in fd[(1,1)]\n",
    "        print(\" \",p,\" \")\n",
    "        recurs_part([p],num_parts-1)\n",
    "    end\n",
    "    \n",
    "    \n",
    "   print('\\n') \n",
    "   return count \n",
    "    \n",
    "end\n",
    "\n"
   ]
  },
  {
   "cell_type": "code",
   "execution_count": 15,
   "metadata": {},
   "outputs": [
    {
     "name": "stdout",
     "output_type": "stream",
     "text": [
      "MADE SZ 2\n",
      "MADE SZ 3\n",
      "MADE SZ 4\n",
      "MADE OMINOS\n",
      "391  MADE DICTIONARIES\n",
      "NEED TO DO 56 TOP-LEVELS\n",
      " 89  215  160  155  296  159  175  372  106  212  308  269  166  278  83  125  368  130  44  324  286  357  67  339  105  385  190  211  326  307  337  104  237  299  376  179  325  313  154  242  12  100  102  389  129  22  6  24  243  280  380  116  322  218  56  41 \n",
      "  1.296537 seconds (4.98 M allocations: 316.695 MiB, 7.78% gc time)\n"
     ]
    },
    {
     "data": {
      "text/plain": [
       "2620"
      ]
     },
     "execution_count": 15,
     "metadata": {},
     "output_type": "execute_result"
    }
   ],
   "source": [
    "@time enumerator_qc([4,4],[4,4,4,4],4)"
   ]
  },
  {
   "cell_type": "code",
   "execution_count": null,
   "metadata": {},
   "outputs": [],
   "source": []
  },
  {
   "cell_type": "code",
   "execution_count": 24,
   "metadata": {},
   "outputs": [
    {
     "name": "stdout",
     "output_type": "stream",
     "text": [
      "[4, 4, 5, 6, 6][4, 5, 5, 5, 6][5, 5, 5, 5, 5]Array{Int64,1}[[4, 4, 5, 6, 6], [4, 5, 5, 5, 6], [5, 5, 5, 5, 5]]"
     ]
    }
   ],
   "source": []
  },
  {
   "cell_type": "code",
   "execution_count": 25,
   "metadata": {},
   "outputs": [
    {
     "name": "stdout",
     "output_type": "stream",
     "text": [
      "MADE SZ 2\n",
      "MADE SZ 3\n",
      "MADE SZ 4\n",
      "MADE SZ 5\n",
      "MADE SZ 6\n",
      "MADE OMINOS\n",
      "16527  500  1000  1500  2000  2500  3000  3500  4000  4500  5000  5500  6000  6500  7000  7500  8000  8500  9000  9500  10000  10500  11000  11500  12000  12500  13000  13500  14000  14500  15000  15500  16000  16500  MADE DICTIONARIES\n",
      "NEED TO DO 1608 TOP-LEVELS\n",
      " 5672  3513  12690  13008 "
     ]
    },
    {
     "ename": "InterruptException",
     "evalue": "InterruptException:",
     "output_type": "error",
     "traceback": [
      "InterruptException:",
      "",
      "Stacktrace:",
      " [1] Type at ./boot.jl:394 [inlined]",
      " [2] vcat(::Array{Int64,1}, ::Array{Int64,1}) at ./array.jl:1536",
      " [3] (::getfield(Main, Symbol(\"#recurs_part#40\")){Array{Int64,1},Array{Int64,1},DefaultDict{Any,Any,UnionAll},getfield(Main, Symbol(\"#verify#39\")){DefaultDict{Any,Any,UnionAll}}})(::Array{Int64,1}, ::Int64) at ./In[13]:55",
      " [4] (::getfield(Main, Symbol(\"#recurs_part#40\")){Array{Int64,1},Array{Int64,1},DefaultDict{Any,Any,UnionAll},getfield(Main, Symbol(\"#verify#39\")){DefaultDict{Any,Any,UnionAll}}})(::Array{Int64,1}, ::Int64) at ./In[13]:56 (repeats 3 times)",
      " [5] enumerator_qc(::Array{Int64,1}, ::Array{Int64,1}, ::Int64) at ./In[13]:65",
      " [6] top-level scope at ./In[25]:3"
     ]
    }
   ],
   "source": []
  },
  {
   "cell_type": "code",
   "execution_count": null,
   "metadata": {},
   "outputs": [
    {
     "name": "stdout",
     "output_type": "stream",
     "text": [
      "MADE SZ 2\n",
      "MADE SZ 3\n",
      "MADE SZ 4\n",
      "MADE SZ 5\n",
      "MADE SZ 6\n",
      "MADE OMINOS\n",
      "16527  500  1000  1500  2000  2500  3000  3500  4000  4500  5000  5500  6000  6500  7000  7500  8000  8500  9000  9500  10000  10500  11000  11500  12000  12500  13000  13500  14000  14500  15000  15500  16000  16500  MADE DICTIONARIES\n",
      "NEED TO DO 1608 TOP-LEVELS\n",
      " 5672  3513  12690  13008  14298  5459  1090  14637  5099  15267  9420  16300  14314  8527  3532  13538  1662  10134  4427  1469  7551  16429  13774  4782  15852  10582  9487  2061  2284  7594  6884  2835  12854  14159  6037  11711  13419  5784  7807  6990  9796  11286  3213  2735  8825  2354  10624  11237  13996  5216  1386  5357  8686  3386  9456  3689  6092  5743  685  1871  13494  7766  13281  7313  8058  2396  13632  13887  10965  5655  8494  184  15760  1821  1301  1683  10670  12769  13558  5572  13770  12961  15380  240  8372  14704  10589  1959  15887  13169  4471  6298  6535  6672  11011  15069  15659  10023  9029  4091  2539  5565  6307  13443  5385  14833  8481  9791  3843  2867  7968  12268  9766  2665  12432  11324  3327  13613  14211  16009  2210  6147  2229  1201  16351  12583  9171  763  6581  15359  15606  8242  11498  9657  16296  13676  13729  7486  8625  8678  1445  7314  8022  6103  12547  525  15642  12291  16113  1779  14576  7334  4900  16185  15441  9988  13089  860  5139  5192  14096  9430  6756  7377  9986  14711  14623  16111  7112  6665  2359  9732  13137  13178  13803  3446  4680  9711  6588  16393  9106  15301  9337  12330  12747  9464  5003  12129  15604  13755  9684  14271  659  1368  8507  3756  12971  8147  12372  2698  5907  11611  13802  8335  10768  6462  593  7617  11731  14409  3413  8731  3691  5884  4010  12628  10234  10343  12094  12273  8331  12866  433  15828  10112  11620  8482  3454  6691  5614  7738  9851  9755  6717  12399  2221  8596  15466  12640  6031  10439  8307  4515  963  5796  9693  7455  115  12351  8082  14922  5749  12776  6584  12486  12478  13147  8079  13941  178  11649  3003  1098  6216  13663  9998  13654  2627  5085  8899  14457  14348  2290  10386  7683  9758  1288  2903  5902  16007  8979  10265  13495  11824  4592  6309  8599  1118  7407  3770  9962  3938  3276  12457  9442  13145  10537  15672  6511  1382  3460  9288  13458  14552  12699  15880  6633  2558  12665  2353  6840  4325  4035  11450  13017  13434  13461  11161  8713  9103  16523  868  2168  9055  10093  16259  10697  13586  2022  12766  15066  10978  9848  7308  7283  9019  8366  10757  9187  13837  2687  10422  13307  286  3150  3682  7084  11996  13114  5704  15803  7542  15547  2413  12109  10971  6950  2913  3655  7976  13688  4351  7216  8166  11091  10322  9322  9985  12709  5203  15334  14258  6066  14650  3544  4019  6923  6932  8858  10577  11456  9025  2098  15824  7104  11805  4913  4505  16349  14782  3358  666  7286  12230  12759  13720  15520  4064  11175  14932  3179  3443  73  2030  3228  7427  10466  11014  10478  9649  8209  10667  1690  14742  10926  14753  6991  5371  8078  10279  3982  11851  6268  15232  5361  15925  16044  4928  12992  201  3301  3289  3996  6902  11863  1015  11875  13818  13459  3546  15663  12352  1218  9887  12610  9003  2317  12635  14189  1689  11948  4383  3226  473  7662  511  1170  9434  15170  7797  8396  7867  2056  9610  13448  5182  8418  11633  15833  11043  11181  2064  4246  10460  16158  14755  5820  7434  7852  401  11826  9564  2980  1354  11644  2218  7780  5344  10089  10036  6527  6431  7118  7731  4959  5158  4664  12512  12359  1094  5682  1459  2840  4636  3765  15086  13924  5976  6898  15116  15102  4552  3341  6059  9967  13379  9170  6863  12695  14051  8967  11517  1670  16357  14737  8130  14136  7284  14127  8593  7654  2423  13153  7770  9399  5298  12339  4567  11734  1471  16284  11141  12763  10997  14016  7190  4410  15733  16353  15741  4514  16175  16137  2759  5433  16310  858  5728  647  7537  12325  11803  7192  765  307  5962  5575  6934  1323  7642  12813  3612  12641  7443  14025  10650  5989  12341  14081  411  5485  13622  10338  5946  2768  1346  5060  268  4228  1851  5069  2356  8661  15952  13665  14587  7235  14750  13341  7866  10179  1425  11929  11524  9815  7631  11634  4786  10161  4118  10034  15058  2895  5002  7883  3772  11983  15641  11357  4516  8280  4620  9890  15219  15391  7371  11171  12701  6211  1979  15932  11955  14829  15357  2465  11199  4437  13086  14472  10993  14895  8174  14725  3800  6466  15957  7018  9084  5898  4863  11294  15201  3489  8836  12574  1888  5800  12765  12772  12638  5466  11985  9861  15414  6897  13513  3934  6679  9102  14797  13651  14835  16141  5325  5671  6525  12588  13825  1431  13471  9412  9517  1226  15827  5050  5355  11276  5751  875  6706  208  4003  3055  12561  5304  12383  1812  3092  12015  8406  11029  6603  4012  12475  4048  8685  4967  8251  12087  15819  9495  9252  9941  13126  15405  382  4869  8042  6359  9718  15470  6743  547  1111  323  15891  9512  8376  10761  12825  2003  14274  232  994  7848  13200  8525  3020  4662  10370  7336  3924  6132  3382  10276  3037  14535  14342  4229  11264  12978  2911  15628  1192  14519  14551  11508  6438  12272  3366  7510  4785  5670  13718  10208  442  2489  976  16356  1219  10434  3871  4446  5709  7888  5722  10759  12509  1489  11173  12624  "
     ]
    }
   ],
   "source": [
    "@time enumerator_qc([5,5],[4,5,6],5)"
   ]
  },
  {
   "cell_type": "code",
   "execution_count": 49,
   "metadata": {},
   "outputs": [
    {
     "name": "stdout",
     "output_type": "stream",
     "text": [
      "\n",
      "22\n",
      "doing: [1, 1, 1, 1, 1, 1, 1, 9]\n",
      "MADE SZ 2\n",
      "MADE SZ 3\n",
      "MADE SZ 4\n",
      "MADE SZ 5\n",
      "MADE SZ 6\n",
      "MADE SZ 7\n",
      "MADE SZ 8\n",
      "MADE SZ 9\n",
      "MADE OMINOS\n",
      "MADE DICTIONARIES\n",
      "NEED TO DO 3864 TOP-LEVELS\n"
     ]
    },
    {
     "name": "stdout",
     "output_type": "stream",
     "text": [
      " 2843  6380  1316  5099  4460  1333  4517  3485  3120  6757  5335  5342  1662  2308  6788  1461  7237  3335  1881  318  5251  2061  873  7250  3688  3093  2300  5349  7807  4915  2631  1400  6118  2657  5822  1327  6426  1374  1616  5474  4392  621  6251  1166  1329  1479  7849  5047  6332  5279  6731  5226  6155  682  2787  4755  162  6889  6774  2103  6178  2414  2809  3001  5563  4269  573  4584  2867  5589  5101  2325  1527  7363  7756  7379  1201  2933  3432  4706  4554  620  965  1148  3629  4102  4787  5578  1813  6591  6775  4006  4601  6921  525  1029  6745  366  6904  3495  5829  5139  5192  6762  7071  345  5626  5164  7496  2655  4847  7129  2458  1703  5487  2050  6102  2811  312  6988  5966  4436  1853  1933  6472  2826  6018  5219  7401  5218  3164  2347  5493  5004  7053  1652  2888  2241  3146  5571  115  5012  5061  1984  373  455  4316  7636  4403  6408  6903  426  1710  6216  2077  2494  2485  3051  7074  7479  914  859  2290  7677  2572  1288  5481  471  5941  4321  393  3258  1167  6480  1602  5633  7818  2269  4538  5397  7572  1858  7485  2999  1751  1740  3332  1926  4325  4035  1114  2154  5774  628  1702  4661  4001  2245  5100  1958  3114  7000  166  4054  1054  6117  7709  6753  7154  4910  5757  4945  3823  2973  2847  3342  2123  567  7254  386  6066  3392  1213  4385  4024  7431  7553  4858  1309  4733  7104  98  7637  7152  1875  4978  2161  3564  73  498  3030  7447  1826  3293  7664  1807  7209  391  7003  6956  207  4928  5720  1565  2106  1261  7176  6026  5919  3289  5345  6503  4887  3789  625  4520  1129  3676  4519  7826  4468  2318  5972  3583  1060  3252  3593  4693  7797  2851  6221  1879  6640  1420  2064  6962  6610  5605  3615  4148  855  2861  1487  4562  6085  7731  143  3745  1447  548  2645  2651  3771  5828  3700  6898  2679  4503  6164  7846  1250  6017  1825  7139  5632  2803  4745  747  6860  5298  6966  1963  7043  253  1079  3294  1120  6851  1542  3516  6999  7446  7803  6230  6015  3794  4466  5439  307  6648  4292  2233  5575  273  1032  2398  5127  5035  4057  3812  7184  7213  1555  1346  268  7440  5069  7197  2291  4880  1262  3609  5268  6605  6329  6879  788  1285  5253  494  893  7565  7353  1908  7649  106  2618  5137  2620  3606  7322  7327  4457  2095  4098  2794  6570  5477  5074  585  3157  1679  3934  7238  3449  5471  2101  60  7057  1277  7708  5325  2567  1051  1893  5671  5710  2430  3638  1785  4873  5522  6414  4953  2147  3814  398  875  5163  6837  896  3829  2801  3695  5490  7727  3201  5379  2427  3243  2656  1380  1005  7678  7634  7609  7509  2379  1243  1480  2751  3382  7319  6357  4229  45  4225  954  5853  7847  7467  662  1334  3115  3975  4395  4800  4041  3366  3973  7616  808  2149  5670  442  4125  5794  4255  2685  684  5660  4759  4341  5040  4424  870  2834  2666  7755  4023  304  476  629  7272  1030  1104  2761  5505  5957  7519  5434  288  1993  2305  1805  6481  2780  6947  3983  1570  5653  2094  4746  3585  445  6978  5230  727  5045  2635  3891  5801  7607  5473  5020  2534  5521  1466  3371  3299  1549  5102  6712  264  3161  7030  4297  6184  4908  619  3878  3081  2185  4833  3951  2370  1945  1458  4653  2084  149  6213  4665  1729  7667  6844  5005  2211  4093  7575  6568  6661  6372  6039  2710  6600  4855  1890  3632  1405  5252  175  2031  2517  4550  2276  6674  3251  5922  2169  3831  6751  6054  793  1574  4635  4277  4113  7389  4361  6957  5756  6703  1123  7579  1568  1777  7799  3693  2955  2497  6316  2602  3851  4387  5062  950  3031  5601  2606  123  2363  3105  1497  6677  3138  2683  5467  3665  4716  4178  4143  7033  5810  3242  771  4754  3136  4127  2523  5833  2382  6399  2496  7697  2889  2268  2855  5523  5080  4135  138  2112  3447  292  2717  692  2330  6576  6690  7608  5776  7075  4718  1156  5296  3895  7592  1962  6427  2194  6373  1016  6042  7078  2642  1601  6133  6602  623  5236  4738  2460  6204  678  262  7368  92  2455  6261  4075  3359  5691  5736  791  3729  6476  5754  4709  4725  85  2067  1377  3781  181  6418  4764  4206  1071  6919  6896  7268  3684  4691  1476  3899  3206  233  3787  1919  5686  2619  6726  5411  7187  64  568  6391  2304  257  220  4045  2676  2258  4797  5092  864  5875  4752  1424  2373  2326  4484  5535  5652  536  2738  7811  2263  340  4862  5222  4144  4046  6566  7833  174  371  6847  2088  2853  7749  7360  3548  1391  6653  2473  5903  7158  7067  6341  5414  1103  2563  7337  1534  4831  1047  4936  946  6502  1859  5951  4408  2029  328  7387  6628  1912  2994  3726  425  3874  1175  4188  1681  4288  1389  6300  3046  2425  5103  5546  1178  1882  225  5841  7527  204  180  1975  2869  4031  6531  4170  4963  4192  2829  877  2905  3872  6748  2332  1184  6738  6456  5531  717  1686  3167  7134  4572  2938  3581  1573  5112  3352  2463  4218  6975  4600  7605  6685  7759  1022  6053  7174  5780  6908  6684  3324  104  1268  6158  7855  999  2160  919  6998  3846  857  1318  5506  711  1765  5701  6849  291  5932  576  2023  1667  578  4694  2328  1721  3547  2386  5229  7251  1269  1416  1006  2917  3364  925  4684  1874  2964  7439  1057  7800  3941  611  1850  5350  6509  2492  3880  2983  2226  5693  4660  2196  6543  4095  2000  3556  5763  906  1493  4792  636  2818  5309  7010  359  6658  2231  3515  5949  7817  4121  198  1037  6354  3045  7652  3207  7473  7423  7724  3345  7127  1752  443  4824  3178  1526  2686  3071  1728  2837  990  3205  3659  5489  4388  2005  5852  5744  5753  1300  4485  2297  811  6534  3618  4161  6249  4842  6201  5977  351  2206  4477  5772  1886  2378  4082  3176  263  2028  4301  7300  5880  2731  4941  3911  4735  4322  1125  2331  6122  7624  2543  5802  3968  5450  6926  1012  5809  1916  7658  6958  1035  2772  6467  856  7512  4238  2408  7619  6259  7397  5570  6356  1090  4130  4811  29  7748  2564  7054  2912  4427  5746  6272  2502  6555  5317  4156  6367  5502  7573  1451  5844  671  5894  2886  3139  3397  5357  5043  3689  6312  685  5869  4122  5446  7166  5862  5124  5274  6334  6918  5297  7289  7694  7249  5363  7065  1664  4377  1821  3377  4719  1301  908  3331  5526  4605  294  1510  5359  4747  4471  3082  4849  41  4025  4682  4109  586  3290  4400  2674  7853  7535  3524  6886  2506  5388  236  6443  2210  5560  5133  2076  1924  1199  5988  7483  5961  125  3876  6862  3119  2490  1445  309  5755  7564  2996  1349  4171  3864  2186  6100  7663  860  591  1179  103  4313  5792  2491  4998  6696  1719  4207  7859  4276  4421  6494  846  918  1946  508  1368  6124  2113  5907  1763  2926  1072  593  4299  6210  7534  5044  718  5300  3234  818  2991  5882  4555  4948  4984  7068  5642  279  3406  4428  4439  5323  4546  5796  963  2872  1794  3040  4501  2089  1091  178  4126  6784  3926  2559  493  3566  6004  5085  4234  3107  274  5330  6143  3770  7844  1255  2821  1449  584  1757  6511  6464  2344  3484  2199  2021  58  3469  739  6424  7236  5613  5584  2987  2400  5088  6678  3274  6146  421  5441  7022  3525  2406  6843  7406  5595  6920  3889  3389  7790  3501  1708  1656  7713  7408  2137  5764  1492  1730  668  5891  510  3784  2462  6513  1639  6650  7273  3544  3978  4019  3066  1603  3260  1543  2293  3368  5567  6086  4064  7194  598  7441  3832  3309  5721  745  305  1325  6991  7707  4043  3859  4172  2446  2239  542  4511  4712  4253  3905  6127  3546  7204  2673  2649  7292  1218  2860  6888  6351  3226  2555  6293  230  1412  2225  3577  2956  4723  1901  5182  4969  513  3852  1216  4250  2505  2461  3651  5171  7097  6946  1188  401  786  1814  6050  3865  2218  2174  903  6431  4947  6384  2736  5682  6945  2024  7354  280  260  4480  4087  4482  3510  6180  1971  5142  7758  1670  1372  1589  694  7635  2423  709  3457  2144  3724  7355  1745  6761  4702  6487  4318  4441  3993  452  3916  5666  6811  6604  202  2825  3143  192  729  6382  6084  3427  3648  7028  339  5597  1917  1485  379  4589  5908  3537  6370  7301  2361  570  826  2059  81  7228  2768  5115  7186  1851  5831  4326  5172  7199  1842  5478  5603  3104  4118  2895  6692  5002  4481  3855  7744  4356  4921  1067  1832  7419  6211  1014  7588  3363  5475  3414  2890  5799  1888  3245  440  622  7016  101  6557  4478  2708  34  6525  467  238  2155  7687  2592  6203  1092  7480  775  1815  6841  6664  1019  1254  2611  5679  5120  6874  7850  3263  653  5817  988  5328  7096  2929  3589  938  6166  6313  247  6032  631  2880  403  6148  3732  4788  749  2314  7258  7336  487  6191  753  1809  1482  1295  6438  1078  743  546  3084  7282  4843  3757  4768  500  3834  6655  7111  4949  7206  7541  1711  7117  6973  6773  6508  1986  4613  4442  423  315  5673  1999  5445  3229  6614  3600  712  6019  5360  6051  4724  7613  1395  4804  2287  7298  4932  4194  3002  4081  96  1718  6121  5677  803  2633  5295  5819  4393  1816  3378  6649  2499  4535  5238  7160  2310  5528  4739  5486  6654  515  4217  157  5681  5762  7052  697  7650  6450  6030  3927  2949  2402  4032  6355  2368  3039  1154  2342  7600  4384  3221  7039  6791  2963  783  6386  63  472  557  6320  3995  7838  1119  1591  5735  5542  5201  4283  7400  7343  1680  5923  7786  3538  1292  1982  37  5482  2238  450  953  6250  6225  3533  3643  6819  470  2500  6314  3766  6845  7587  2598  7346  1897  6075  1224  1499  140  4456  5214  1077  5739  6869  7306  759  427  6759  3282  1365  1921  6202  1341  2792  4699  1937  825  5602  1864  5587  3145  6680  2339  1093  866  1754  5419  40  3211  3777  6992  7627  891  1784  1452  5210  842  4784  3208  884  1344  2526  2069  3798  7764  4834  1734  5421  5257  6694  2923  1507  5352  3739  4444  267  3425  6172  5733  6850  2755  7042  5039  6469  768  1665  1185  3044  5734  4463  4610  194  3591  5549  5593  234  2173  5141  2866  2282  1605  3281  3637  5921  651  4643  6830  2604  4644  6290  5913  7820  7113  2858  179  3636  7060  4689  2001  5286  1658  4226  989  3330  1319  1685  5793  1263  1364  4677  4502  3791  1311  1516  4536  7481  5447  349  6646  4209  2478  1249  5046  6953  158  6149  464  1998  3117  4820  5627  384  992  3217  1429  2688  3362  4618  6434  738  5760  2741  5106  5641  6565  6097  645  93  5402  4293  564  6871  6807  1978  7465  6687  5010  1903  5086  6324  2910  4455  6524  3720  1552  5917  76  4977  414  287  4346  6470  1130  6393  6409  4419  5808  2824  4168  4486  638  2444  6937  6622  3994  2908  7189  1299  1455  139  1960  4983  6893  3518  3579  1952  2576  4838  6806  5480  1272  871  6101  1531  4386  4914  4607  282  1860  2972  4296  4669  7857  5178  6072  4512  2561  6183  4890  1193  5738  4815  1172  5692  6273  6981  6344  7099  4859  6447  2041  1236  3572  4939  4049  4452  6465  6701  998  2171  4402  1225  7548  6448  5638  6647  5865  7816  2338  1519  4611  4579  5426  5924  136  3837  342  2193  7385  926  6321  2442  3353  5583  4011  3080  2209  6291  4860  457  3256  3348  836  4067  1537  7141  5667  2235  3185  5348  1567  3590  5469  299  4448  363  3827  1266  3565  6899  6859  3247  1361  5199  920  3499  4140  4728  449  2610  5963  1486  4405  6872  6930  6437  1069  4092  1306  2705  1066  6082  1788  193  3448  6179  7290  5386  3631  7536  2813  4742  4354  3761  1883  1378  1928  259  997  3594  3860  558  1837  2286  6589  4089  4317  7165  1731  5975  7794  3321  4774  3232  6468  2242  3237  928  5082  2488  3820  4713  5590  4597  7841  4183  2742  4469  5782  1110  2928  3047  5432  6492  7017  6700  306  6421  7361  5950  3170  3180  6719  2553  6482  5636  4073  285  2420  1481  5444  1337  6929  2882  5773  5428  6440  6884  7594  2597  3490  354  4799  5622  5594  2162  3200  5529  5936  5548  3126  3509  1714  3841  2951  3286  2625  4599  7278  3246  4310  7766  5023  6922  3007  5059  3445  5240  79  4162  1331  6935  5056  4542  2773  107  416  3500  5084  2547  3480  7083  240  974  4697  7073  6027  6672  7781  5013  7735  3376  7657  2613  1097  1817  6554  6689  2539  5565  5385  3843  6824  3979  2229  3821  7460  7532  4413  2661  1141  592  973  6115  3487  6951  6135  4671  1062  7486  4871  7013  7314  7349  556  4112  7334  4900  5233  6207  6569  183  3451  931  742  4407  1043  2650  6641  843  3398  2359  2075  7596  6396  1938  1008  663  751  2380  5944  659  3216  3861  241  5688  7031  4810  3413  4500  4940  4235  1694  612  4714  433  2634  1107  5406  5259  5235  5937  1381  4119  2203  7181  1540  4182  3354  890  958  3498  4350  916  672  2213  5374  2166  3893  3016  4814  5717  3450  4775  641  1211  551  4687  3677  3420  4968  4017  3374  7122  7683  3940  1655  707  7524  7135  5742  2580  6613  6885  1802  7407  4376  1922  3938  1782  1252  2403  377  6083  1437  3534  4656  5134  5208  1506  7502  635  6913  4525  20  3854  3932  2988  5194  5454  7032  4710  4994  3799  3253  6551  7612  1157  4423  1571  816  5396  7252  4476  1900  4902  7084  7590  554  7542  346  2971  3357  5110  5983  3315  3387  883  237  613  6595  7760  5824  6923  6932  5457  949  523  1580  7399  4913  4505  7286  540  161  952  7500  646  5541  1514  3228  580  640  3140  6877  7783  1271  4773  6828  7106  4219  131  249  5495  5448  173  6193  7789  3301  6902  70  886  3036  6428  4663  7248  6955  7411  7739  4324  1326  4553  6219  3240  511  7225  1545  720  2056  4453  248  1520  5491  5187  7287  5820  6891  4434  506  1558  7224  1767  3833  5344  6527  2085  2437  1355  2617  4636  4979  5515  7690  961  251  2859  649  4988  1854  5954  6863  2418  7430  3266  5440  7133  3328  7606  155  7654  1625  344  6579  3288  3839  4513  1576  3961  2513  2548  7148  7717  7858  815  3759  6163  3692  2247  4347  1322  2943  858  647  137  2724  1448  6704  6559  4743  4704  4874  5362  904  5429  2595  3944  5213  6256  3462  2986  3326  243  535  2927  6517  676  3622  5271  2670  5093  6772  2032  3822  2924  5939  4323  755  7775  1312  144  1849  2128  4620  7371  3025  1024  6233  5895  3603  4437  2757  1811  5868  7079  7339  6798  3489  5372  5800  4086  2554  6340  3154  4198  4990  54  4581  481  4506  5825  6499  2775  7628  2607  3134  4909  6702  7162  5573  4042  4675  5260  695  7380  380  6983  3610  7006  4012  1995  2799  2950  4608  4770  7740  275  382  6463  5876  6411  5785  3862  5365  6961  5207  3642  3077  5559  5616  2223  5520  4617  7848  5463  5598  6444  6528  3097  6132  3148  2333  5403  2355  5775  2369  4891  595  6794  3871  3527  7638  5722  6550  3863  7860  1489  1761  7832  2165  4440  1160  5585  7221  2783  772  7495  3435  3285  4975  2091  3483  3904  2289  3529  2040  1215  7325  4401  7207  3678  7691  7507  7429  7659  4280  57  6029  1617  3267  799  5029  6112  2481  3423  7364  4504  6021  5715  1556  3620  4907  1827  4052  5985  2744  716  7242  2270  4736  2327  2763  3218  4839  3470  2769  5887  4079  390  484  3396  5537  2721  5928  129  88  1743  937  3828  6455  4487  7822  5017  3830  6560  5511  4138  4494  2726  6676  7831  5336  3400  4363  6378  4633  3647  970  6337  419  4211  5307  7633  7518  7599  47  2714  7309  2395  3584  3607  3939  2833  4566  7138  3922  5637  1108  5001  1923  3356  5718  6498  5703  7688  863  2374  1742  2002  4570  6948  560  688  5319  1673  6119  51  5545  4905  2397  5695  4561  2643  1696  2006  713  6064  4532  4430  6984  3203  4205  2659  4875  1443  6578  2148  2894  1969  6458  3671  6252  4626  5771  6094  3422  4020  1083  1307  7293  1363  7317  7808  5995  4022  3129  971  1647  1229  1855  838  2025  3426  1546  2921  6383  5981  6598  5038  1736  5716  2925  1246  1810  2652  4059  4104  5329  6081  7091  979  1203  1205  3528  3824  7779  1651  124  7351  360  5661  6943  7516  6005  3459  6970  4328  7778  7244  3173  1932  52  2459  5740  6974  336  3923  7222  3802  6350  5631  2870  7552  6763  6287  2608  6838  1428  4474  6939  4076  395  325  3013  7188  1848  6670  6281  2993  526  3835  2208  399  6264  1221  2020  2449  1046  2036  6052  4496  496  7088  5138  2360  6237  7009  7011  2493  3764  1495  2997  7689  4242  6012  5416  5291  4634  6317  7087  2080  2876  2637  977  5498  752  1569  1373  7837  2337  5970  1750  7703  4703  441  231  6590  3102  6813  2653  302  6289  7795  1087  2981  1593  2789  5311  7229  122  7506  4355  4966  6800  3259  4061  4107  731  4070  1700  2509  3269  7121  1237  5580  7047  7374  4155  4327  4374  3616  6228  1626  5859  5272  6675  5451  3186  3984  6138  6241  705  1415  4893  265  5635  2216  5955  17  6041  5316  5640  2372  466  1885  3875  3919  5826  3809  4429  3424  5243  3322  2660  3471  6348  4021  4212  737  1086  7177  7549  1660  196  7255  2614  968  6776  7730  6131  7344  5364  2163  1641  5053  5811  2583  1776  5292  4708  151  4565  1987  1220  1284  4221  6587  7370  4467  2343  "
     ]
    },
    {
     "name": "stdout",
     "output_type": "stream",
     "text": [
      "459  1847  2214  6375  3325  1001  4615  1623  6972  5510  722  7392  5174  3690  5651  1706  6770  784  4757  6709  6960  332  1528  4169  2879  1749  4491  5840  3714  6215  1335  2015  1943  6475  5111  2266  2596  1935  3287  7488  170  4357  6010  1553  5126  865  3021  991  7432  1294  2092  1398  7733  6985  3184  3504  460  357  4348  5136  7645  6212  6618  2984  1659  5830  6198  5620  1259  4146  5324  6441  7056  2884  1025  3628  618  2260  7396  3969  6619  7450  2055  2432  2346  4813  3847  6857  5185  2381  4547  5162  5996  3532  6965  7362  176  4809  3711  5889  3308  3181  2284  2805  563  6963  2735  4707  2562  721  5313  930  5458  1195  1386  1144  1116  7851  188  7530  1835  7827  617  797  7661  4159  4129  6673  5524  4174  6342  184  794  733  4812  1426  2862  6910  966  840  4571  4632  4783  6123  6814  148  1135  3156  66  4931  6546  2665  844  6394  933  256  2737  2045  6997  549  6581  7271  3716  1100  4851  1247  7101  99  5341  1779  7679  6621  348  2204  6656  7330  4899  7623  3842  5405  1484  5408  5696  5649  1976  2875  6078  911  795  2399  5694  5836  832  7328  7413  6169  4331  2443  6987  3022  7819  5625  3279  1798  3753  6062  2404  2752  2682  1369  6363  3691  956  5184  4010  4461  4822  7842  1739  7714  3666  6129  700  2778  5109  609  6691  1227  7260  2703  5927  1604  3989  1228  4515  5654  290  3885  607  6944  6848  7014  3963  1572  334  5873  1973  1645  3928  2845  2591  577  113  293  6855  7331  4009  3262  3149  1548  4801  7577  1118  3276  4080  7586  1715  4790  2706  4729  4961  2353  2758  5920  333  1957  3747  6130  7420  4142  185  3273  868  1738  6371  3884  849  1942  5855  2593  4274  1440  5871  3150  3682  7622  3163  5770  2413  1064  5273  86  2913  3655  4769  5346  7521  1682  3474  6876  75  5353  1970  2689  2839  947  7089  3964  4717  2709  4997  1059  6562  3311  1101  1992  1725  7494  1939  3744  1392  562  53  7427  869  7302  3576  3972  6976  5741  3982  1564  6268  134  215  3411  5250  5708  5607  4417  3985  1818  5118  31  3996  7326  3886  2749  1189  5517  2317  5750  7662  1490  1170  6941  3652  4995  80  7793  6013  2989  5337  4044  6552  6240  2788  5724  4204  6280  1910  7830  4960  1611  6007  3930  7448  463  7082  2451  5918  1508  757  2441  3730  6683  2083  1034  1983  7854  2681  4771  1654  6637  5358  5089  5569  258  205  1584  3408  7190  4410  269  492  4514  6740  1056  4094  7040  6979  270  4114  5728  7005  5407  7332  3758  1467  3336  7352  5962  2334  38  118  3612  3743  7443  6623  2750  902  5989  411  4499  4722  5060  686  5181  1053  6310  3468  6818  7513  1304  1583  1841  4569  5790  4294  5699  7487  1413  26  7230  1281  3008  7023  7015  2516  3988  4404  7741  1356  6028  2560  6020  4000  5377  5777  1877  3650  2105  4214  7583  5355  1577  7632  6154  575  6706  3475  4003  3760  5536  5293  2569  4730  1339  3725  5592  5639  1861  1521  4203  6422  4002  46  7366  6359  4935  5081  7020  6743  7745  5037  995  5538  6892  5018  6561  7665  852  3762  4248  3333  6349  814  3718  4540  2669  4173  2911  7641  2504  2037  2680  3531  1342  4688  6585  4446  6785  383  4923  2391  409  1914  2429  680  4612  5263  6599  7279  5200  6969  271  2486  2531  3879  1478  6635  2630  5057  6853  4991  5394  6058  7345  2854  5315  1895  289  6925  7700  1169  2065  2581  6208  690  2723  4666  2046  6390  3917  1744  4602  4777  6500  2995  6461  898  3151  4604  7772  6453  195  6916  6302  1085  4038  3733  3441  5032  2848  3338  6506  5412  1362  4879  6134  2271  2062  6142  4819  7589  2157  5861  3722  566  1251  2961  6014  1007  7029  2692  3367  962  3555  1257  6269  4673  5413  4920  778  3233  3909  7384  4278  4275  4698  394  7100  3737  5662  4399  6318  4944  141  1  7566  4576  214  3419  693  1173  2043  7214  7674  3303  2456  6986  3526  2719  7295  3239  2253  6413  6040  5940  3769  7041  7702  2535  2817  6308  5314  4308  6338  6279  1775  1539  7131  6793  2844  4078  986  3056  616  5832  2329  5948  3774  2753  5000  3703  4888  7305  964  1789  5892  4366  3409  1865  2072  3949  2798  3817  1359  2150  2762  417  2658  6157  7782  4549  7281  2654  4609  6048  2589  1724  6206  7243  6192  5621  4111  5488  4971  6663  3248  1436  7835  3755  6471  4416  3717  356  3337  4789  3458  6668  7090  3582  7123  7357  6214  2600  2623  7604  4659  7726  6553  3946  4938  190  6905  3067  7058  6161  6754  228  4641  5634  1500  402  6006  3957  807  4686  156  3649  1453  4870  5547  2313  6716  5135  7218  5303  1869  6750  5827  5381  3442  5409  5525  3402  4649  5783  1396  7383  114  4152  4625  2019  1122  2108  5858  3870  6175  1303  1208  608  1966  6360  2944  2711  6473  6629  2909  3849  4596  516  6189  7183  4563  4231  1642  4772  3168  3410  1863  3573  5729  3626  2175  5048  939  4227  1523  6835  2431  6810  5623  5516  7767  1940  3096  4526  7462  462  2578  239  2621  6804  7672  4776  3101  2274  3687  2422  5676  3085  2264  5176  5244  6433  7533  2357  5786  6695  127  5911  2828  2764  1063  7647  5079  4433  5452  2838  2992  2479  4524  6024  5500  5151  3116  3361  1045  6177  3421  4543  2042  5460  301  5934  830  1432  2574  3614  2227  3395  7813  5866  5147  1878  3903  5369  6868  159  3209  3244  6858  5122  538  7168  3633  2392  1951  5373  4886  3231  4470  7680  4624  168  4105  4692  5170  2104  3433  4541  1399  6789  3014  5851  1582  3492  5643  2288  5600  7108  5024  6295  4631  3015  1707  2667  374  4100  1187  2480  4493  5152  2122  6558  1597  6586  3418  1407  530  5239  7482  6152  1930  3541  4827  5748  6388  4791  802  2528  3640  3816  7395  7721  4933  3913  4158  5926  7256  2164  3174  4084  32  316  3845  381  3599  6486  7585  5967  781  3586  1287  1866  2192  7568  5978  6023  1140  2298  4360  2151  2307  4744  4646  5508  321  1042  1535  5262  1241  2786  4418  2440  7571  7421 \n",
      "C IS CURRENTLY: 7844\n",
      "doing: [1, 1, 1, 1, 1, 1, 2, 8]\n",
      "MADE SZ 2\n",
      "MADE SZ 3\n",
      "MADE SZ 4\n",
      "MADE SZ 5\n",
      "MADE SZ 6\n",
      "MADE SZ 7\n",
      "MADE SZ 8\n",
      "MADE OMINOS\n",
      "MADE DICTIONARIES\n",
      "NEED TO DO 2865 TOP-LEVELS\n"
     ]
    },
    {
     "name": "stdout",
     "output_type": "stream",
     "text": [
      " 1316  5842  4473  4460  4517  3485  3120  6336  74  1265  1461  3335  1881  4223  318  5251  2061  6037  3688  5784  2631  6583  5551  1400  6426  6764  4432  7070  5474  4392  6251  1166  2396  3496  154  3191  6332  6938  5279  4758  6731  5226  845  4150  3464  1648  682  5420  2787  6889  4154  2809  6592  4269  4793  3783  4091  4224  3340  4584  5589  3597  3663  2325  1527  6715  1201  620  4548  660  1475  4787  1985  5578  1813  2615  1150  6103  4534  6745  899  5629  5829  4892  5139  6762  345  5164  6769  5395  2655  7129  982  2243  6102  454  312  6988  6927  5953  5971  602  5305  5966  1853  1933  1887  6018  5219  4340  935  4806  2532  5218  5423  2932  7053  3257  2241  3146  1563  2647  6567  115  5061  1984  418  6408  3954  6903  426  1710  6636  3003  503  2494  2485  3051  7074  6311  2290  1288  2727  5481  471  5902  4321  497  2184  5633  2269  5397  1522  3558  2121  1430  2831  2999  1751  1044  2421  1114  2154  5774  628  1134  5100  2079  3114  2687  1126  4054  7076  6117  6753  7154  4060  3823  126  3746  6950  2973  4556  303  2123  567  594  386  1530  3669  3392  6141  4385  2697  4024  2962  4858  4551  2212  1875  5321  2566  3030  3522  4368  5232  1807  6410  6956  5916  3685  5919  4577  6980  3676  4519  2318  4249  3583  1060  1797  780  951  2851  1879  3182  1420  2064  6962  4273  6610  4148  4562  4846  5847  143  2469  3745  4184  548  2968  2651  5828  4503  1250  656  7139  3350  5632  4745  6860  5298  1963  253  1610  2536  6851  3516  2415  324  6015  2200  3813  2715  7046  6648  2233  5127  2116  3812  100  4655  4894  1732  4955  3494  329  3772  6605  6643  788  3038  112  3947  3952  6284  2959  3800  2095  2856  1153  4098  4863  1679  5519  6057  3261  2484  2544  1277  7057  5671  1051  2430  3638  1785  4779  4873  5522  2857  2246  5356  2147  875  6837  896  2965  2100  3201  5798  4869  2939  1380  3128  1005  6601  1243  2891  3382  6357  3925  3304  4225  1402  5853  6171  662  1334  3366  3973  1039  2489  4125  976  5794  4255  684  5660  5906  862  3202  4424  476  629  2887  706  5327  4640  5957  2303  2109  6481  2780  1000  3983  1570  7080  2094  2139  5997  445  6978  835  1376  4964  3962  552  4857  3306  2638  1723  1466  6836  1549  6712  3161  7030  221  4908  579  5367  3878  4943  3081  4833  1089  2370  149  6213  6844  2954  2412  5731  4093  1635  6568  6039  1726  789  4855  3632  6609  1405  2501  1596  5964  4982  6826  4264  3831  6751  793  942  1574  6419  6703  6229  1186  1568  1777  3693  2955  4582  2602  3851  3031  5601  2606  6364  2363  1977  3105  3804  1497  740  581  532  658  1350  4616  3665  4716  4143  6901  3242  3307  2523  5833  2382  6669  874  4853  5080  4135  2112  6266  2717  2330  1112  1770  3933  1962  2538  2194  6373  6042  1601  626  364  6133  5236  1388  6915  6436  6286  2455  3118  4075  1843  1902  2852  1828  5472  791  6476  4709  4725  2629  4878  1028  3543  458  6681  4691  1476  3899  4029  2619  3970  5411  1222  3112  64  568  6391  4588  1397  444  4045  220  6780  4797  5092  864  5875  4752  3029  2466  6235  537  2713  2294  878  6542  5196  4862  340  3314  4144  1202  371  5856  2088  2832  3976  6432  3548  1391  5276  1630  895  6341  1103  2563  5398  2599  4831  335  4216  4408  328  1912  3026  3726  6325  6742  4124  1175  77  4106  4288  5841  3048  204  4490  1975  2869  6531  4252  4170  2829  2905  948  2639  5984  4464  4518  1184  6738  1470  6573  4443  1621  1833  5531  717  1145  4220  7134  6496  1573  5112  5042  3352  2463  3819  6856  1804  6053  6908  3324  1137  999  2979  919  6998  4986  3846  2476  857  1765  4952  2023  4694  578  2328  405  3547  7095  5229  4637  3223  6049  5617  4760  1006  3364  4684  925  1562  1874  1057  611  1850  5179  2445  5031  2983  4639  5693  4660  1238  4792  1493  2086  2818  3198  7010  359  1687  2231  272  5647  2978  6354  3045  3345  1752  4824  2232  1526  3004  3089  1747  2686  1308  3953  3071  5376  1021  2837  3205  4472  3659  698  4388  2005  1040  6299  2350  5744  5753  1300  2297  811  3329  3618  6162  4842  4477  2206  1886  4082  3176  263  6912  2028  3123  4301  2261  4222  5030  5880  385  4304  3911  1427  4957  1125  4508  1012  186  1035  4238  6259  218  3264  2812  2376  3826  2912  6272  6555  5310  4156  5317  3598  4411  6367  4066  1451  7045  671  4339  5043  284  3689  5743  685  5446  6334  5274  5297  5169  4701  7065  1664  5281  2433  4719  1301  908  5526  4605  294  2306  606  881  5359  1959  4071  4025  4528  4109  586  3290  4400  2674  4756  3524  5973  6886  236  5560  5133  2076  1924  3780  1876  2524  1199  5988  5461  3212  2490  2996  1349  6607  4171  3864  6100  3481  4268  3497  4313  6890  4458  6631  4186  3950  4421  6494  1677  3942  1672  2691  2698  5907  654  624  2035  3868  5503  718  6033  3234  818  372  2991  4555  4948  7068  3549  3027  5642  279  1191  3220  4439  3349  4546  3040  1829  750  2089  1091  178  3926  2559  493  1884  2609  6004  4133  4234  297  2903  3107  1073  5330  6143  3770  1255  1449  6464  2344  2352  2179  6529  2987  2400  6425  4164  421  2406  1441  6108  4999  5595  6920  2143  3389  3889  3501  2137  1492  5514  3010  5891  510  2462  5203  6513  5197  6650  3260  2098  1543  2293  3368  6086  2135  3832  3309  6839  5211  305  4120  6991  6044  5078  6294  3859  2446  4511  4712  6833  4253  3905  6127  597  3546  1031  3660  6293  1412  2225  1901  4765  4969  513  4250  2505  2461  5171  6946  401  2919  847  1613  3453  3865  5422  903  4959  4947  5435  280  260  6226  1174  2573  4482  438  1614  3510  2616  2131  699  1372  5382  55  3452  5706  2144  3724  1745  4702  6861  4236  4441  6811  202  2825  3143  192  3648  1894  3959  4149  339  379  3575  6370  2361  5700  81  5022  3710  2768  19  5558  1851  4326  5172  2356  1842  5478  1084  861  3104  5237  4481  7109  5628  3705  1253  4356  4921  1067  3857  1650  1657  5938  1979  3033  3881  2628  5475  3945  5898  5712  3122  440  6526  101  4478  2708  5864  6525  467  1431  238  7072  2592  5267  5392  4074  6841  6664  5189  805  1254  2611  5120  1812  3092  5175  2195  72  2579  5817  988  2321  5656  3605  5328  938  4836  4056  6313  6917  247  4700  6400  403  3063  2537  6191  3752  5857  1482  6288  1529  3278  546  2904  4768  2622  6401  4394  7117  2026  2784  6508  1986  4442  4287  7086  5673  3805  4737  5618  4989  6614  712  2047  6051  7105  4724  4522  1395  4804  6222  2255  779  921  3896  4081  6121  803  5295  4393  1544  534  4420  3430  4739  5845  2584  5014  4217  157  5789  6022  2712  697  5104  5168  6450  3927  2949  1746  2402  3039  2342  7044  3221  2963  783  6386  529  63  472  557  6320  2262  2511  209  4586  5990  1680  1292  1628  450  6250  6225  1769  4050  3643  91  639  6314  6381  2336  2598  3998  4282  3604  378  759  427  1435  1921  6202  2792  4699  756  1937  5130  825  3646  1864  5550  3086  4583  6074  2878  518  6657  4244  3478  3100  4256  891  1784  3619  1452  2842  4683  3208  1778  7024  770  2942  764  4727  2069  1734  2815  4593  5645  6114  1633  2013  2923  3967  5352  3739  6303  267  3840  1462  3425  6172  798  5733  6850  2755  3044  4463  4837  194  3502  1002  4131  5549  234  2173  758  1605  533  6297  651  1867  993  3506  4643  3850  2604  5913  2439  2240  2858  2001  4226  989  1319  1685  5793  1263  1364  4344  2588  4536  4488  4796  3675  4209  633  1249  6953  464  3117  992  5915  7001  4818  1429  1280  2688  6575  3362  4085  4618  5148  84  3456  738  5557  6073  5760  2741  5106  4705  93  5402  1790  4293  564  5497  6807  5624  1720  6687  1903  5086  2910  6524  3578  3192  76  414  6409  5808  1258  4168  1353  6140  638  1299  139  4983  3579  6806  6822  2436  2130  871  3072  2953  5332  3224  4607  1904  4296  4669  1214  2728  2990  2561  6183  1834  4890  1193  5159  3601  5692  6758  5901  4859  6209  3199  604  3956  1236  4049  4452  6701  3836  2171  4402  6448  2338  277  1519  4611  3723  4335  164  4196  1792  2152  5426  2049  3562  2514  926  2442  2349  6205  2209  2078  836  4884  7141  3185  5348  1567  3654  2407  7107  2892  1980  4854  3827  1266  3565  6859  505  1361  3499  1486  6872  6437  1069  1306  1235  2705  1936  2099  6179  3631  7125  4101  5347  3761  1378  1928  3594  558  1837  531  2512  2387  3321  4336  2435  4713  6439  4469  5782  1366  4530  6492  4378  7017  6345  306  3339  4621  2553  5636  4073  4782  5444  1337  6929  5773  6884  975  610  4799  1929  1082  5936  5216  6038  3386  4629  1714  3841  2009  2951  4489  3286  2625  3661  4599  4310  4568  7093  1446  353  3007  4162  6882  2765  5084  3480  5013  3376  1817  2664  2539  5565  6307  1503  5266  6397  3979  4667  396  2229  592  655  1873  3487  6951  3786  130  4671  2700  1062  1968  4871  3482  5156  2132  556  5186  4900  5233  6207  831  3451  2743  931  6756  742  1043  6641  1643  3398  6008  2384  6588  2075  5198  1938  1274  446  2380  2416  3216  3312  5132  1465  2323  241  3738  848  2947  614  1694  4714  4462  5665  2634  2747  5259  5937  1381  4119  2090  4973  1540  4350  916  1906  94  4307  3893  3016  4814  5717  3450  4425  641  2252  1211  551  2117  3702  4687  3420  4968  1655  7135  5742  6276  6309  3271  1115  2975  2403  377  2010  5134  867  5208  4861  6913  4525  2988  4670  7032  6887  6182  1157  1571  5396  2707  3357  3272  4351  237  613  6595  6923  5457  5904  949  5283  6594  4505  1713  5116  161  5588  3443  119  3228  580  502  6881  7106  6193  5448  4647  3301  6236  886  4663  4324  7114  3240  327  4453  4926  248  1520  5491  2935  555  5143  6278  1558  2865  5344  5158  996  1459  2969  3734  5515  6741  961  6282  2859  4329  3742  4365  4988  5954  3266  5440  7133  3328  155  3254  344  1576  929  7148  815  5899  5264  3147  3692  1322  2943  6385  858  1806  2724  1448  6704  5539  1143  6559  3388  4743  4704  4874  5689  4166  1182  2605  904  5213  2986  243  6477  5540  676  1425  6772  5073  3360  3236  2450  1312  735  400  1849  5761  4620  375  5895  544  1310  3603  2757  1811  6466  6798  3489  3439  1823  3154  3473  4198  3866  6416  6873  5825  481  5173  6499  2775  3417  5375  1781  4181  5573  4675  1554  6983  3943  7006  4012  1697  5145  2011  6736  68  2799  4770  382  3592  2299  5785  3862  5507  6952  5559  7004  652  683  3958  5598  6949  6444  3373  3924  4175  3148  3034  4946  3796  1192  5403  2355  2369  5157  4891  3871  6449  3773  61  4285  2820  3863  1489  2165  1160  361  2551  5258  4975  2038  1106  2091  1152  3483  3529  2040  3672  1050  1889  4763  5599  4267  4137  4280  1899  3267  5029  2481  4454  6021  5715  4389  3620  6906  4907  4189  5985  4257  3808  3907  6519  2270  5821  4736  2763  5678  4013  2769  4302  2394  5805  5928  5952  6455  6275  4559  6126  3830  6560  2259  2977  3400  1787  4332  6262  6900  2159  1411  4165  4633  987  970  419  596  967  4748  5301  3939  4053  2833  7138  3088  1923  2515  3041  3356  5718  5703  1909  863  2374  1742  2002  4570  560  5319  1673  6119  5914  358  1696  2006  713  6064  4430  3203  2863  4545  1443  2148  2894  3671  509  5771  1464  1181  6094  1307  1363  1997  5995  4271  4088  971  1647  4795  1764  5231  4753  3426  3300  6267  1546  5038  1736  1246  1810  2652  4658  837  7091  1203  3912  1592  1205  2205  1651  124  360  3172  894  3459  4208  6970  6728  3095  3173  6093  1932  2459  367  3802  6713  2816  524  854  588  67  6763  6287  6838  4474  4409  5806  4076  3013  6283  6281  6335  3856  3383  526  3835  2208  2295  3241  2453  2036  3083  2360  1600  5881  7011  4917  6067  5925  2493  4286  1557  4195  6116  4242  6012  5265  5416  1678  1880  4634  6645  2080  2876  2637  752  3788  2337  2830  1727  3778  3099  441  4703  132  3204  5596  2533  231  3102  3005  2183  6289  3214  2981  2789  5767  331  1433  2776  2509  3269  7121  4155  4327  3616  969  296  5859  3334  3186  3984  6138  6521  5848  5795  4893  2216  5955  3662  5640  466  475  6734  744  4270  2729  7062  5243  3322  3471  2027  6642  4021  737  968  5223  1282  6638  1190  4197  1776  4708  151  4565  1701  1987  1284  741  5177  4467  5068  5935  459  2503  298  4134  4615  722  5651  1706  5484  1477  784  1162  4757  1528  1749  4491  5552  482  3714  5675  2015  6512  6825  6194  689  1943  4072  3135  6475  2596  4465  1935  3287  1270  865  2716  3627  388  3021  5331  7034  991  6479  1294  3890  6795  1398  3113  6985  3184  1244  4348  357  1406  5136  6212  6618  927  2142  670  1659  4537  5830  6198  5620  804  910  4146  7056  1025  2367  6047  618  6234  6619  1717  2432  4867  2970  1704  3513  3847  5543  6857  5185  2381  4547  3320  5162  6139  5476  905  176  3711  5889  4817  4398  3108  3308  3181  2284  2805  1845  3109  563  3213  4912  2562  5458  1144  6867  7002  1581  188  589  3887  4159  6792  4174  1780  7066  1426  2732  3059  966  1102  5768  1512  840  6218  6535  4571  4632  6123  1991  1488  844  933  256  3716  2575  4851  3058  3608  1779  5527  6982  348  2204  3520  6231  3446  4680  1976  2428  2636  667  2399  6540  2443  1798  2752  6462  2682  3159  7119  1375  3768  4040  4010  1638  5758  2257  1739  4681  2985  6129  5109  6691  5614  885  922  2703  3989  290  3302  607  171  6944  6848  5749  3963  5873  334  3505  1645  2845  2770  1801  6459  4009  1925  6106  3262  2292  5930  2426  4080  97  1715  6693  2706  3920  4729  4961  5920  1957  5290  4142  1594  868  3884  849  266  5730  1927  2593  4274  1440  6407  145  3163  6626  1494  5273  86  3782  3317  82  1682  6876  75  5353  1970  6423  1502  947  347  7089  2709  4997  3311  1101  1992  389  1725  6196  53  4422  6606  5741  3982  6831  1564  6268  5361  134  215  1248  5250  5607  882  4417  201  3137  1981  3996  1401  3886  5517  2317  4383  473  1490  6941  1756  3399  5270  6552  6240  2788  5724  4204  6280  1076  5338  3715  5095  4552  3341  6829  1870  5918  1508  2441  3079  2083  4364  1034  1983  5561  4906  5664  6582  2140  2365  6637  1654  5569  1584  3408  492  6740  4094  7040  4895  270  7005  5407  1619  3758  1467  3336  5962  6934  2334  6255  2285  3612  6110  2750  2874  715  411  6733  4722  4349  4215  5181  6185  5390  4807  2033  5339  5999  5427  3981  1304  5790  4294  1808  3008  7023  897  5513  6358  5225  4000  4141  5606  3650  2694  2105  912  242  810  575  5897  3653  5536  6854  5293  2119  1168  2569  4730  1339  4872  5592  5639  643  3550  4309  6422  2110  4935  3530  5538  6892  2003  5018  6561  852  355  187  3762  4248  3333  6349  4540  3741  5759  1414  1950  3531  4688  3698  6585  754  3171  710  1914  2429  4612  5263  6880  7110  5188  1615  2377  5723  5200  6969  2486  6989  6635  5057  7156  1753  2383  6747  300  1895  5533  289  1289  2581  6244  704  2723  5835  3917  1744  4777  3151  6352  4604  6453  3296  6302  6883  4038  6718  169  2848  5140  4885  2603  1362  4879  6142  2271  2062  5574  4819  245  5861  3722  5674  495  5591  566  1251  2961  6014  1007  2692  3367  3078  1257  200  308  4673  1317  778  1857  3909  6089  4278  394  4695  7100  4037  5662  6580  141  1  4576  214  1868  5611  944  3419  2456  6986  3177  3526  2253  5940  4153  5015  3187  1695  4367  6777  2817  1525  4308  5504  6338  3133  4595  1775  7131  6793  1911  2844  3295  4829  2107  1297  5832  182  3774  4623  1755  4888  4751  5892  1865  2072  5334  2798  5280  417  2658  4685  2654  4609  6048  1724  1450  5612  2228  6192  456  4971  5442  3248  4108  5683  5077  4840  1783  6471  3694  2125  940  2793  1404  1217  356  6520  3337  6136  5986  3458  6668  3582  1669  3595  4151  408  5034  6553  7115  1351  190  5387  7058  6161  4750  3401  5121  5195  1803  5634  1500  4619  807  6518  1138  2201  5234  4686  156  2341  5547  6716  5135  708  5303  4835  6750  7012  5827  3402  5041  5783  3434  4260  1846  4152  4625  4825  2108  5858  5161  3870  1303  2944  6473  6339  3461  6721  3849  4696  6070  4563  1642  4772  6720  2175  5048  7126  939  102  1523  6544  3751  4018  3974  5516  5623  1920  2916  1234  1940  3096  4406  6778  3087  4776  6186  2274  2422  5180  5676  3085  5176  5244  6433  5400  2828  1063  5079  4433  5452  4475  2197  2479  5500  3361  6177  2335  4543  4573  1632  5278  5460  5934  830  2574  5766  2227  3395  5147  900  5369  6564  1941  1011  6319  5306  4470  4624  7094  2934  3433  4541  1399  3014  777  1582  4033  5643  2288  2897  4631  887  1088  1707  3235  4574  3727  5630  4100  1187  2739  4160  5483  3707  5343  1597  6586  2309  "
     ]
    },
    {
     "name": "stdout",
     "output_type": "stream",
     "text": [
      "1095  5239  59  1472  6768  1183  5748  4791  4992  219  3640  3440  4933  3913  6667  1096  316  5581  3845  719  6486  5967  3586  2495  632  6023  5284  4646  5508  3190  5262  1241  2786  4418  322  2224  3076 \n",
      "C IS CURRENTLY: 71692\n",
      "doing: [1, 1, 1, 1, 1, 1, 3, 7]\n",
      "MADE SZ 2\n",
      "MADE SZ 3\n",
      "MADE SZ 4\n",
      "MADE SZ 5\n",
      "MADE SZ 6\n",
      "MADE SZ 7\n",
      "MADE OMINOS\n",
      "MADE DICTIONARIES\n",
      "NEED TO DO 1586 TOP-LEVELS\n"
     ]
    },
    {
     "name": "stdout",
     "output_type": "stream",
     "text": [
      " 3513  1316  4621  4811  4460  1333  3485  3120  2564  3170  2126  905  3064  176  1469  1881  4223  1481  3108  3308  873  3929  4715  2835  354  1845  2648  3093  4799  4954  2202  3213  2162  3200  2172  3126  4629  1327  1588  1144  3841  1374  4489  589  782  1616  1835  3286  4122  3246  617  353  430  5059  1329  3445  4159  4507  1331  3191  1127  2071  5056  4758  3377  794  1683  4767  908  845  1705  2773  4150  3825  5011  2765  3464  1648  682  4781  2787  4832  642  2862  3480  4154  1510  2671  2571  917  261  1102  4747  2414  2809  4783  5013  4793  461  4071  2613  4025  776  2664  4091  586  66  1488  3810  2674  4400  3524  1158  2325  2665  4740  3121  3327  1527  396  256  1136  1201  3821  2045  1141  592  973  1052  1418  2661  2524  3797  763  3487  549  2841  3629  545  660  1475  4787  453  1985  4851  110  3482  2615  4006  3058  4201  981  1150  2996  1349  4534  1286  3914  4972  899  1779  3864  2767  4900  2186  1722  1417  1634  2277  348  736  3451  4268  1179  931  345  742  4313  1348  2170  3398  4458  2655  730  1719  2458  3446  732  2428  1703  2636  941  2075  2399  1003  1536  3160  832  312  751  3022  3466  276  3493  602  4259  2113  4436  2404  2698  2926  2682  1072  2826  624  3738  2220  935  3413  3691  2947  3868  4940  3164  2347  1638  5004  818  372  1457  2932  4555  433  4714  4720  2985  3027  4539  279  2778  368  1381  2541  4119  4147  2675  922  3908  4182  4439  3347  3754  2213  650  2166  3040  2129  4501  455  171  4814  4425  750  334  2089  641  3719  2252  1645  1091  3928  1496  3954  426  3003  1098  2845  3926  2485  3587  577  2256  3420  3566  4968  3955  1637  3374  4133  4009  471  4016  1177  1167  1759  3107  4179  1802  3658  1118  3271  3770  4376  4538  3938  1782  1252  2975  4080  1449  2999  4051  2344  2352  1740  3920  4729  1018  2353  4291  739  333  428  2179  1957  2154  2976  3747  1607  254  628  185  4055  3854  3291  3932  2022  2245  421  1958  2545  4993  3114  3253  2593  4274  1157  3343  1440  286  2707  3150  3682  4910  554  1441  346  2413  3823  2914  2871  2971  3317  3655  2143  2312  3389  587  3790  4769  3668  4981  303  2123  3315  3474  4351  883  1492  3215  4761  594  613  1988  2081  947  3669  3392  4483  1698  4187  949  1551  4630  2389  3311  1543  540  1875  1896  952  4978  1939  3744  5026  2030  222  562  646  1514  4319  498  3030  3576  4120  2800  1690  1271  3972  4985  3982  4876  1564  215  4219  391  4417  542  1565  2106  1261  2967  1818  3685  4712  3289  4090  31  3789  4241  3886  1454  3036  1513  4249  1326  3583  1060  1170  5019  4693  230  1545  2178  2225  4995  2956  4453  1879  513  326  248  3182  1420  1520  1699  2935  2461  3125  4273  2146  3651  4794  1188  3615  855  3453  2549  506  4562  3865  4204  2174  2085  3745  1076  4959  996  1094  2138  5054  2617  2840  961  2645  3771  1174  2679  2859  463  4365  3742  3341  438  3390  656  2803  3639  2451  4974  1670  3730  1372  3079  2083  4364  909  1034  1579  1589  569  3379  2423  728  2877  747  1745  2405  3839  1471  929  253  1498  2552  3990  4585  2931  1542  3540  4441  3759  452  2415  3692  202  2247  44  324  2825  2200  3143  3901  3794  729  4094  858  1800  901  1806  3813  647  1894  1367  4114  4466  4149  339  1547  1840  800  2248  1027  1467  3336  1485  379  2334  4077  3844  2285  118  3612  1223  3743  4057  4704  826  1182  902  2750  3428  4014  904  4498  4499  790  1346  4894  1343  4228  2356  1732  4497  2508  3479  3822  4118  2895  924  1128  3236  4481  3772  5002  735  3705  1239  2033  3468  4516  1285  4356  4620  1067  1304  1657  1014  1310  2465  3881  3606  3557  1413  26  3800  2095  2856  4098  387  4863  823  440  4086  585  2554  3157  3154  3473  2438  2096  4990  3988  3006  3934  4404  4478  1356  1972  60  2544  1277  2781  4924  1431  2155  2592  1785  1585  3869  3417  2857  295  2694  3650  242  2246  189  775  2147  398  4042  208  896  3475  3829  2100  1254  1838  1649  2119  3365  2579  4048  1339  3725  4872  2799  3201  1521  2427  2110  275  724  3592  4869  3298  938  3775  3128  323  247  4185  4700  3463  3656  3642  3077  2540  406  5018  683  2223  232  994  1243  4788  2948  749  3130  1149  1480  2891  2751  814  3373  3148  3037  2669  3034  4946  4173  3752  1809  2911  1482  4808  1192  4395  4800  1295  2504  2037  4041  2680  3531  3973  3094  4785  2369  3278  442  2489  2281  546  1219  3527  1075  4446  2685  4803  2904  2267  4285  383  710  330  3834  1489  3863  4132  4759  2165  3054  4949  36  2429  1711  2118  415  2133  1030  4442  3435  3285  4975  2222  714  1478  3483  4864  3381  3672  4401  3807  1279  4103  4678  2883  2854  2383  3229  3600  1889  4763  300  4267  1895  289  2094  3267  3280  2287  3423  2139  690  4194  4314  779  3002  252  4454  921  835  3896  2723  4081  3915  4666  3962  727  2046  3009  803  3551  3620  2744  3306  3891  2310  3808  4420  4739  4604  1723  2693  5014  3296  3371  264  4254  2340  984  153  4908  4190  4013  1085  1347  3625  1746  2402  4032  2004  3733  484  4943  2368  3396  1965  169  2185  1956  4833  1089  4262  4885  1458  4653  2603  149  439  1362  2062  529  63  472  1004  1729  557  4819  2157  2167  4487  245  2474  5017  1635  4138  2946  2057  2961  3367  3405  150  789  4451  2471  4855  1890  3632  175  4332  2031  1278  2159  4673  2276  3538  1292  3491  3251  543  3090  4264  4305  172  4883  3647  583  970  3831  4275  4904  2238  4211  942  1574  450  4277  3533  216  1  1511  2714  4576  3584  4191  2796  3939  5025  4566  3419  2176  1108  3088  5001  1173  3998  4951  3041  3303  2456  3177  3356  1568  2719  3189  3239  2955  2017  1224  2684  2374  2602  1742  4153  3604  2237  2066  950  4905  3105  661  1497  1341  4430  4178  2792  1132  1775  1561  4205  1541  2568  1989  2844  3307  4996  3646  4626  2523  2382  4962  3162  407  1181  3313  2468  2889  3641  3086  4622  3774  1083  2753  3703  4135  1093  1363  2112  2878  4751  4271  4022  3394  3277  1865  2072  2330  3873  4015  1229  2734  3933  3211  2150  2244  1065  4330  2762  1518  417  2696  2699  4266  4711  1156  2521  2940  3895  891  3300  4449  1212  3438  842  4784  1434  884  1450  1344  1913  2642  626  770  364  1180  2069  4104  4679  623  1388  979  4590  678  1203  2546  2815  3596  2455  3118  3912  338  1592  2013  4840  2390  4780  767  124  3721  4036  267  791  2125  85  940  3425  3781  798  4878  4764  3459  5039  1773  3717  1185  1483  1422  3095  194  3502  3591  4789  233  1709  234  2173  3970  758  1669  3512  1222  959  3112  2282  4654  1737  3281  2623  4659  3637  3802  2304  257  220  651  943  1867  2278  5034  588  4643  2604  1663  4938  190  1428  4474  4362  4750  4976  228  3401  1165  2373  2472  2240  179  2858  537  2713  4484  3013  1848  1500  4689  615  4619  3383  2263  526  989  2208  4200  807  174  2453  1036  1438  2588  4230  1046  1453  1176  3083  3621  4488  983  1196  2313  2360  633  2478  520  895  5046  3811  708  158  2530  1741  3283  582  2493  4917  1557  1869  1103  2599  3764  1495  2997  4202  3980  3255  3442  4831  4232  2044  1047  4242  4818  490  3402  4649  479  828  1280  4260  2688  4825  3362  2019  328  2108  3535  1912  3456  3026  2994  2876  2741  3897  3870  977  645  1373  2337  2830  1966  4450  4651  4901  1302  441  2711  4157  3657  4703  1681  2124  3849  4290  231  550  725  4563  3046  4455  302  1178  3214  1552  2058  3410  225  224  2789  1360  2899  213  2393  204  769  4227  1844  4284  4061  4963  3751  731  4018  3736  4168  331  2776  3269  985  1328  4922  1234  3568  4374  3616  4406  1133  3977  2120  1960  3579  1621  1145  2274  871  3072  2953  3224  4607  282  2216  2264  2972  853  3085  3581  4558  2188  801  2990  4512  1575  3819  475  2828  851  1804  744  2570  226  1419  4721  43  2729  1033  2992  4889  1268  2470  3471  604  3956  1236  4524  4939  2027  3018  4986  2476  3361  702  4345  3310  291  2529  3169  3416  1225  3153  1394  4952  4543  281  2023  4573  578  3519  2279  1519  3882  2163  2594  1641  3547  2386  4335  164  4579  3614  2227  2917  4684  925  4708  4565  2641  2193  900  1878  3941  4221  1313  2982  2514  1850  159  3209  2492  2411  2445  4467  926  5031  696  2158  3948  2226  2503  3633  2392  1847  2214  3141  4011  4639  2196  4134  2078  2362  4860  5008  4359  5036  836  644  4792  2086  2818  4065  211  1567  3465  3654  332  2407  299  1207  198  272  2897  4631  3015  3827  887  1088  1627  1266  1653  3565  3235  4574  374  443  4824  600  2232  689  1943  2480  4493  3089  4352  2122  3135  1314  369  850  4312  2837  4295  2782  3205  4092  4881  1935  4388  530  1270  1066  2586  1936  2099  3448  1472  675  2733  1300  1183  3631  4233  3574  4798  3329  2034  4101  3250  2375  2577  2181  2716  3514  4842  4791  991  219  351  2206  3890  2528  1905  2378  4380  259  3053  3504  4933  1099  3860  1837  4180  1096  3123  2261  2164  1731  4084  5028  5030  316  4749  2142  809  2387  381  3599  719  4537  1427  813  1125  2331  1081  3232  3561  4146  2242  1025  2367  2543  3820  632  1012  2298  4183  3969  4744  2417  4646  420  2928  2055  2786  3892  4418  2440  3644 \n",
      "C IS CURRENTLY: 151052\n",
      "doing: [1, 1, 1, 1, 1, 1, 4, 6]\n",
      "MADE SZ 2\n",
      "MADE SZ 3\n",
      "MADE SZ 4\n",
      "MADE SZ 5\n",
      "MADE SZ 6\n",
      "MADE OMINOS\n",
      "MADE DICTIONARIES\n",
      "NEED TO DO 713 TOP-LEVELS\n",
      " 1704  306  2111  2381  2896  2126  1265  905  1881  2885  2882  2284  2597  1845  3093  2300  563  1451  880  2562  671  721  2886  3073  474  2951  589  782  1835  1871  617  353  797  3007  2730  79  184  1780  2071  2433  845  733  682  2862  974  917  1959  1102  2809  1512  1146  2114  957  2664  1488  573  2867  2506  2624  2229  1505  1201  1924  1873  763  1240  130  1475  1062  2996  525  2922  2767  128  348  831  736  591  860  2491  2384  1976  2428  911  795  1536  1938  846  191  1677  2380  2443  3022  659  1074  1465  2113  2404  2698  2926  1608  197  1933  2826  624  1049  1786  614  1638  612  2932  2257  433  2747  1652  3027  279  2541  885  2221  1604  672  650  115  418  1973  2252  1091  1710  2077  2117  2485  3035  1637  507  1925  1288  1655  707  1118  2269  2915  2156  1449  1858  1382  2831  2999  2706  1560  2352  1740  2558  333  428  185  1702  1594  1738  1644  2022  2245  2687  1109  816  2707  2914  2971  1233  2137  2689  2839  3010  1988  1502  347  1639  1698  2640  2293  540  2487  687  2566  498  745  3030  134  2239  2967  1981  1129  2649  1338  2345  2557  1031  2056  2851  1879  1420  1520  2505  855  847  786  1814  2319  1668  2085  2920  548  2617  2840  1611  761  251  2679  1684  1250  438  1854  1820  2960  2803  1670  2249  1034  1625  2365  1963  1498  1161  2536  2931  1542  1322  858  1800  647  1367  2724  1619  1547  1840  1027  2702  1485  2068  2361  1223  1346  243  535  317  1084  676  2704  108  1128  755  144  2128  1583  1657  1979  1908  1310  2757  2620  2095  1153  1281  3008  585  622  834  1679  2516  3006  897  337  2101  2544  762  2592  1785  1204  775  1815  398  1019  2100  1254  2952  1812  380  1649  362  2012  1595  2299  938  1380  323  247  631  3077  2379  652  2223  1243  2948  3020  2537  2751  541  45  1402  1334  1192  1950  2680  1039  1078  2489  743  976  1075  2685  2820  1489  3054  2429  1160  1711  476  706  2038  2091  315  2303  1409  841  1215  1050  1889  2401  2047  1289  2094  2808  1617  704  2189  3002  921  2723  1944  1718  2141  819  2635  1827  1544  2499  2744  898  534  2270  2584  1587  1155  2693  157  2327  221  153  1370  1085  2368  2394  3081  1956  1945  2084  63  1456  3065  501  2087  2262  2474  210  1635  495  1726  2810  2710  1787  1596  1278  1264  583  970  1628  2238  2945  953  1  2395  91  2500  639  1123  244  1173  2598  2864  488  1897  2955  863  1742  2215  560  378  3031  2397  657  1256  1716  1026  365  1561  2148  825  2107  509  3056  1864  616  1961  2329  874  1058  2268  2855  820  817  3086  2753  518  2717  866  3049  2072  2330  1754  1647  1855  2798  2734  1770  1359  838  1518  1200  2320  1147  1724  1344  1601  410  2942  364  1180  2460  2815  1205  1902  2923  2390  1783  1856  1507  940  2067  25  1028  894  1773  1665  1483  1422  458  1163  1919  367  758  278  1737  568  1397  651  67  1578  3029  190  1424  2373  2472  536  2738  615  878  2263  2315  2234  2453  2020  2201  1336  2588  1516  3083  1391  496  1630  2873  1113  1772  895  158  464  1103  1280  133  1880  3026  2477  645  1790  1373  2830  1061  605  1978  132  3017  1631  1681  2533  1550  1903  2275  2910  2981  1360  3048  769  414  1509  1844  601  1996  806  731  2829  877  2905  2776  1328  1920  3068  2881  1184  2908  3087  1299  1455  1952  1408  1415  2972  1860  3085  1573  2728  2561  934  2409  1193  1063  1804  744  2570  1022  43  1033  2660  960  2197  2041  604  2027  3019  2171  422  1282  1491  1321  746  2386  1792  1432  2152  2049  1416  1562  1874  1057  1987  611  2514  2445  1941  2343  2442  538  1847  833  2196  2000  2078  457  1706  1493  1162  2818  1524  1567  2898  2407  1622  2231  2102  1758  272  2897  2892  3015  1799  3045  1707  1653  2015  2667  2385  2296  2410  600  689  920  3089  2739  480  879  1020  1021  2837  1935  2005  530  1270  1066  2350  1472  2198  1553  811  2375  1139  1692  1294  2092  1883  1398  1378  1967  1099  1096  531  2261  2164  206  32  2850  1659  1009  1125  1931  2488  2367  2766  1140  618  1916  1038  2346  2907  2970  2663 \n",
      "C IS CURRENTLY: 247732\n",
      "doing: [1, 1, 1, 1, 1, 1, 5, 5]\n",
      "MADE SZ 2\n",
      "MADE SZ 3\n",
      "MADE SZ 4\n",
      "MADE SZ 5\n",
      "MADE OMINOS\n",
      "MADE DICTIONARIES\n",
      "NEED TO DO 214 TOP-LEVELS\n",
      " 1090  131  1131  207  542  74  905  876  31  597  625  335  445  803  563  552  327  511  671  721  752  898  720  559  513  441  1155  157  984  221  855  154  681  390  122  733  416  1094  939  102  642  162  881  280  966  514  557  41  679  495  909  1034  962  296  709  728  90  844  717  256  205  258  1079  212  200  308  871  655  565  778  543  545  660  202  596  466  192  110  475  981  1150  851  141  1  30  556  91  1027  1033  639  352  1123  860  1032  693  919  152  723  648  553  570  711  422  950  51  578  312  676  301  108  1074  1105  1053  658  89  654  151  144  735  342  848  788  614  78  112  1014  407  109  820  279  1083  368  833  703  836  585  290  1112  607  777  337  481  34  417  1091  178  674  627  482  810  343  528  297  398  575  707  208  505  623  456  889  274  689  653  879  698  382  724  798  1018  1044  675  635  628  185  20  1163  52  849  406  852  232  991  351  187  539  487  257  220  1099  460  45  32  1075  613  1125  325  330  691  615  1025  618  399  361  792  321  73  423  580  1038  498  305  315  349 \n",
      "C IS CURRENTLY: 299256\n",
      "doing: [1, 1, 1, 1, 1, 2, 2, 7]\n",
      "MADE SZ 2\n",
      "MADE SZ 3\n",
      "MADE SZ 4\n",
      "MADE SZ 5\n",
      "MADE SZ 6\n",
      "MADE SZ 7\n",
      "MADE OMINOS\n",
      "MADE DICTIONARIES\n",
      "NEED TO DO 1577 TOP-LEVELS\n"
     ]
    },
    {
     "name": "stdout",
     "output_type": "stream",
     "text": [
      " 1760  4495  306  4621  1090  4473  4811  2381  4517  3320  2126  74  3064  2912  1461  2502  3335  4223  4782  2885  4398  1337  2882  3181  1273  3308  2284  4411  2805  975  1845  4799  2300  1451  1929  4848  880  1791  2735  3213  2162  4912  2886  3139  3397  1195  3509  284  1327  1714  1144  2009  2951  4489  685  4599  3661  3246  4310  797  353  1446  3887  430  1329  3445  4129  4159  79  4701  3191  4174  4377  4614  794  2433  1683  845  733  3825  416  4911  2525  2787  4832  606  642  162  240  2571  261  1102  2103  4697  514  2414  2809  3195  1146  4849  4956  3376  4269  4793  1991  3783  1135  957  3156  1410  4224  3524  3843  512  2325  95  236  3121  3327  3552  2624  256  2076  1712  3780  2661  592  1876  620  763  2082  135  125  2841  3629  130  660  1475  4671  2575  453  1985  3284  3119  1968  2053  3058  4201  99  2996  525  899  2132  556  4112  1779  3864  2302  2767  2186  4900  2277  348  831  736  860  4734  3497  3965  152  742  4407  1043  723  1348  3842  3735  1719  1484  982  2384  1976  4115  2075  2399  3060  1003  3110  3160  2324  832  1008  191  3942  2380  3022  659  1368  3493  4856  3216  3312  2691  2323  1853  3900  241  1608  1933  593  654  2937  624  4340  2220  142  3193  4810  935  848  2035  2947  956  3691  1055  4500  4940  818  612  1457  2257  2932  677  2747  1652  3549  4539  3323  279  700  1381  3257  2241  3146  1563  2675  3220  922  3908  3754  2166  3302  3040  373  171  455  4316  3450  4814  2089  4403  641  3928  1091  1710  3003  551  1098  2845  2077  3926  493  3051  2609  2998  3035  914  293  3566  859  3374  4133  3070  297  2292  3149  1548  1655  497  3680  2184  1748  1559  274  2187  3271  3770  4376  2156  634  2403  2821  1430  1757  1382  2999  2706  2010  3484  1437  4729  1018  2558  3898  4861  1330  2154  635  2987  185  3188  4142  3291  3932  1134  4661  2022  4001  4710  4164  1927  3525  3253  166  4274  1898  1054  4476  3682  4060  3163  554  2413  3635  86  126  2871  4556  4245  3272  2913  2312  3389  3655  3501  1656  82  2123  3315  4351  883  2137  701  4761  668  510  1988  2462  1502  3669  3392  1639  4483  2709  2697  2807  4024  4311  2527  4187  4630  1551  523  1059  1580  2098  504  3311  2293  3358  4063  4064  1875  3179  3196  3564  389  3443  3744  1392  2030  222  646  53  2135  2487  4422  3806  869  640  502  498  745  3030  1423  3293  3522  4368  2348  4773  4043  1629  4531  134  3403  4172  249  3227  4417  4928  542  499  201  2106  3685  3289  4090  1981  3996  2177  1129  1385  3036  1338  3375  1189  1117  2317  4468  1689  4553  1060  4272  327  2555  1164  4693  1545  3652  2056  2956  4453  4765  1955  4969  248  1420  2989  2064  447  3125  4240  555  4929  1188  4044  4298  3615  2919  1613  2836  2788  4434  1517  1558  2865  3865  2174  167  143  4184  3613  2736  2617  2968  2651  761  3700  4365  649  3390  3510  1870  4028  4674  2451  2418  3266  699  3730  3079  2083  55  4364  4906  1579  155  728  3457  2073  4030  3385  2877  1745  2365  3839  2644  1471  258  205  1498  3961  2513  4702  2552  3990  815  3516  3759  452  492  3916  2827  4514  2247  4882  192  1800  901  1080  1806  3648  4114  1367  4895  1619  1547  765  1467  2702  1485  352  2068  4589  1323  3844  2285  118  2361  1223  4743  570  4057  4704  2116  2750  4014  100  904  81  1555  2595  3710  2768  4176  19  4349  3326  3554  4215  243  317  686  1084  3935  163  108  2498  3494  2032  4786  89  3822  3848  2895  924  755  2450  144  1239  2033  400  1253  1849  4564  3712  4356  3699  4921  3038  1067  3981  1304  4569  1650  893  1979  112  3033  3952  3557  3363  3800  2095  2856  3414  1153  350  3489  440  1823  585  2725  834  2371  2096  2438  3866  1972  60  1277  1051  2781  467  4924  4000  1431  238  2155  2936  3704  2592  1785  4779  4873  2857  1092  1226  242  3134  810  189  2147  4181  1815  913  4042  805  3475  2672  4650  1254  3092  3653  2801  4426  3801  2195  2579  1995  4048  3818  2321  362  3567  4872  68  2799  2950  3201  4770  2110  4002  382  724  3467  3592  4869  2299  4935  3775  1111  4594  3530  4056  199  995  4185  2366  652  2223  852  3063  3732  1243  3958  4788  1149  3333  2314  2751  814  3373  487  3924  2074  3925  2333  3304  3718  3741  4540  4229  4946  3796  4896  1402  4918  3115  3975  4657  2504  3531  3366  2355  4891  2489  976  1075  3773  4255  4843  2904  710  330  4923  1489  4949  862  1914  4394  3024  4397  680  629  2118  2551  4613  2133  3792  1615  3124  423  1106  2222  2091  3879  1478  4864  2303  841  3805  3381  1999  3807  1993  1805  1895  4137  289  4724  1395  1899  3412  4804  2065  2581  2481  704  3423  4194  4314  2189  835  1944  4964  3551  2633  819  552  2754  2283  4393  3378  1544  2995  3306  534  3111  2270  2584  157  3299  2327  264  3161  4741  3218  2740  2136  4013  2769  2402  4032  2004  3733  2368  3441  1965  169  1956  1089  1393  3338  3951  4384  129  3221  4262  4885  937  2084  2603  783  439  2963  1004  63  472  2454  557  2272  2157  2262  2474  4559  210  4093  1591  495  1822  3830  566  2906  1251  4138  2946  2057  2692  962  209  2710  2814  1257  1405  4008  308  4673  3491  3251  543  4305  4363  1982  970  4275  4698  394  4695  2590  436  793  3737  450  4399  4944  3210  141  1  3643  2434  4576  1868  2395  4361  944  3987  639  244  1923  2043  2598  3542  488  2456  3177  3356  3526  2719  2039  1777  3239  2250  1954  1224  1499  140  3851  1077  3991  560  3187  3031  1695  2606  4905  177  3165  123  2363  4561  657  1256  2643  661  2006  2683  713  1716  1947  1350  4532  1341  3749  4178  4143  4699  1132  1775  3476  365  3731  4069  2863  4205  1937  2148  3838  3646  4078  2523  986  2382  1181  2496  3145  2585  3422  2339  4853  182  4529  3774  4583  1083  4622  1755  4888  1093  1363  138  2112  1789  1283  4088  673  692  3277  2072  1754  1647  3478  4795  1359  2150  2244  4330  599  2699  2696  4266  4718  2940  891  3300  1332  4449  1212  1452  4549  3486  2842  2052  2654  3208  2589  1344  343  2925  1180  2069  4059  4104  4111  889  4679  456  1388  4834  2546  2455  338  1205  3824  1068  1633  1651  2923  3967  2390  3721  3739  4444  3729  360  4709  85  940  1462  2067  1377  2629  2793  4878  1028  894  2755  768  3717  3543  4328  3684  4610  4691  3502  4029  4131  1932  3206  4690  233  2459  234  2173  3582  1669  3602  278  2866  4603  336  1291  3923  3595  3281  533  4654  2623  4659  4588  3802  4151  408  4045  1867  2278  943  993  3506  588  3946  2604  4850  2608  4752  4938  1351  3067  4927  1428  4409  4750  1424  3401  2439  2240  2858  4484  2713  325  2060  2745  536  2738  3858  2993  3383  2263  340  4862  2315  3330  2208  1685  4200  2018  4668  1202  1364  174  3560  371  2453  2020  4677  2088  3791  4536  3000  1046  1453  1176  2036  3384  1391  349  496  1196  839  1600  2478  1113  3437  2677  895  1249  3811  708  158  3283  464  4286  4820  4195  3217  3764  1495  4242  4818  1429  4936  4649  3434  946  479  114  1846  2688  4152  4625  4408  4618  2029  2191  1122  3535  84  738  2080  977  4261  752  645  2337  1750  3778  2944  3099  4703  132  3017  3657  2124  2909  3275  3461  3849  2533  3681  4290  4563  3005  1609  2974  3720  1642  1178  2254  1882  1087  3578  1593  1360  213  4346  4966  2431  4284  1996  561  806  2824  4170  3751  1258  3674  331  4486  2509  985  1328  2639  638  3429  3872  679  1237  2916  1940  4327  3568  4177  3994  2621  2881  1133  3087  1455  3579  1621  1210  3101  717  2130  212  1272  871  1408  3072  1531  760  4914  282  4669  853  1214  2188  1573  3393  3662  2048  3664  4110  801  2388  2728  3352  3919  1013  851  637  2764  3601  4815  1804  226  1421  4721  4475  2838  3424  104  4859  2660  999  2197  4083  3199  3471  1236  3018  998  3836  2171  857  3361  711  1086  291  196  3883  2023  4694  1632  2279  2338  255  3882  1282  2594  3723  1641  746  2386  301  164  3547  1190  4097  3223  4335  2152  2574  2049  1006  3028  3395  136  4708  2964  3225  1220  1284  2982  2514  1941  459  3880  538  121  2158  4639  2503  2214  4011  3080  3355  1001  4660  4886  4095  3779  1171  2464  3348  4624  4359  836  3556  1238  4067  "
     ]
    },
    {
     "name": "stdout",
     "output_type": "stream",
     "text": [
      "1537  4884  906  1477  2016  2235  1162  2086  4541  1399  3142  1567  3654  1298  4448  4169  2288  363  4121  1758  1037  2892  3015  4631  1799  3045  887  571  1088  1266  3565  3345  1379  3369  3074  4100  2296  600  827  1187  3539  689  1943  1526  2480  2565  2626  3004  4140  4352  1747  2686  4728  3707  850  4004  1728  2266  2309  4465  4092  4472  1095  4388  1407  2005  3287  1270  1066  2350  1788  3448  59  527  2297  4903  811  3631  3541  4827  3329  2034  4101  2375  4742  1139  3514  3627  1692  4791  69  2900  991  351  3890  3640  1398  2378  1967  3921  3053  460  263  1406  4447  2028  3123  4089  4222  316  385  2512  2850  2142  809  2424  4941  2902  381  3971  719  1009  781  4735  1259  4774  1474  3561  1866  2192  3237  928  812  2766  4713  1012  618  4183  4360  1390  4530  4391  4370  186  1035  2772  1042  3190  2928  1038  1241  2786  3892  2907  2440  2663 \n",
      "C IS CURRENTLY: 486700\n",
      "doing: [1, 1, 1, 1, 1, 2, 3, 6]\n",
      "MADE SZ 2\n",
      "MADE SZ 3\n",
      "MADE SZ 4\n",
      "MADE SZ 5\n",
      "MADE SZ 6\n",
      "MADE OMINOS\n",
      "MADE DICTIONARIES\n",
      "NEED TO DO 672 TOP-LEVELS\n",
      " 2800  633  2478  1279  1760  2677  1629  895  1316  1993  491  708  160  1248  1333  1862  1953  2134  2493  712  1671  1869  2564  2563  289  499  2553  1495  1570  1461  285  2054  2255  2502  2581  1881  1693  1481  318  1636  2139  1385  1338  873  1273  1513  1846  1944  2317  1718  610  2141  328  1122  880  552  2162  2754  1170  2637  1164  978  1827  1545  2499  1412  1386  2419  1569  1714  1175  1374  513  2070  1420  1699  589  782  1302  1466  1978  2457  2584  412  2461  621  2763  264  516  231  550  725  1590  1903  1609  2136  1613  786  1479  2183  2653  2836  2058  2254  1767  2145  213  794  2004  908  2085  1705  414  1076  1447  2765  1509  1956  1089  939  102  1393  2736  2024  1459  2848  2617  2840  280  1611  1743  601  917  251  561  2651  2084  2573  2722  783  731  2777  2271  2809  1146  840  2483  649  501  1230  1700  461  948  574  1328  2803  2418  2444  776  1135  1635  1822  1372  566  1872  55  586  462  1410  2726  1626  1892  1133  2681  296  789  2120  344  2140  2506  2325  2665  2710  1299  1527  1952  1257  1210  1471  1686  1833  2229  253  256  1610  2130  1680  212  1408  2159  1317  1542  1857  2422  2082  1240  2415  1264  2841  2188  660  2048  970  250  2575  2700  394  1628  596  2200  2372  1322  1575  729  793  127  858  901  2715  1349  851  2828  1619  105  1  1547  366  1804  1840  2434  2570  1868  2395  2838  1722  1033  1634  379  1137  2660  960  2197  273  2479  1179  693  152  488  829  1043  998  821  857  1777  2039  2116  902  2605  715  2017  1976  291  1555  1742  2595  1077  1394  2075  2215  2636  2243  19  2823  2023  2811  846  243  2606  1599  1842  427  1275  2291  1525  676  1696  918  2594  405  1425  1497  2508  108  602  1315  2670  1716  830  1465  1432  1350  2152  2404  1262  2227  2785  370  1674  1128  593  1775  2641  400  1793  935  1049  1253  1220  1541  788  1849  1911  1989  2128  2844  956  1832  2107  78  1657  1850  1638  2347  818  372  407  459  1011  1297  1457  1839  2343  2442  2465  2585  2757  2339  1688  2628  817  1652  1811  1847  1083  1153  1755  833  1951  1093  1363  2675  2000  1227  518  2703  1171  1540  2647  235  916  1238  672  1823  2725  2316  1796  290  650  1493  1679  1855  2016  1984  2804  1770  1399  1359  373  359  1065  1567  777  1356  2101  2150  1582  2244  2762  1528  2025  2521  1994  2781  1091  2775  2288  426  1267  1211  2592  1206  1037  2448  2494  2770  2485  2842  1434  295  293  571  884  955  1204  1538  1707  2105  2246  1736  775  764  575  1246  2292  2652  2727  805  1019  2100  1177  2184  1734  695  600  1559  1187  1554  262  689  1602  1802  2232  2269  2296  2565  338  1115  1436  2156  2122  2686  1308  634  653  1782  369  988  1020  1728  2012  2321  1856  377  68  2390  2610  2782  1751  2706  360  486  530  85  1407  1462  1595  1377  2352  193  2299  2558  2353  894  1044  1380  1404  675  1926  1114  2586  2678  1439  356  2007  2198  2774  323  2790  635  995  1005  1675  1163  868  1644  2375  774  406  1919  2379  652  2459  2619  355  219  367  1243  166  2687  959  1291  572  1883  1157  1054  2751  816  286  2707  444  2074  2522  1099  1244  2669  1383  524  541  854  588  346  915  86  1402  2261  2164  1663  1414  1731  864  229  1351  2312  1342  2512  2149  303  2123  1907  442  883  1970  1492  2051  2489  1009  2472  386  510  613  781  2240  813  537  2462  947  437  1125  500  804  910  2820  1866  2242  517  2697  615  431  812  878  928  1025  2165  2435  1658  2622  340  402  632  1711  2098  2640  2208  1733  2018  476  618  629  666  1390  1366  1101  2260  1986  2784  371  1896  2453  1305  2832  1035  73  1615  1392  2030  2135  2761  53  1036  580  1535  2531  1453  2772  2055  640  2786  2662  1152  498  1260  315  2440  1423  1690  1271  1473  1826  2313  2663  839  1600 \n",
      "C IS CURRENTLY: 885152\n",
      "doing: [1, 1, 1, 1, 1, 2, 4, 5]\n",
      "MADE SZ 2\n",
      "MADE SZ 3\n",
      "MADE SZ 4\n",
      "MADE SZ 5\n",
      "MADE OMINOS\n",
      "MADE DICTIONARIES\n",
      "NEED TO DO 273 TOP-LEVELS\n",
      " 1316  1249  491  464  1103  1000  289  74  1495  1566  176  285  1337  252  921  1189  133  975  1031  803  1442  563  1194  552  1170  1164  1544  773  534  1400  1116  513  248  227  605  782  1616  195  157  550  786  1479  1178  506  822  1370  681  1552  390  769  1076  1154  682  1089  1611  974  917  966  1004  877  766  948  776  1119  1135  757  495  55  1488  573  239  569  150  1184  512  717  175  1079  1505  1136  200  1017  1584  592  1411  452  172  314  492  1264  1573  583  1475  1100  475  1013  942  1445  1150  851  105  1  1172  226  470  379  639  1137  348  860  320  693  829  648  570  843  1182  902  1086  1499  1555  422  1159  1003  1536  19  535  663  751  1084  661  1321  602  740  1074  1026  1350  1006  1132  365  735  1312  1239  1057  1253  788  1313  741  956  375  718  1024  1014  1297  407  612  1181  1310  121  1058  109  1540  1281  440  673  1238  906  1493  1359  359  481  762  1332  1452  551  1586  493  936  571  293  884  1088  859  810  623  456  1624  1041  1115  1592  1168  653  1068  1020  1486  791  1560  85  170  798  1018  1380  867  1114  1185  199  796  868  669  233  406  1121  232  758  1294  959  1142  1109  539  286  943  460  263  357  1494  1096  67  927  1340  1342  1039  883  87  719  972  1427  668  613  1075  395  813  1259  804  404  1213  615  878  409  812  1551  1309  989  1140  618  666  1366  174  186  321  389  420  1305  646  53  1036  1514  1535  1046  1152  502  1423  1196  1271 \n",
      "C IS CURRENTLY: 1321184\n",
      "doing: [1, 1, 1, 1, 1, 3, 3, 5]\n",
      "MADE SZ 2\n",
      "MADE SZ 3\n",
      "MADE SZ 4\n",
      "MADE SZ 5\n",
      "MADE OMINOS\n",
      "MADE DICTIONARIES\n",
      "NEED TO DO 226 TOP-LEVELS\n",
      " 1113  712  992  173  289  31  835  803  1082  1170  1164  671  780  930  645  284  474  1116  685  412  447  353  555  984  221  1166  855  697  786  390  184  619  484  1094  294  162  548  240  429  980  806  514  1146  63  630  210  1237  757  66  462  909  573  728  344  787  747  1257  717  483  205  310  592  760  549  853  965  987  660  44  324  453  729  110  475  1013  942  981  1150  637  339  1  43  352  1123  244  273  183  522  860  152  118  1223  821  843  702  411  785  422  790  1159  968  688  1003  1008  177  759  317  163  1282  746  276  164  830  241  924  755  771  935  825  283  614  459  1011  433  538  677  26  457  823  440  607  337  60  332  481  334  750  1051  467  1207  674  1211  1098  1206  1037  627  493  469  577  884  1226  242  1231  364  707  695  689  920  1041  1255  1021  767  124  643  530  85  867  739  675  428  1071  1185  254  811  865  774  849  388  406  234  852  223  166  1222  1157  539  286  444  1244  263  554  588  531  1295  206  808  976  1165  613  684  813  437  1287  500  910  710  691  36  340  1263  792  807  319  952  389  1030  598  856  222  646  1176  745  983  841  1215  839 \n",
      "C IS CURRENTLY: 1508708\n",
      "doing: [1, 1, 1, 1, 1, 3, 4, 4]\n",
      "MADE SZ 2\n",
      "MADE SZ 3\n",
      "MADE SZ 4\n",
      "MADE OMINOS\n",
      "MADE DICTIONARIES\n",
      "NEED TO DO 69 TOP-LEVELS\n",
      " 329  124  530  85  66  512  342  542  199  289  499  323  247  375  31  285  494  175  479  266  565  223  265  26  44  110  554  290  1  316  211  455  43  60  157  195  379  447  546  264  550  353  510  376  118  383  404  465  469  36  411  410  560  497  240  260  262  177  317  338  485  63  322  438  449  480  496  276  164 \n",
      "C IS CURRENTLY: 1701788\n",
      "doing: [1, 1, 1, 1, 2, 2, 2, 6]\n",
      "MADE SZ 2\n",
      "MADE SZ 3\n",
      "MADE SZ 4\n",
      "MADE SZ 5\n",
      "MADE SZ 6\n",
      "MADE OMINOS\n",
      "MADE DICTIONARIES\n",
      "NEED TO DO 660 TOP-LEVELS\n",
      " 1760  2111  1333  2376  905  2308  1481  2351  873  354  563  2631  1327  1714  2009  1116  685  2625  1329  1479  154  1664  1821  2433  294  642  240  2671  2571  917  1512  2114  2207  461  148  1991  776  1135  957  1410  2325  1503  111  933  1201  2076  1141  763  1240  130  2700  2575  1968  2490  99  1349  366  1779  2302  736  183  103  1043  2650  1643  1276  982  732  911  2399  1003  2243  1938  846  454  191  312  1599  751  2380  1672  2443  2097  508  1074  2691  241  1072  593  654  2220  1055  1694  2347  1638  368  1381  922  1227  2221  1604  672  2316  1794  650  1984  418  2129  171  824  1973  1645  1496  1710  503  1098  1463  1884  2485  2290  1288  1548  707  497  1167  2184  1602  274  1922  2156  2426  97  1245  1715  1751  2706  1740  1437  2353  1926  1506  1114  2421  1330  254  1942  2545  2593  1898  816  392  1494  2312  1708  2123  2137  2520  701  87  237  1730  386  1988  2462  1502  2709  517  1691  2389  2640  1543  540  1875  161  1725  119  2030  2487  53  580  502  305  1325  1423  1690  1564  1248  1891  1261  597  2649  1218  1031  327  2555  1170  951  2056  80  1520  2505  786  2549  1558  1487  681  903  996  2024  280  1611  961  2645  2679  1293  649  1854  656  1820  1670  2441  2083  55  1579  344  483  1079  1610  1584  815  1542  2247  901  270  1619  1547  1467  273  1143  2068  1032  118  2361  1771  904  81  2595  1159  19  268  686  163  2704  1661  2508  2032  329  1242  1262  1128  2033  1253  2128  1304  1650  893  1014  544  1413  2095  823  440  2554  1679  2438  2708  481  1893  762  238  295  912  2519  398  208  2672  2100  1254  1838  1812  1554  1339  2321  643  1861  2110  275  1111  1005  247  1852  1121  2003  2537  2333  662  1334  1950  2504  1039  1078  442  1219  945  684  61  500  330  2622  409  680  1106  2531  714  1478  2303  1409  2630  1862  1953  1395  2065  2287  2139  2189  1556  1718  803  1819  2633  2283  489  2668  534  2310  2638  1723  227  157  2327  2340  153  2712  697  1347  2004  2185  1393  2370  429  1458  783  439  2454  557  501  2272  2167  245  2474  2211  1635  1468  1251  2452  2710  888  1787  1596  1278  2159  778  1857  543  583  1628  2590  967  141  1  214  1868  944  470  1108  1173  1923  2515  1504  1568  2017  1224  863  2374  785  2002  2215  2066  378  1695  657  2643  1435  1525  661  1365  1497  1341  1132  1775  1539  1561  1443  2568  1969  1403  521  2496  2329  1307  1363  2112  518  866  235  673  2330  1112  1764  838  599  2696  2521  2658  2538  2052  2654  1147  1724  1450  2642  1601  528  1231  770  1736  2652  456  2460  1734  262  2546  2013  2390  124  2629  1377  1217  1185  1483  356  1422  1919  234  2619  367  959  1291  1737  2008  651  993  2604  2258  1907  228  2051  1165  2240  1824  2263  2018  807  2453  2020  1438  2449  1176  1260  983  1196  2473  2478  2677  520  708  158  2530  464  1998  478  384  1047  1396  828  1280  1846  2688  1880  748  2108  752  645  1966  1302  132  2533  1590  725  2653  224  1360  769  1130  1975  1844  2431  1996  561  1258  877  1700  2509  1234  1872  2578  239  1892  969  1184  1470  1952  1210  212  310  1272  1408  1415  1531  282  1573  2357  1575  1885  2463  2160  468  2027  1045  196  576  1275  1282  2594  405  1321  746  164  1315  1190  2583  2574  1701  2193  741  159  448  121  1001  1623  2362  457  722  644  1477  784  359  1567  1582  299  1267  1749  1206  1586  469  887  1088  1707  1990  443  827  1361  689  1943  1526  2565  2122  879  369  1020  1021  990  1095  698  486  1270  1300  2007  796  1183  726  1139  2181  2716  223  2528  1886  434  1406  2286  2164  206  385  381  719  1427  1125  1025  2367  2543  632  1916  186  420  856  1717  1038  2432  2180  2346 \n",
      "C IS CURRENTLY: 1967352\n",
      "doing: [1, 1, 1, 1, 2, 2, 3, 5]\n",
      "MADE SZ 2\n",
      "MADE SZ 3\n",
      "MADE SZ 4\n",
      "MADE SZ 5\n",
      "MADE OMINOS\n",
      "MADE DICTIONARIES\n",
      "NEED TO DO 229 TOP-LEVELS\n",
      " 1113  1279  895  1249  215  160  464  1248  1050  542  499  1265  799  318  597  479  1124  828  1337  252  1218  1273  727  328  511  489  977  752  951  898  284  564  1208  716  326  248  685  1155  264  516  797  430  984  1188  1329  855  590  822  225  619  204  845  733  102  881  966  731  630  649  877  331  501  656  679  495  1324  55  909  1034  1007  573  962  296  789  1158  787  1299  1257  717  1079  205  1136  1201  655  1199  265  282  853  1264  801  394  453  596  127  475  525  1029  105  1  1063  366  1286  556  744  1022  226  470  379  352  1268  591  152  829  702  730  1045  902  737  863  688  19  832  454  535  759  661  276  108  581  713  1053  1026  1072  771  1253  848  788  283  1055  907  509  78  448  1297  926  1083  1093  885  1227  672  834  897  359  891  1207  1212  1206  482  1010  770  374  471  208  827  634  850  68  486  85  382  1018  894  867  739  247  726  194  669  865  849  406  994  219  802  166  749  336  572  816  286  263  86  1192  206  809  872  883  432  381  1023  719  972  1165  386  781  376  754  395  813  325  517  615  431  1025  523  526  504  1140  361  792  952  1305  73  53  580  687  640  305  315 \n",
      "C IS CURRENTLY: 2722700\n",
      "doing: [1, 1, 1, 1, 2, 2, 4, 4]\n",
      "MADE SZ 2\n",
      "MADE SZ 3\n",
      "MADE SZ 4\n",
      "MADE OMINOS\n",
      "MADE DICTIONARIES\n",
      "NEED TO DO 60 TOP-LEVELS\n",
      " 85  170  464  55  365  239  150  199  289  74  176  375  285  175  407  233  200  406  121  252  109  232  133  452  172  314  286  460  263  357  475  440  67  105  1  226  248  227  359  470  195  157  379  87  348  395  320  404  409  293  390  422  174  456  19  186  321  389  420  53 \n",
      "C IS CURRENTLY: 3111682\n",
      "doing: [1, 1, 1, 1, 2, 3, 3, 4]\n",
      "MADE SZ 2\n",
      "MADE SZ 3\n",
      "MADE SZ 4\n",
      "MADE OMINOS\n",
      "MADE DICTIONARIES\n",
      "NEED TO DO 72 TOP-LEVELS\n",
      " 584  68  306  241  491  85  160  55  365  384  199  289  527  78  521  253  318  308  538  592  421  219  265  282  166  452  572  539  453  596  552  327  511  489  127  541  554  588  86  425  105  1  206  607  418  307  359  332  417  237  522  395  217  152  302  536  304  364  507  102  497  371  19  73  380  53  446  358  480  331  108  602 \n",
      "C IS CURRENTLY: 3780644\n",
      "doing: [1, 1, 1, 1, 3, 3, 3, 3]\n",
      "MADE SZ 2\n",
      "MADE SZ 3\n",
      "MADE OMINOS\n",
      "MADE DICTIONARIES\n",
      "NEED TO DO 13 TOP-LEVELS\n",
      " 124  85  26  43  60  66  44  110  118  63  31  36  1 \n",
      "C IS CURRENTLY: 3828385\n",
      "doing: [1, 1, 1, 2, 2, 2, 2, 5]\n",
      "MADE SZ 2\n",
      "MADE SZ 3\n",
      "MADE SZ 4\n",
      "MADE SZ 5\n",
      "MADE OMINOS\n",
      "MADE DICTIONARIES\n",
      "NEED TO DO 217 TOP-LEVELS\n",
      " 464  131  391  249  300  384  173  992  74  690  886  921  1117  133  354  1060  819  721  951  93  716  1116  227  605  441  132  617  555  697  120  154  681  76  794  204  845  733  1076  62  1154  961  601  731  529  840  1004  649  656  766  638  55  150  1133  717  483  1136  1141  655  620  763  660  250  394  1056  1080  981  339  1  556  765  1033  379  639  244  183  931  1173  152  465  723  553  570  702  902  1086  196  667  19  1008  424  759  657  751  918  164  740  508  581  713  830  1026  1074  1132  151  144  735  1197  1067  893  448  718  372  612  459  696  677  820  700  298  350  890  440  585  622  834  94  115  607  897  777  599  332  299  891  762  363  627  1147  242  343  410  770  775  913  875  393  1167  695  274  262  72  338  1205  449  369  377  584  1069  1095  940  193  894  547  199  254  247  458  194  669  403  1121  234  852  367  749  83  487  220  263  357  524  665  753  1192  229  316  385  587  670  595  432  923  1023  87  1165  594  1075  684  537  947  1125  347  517  878  862  523  540  186  321  73  598  53  116  502  498  745  322 \n",
      "C IS CURRENTLY: 4031793\n",
      "doing: [1, 1, 1, 2, 2, 2, 3, 4]\n",
      "MADE SZ 2\n",
      "MADE SZ 3\n",
      "MADE SZ 4\n",
      "MADE OMINOS\n",
      "MADE DICTIONARIES\n",
      "NEED TO DO 72 TOP-LEVELS\n"
     ]
    },
    {
     "name": "stdout",
     "output_type": "stream",
     "text": [
      " 584  68  306  241  491  85  160  55  365  384  199  289  527  78  521  253  318  308  538  592  421  219  265  282  166  452  572  539  453  596  552  327  511  489  127  541  554  588  86  425  105  1  206  607  418  307  359  332  417  237  522  395  217  152  302  536  304  364  507  102  497  371  19  73  380  53  446  358  480  331  108  602 \n",
      "C IS CURRENTLY: 4754653\n",
      "doing: [1, 1, 1, 2, 2, 3, 3, 3]\n",
      "MADE SZ 2\n",
      "MADE SZ 3\n",
      "MADE OMINOS\n",
      "MADE DICTIONARIES\n",
      "NEED TO DO 16 TOP-LEVELS\n",
      " 68  85  166  160  55  102  19  73  53  152  127  78  86  108  105  1 \n",
      "C IS CURRENTLY: 5065413\n",
      "doing: [1, 1, 2, 2, 2, 2, 2, 4]\n",
      "MADE SZ 2\n",
      "MADE SZ 3\n",
      "MADE SZ 4\n",
      "MADE OMINOS\n",
      "MADE DICTIONARIES\n",
      "NEED TO DO 60 TOP-LEVELS\n",
      " 85  170  464  55  365  239  150  199  289  74  176  375  285  175  407  233  200  406  121  252  109  232  133  452  172  314  286  460  263  357  475  440  67  105  1  226  248  227  359  470  195  157  379  87  348  395  320  404  409  293  390  422  174  456  19  186  321  389  420  53 \n",
      "C IS CURRENTLY: 5152885\n",
      "doing: [1, 1, 2, 2, 2, 2, 3, 3]\n",
      "MADE SZ 2\n",
      "MADE SZ 3\n",
      "MADE OMINOS\n",
      "MADE DICTIONARIES\n",
      "NEED TO DO 16 TOP-LEVELS\n",
      " 68  85  166  160  55  102  19  73  53  152  127  78  86  108  105  1 \n",
      "C IS CURRENTLY: 5341781\n",
      "doing: [1, 2, 2, 2, 2, 2, 2, 3]\n",
      "MADE SZ 2\n",
      "MADE SZ 3\n",
      "MADE OMINOS\n",
      "MADE DICTIONARIES\n",
      "NEED TO DO 16 TOP-LEVELS\n",
      " 68  85  166  160  55  102  19  73  53  152  127  78  86  108  105  1 \n",
      "C IS CURRENTLY: 5361829\n",
      "doing: [2, 2, 2, 2, 2, 2, 2, 2]\n",
      "MADE SZ 2\n",
      "MADE OMINOS\n",
      "MADE DICTIONARIES\n",
      "NEED TO DO 3 TOP-LEVELS\n",
      " 37  3  39 \n",
      "C IS CURRENTLY: 5362109\n"
     ]
    }
   ],
   "source": []
  },
  {
   "cell_type": "code",
   "execution_count": 50,
   "metadata": {},
   "outputs": [
    {
     "name": "stdout",
     "output_type": "stream",
     "text": [
      "5362109"
     ]
    }
   ],
   "source": []
  },
  {
   "cell_type": "code",
   "execution_count": null,
   "metadata": {},
   "outputs": [
    {
     "name": "stdout",
     "output_type": "stream",
     "text": [
      "192doing: [1, 1, 1, 1, 21]\n",
      "MADE SZ 2 40\n",
      "MADE SZ 3 94\n",
      "MADE SZ 4 228\n",
      "MADE SZ 5 571\n",
      "MADE SZ 6 1436\n",
      "MADE SZ 7 3546\n",
      "MADE SZ 8 8409\n",
      "MADE SZ 9 18874\n",
      "MADE SZ 10 39622\n",
      "MADE SZ 11 76876\n",
      "MADE SZ 12 136217\n",
      "MADE SZ 13 217531\n",
      "MADE SZ 14 307864\n",
      "MADE SZ 15 378190\n",
      "MADE SZ 16 392525\n",
      "MADE SZ 17 332580\n",
      "MADE SZ 18 221076\n",
      "MADE SZ 19 111180\n",
      "MADE SZ 20 41288\n",
      "MADE SZ 21 11195\n",
      "MADE OMINOS\n",
      "MADE DICTIONARIES\n",
      "NEED TO DO 9297 TOP-LEVELS\n"
     ]
    },
    {
     "name": "stdout",
     "output_type": "stream",
     "text": [
      " 11163  4495  6928  9905  6380  1316  6265  5459  4473  5099  8312  4460  8805  1333  9934  4517  6757  3120  1671  1131  5335  9488  9911  10440  5342  6336  10486  74  1662  1265  4163  10134  6827  7551  2308  10458  1461  7237  1881  318  5251  2061  10396  873  1273  7250  8536  6037  3688  4300  6200  7514  9410  3093  5784  7807  6990  10269  4915  1791  2631  6583  7398  5551  5870  8075  5228  8752  1400  8686  3073  6118  8985  5822  10225  1327  10826  3624  8045  6764  4432  10388  9641  8648  7070  7264  1616  8563  10533  4392  8197  8421  10939  621  6167  6251  430  2251  1166  10374  1329  8058  10206  4507  1479  2396  3496  6699  7077  10965  154  7849  5047  6332  6938  8767  5279  2071  4390  4758  6731  6611  1683  5226  845  4150  6155  5420  2787  9341  642  4755  162  6803  4154  6889  10750  2671  9667  8634  4247  2103  6178  2414  2809  1146  3001  8037  2114  6592  9208  8252  5563  4269  9916  4793  1230  6220  776  6634  8284  8991  1324  8027  8547  3810  573  4224  3340  4584  1460  2867  5589  3597  3663  7466  7504  2325  8388  9760  90  3121  1527  7363  7756  9357  6538  7379  7705  1201  2933  5765  3432  1418  4706  620  10565  4548  965  146  1148  3629  4102  660  9657  4787  1985  5578  8205  7456  110  1813  6591  8666  2615  6775  4006  4601  8771  9161  9336  981  1150  6103  4534  6921  525  1029  6745  899  8064  366  2922  9446  5629  6904  2302  3495  1722  5829  10365  2277  4892  10889  5139  5192  6762  10414  7071  7960  345  5626  5164  8691  6176  6769  5395  2655  4847  7129  8601  2458  982  10630  732  8516  9106  5487  941  8794  10044  6483  2243  5998  6102  2811  4645  7927  454  8051  8404  8188  312  1599  9331  6988  9464  9263  6927  5953  5971  9991  2097  9360  3493  602  5305  9194  9551  5966  4436  1853  6630  370  5769  1933  6472  1887  2826  6018  5219  4340  7401  9438  9940  3193  4806  3404  7796  2532  5218  3164  2347  5423  5493  5004  8002  10343  9490  2932  5725  7471  8127  7053  10112  3508  1652  8028  9526  10561  3257  2888  2241  7738  3146  1563  4147  5571  9851  9085  10722  2647  9258  9077  9798  6567  7180  115  5012  5061  8653  1984  8119  418  9790  373  455  4316  9318  7629  9329  4403  5812  11055  11179  6408  3954  9802  1496  6903  426  8105  10164  8903  3003  9970  10057  6216  7424  2077  2494  6548  7806  2485  9778  3051  7074  10296  3035  7479  8940  914  6311  859  2290  7677  10351  2572  2727  5481  471  5902  5941  4321  393  9944  3258  7178  10676  2184  4628  6480  1602  6624  5633  8088  10436  7818  2269  4538  8498  2093  9240  8288  5397  10005  9094  1522  3558  9401  1858  5354  1430  7485  8558  9447  2831  2999  3460  1751  1560  1740  9402  2236  3332  1018  1044  1926  10242  4325  2421  1114  2976  4035  2154  8266  8702  1607  254  628  3188  5774  7381  3291  10330  2168  1134  4661  11220  9885  4001  2245  5100  10879  9375  10140  8850  2079  3114  10932  5965  7000  166  2687  11001  4054  10422  8901  7076  2301  10557  2219  3343  10502  286  6117  7709  6727  6753  7154  4060  4910  5658  5757  10617  6723  3823  126  3746  6950  4556  7312  4245  10381  10677  10003  4981  9276  8097  10154  303  2123  6522  7254  8704  10105  10122  594  386  8439  1530  3669  6066  11103  1213  4385  2697  4024  7431  6160  1691  1698  2527  7553  2962  4858  8832  10577  1309  4733  11139  3815  98  4551  7104  10512  2901  666  7637  2212  1875  4978  1896  3564  10400  5321  73  5215  2487  9788  222  6523  11014  687  2566  4319  10968  10818  498  3030  8209  4937  10523  7447  1826  3522  4980  5232  6714  10279  1629  7664  1807  8561  3403  6410  7209  391  7003  6956  207  9554  4928  5968  10878  5720  8665  1565  5916  10177  3685  6026  10636  3289  5345  7951  4577  5090  10494  3789  10959  7522  625  4520  6980  10118  1129  8310  9887  10646  8925  4519  7826  4468  3894  4249  5972  10455  3583  10143  10224  1060  3593  4693  7797  1797  780  951  7511  11073  8396  8531  5860  2851  6221  7898  1879  6640  9912  326  3182  1420  10051  7315  10211  2064  4246  6962  8325  4273  5605  6660  8743  8537  9476  3615  4148  855  4930  9841  7348  1517  7704  1487  4562  6085  4846  2319  10089  2587  7731  5847  8185  143  3745  1447  7930  9387  3613  4627  8871  5752  548  5183  11203  2840  7601  2968  2651  3771  5828  7798  7886  3700  6060  2679  8581  8111  8619  1250  5464  6017  1825  3390  6059  8504  9534  9967  9170  656  1820  2960  3350  2803  5632  8911  10944  9087  4199  2249  7284  1579  2632  7556  2822  8593  9921  7770  9399  787  6404  10641  10317  747  2893  6104  6860  9461  10184  4567  4726  6966  1471  1963  7043  1498  1610  10931  3990  1120  2536  10997  6851  1542  3540  9333  2795  9234  6999  7446  2415  7803  10810  3166  6230  6994  324  6015  7191  2200  7917  3794  8952  8914  9840  3813  9436  8334  10769  4372  7046  4466  5439  5714  8245  307  6648  4292  11183  5575  5154  9319  7682  4077  2068  1032  2398  1323  10447  10861  4057  2116  10650  11189  3812  9472  7787  100  4655  7213  8739  1555  7718  7950  10266  5946  790  9177  1346  4894  268  7440  8412  8923  8050  2746  5069  9653  10131  1732  7197  2291  10141  9039  4880  4955  10918  108  1105  3494  9815  7631  1262  3848  3609  9185  5268  3772  10480  6605  6329  6879  9054  6643  788  1285  9999  5253  5217  494  3023  5518  7353  7565  7649  106  2465  2618  5137  6964  2620  3606  3952  10993  4457  6284  2959  3800  2856  1153  4098  10459  10752  2794  4863  5418  350  6570  9583  5477  3992  5074  6271  9279  10980  9613  834  3157  10524  1679  5519  3934  3449  6057  8092  5471  10506  9457  337  2101  60  3261  2544  1277  4117  5325  2567  1051  1893  5671  5710  7057  7708  10720  4924  7666  3704  7128  8140  3638  10983  10482  1785  4779  8214  8662  4873  5522  936  6415  8126  6414  2857  10216  4953  7785  2246  5356  189  2147  7489  398  5465  5163  6837  896  2965  2100  3055  4650  7908  10706  5304  10390  11006  2801  8406  10900  10398  11036  7515  1649  6787  9477  8645  5256  8685  10361  5490  7727  3201  9182  5379  2311  2427  7929  5798  9016  10142  9941  10284  10794  4869  3243  8042  2939  9753  2656  1380  3128  9358  9719  1439  8428  8309  7763  7678  9512  8376  3656  6601  5834  7609  7509  2379  8168  7685  1243  3130  3020  4662  1480  2891  2751  10038  3382  7319  9100  9924  6357  3925  10276  10432  3304  8145  4229  7120  45  4412  4225  1402  954  4896  5853  6171  7467  6128  662  1334  3115  3975  4800  7847  7865  7966  8020  4041  9615  11008  3366  3973  1039  808  2149  4785  5670  6080  7510  7616  10208  10600  442  2489  4125  10830  7957  9253  1075  4255  10550  2685  684  3057  10055  5660  4341  5906  6571  3054  862  3202  4424  9964  870  9686  2666  7755  4023  11089  476  629  2887  8892  2118  3776  7142  7272  7711  1030  6398  706  1104  2761  5327  5505  9303  10248  7182  4640  5957  4864  2303  7614  8578  9307  7519  10364  8615  5456  10250  7185  7802  4353  7878  4678  2109  5434  10525  3407  11180  4047  2305  1805  6481  2780  6457  6374  8152  1000  8172  8030  3983  1570  7080  5653  2094  2808  4746  10185  5275  3585  2139  5997  9722  445  5230  835  1376  6541  10594  7232  3962  727  8776  2141  1819  2748  4802  5045  49  5684  8804  8456  9638  10451  552  7027  10166  11124  2635  8807  8948  4857  5553  7560  7276  3306  3891  5801  6446  7607  2638  7923  3219  5473  4642  5020  10469  5521  1466  6836  3299  10783  6712  5102  264  4254  3161  4580  7030  4297  984  221  10245  153  4908  10587  6056  579  590  1370  11066  619  3878  8778  4943  3081  7164  2185  4833  1089  3951  11211  2370  5094  1945  1458  9731  4653  2084  8673  149  439  9797  8517  11154  6213  1729  7667  2087  9919  10074  6844  5005  8612  8924  2954  2412  5731  210  2211  7267  4093  1635  5389  7575  6568  8018  6661  6372  2057  10730  6039  1726  2810  9274  2710  9578  8847  8497  4855  1890  6644  9741  10344  3632  6609  1405  2501  5252  8102  175  5964  2031  2517  9936  1278  6495  10472  4982  6674  6826  3251  543  4264  4305  9835  9502  4883  10425  6145  7403  3831  4560  6751  4904  6054  9398  10331  9448  793  1574  4635  3210  9301  4277  11017  4113  4237  8816  7389  8474  7021  10349  6419  4361  5067  5756  6703  6957  9579  10657  3987  3611  1123  10095  10116  9469  10970  5874  6229  1186  6315  9819  829  10535  1504  7579  1568  1777  7799  2955  2497  2017  4382  4582  3851  7961  7478  7671  2215  3991  4387  5062  9738  9751  2066  950  3031  5601  2606  6364  9772  5166  3165  123  2363  9984  1977  3105  9727  9842  3804  6392  8969  5974  6677  3138  740  581  10077  1716  10707  10745  532  658  1350  4616  3665  5467  7673  11172  4716  4178  8803  3517  4143  6901  7033  5810  1132  3242  4069  2958  771  4754  8736  8000  2568  1989  6111  7655  7824  9673  3136  4127  8882  10159  2523  5242  5833  2382  4962  6399  2468  7697  2585  2889  2268  2855  3641  817  4853  5523  4622  5080  8681  9044  10028  9267  4135  9619  138  2112  3447  4369  703  8904  292  6266  2717  4762  9212  692  2330  8292  9700  6690  6248  1112  7608  5776  1770  3697  3933  9242  2244  5224  7075  6435  1518  4718  11047  1156  5296  3895  4877  1962  6427  2538  4449  10581  11104  3438  7980  6373  1016  7078  11125  1913  2642  1601  9651  626  364  8017  6133  1180  6602  8377  9499  9948  9663  623  5236  1388  4738  4334  2460  6915  6436  6286  5705  262  2546  92  7368  8840  2455  6261  4128  10612  5707  4075  10947  8367  1843  1902  3359  5691  2852  6016  6779  5736  8484  1828  9794  8106  10663  5472  791  3729  6476  6533  4709  4725  2067  2629  1377  3781  4878  6418  1028  4764  1773  4206  5167  1071  6919  1422  3543  6896  7268  8238  9779  458  3684  4691  1675  1476  4431  3899  4029  6735  3206  9449  233  1709  3787  1919  10129  2619  7350  3970  6726  8680  10894  3602  5411  278  8272  3112  8403  9745  4654  7187  64  7829  568  6391  4588  8603  1397  7698  444  257  220  2304  4045  9421  7931  6780  2676  4797  5092  5872  864  5875  10100  6817  6405  4826  1424  3634  2466  8405  7059  2373  2326  2472  7304  4210  6235  6895  10682  4484  2713  437  5535  10217  11018  5652  3683  878  6542  5196  10778  340  3314  6395  7270  5222  11110  4144  6577  4668  6566  7833  371  4821  6847  5856  9818  2088  2832  7749  7877  9870  7063  3976  116  6432  7360  3548  7231  6366  3621  1391  5276  10379  1630  1774  10998  1964  9990  9973  3437  895  5903  8631  8535  8326  491  3283  5066  7158  9139  7067  6341  5414  8956  1103  2563  5398  2599  7337  1534  9716  8638  6493  10193  10471  2044  1047  2054  4936  946  8594  6502  828  1859  4216  5951  9219  4408  8014  9946  10157  2029  8636  2191  328  7387  10529  6628  1912  2994  9992  9396  3726  9207  6742  4261  8734  9598  425  3874  4124  7997  9143  10764  1175  77  311  4188  10387  605  4901  8200  8551  1681  8425  4106  4288  1389  5113  550  10212  11002  6300  3046  2425  5929  9215  5103  5546  1178  8959  2058  10647  2254  1882  225  9803  2899  5841  7527  3048  204  8447  4343  180  8920  1975  9511  8156  2869  4031  6531  413  10311  4252  8728  806  4170  4963  4192  7885  11130  3736  2829  9661  877  9090  5509  948  3872  10048  2639  8843  6608  10495  5984  6748  8285  10520  10854  7736  10087  3568  4464  2332  9697  9204  4518  6738  3977  1470  6456  9836  6573  4443  9002  9091  5531  1833  4766  7220  717  1145  1686  3167  4220  7134  8575  212  310  6496  3042  6036  9954  760  8995  6055  11205  4572  6746  2938  4558  10485  8430  1573  3664  9886  8275  5112  9895  9926  10433  11045  5042  3352  3819  6856  8387  3763  8170  9878  6975  4600  1804  6685  7605  7759  1022  6053  10167  10086  7174  5780  43  6908  1033  4889  6684  3324  1137  104  1268  2470  6158  7855  999  8809  2160  7729  9540  2979  919  7840  6998  3018  7196  2695  857  2846  8248  8510  1318  5506  711  5701  6849  8810  291  3169  4952  5932  3883  576  3061  281  2023  10156  1667  578  4694  4916  10456  10403  8939  2328  8255  1721  8963  10862  405  1321  3547  2386  3673  5229  7095  7251  4637  3223  6049  10853  5617  9381  4760  1269  1416  2917  3364  4263  925  4684  9238  11033  11210  8694  5221  1562  1874  2964  3225  1793  7439  1057  3793  7800  10908  8263  3941  611  283  2982  8083  1850  5179  5350  2492  2411  5031  10544  3880  9227  2983  9484  9855  10362  109  2226  4639  7469  7146  3141  9293  10945  8201  5693  4660  7906  2196  6543  2000  5512  9001  11113  4359  8330  3556  6245  1238  8224  8443  906  1493  4792  9515  2086  5309  3198  7971  359  3465  6658  8635  1687  1622  2231  9754  9344  7977  8253  3515  7817  4121  198  8493  7435  272  1037  1586  5647  10949  2978  6354  8232  469  3045  7652  11202  3207  7473  7973  6389  7423  7724  8915  3345  7127  9241  9696  10092  9975  1752  8726  443  8239  4824  2410  6489  7972  2232  2556  3178  1526  2565  3004  8391  3089  8851  9767  10171  4279  10467  1747  2686  1308  9162  9486  3953  5376  1501  7595  1021  1728  4312  8544  2837  9479  9857  990  10288  3205  11068  4472  3659  698  8574  2005  9473  2678  2350  42  8654  9414  9614  5852  2733  5744  1300  9627  7949  4485  2297  4903  9557  811  2507  6534  9113  11003  3574  4798  3329  3618  2375  4161  6162  1139  6249  3514  4842  6201  7347  6639  10739  69  5977  10503  351  2206  4477  572  5772  9883  1886  4965  2378  3921  4082  8520  3176  1383  6912  2028  3123  4301  2261  7574  8521  7300  4222  8780  5669  8852  385  4304  4934  9024  11035  3911  7546  6460  923  10785  10305  1427  4957  8590  10875  1125  2331  1931  1081  4508  6122  8413  10214  7624  9562  8453  812  2543  10340  5802  3968  5450  8258  6926  1012  5809  6217  1916  10473  8755  11129  186  7658  420  6958  8420  1035  856  7512  2408  7619  6259  5333  7397  1038  9047  9637  6959  6356  7918  218  3785  10758  9244  6068  10597  1090  4130  4811  8186  10553  9424  29  9408  2812  7748  10461  2564  8588  8527  6454  7054  2376  3826  11013  10479  11042  4427  5746  8714  6272  892  2502  10162  10658  5310  4156  5317  9367  11061  10992  9487  9860  8605  3598  4411  4715  2835  6367  7316  5502  2648  9839  9339  7573  1451  10103  1194  880  6507  6688  7932  5844  7045  671  8154  4479  5894  2886  3397  7902  5650  4339  5357  8133  8346  8409  5043  284  8607  6501  9266  6312  7321  10004  5743  685  5869  8067  4122  7825  9097  5446  10835  8670  7166  5862  5124  6334  10765  5297  5169  7289  7313  9503  7694  7249  4701  71  5363  9330  7065  7484  5655  1127  1664  4377  5281  1821  3377  4719  5837  8839  908  3331  5526  7458  10301  11095  8229  4781  1795  6547  294  606  4005  4732  6504  10733  10772  881  8741  1959  261  4747  9130  514  10649  4471  8384  1358  2207  4849  10023  4071  10496  9470  957  4682  9787  9048  10777  4109  586  4400  6914  2674  5096  8071  8919  9901  7535  3524  2701  10966  5973  1158  6886  4740  5388  95  236  6443  111  11109  1598  2210  5560  7956  7939  1505  8066  4823  9951  11147  1924  3780  8098  6247  1876  2524  1199  763  5988  7483  7941  9974  6347  3876  6820  9593  6862  3212  3119  8579  2053  2490  1445  309  5755  10828  2996  1349  11044  4171  10020  8199  3864  2186  6100  9000  3481  7663  9073  736  591  8898  6322  3497  103  9430  4313  5792  10802  2491  6890  6402  7112  9124  730  1719  9576  6387  8697  4207  9843  5261  7859  5351  8007  10293  6631  4276  1003  7219  1536  3110  3950  4186  4421  6494  7762  8742  10170  846  10734  8094  1677  3942  9069  5003  1672  10884  918  8598  3466  1946  10911  4856  508  1368  2691  2113  5049  2698  5907  1763  1444  1608  8295  4136  1072  654  11219  4299  6210  6765  7198  11038  10651  8731  2035  5503  7534  9629  9600  5044  10236  10281  718  6033  9837  818  372  2991  5882  8331  4948  4984  7068  8753  4720  9724  3549  8793  2115  3027  5642  279  9590  2541  6301  3406  5657  7905  4428  2675  1191  10838  3220  3908  11136  4439  5323  3349  9371  10151  10175  4546  8307  5796  963  2872  1794  650  8821  8893  3040  8358  2129  4501  6296  9565  9174  7723  1829  750  2089  8826  3719  11197  1091  178  8390  8522  10071  4126  6784  1098  3926  8675  2559  1884  9527  9635  2609  2998  3566  6004  2627  8125  9998  5085  9409  4133  10386  4234  6105  9758  9662  2903  10265  1177  3107  10475  1748  1559  274  1073  5330  3770  8533  28  10430  2156  9442  634  2821  1449  584  9575  1757  6511  6464  7372  10891  2344  3484  39  2199  2021  2352  3767  6346  6633  8265  8355  58  3469  8318  9744  9907  10046  739  6424  9769  10197  10634  2179  6529  5613  7233  7236  5584  9108  4055  2400  9521  3346  8472  9666  7195  5088  3274  8519  6425  4164  421  5441  6146  7453  9848  7022  3525  2518  8945  10431  5269  2406  6843  5982  7754  8044  3936  7406  8423  10049  10709  11085  2914  10971  6108  8930  3889  1233  3389  587  7746  3501  7790  1708  1656  7935  7713  7216  7408  11091  2520  1492  5514  5764  5945  10322  1730  3010  668  2127  9985  1988  2081  2462  9958  11140  10808  6513  10724  8329  5197  6650  4483  7273  4019  3978  7979  8841  10006  8076  10373  4187  1603  3260  2389  6096  2098  11079  10625  1543  2293  3368  5567  8553  792  5609  4064  9730  10072  7194  598  7441  2135  3488  3832  9621  10097  3309  6839  5211  5721  745  305  4120  7433  1325  27  1690  10194  10667  6991  9313  10926  6044  7707  6294  8806  2779  8477  11050  3859  4172  7909  3227  10437  2467  2239  542  10408  4511  8700  10526  11080  3999  4145  8086  3905  6127  597  1636  1454  33  3546  2673  2649  7204  7292  8812  9351  1218  2860  1031  6888  3660  6351  3226  7945  5959  7620  2555  6293  9900  230  1412  7253  10353  10857  7867  3577  2956  8499  4765  5182  9780  10501  4969  513  8418  3852  1699  1216  4250  11181  2461  3125  5312  3651  7097  10465  6946  1188  7852  10047  401  2919  7544  847  786  1613  1814  3453  7386  10735  822  1354  3865  2218  8457  5422  8748  8895  9384  10073  10036  903  6431  9115  4959  10796  4947  8301  9833  11034  7505  9441  4315  9546  1094  6384  2138  5682  6945  7354  9364  8460  260  9217  7946  5976  10033  1174  2573  9586  9782  9602  4482  438  1614  3510  6651  4028  1971  2616  3639  4674  5142  2131  8967  7758  9290  6242  7695  9353  699  1372  9325  5382  55  7821  1589  10325  694  7635  2423  3452  709  728  3709  3457  5706  2144  6474  9096  3385  9302  1745  2405  6761  7776  9879  2644  483  11141  4702  6487  10518  2552  9831  6861  10710  4585  4236  4868  4318  10872  9599  3993  452  8682  3916  5666  6811  9933  6604  10138  10654  8235  9908  3143  192  729  6382  7901  10286  6084  8797  3427  3648  10104  7537  3959  4149  339  7028  9081  8864  10940  10404  2248  9466  5277  5867  1027  3091  1917  1485  379  1934  5597  5246  9190  3575  9746  10198  10262  8782  9570  4589  5908  9636  6370  1606  7301  648  570  821  826  4320  5700  10927  9618  81  3710  7611  5115  1343  7186  4228  5558  9422  1851  3554  4326  5172  5831  424  7199  2356  8532  9707  9813  5478  8324  8690  1084  5603  8640  2704  2508  861  2760  3104  3479  9898  8270  10161  4118  10543  6692  924  1128  4481  5002  7883  5628  3705  8947  1239  10107  3855  1253  7085  10243  7744  10678  4921  8829  1067  1832  10831  9463  7419  8824  11171  6211  1979  3033  8029  8104  9340  8716  9209  3881  8478  6087  10411  6666  2628  7588  3363  10836  10936  5475  3414  2890  3966  7018  8299  5898  9084  6563  8465  5712  5799  10209  7880  1888  10960  3245  10176  3122  8426  10595  6330  440  5466  622  6526  9861  7016  7987  5534  9606  101  6557  4478  6679  2708  5864  7967  34  8846  11160  11132  467  1431  238  2155  2936  674  2592  6816  7072  8195  8215  9412  7436  9517  5267  1092  9643  5050  7480  8231  775  2797  9118  1815  3986  4074  6841  6664  5751  5189  805  8196  1019  8114  1254  10984  2611  8416  5987  5120  9425  1812  3092  3713  6874  10982  10552  2195  11029  3365  8149  7850  2579  3263  4048  653  5817  3818  8021  988  9617  362  5656  8251  8348  3605  5328  10155  1595  6065  2929  3589  7291  9668  9687  5501  938  10488  6166  4836  3906  8321  6313  6917  7864  247  10571  4700  6032  6159  631  6400  2880  7375  1852  403  1121  7580  6148  8354  3063  9151  994  3732  10941  9243  4788  9533  749  4575  6597  2537  1198  2314  7258  7336  487  3037  8775  541  7474  7193  5857  753  1809  9976  1482  4918  3701  9388  9519  3645  6288  1529  6707  10903  7773  10754  5815  1078  743  546  6870  7282  11148  4843  2904  4768  1048  10759  3834  8994  8183  11072  2622  4949  6401  4394  1711  7257  11022  2026  9612  6973  11153  6773  2784  8792  6508  9299  1986  4613  3319  4442  4287  423  6151  9611  7086  315  5673  9759  3805  10111  9968  1279  3997  9699  5445  9963  5618  8808  8557  9116  4989  3229  9122  1953  3600  712  6019  10601  2047  6051  7105  4724  4522  8308  3803  8765  4804  6222  1232  2255  2287  7298  4932  779  11192  10880  4081  1718  10895  6121  803  2014  2633  3551  10551  10788  11208  5663  6368  819  "
     ]
    },
    {
     "name": "stdout",
     "output_type": "stream",
     "text": [
      "8006  10257  7205  4393  1816  2601  3378  9196  9683  2668  1544  2499  4535  5238  9864  10308  534  2310  5528  4420  3430  4739  559  10223  5486  5586  2070  8910  5845  10798  2806  2584  515  4217  157  8687  5681  5789  5762  6022  8342  9680  4741  7567  4523  2712  7052  10775  2136  697  5104  8096  8220  7650  6450  3927  2949  1746  10800  6710  2402  4032  10753  1965  3039  1154  2342  7044  7600  10511  4384  6199  10240  10182  3221  9164  10059  6556  3748  7039  6791  8283  2963  8417  783  8202  9858  6386  529  63  472  630  9720  8009  557  501  8236  10892  3132  6320  8799  2262  2511  2542  6478  6662  10999  1119  1591  734  10389  7038  10278  11088  2946  8796  5735  150  8115  3011  5542  5201  10255  9037  8973  4283  8764  2814  9391  4586  7343  9825  9413  5923  10873  7786  3538  1292  9548  9017  8724  7892  1982  9308  4731  1628  8813  9223  9811  5482  8122  2238  7701  5114  2945  953  8831  6250  6225  3533  6258  1769  9928  8684  30  7365  4050  7263  3643  2434  8281  9220  10109  11207  8660  6819  91  8059  2500  8380  8897  9362  639  10662  6314  3766  6809  8203  6381  6845  10025  10609  2336  4652  7962  6174  2598  3998  8866  9283  10222  7202  7346  10018  9804  5576  8679  6075  4282  4371  7765  10726  10898  1224  1499  140  4456  785  5214  6156  6940  1077  5739  3604  7639  8751  9452  10183  5193  3937  7306  9105  5838  177  759  8518  10834  427  10675  1435  6759  8745  3282  1921  8564  9698  6202  1341  10656  4699  9119  756  10684  10871  1561  3731  11121  1541  1937  8528  5130  8297  5890  3838  825  6188  3646  78  5602  1864  5587  3145  6680  8862  9712  10369  5550  2339  3086  4529  4583  6074  10933  2878  10345  8112  10832  3553  518  7593  866  2771  3049  4244  10792  1754  10527  5419  10950  3478  40  3100  3211  3777  6992  9923  10642  11064  7627  4256  2940  891  1784  6353  9735  3619  1452  5210  10298  2052  842  4683  2320  3208  4784  8546  884  1778  4510  7024  11193  1344  7719  7925  2942  246  764  4727  10043  2069  3798  7764  7910  8622  8737  5850  6306  10626  7845  4834  1734  4590  2815  5421  4593  5645  8084  5257  6114  8438  10592  2013  2923  11146  10681  2390  4780  1507  5352  9350  3739  6303  4444  267  3840  8857  10621  10509  1462  3425  6172  798  6850  2755  7042  2774  2790  5039  768  6327  6469  1665  1185  9277  8441  3044  8929  5734  4463  11155  4610  8604  194  3502  1002  3591  4131  5593  7692  234  2173  758  5072  5141  3512  2866  1142  2282  1605  533  3281  10816  1620  3637  10560  2008  651  1867  1948  8721  9167  993  3506  7938  9543  9865  9953  4643  3850  6830  6730  2604  4850  5579  4644  6290  8591  7812  8511  9856  9902  2358  5913  7820  10132  8628  7113  8047  8243  10751  2439  2858  179  3636  7060  8070  4689  8315  8786  10606  2001  9082  6331  4358  1658  5286  4226  11004  989  4200  1685  7621  7393  8592  9801  519  5793  7069  1263  8296  1364  9173  9539  5383  10661  4677  8900  10045  4344  3791  4502  9710  10870  2588  1438  1311  1516  9832  4488  7481  7875  8890  5447  4796  3686  4942  349  6646  7425  1196  10123  56  4209  8313  839  633  2478  1113  1772  1249  7137  6953  8464  8723  464  1998  4116  3117  8193  8060  4820  5627  9587  384  9704  3217  5915  9206  6485  10363  4598  4818  10333  1429  8703  479  10839  10548  2688  3867  9256  9947  10275  6575  3362  4085  4618  6434  8364  9326  10728  5148  3535  84  3456  738  5557  6073  5760  6783  7390  2741  5106  9078  5641  8333  9523  10702  11009  11083  6565  9827  10039  4705  6097  645  5402  1790  4293  564  6871  2182  4450  5497  6807  10583  1978  3017  4157  5604  5980  7465  8217  1720  6687  9689  4290  11105  10974  5010  1903  6324  8538  2910  2974  4455  6524  3720  8374  1552  8881  9393  5917  3192  76  224  1360  8432  7051  213  9292  7324  2393  769  9423  4977  414  287  9892  10150  11182  4346  6470  9184  10517  7539  8671  7175  2720  6393  6409  9282  4419  5808  5191  6515  2824  2791  9764  9969  1258  8054  1353  8880  7984  4486  4213  6140  9471  2444  2941  8100  10083  6937  8986  3265  6622  10008  4177  7602  8908  5160  2908  9250  10252  6729  1299  1455  139  1960  3750  4983  3518  3579  1952  2576  4838  6806  6822  6893  5480  8633  9717  10542  2436  1272  1408  3072  6101  8345  2953  9493  5332  4386  3224  6257  4914  4607  282  1860  1904  2972  1214  4296  4669  8912  3393  9338  9972  10290  7857  4110  801  5178  8015  2728  2990  4512  6072  6170  10173  2646  2561  6183  6801  4890  9498  5438  10060  10312  2409  5159  3601  5738  4815  5692  8877  6273  2570  10468  10755  7597  8340  10289  6981  7422  8352  6379  4859  6865  6209  6447  10851  3199  2041  604  320  3956  1236  3572  5713  4049  1768  4452  6465  6701  998  3836  10967  2171  4402  7981  702  9332  6971  7953  10282  11000  10341  1225  6808  7548  6448  3521  7823  8814  5865  10056  11143  9648  10227  2338  277  3230  1519  8894  8968  10013  10813  4611  9056  2594  746  4335  164  4196  1792  4579  9023  9045  2152  5426  2049  2785  10774  5924  136  9183  9765  5131  7299  342  2193  3562  9345  10366  9121  2514  7896  10153  6766  7385  926  8068  9806  3353  5583  10858  10380  3948  4011  3080  3355  4381  2209  3131  2078  2362  457  3256  3779  4860  3348  5008  6291  9695  10935  836  4067  4884  8225  9983  6799  10067  2235  8906  3185  7737  4065  4897  3142  5348  9868  1567  2898  5732  2407  7081  1298  299  8573  7699  7881  7107  4854  1980  1799  6842  571  7940  1266  955  3565  9894  1010  5912  9009  1345  6859  8817  505  3369  3247  8488  8907  5326  10040  10394  8668  10902  1361  5199  3539  10791  11070  6274  9229  3499  7922  7338  11046  8134  5287  9389  4728  10244  879  7989  8632  1020  4004  2610  5963  1486  4405  6872  7130  7598  4295  6437  1069  4092  1306  1235  2705  5778  6878  7582  7468  7982  8582  8770  10035  1066  6082  1936  193  2099  3448  10716  7774  10727  6179  5644  7290  7651  2198  3631  4233  7536  8151  9582  8830  2813  4742  7247  10842  10115  8597  9374  6369  7752  9014  9808  223  4354  8486  3761  1883  1378  8732  1928  4380  259  3053  5680  997  1099  3594  558  1837  2286  4068  4180  665  6589  4089  9639  9881  4414  4317  7165  1731  8756  9136  5975  2512  6113  7710  2387  7037  7794  9300  5646  432  3971  8458  3740  3321  6000  8501  10054  4774  1474  3232  3561  6468  2242  3237  928  5082  2488  4336  2475  2435  3820  6270  4713  8385  7985  5590  6439  4597  7841  4183  2742  4469  9516  5782  4530  10712  6739  8617  341  6490  1110  6238  10881  2928  3047  5432  8983  8583  3892  6492  9230  6749  6846  3644  10925  2663  7017  6345  6700  3194  1760  8791  306  10820  4621  9927  6421  9761  9873  7356  11092  11145  8191  9420  7361  5950  8708  3170  3180  6719  2553  6482  8514  5636  3064  8874  4073  10196  9652  285  5993  8800  9392  2420  1481  5444  2885  8487  2351  1337  6929  10664  2882  5773  5428  7594  6884  2597  3490  975  9168  354  5622  7670  1929  7418  1082  9796  10099  2162  3200  9285  5936  10803  8365  3126  117  5216  6038  9317  3386  3509  4629  9456  1588  1714  3841  474  2009  2951  4489  6092  9321  8971  9591  3286  2625  3661  4599  3246  4310  7278  4568  9035  7766  10669  9518  10228  5023  6922  1446  353  3007  2730  7943  5059  3445  8555  5240  79  4162  10849  1331  11213  5056  6882  10670  2773  107  3825  5011  2765  8343  9197  416  3500  4911  2525  5084  8207  2547  3480  10559  10972  240  8372  9356  974  8204  10893  4697  7073  3472  10948  6298  6027  6672  7781  5013  11011  7394  3376  7657  9239  10299  5843  5108  2613  1097  5781  9869  2664  6689  9459  6362  10180  2539  5248  6307  8244  11101  5385  7444  9547  9989  8481  5302  3843  5083  6824  9766  9297  8277  1503  5266  6397  8256  11094  8509  3979  4667  396  6147  6009  3821  7460  7532  4413  1017  2661  1141  592  973  10532  7498  1873  3487  6951  3786  545  6135  4671  2700  1062  9979  1968  7486  4871  7013  3482  8625  6046  8678  8177  8337  7314  4201  6099  5156  8692  7349  7492  2132  556  5186  10267  7334  2767  4900  7954  128  5233  1417  6207  6569  522  3451  5979  931  8095  7377  152  742  4407  1043  723  4591  2650  6641  843  1643  2170  2359  3398  3735  6008  9732  2384  6588  9981  8837  9337  2075  5198  7596  3060  6396  10253  3160  1938  8935  1008  1274  8136  10070  8706  663  446  751  11058  5098  9067  5944  9524  9684  659  2416  10823  3216  3312  5132  1465  2323  10782  3900  241  9852  9820  197  4845  5688  7333  7031  9715  3738  11167  10068  4810  848  10598  4500  2947  4940  1786  614  1694  8150  612  7151  4714  4462  433  5665  2634  1107  5406  677  2747  5235  9020  3454  7890  1381  9545  4119  2090  4973  2203  6717  2221  7181  8089  10567  1540  4182  6967  890  958  4350  6484  7318  8677  8332  916  3754  672  9623  1906  94  2213  5374  8148  9693  4307  7757  9211  3016  10942  4814  5717  3450  4425  4492  641  9135  2252  6593  8079  10882  6246 "
     ]
    },
    {
     "name": "stdout",
     "output_type": "stream",
     "text": [
      " 9255  9679  4970  1211  551  8842  10001  2117  10822  3702  7540  10337  4687  3420  4968  5823  4017  3374  7122  1209  3070  7683  3940  9553  9494  5960  707  3680  7135  5742  8979  3098  1759  2580  6276  6613  1802  8216  11010  11015  3271  6536  4376  7407  2915  1922  3623  3938  1115  8053  9628  9939  7294  7501  1782  1252  2975  2403  8643  9132  10781  7804  377  1245  4039  6083  9288  2010  9117  1437  8849  10158  3534  4656  7928  5134  867  5208  4861  5401  1506  6796  5204  7502  10690  11161  6365  9536  9581  4525  3854  9799  3932  8798  1644  2988  4670  5194  5454  7998  7032  6887  10093  10102  4710  7283  6488  3799  8366  3253  9187  35  7612  8363  6182  1571  816  5396  2707  6197  4476  1900  4902  5468  6420  5704  7084  1831  7252  7590  9228  9826  554  9980  10964  346  10620  7266  8436  10287  8025  5110  3272  8223  3790  7976  8187  3668  3387  872  8166  8476  237  10799  8530  9426  613  6595  9817  10921  5443  11126  7760  5824  11027  517  6923  3523  4311  5457  5904  6932  949  1551  7173  1580  5283  10570  504  2640  5340  7303  4913  4505  7399  8467  9482  3358  7286  10648  1713  9995  540  5116  161  952  5588  10215  11175  3443  119  2030  7500  5541  1514  3228  580  10975  10221  9675  640  10478  502  9978  10261  10896  3140  1423  6877  1271  7783  8452  4773  4985  6881  8611  4876  9195  8609  6828  8087  9846  1532  249  9334  5495  5448  173  6193  10417  7789  10493  10579  4647  1735  3301  6236  7036  10174  10618  4090  6902  2177  70  9013  10410  886  1385  3036  6428  3375  4663  1513  7248  6955  10326  7411  7739  10019  2557  4324  10058  11134  7114  4553  6219  10683  10002  3240  327  7225  6652  7167  773  1545  9133  2178  5479  7990  720  2056  4453  4926  8401  8887  8974  9008  1955  8120  9610  9871  248  1520  11043  2935  8429  447  5187  8117  7287  5820  5143  5814  7434  217  6278  5417  6891  1830  4434  506  6144  120  1558  5249  7224  9564  11019  1767  9834  3833  5344  6527  10302  2085  5158  2437  4664  5608  6705  996  5943  5054  1459  2969  1355  2617  3734  4865  4979  6741  961  7690  4034  10230  251  6282  10464  10912  7558  2859  10324  10737  4638  4365  3742  649  4988  9561  1854  5954  6863  9777  2418  7430  9850  2280  10863  3266  7049  5440  6137  8130  3328  7606  7828  8999  155  569  3254  7654  1625  6579  9867  2073  10864  8855  3288  9346  10738  10144  4513  1576  929  8211  3961  2513  2548  7858  7717  9181  10693  815  5899  8431  5264  11120  5849  10256  9372  8822  6163  9218  3147  3888  2827  11131  2247  10628  8630  4882  1322  10580  2759  5433  9660  1800  1080  1806  647  137  8928  8989  1547  765  1448  8463  6704  10238  10652  10064  11133  9987  10186  5539  4396  7234  1143  11076  4533  6894  3388  7642  10125  10487  4743  4704  4874  5689  8657  4166  5362  1182  3428  2605  7550  2595  3944  5213  8953  10555  10352  10427  3462  2986  3326  5378  8976  243  6477  535  2927  7900  1612  317  8035  8360  8661  9785  676  3622  10179  2190  1425  4497  5271  5093  2498  6772  10909  2032  10655  8820  8580  3822  11086  2924  3360  5939  4323  755  3236  2450  7775  1312  144  735  11116  8466  6333  400  4564  5761  4620  7371  8085  375  3025  7529  1024  4578  5895  5071  544  6233  1310  3603  4437  2757  8613  8623  3557  7147  8978  8174  1811  11177  5868  6466  7079  7339  7861  7897  10359  3489  3439  8922  5800  823  1823  2554  6340  5556  8772  9509  3154  3473  4990  10383  11108  6897  11209  3006  6873  7959  9102  4581  481  4506  5173  5825  6499  9296  2781  10639  2775  7628  3050  7025  2607  3869  8576  11123  8827  11204  5375  3134  4909  7162  10360  4181  9213  913  5573  4042  9514  4675  8306  1762  5260  695  1838  380  1554  8938  6983  8182  3610  9369  10207  10844  4375  7006  4012  1697  4898  1995  7712  10725  6035  2011  10807  1384  7116  7734  2012  5747  8449  6736  68  2799  2950  10428  4608  4770  7525  7740  9252  275  9495  7259  382  724  3467  3592  5610  2299  6463  9718  7660  5876  6411  547  1111  4594  5785  8475  3862  199  7050  7008  5365  5507  3463  5207  6952  11112  3642  669  3077  7870  11168  406  5559  7004  683  2223  5520  7970  8198  232  4617  7848  5463  10540  3958  8982  5598  6949  83  6444  6528  3097  3373  8302  3924  4175  6132  3148  7382  8865  10370  2074  2333  8936  4946  10633  3796  10283  8860  4808  5846  1192  4657  5403  8496  2355  5775  9880  2369  8081  4891  9066  595  1023  6328  6794  3871  8480  7561  3773  10973  7638  7888  10937  5722  2267  61  6550  4285  2820  3863  7860  1489  1761  3012  4132  2165  7832  8164  8955  3024  6864  4397  4440  7490  5585  6866  9945  9672  7221  2783  8286  772  8905  10052  10405  2551  5258  10602  2133  10740  5391  4958  8249  3435  3124  3285  4975  2038  8276  8693  1106  2222  8980  9692  2091  9792  10463  1152  3483  3904  10264  2289  841  8268  2040  1215  7325  3672  4401  5494  7207  3678  9004  7691  6069  9010  10371  1050  1889  4763  7429  7507  9405  3559  4267  7102  7659  4137  9608  4280  11102  10629  8221  9866  1899  6029  1617  3267  799  3280  5029  2481  3423  6112  5129  6805  7007  7364  8454  4454  252  4504  6021  7648  8316  9245  5715  1556  4389  6659  9631  3620  6906  4907  2283  8323  8744  4052  4189  5985  2744  6596  8933  9630  4257  3808  3907  8279  7445  8305  716  6519  8024  7242  2270  5821  2693  1587  1155  7720  7212  8802  2327  2763  5678  10901  3218  4839  10797  9640  10335  6285  4013  3470  2769  5887  4079  390  8470  10987  2004  484  3396  4302  2394  5537  5900  7863  1956  9059  9395  1393  5805  8052  2721  5928  129  88  1743  5952  9786  11178  9893  2722  937  8434  3828  6455  1456  2454  5091  2272  4487  6275  7822  5017  4559  6126  6560  1822  9529  9584  8556  2259  2977  3405  9281  9597  6190  8650  9918  10241  7831  5336  3400  1787  4332  8663  9877  4008  6262  2159  6900  8262  3491  3090  1411  4363  9889  6378  1264  4633  7055  10229  10358  9359  970  6337  10329  596  11096  7239  7610  967  4211  4748  5307  7633  8585  9658  7518  7988  5301  3103  2714  7309  9800  10976  2395  3584  9756  10126  3939  2833  4566  7138  8560  3922  9549  5637  9445  1108  5001  9645  1923  2515  10172  3041  5470  488  7963  3356  8785  9007  3155  8896  10443  4676  5703  10204  10850  2250  1954  5893  7688  11037  1909  2684  863  2374  6045  1742  7750  9231  11099  9838  2002  4570  560  688  2237  5319  1673  6119  8954  9650  5545  2397  5695  4544  4561  2643  1256  5399  5914  11087  358  8471  4342  11135  1696  1766  661  9528  9938  10907  8489  2006  713  1947  8179  6064  10867  4532  4430  8074  6984  3203  365  7978  2863  4205  8267  2659  9929  4545  4875  1443  6578  2148  4996  1969  6458  10515  3671  6252  10554  509  4626  6343  521  10233  3162  5771  1464  1181  3313  10977  9854  10674  1058  6094  9507  9433  4020  7554  10866  11082  8944  1083  1307  2819  6150  7491  8124  2265  8392  1363  1997  9530  9771  7317  5107  4271  4088  235  3129  9306  971  3873  10210  1647  1855  8875  2734  4795  1065  9289  1764  3571  838  8062  4266  2696  4711  9481  2025  4753  7391  1994  10575  3426  3300  6267  1200  2921  7771  6383  5981  6598  9028  7815  8942  1147  5038  11053  10258  5393  528  410  1736  5716  4337  7275  2925  1246  1810  4104  4059  4658  6081  7310  837  9015  11156  7091  5241  979  1203  3596  8165  10300  10729  1205  10666  3528  3824  10500  2205  7779  7124  1651  1915  7904  3721  7351  8870  11028  10489  360  3172  5661  6943  7516  9932  6005  894  3459  4208  8568  11081  9971  6107  1483  6970  6728  3095  7778  8300  3173  1646  6093  1932  10957  52  2230  2364  2459  5740  8773  6974  9750  367  10619  959  336  3923  11217  9665  7222  3802  8240  6713  6350  2278  2816  9550  5631  2870  524  1974  854  588  932  67  6763  6287  9068  7630  10205  11170  4027  6838  8513  10742  4927  4474  4409  10011  8278  7769  6939  7669  8508  395  10085  9956  3013  2060  7188  6283  6670  5933  8128  8696  6281  6335  3856  6539  10688  9705  6376  3383  10990  11201  526  3835  9179  9478  9734  2208  7869  9328  10521  399  2295  11196  5803  3560  10438  3241  10254  6264  1221  2020  9305  1336  9052  10790  7159  1046  2036  2153  6052  4496  1260  7088  7153  2873  5212  7009  1600  8506  2582  5881  7581  8886  9287  9439  9343  7011  520  4917  4805  6067  5925  4778  5807  10584  4286  1557  478  8158  3764  8733  1495  2997  9592  6116  3255  9254  7689  7157  4242  6012  3617  2756  5265  490  7722  8759  5144  5416  3152  7320  165  10848  8099  5291  133  1678  1880  4634  6317  748  8571  7087  5153  2080  6645 "
     ]
    },
    {
     "name": "stdout",
     "output_type": "stream",
     "text": [
      " 2876  10946  2637  8760  11107  8784  5498  10320  8960  752  6823  9703  8176  9949  3788  5492  1569  1373  7837  8341  2337  2830  5970  1727  1750  3778  4828  7703  1302  441  3099  132  3175  3204  4703  5596  2533  231  725  7277  6590  7061  10747  3005  8129  5425  6813  2653  2183  6412  302  6289  8616  10962  3214  11190  7795  8113  1087  2981  1593  5311  7229  7517  8844  122  10314  7506  8790  4355  1509  4966  6800  8815  10419  9247  9295  5711  601  3259  4061  4107  10888  731  4070  5767  9074  3674  6510  7920  331  10643  2776  1700  5619  2509  3429  7121  679  5580  7047  7374  4155  1872  9147  9633  3068  1357  3616  4374  1626  3183  969  1133  2881  296  6228  5859  6514  5272  6875  8347  8709  6675  9845  5451  3334  10914  3186  3984  6138  10538  7170  1210  6241  6521  5848  7809  7226  705  5795  8065  1415  4893  9093  265  5635  2216  5955  3662  6041  8683  5316  2388  5640  2372  466  1885  3875  1013  10685  3667  9246  6061  7200  11127  851  637  6734  9781  744  3809  4270  10399  4429  4721  5209  2729  9129  3424  10806  11114  9763  11106  10714  2660  9774  8823  9812  9046  6232  9681  2930  2027  465  6348  8548  10860  6642  5582  4021  4212  10304  737  1086  4345  7136  1660  3310  7177  7547  7549  3153  11071  196  9383  8141  2614  6924  7618  7410  7730  10809  5223  6125  6131  7344  9959  5364  2279  10705  1275  3882  1282  2163  1641  5053  7969  4097  5811  6638  1190  8943  5879  2583  5562  8957  4197  9455  10814  1776  3028  8618  1674  9394  9567  4708  8162  8584  1701  5719  1987  1220  1284  4221  1313  741  6587  7370  10490  5177  448  4467  5935  8695  5247  2343  459  5883  7508  5804  2158  10736  2503  1847  2214  6375  8440  8554  10195  833  298  3325  1001  4134  4615  6972  10795  6954  5510  722  7392  9875  5174  3690  6995  5651  1706  2447  9571  9789  644  5484  10746  1477  3238  6770  784  1162  4757  6442  7150  9092  9114  10110  10821  10514  6709  6960  332  10098  7523  5931  4169  2879  10920  7889  5896  1749  4491  5552  10291  482  10492  10232  5840  10770  3714  6215  5675  1335  6512  5958  6825  10996  10090  6194  5033  7995  8641  7805  11052  5254  5648  10402  5190  689  1943  2626  8227  4072  7743  9193  4352  10499  5111  10645  1314  369  850  10528  9273  2266  8411  8602  7768  2596  4465  1935  486  8946  11216  3287  7488  1270  2586  8234  4357  9647  8559  9822  8109  5105  2007  10668  796  1352  11057  6010  1553  9475  9859  5126  2034  9257  9589  3795  2181  865  2716  5737  388  3021  7155  5331  10106  7034  7144  9062  991  6479  7211  7432  6795  3890  2092  8206  8539  11023  8540  7646  3113  7733  1967  6985  3184  7285  2522  3504  10824  1244  7417  3032  357  1406  4348  915  5136  7645  10168  6212  5205  10376  206  927  4749  1340  3305  2142  4096  8883  670  2984  6832  9585  1659  2902  4537  7777  9577  5830  7921  9909  10840  5620  10260  11031  1259  9320  10415  10163  804  910  4146  5324  691  6441  5687  7056  2884  1025  2367  2766  6516  10065  6047  5991  10062  9323  618  2260  7396  8407  10773  3969  8542  2417  6195  6619  8992  9729  1717  10703  10615  2432  9018  9382  8383  9140  2346  2907  4867  9566  1473  5052  1704  3513  5123  5672  5055  9011  9708  5543  6857  2111  5185  10319  7203  4547  5162  9508  5996  6139  7163  5476  7362  905  176  4809  3711  5889  4817  10686  4398  10582  7543  10695  10032  3308  11007  3929  2284  9191  2805  7732  10922  1845  4954  5568  1442  8459  3109  9706  563  4848  6963  3213  2735  8825  10315  2354  4707  4912  8524  9678  2562  2172  10187  11051  721  10079  5313  930  5458  7747  1195  1386  10624  10989  7426  1144  1116  6867  7851  188  7530  1835  7269  7827  1871  8468  10190  11026  9419  3887  5322  7661  4159  4129  6673  6792  7839  11151  5779  8444  10731  5524  9063  4174  6342  8494  184  1780  2145  4614  9172  794  7103  7895  733  1705  4812  7066  10391  5577  4987  5572  8369  4832  1426  2862  2732  9920  7092  6910  3059  966  5064  10429  10589  1102  2777  5768  7451  1512  3195  10771  840  6071  10412  6535  4571  4632  4956  6123  8090  10270  11030  9233  461  148  10929  1991  10481  6907  1135  8350  3156  66  8061  5863  1410  9791  4931  6546  7968  7801  10393  9830  3327  844  6394  9120  9022  2624  256  2737  8614  2045  5854  8389  9171  3797  565  5299  9506  8157  2082  1240  6997  549  135  2841  6581  7271  8171  3716  2575  8698  453  1100  4851  7179  8789  1247  7101  9314  10988  3058  3608  8437  1286  3914  4972  5839  8485  1779  5527  10280  7679  8446  6621  1634  9169  10484  6982  9733  9988  348  2204  9897  10348  7330  3520  6277  3965  6752  7623  1348  3842  8144  6665  1276  1484  5405  5696  3446  11097  5649  4680  1976  8664  9407  9711  10904  2875  4115  7019  7459  2636  9773  667  911  1618  10007  795  5694  8667  5836  6540  2324  832  10691  8958  7328  8339  191  10378  8368  7413  8719  4331  2443  10963  9676  6933  276  8507  8769  3756  4259  5625  3279  1798  3753  6062  8147  10385  10235  2752  10717  6462  2682  3159  7617  9671  7119  8139  1369  9150  6363  1049  2849  8495  1375  3691  5884  956  5184  1055  8512  4040  4461  4822  1638  9810  5758  2257  7842  7874  1739  4681  7714  8269  2985  4539  7409  8502  3323  3666  6129  8970  700  2778  5109  609  5614  6691  7378  9903  8981  922  1227  7260  2703  3347  9006  8596  5927  1604  3989  5150  1228  10439  4515  2316  1796  5654  7455  3885  10231  8264  607  6996  171  5697  6848  5749  6909  6944  6584  7014  3963  5873  334  8921  9888  3505  8950  1645  3928  9688  313  1463  2845  10673  1801  2591  3587  6459  577  7753  8361  113  293  3955  9922  1538  1637  6855  8899  7331  4009  1925  6106  2292  3149  8699  8146  11128  5930  10786  5685  4801  7171  10590  7577  3658  1118  9962  1624  8951  7814  8932  2426  7792  10537  7586  8462  1715  8142  10741  4790  9965  2706  3920  8586  9036  4729  2558  4961  7912  2353  2758  5431  6840  5920  333  11162  1957  3747  5290  10744  6130  7420  4142  8250  185  3273  5816  8155  8713  1594  9294  9664  1738  11056  6371  11206  849  10697  266  2022  1942  5730  1927  5855  10698  10978  9019  10757  2593  4274  1898  5871  3127  3682  6407  7622  9309  3163  5770  6626  1494  2413  3635  5273  86  9270  10453  3317  9033  2913  2312  3655  4769  7297  5346  8926  7521  9075  1682  3474  6876  7716  5353  2839  701  87  3215  6120  1502  8395  947  11188  7089  3964  4717  6254  7559  4997  5947  1059  3311  9793  6834  5289  1101  1992  1725  10259  1939  3744  8754  1392  6196  9157  562  10513  4422  7427  8845  3806  9752  10466  9031  7302  9863  11025  3576  9649  8763  6976  2348  5741  8078  3982  6831  1564  6268  8811  10042  5361  134  215  1248  3411  5708  8118  5436  5607  882  4417  10133  10012  499  201  3985  2967  1818  7497  8422  10574  876  5118  31  1981  3996  1401  7326  4241  3886  7449  9411  5532  3910  2749  11118  9874  1189  1117  2345  8853  5750  2317  4383  473  9740  10943  1490  8567  8828  7584  9434  1170  5019  10556  6941  9453  8222  1756  11174  3652  4995  80  7934  6013  9262  9522  2989  9862  3431  9435  412  10024  3415  3630  2146  5453  10460  5337  9721  9467  4044  5270  9624  6552  2549  2788  6240  8137  9237  1668  9284  11041  167  8375  5455  7118  8159  1076  2920  5285  10031  4258  8651  8246  8917  3370  7830  4960  1611  3715  5338  5380  6007  8063  761  6616  8884  3930  1293  7428  5095  463  4552  3341  7415  9225  6829  1870  7082  10623  2451  4974  1508  9982  2441  3730  6683  3079  10956  2083  4364  5561  1983  5664  4906  6582  7854  10452  2681  5787  2140  8381  10776  2877  7340  2365  8902  4771  1654  9311  9552  4648  5358  5089  10498  5569  7149  205  1161  1584  3408  7190  4410  269  10549  492  10671  65  4514  6740  44  10029  1056  4094  10274  6979  9849  270  4114  5728  7005  1367  9268  9776  6430  1619  1840  10718  7192  7332  800  3758  6682  8863  1467  2702  3336  3507  7352  5962  352  6934  10979  6255  8033  9131  38  118  8218  1223  553  3743  6623  6110  7443  9083  9101  2750  902  2874  5989  715  1771  7944  411  4499  5485  6733  9432  7991  9997  7810  10146  4722  10338  3706  8735  10342  10910  8834  5060  4349  9520  8777  4215  7834  9354  686  7235  3935  5181  3106  163  7999  9390  8658  1053  7615  4786  89  1242  5308  5390  8669  4807  9622  10442  6310  2033  3468  4516  5339  8280  5999  9814  10268  5427  8259  10825  3699  7513  10815  3981  1583  1841  4569  4294  5699  1808  6737  6760  10375  9952  1413  26  4251  10578  8562  10672  387  5698  7230  8861  1281  9616  3008  7023  7015  9058  2725  9574  10219  2804  3316  10377  2516  3988  8483  9315  4404  7741  10426  897  5513  1356  6358  6028  2560  9406  10868  5225  762  4000  7876  7913  5377  10644  4141  8854  627  1585  3536  5777  1877  5606  1226  3588  4239  4214  242  5355  7583  9040  810  2519  8189  10418  7632  11169  575  5897  9904  6706  208  3475  7169  4003  5942  10113  7643  2952  3653  3760  6854  9199  2119  1168  2482  2569  4730  8290  8320  1339  8402  3567  3725  5592  5639  7274  8717  643  3550  1666  1861  1521 "
     ]
    },
    {
     "name": "stdout",
     "output_type": "stream",
     "text": [
      " 4203  2110  7894  4002  8715  46  7366  9572  6359  4935  3298  7020  7715  3775  3530  7745  9642  995  5538  8180  10015  5006  7578  10761  6892  10805  2003  5018  6561  8587  852  8173  355  2948  10145  187  8525  3762  8031  1149  3333  6349  539  814  1371  6002  3718  4540  2669  3741  10679  4173  2911  8730  9259  8859  7454  1414  7132  7557  8433  2504  2037  2680  3531  1342  4688  3094  8419  10272  8043  3698  6771  10434  6585  9368  4446  945  754  4803  8747  6785  3171  9961  8378  383  710  330  4923  8093  8233  2391  409  1914  2429  680  8738  10534  5263  4373  6880  7110  10448  5188  6599  7975  10061  7246  10694  3792  7279  1305  8181  1615  2377  5723  5200  271  2486  2531  714  3879  6989  8110  11005  7994  10200  1409  2630  5057  7156  1753  9656  5070  6853  9966  3807  5394  8649  4103  8435  5220  3728  6058  9145  5366  7345  2854  10313  2383  1862  9930  10906  300  11074  1895  5533  1289  8451  6925  10573  8175  7700  8289  8529  2063  3412  1169  8370  8722  2065  2581  10855  6244  6208  704  9080  4314  9853  2189  2868  10536  2723  5659  5835  1944  3915  4666  4167  3009  9747  1533  6390  10091  3917  1744  4602  6500  11198  489  8998  2995  6461  8984  898  3111  3151  8931  4604  7772  227  6453  195  3296  6916  6223  9609  2340  10316  5128  2740  8885  8975  6883  10318  11075  11093  1085  5384  8005  1347  3625  8003  11191  3931  9742  3733  7414  3441  8373  169  9198  8167  9914  11060  2848  10239  4243  9064  5140  7280  10588  6732  4885  11021  7161  6506  5412  9226  6001  9324  10516  2603  4879  6142  6134  2062  5574  1004  10014  5288  4819  7589  9216  8937  2157  2167  245  5861  574  3545  4459  8046  3722  8356  9355  5674  495  566  10865  8868  2961  6014  1007  7029  2692  2452  962  3367  6491  3555  8595  9496  9694  11150  7201  2471  888  3078  7992  7098  1257  4925  6671  9272  8688  6168  8344  308  4673  10336  8357  5413  4920  1317  778  1857  3233  3909  172  314  7926  5555  7457  8961  10905  4278  7329  4275  8545  4698  394  4695  7100  7223  7626  9148  9397  2590  4037  10066  10354  3737  5499  5662  5885  4399  6318  8304  141  1  7566  1511  4576  214  1868  5058  5611  9795  10147  2796  10608  244  6572  3419  2176  693  1173  2043  4951  7214  3303  7674  6253  6986  1836  3177  3526  2719  1918  7295  3189  3239  2253  9483  6413  9682  9910  8712  9378  6040  5940  9138  4950  4153  10457  3769  8228  5015  3187  7041  7702  9127  6725  1695  4367  5051  2535  2817  8450  2612  9104  6308  5314  8990  1525  9977  9189  4308  11158  10108  10435  3133  4595  9691  10292  10307  10640  1775  3476  1539  6003  7872  7131  2550  7924  10027  10037  10837  6793  7412  1911  3295  4829  7955  2107  10120  907  8049  8057  986  3056  6620  9450  1297  7307  616  1961  2329  5832  5948  7862  1688  820  7373  10593  8674  8672  3774  4623  2753  5000  1755  9076  3703  7570  4265  9404  7305  964  7884  4751  1789  5892  8016  10178  6361  11077  10762  1283  9474  3394  5165  3277  1865  3949  5334  4015  6076  8569  2798  9670  8740  10614  3817  1359  4330  5280  10114  2762  5554  2699  417  10406  9026  7761  2658  6157  1332  7782  4549  7140  7281  9159  10445  7937  8399  2654  6797  6048  6786  9925  10934  2589  7964  8996  1724  1450  5612  2228  3902  5797  6192  343  6206  7243  5621  4111  4679  456  7388  8260  5488  4971  6532  5442  6663  10951  3248  1436  4108  6292  9491  7835  8349  5683  3755  1068  8210  9535  8273  5077  7893  4840  8123  9235  10462  10732  767  10599  6471  4036  3694  9935  940  2793  10847  6549  10767  9160  9376  1404  1217  3717  8610  10611  10026  6520  8408  3337  6136  7323  4789  5986  9373  3458  6668  7090  6790  7123  7463  6214  9762  1669  7728  4557  2600  8073  1291  9060  3595  6708  8038  8469  2623  4659  10787  4151  408  10874  5034  7726  6553  9558  10213  3946  9144  7531  8041  9513  10519  8386  7115  10700  4026  229  4938  190  6905  5387  9569  10397  2802  5146  4362  6161  6754  7058  7684  5076  5063  228  3401  1165  5121  8534  9400  4641  9677  11176  1803  1824  9784  5634  10890  9913  2745  9186  9625  615  3858  4619  402  3391  6006  2315  5992  2018  3957  807  6518  1138  2201  5234  9327  4686  156  8004  1036  4230  5119  3000  1453  10917  1176  2341  10339  3384  5547  983  2313  6716  6545  5877  5135  7640  7218  2677  8213  9377  10522  10659  3811  160  1741  582  10050  5303  6617  8056  10616  4835  6750  7012  9348  9437  10470  8589  4202  3980  5381  3442  5409  8319  9531  10817  4232  5525  6497  9286  3402  5041  4062  2718  3434  3877  5783  6815  7376  1396  9291  7383  114  8473  1846  4152  9221  10508  4825  1122  5858  10766  9714  8101  2477  5161  9937  3897  3870  6977  5726  11214  8762  11117  9158  1303  1208  608  5956  9454  1061  1966  11144  3069  2944  5320  2711  6360  9844  9950  6629  2124  2909  3275  5994  3849  4596  4696  6070  516  3681  6189  7183  9342  4563  10310  10409  2275  8293  9149  10355  4231  8526  10246  8163  8577  1642  8621  10483  10763  9465  4772  3168  6720  3410  1863  3573  5729  7563  3626  8257  2175  5048  7126  9709  10665  939  102  4227  6835  9385  5117  2431  10372  4284  11063  6544  3708  5245  10449  3751  2483  9417  10627  6767  3974  5516  5623  7767  8503  9166  10958  985  1328  4844  4922  10357  1920  2916  1940  3096  4526  7462  4406  239  4007  2621  6778  2120  6804  9728  7672  9304  8317  10985  4776  9429  3101  8977  10566  10711  7686  6186  10309  9770  8294  8490  3351  2422  5180  3085  10421  5176  8711  2048  250  5244  8026  6433  7335  2357  7533  8034  9510  5255  5786  6695  127  934  7993  8523  9264  9403  10188  10444  9504  5911  5400  7911  2828  2764  1063  10969  5079  4193  8010  5452  1419  4475  203  2992  8889  2197  2479  9541  468  4524  6024  8328  5151  3019  3116  3361  8353  8848  1045  10124  11069  9312  9050  11159  8647  2335  9155  9674  11032  3679  3421  4543  2823  9347  4573  2957  1632  3519  4099  8833  7653  255  5278  2042  485  8414  3563  9451  1491  10721  5460  301  6263  1315  5934  830  1432  10160  2574  5766  8039  3614  8359  10845  3395  7813  5818  5866  2273  8131  8543  5147  8720  10699  900  3853  1197  3903  8541  5369  7470  7784  6564  9088  6868  159  3209  3244  8410  6858  8606  1941  9823  1839  1011  696  4123  538  5122  6305  121  6319  7168  3580  3633  2392  5306  10886  10530  1951  9057  10541  4886  3231  4470  6088  4445  1171  7788  10930  4624  5690  10251  9723  168  4105  10760  2016  4692  8964  6724  2934  3433  211  1399  1524  3014  4541  6789  7094  10203  777  5851  10635  1515  1582  10081  4033  9943  8655  9214  10303  10846  5643  2690  2288  5600  1267  7108  6295  5668  10084  5496  2897  8550  4631  3015  9415  9544  887  1088  1627  1653  3235  2667  11164  4574  3727  374  10088  1379  3570  3074  10041  9156  5630  8397  2296  600  1187  8878  2480  4493  5152  10080  2122  5483  9041  8132  480  3707  5343  6558  1597  6586  3418  2309  2782  8032  4881  8121  10030  1095  10135  1070  10347  530  5239  7482  8492  1472  1930  675  10017  6768  9361  9142  527  7172  9111  10591  726  4827  5748  8656  3250  2577  6388  10859  4791  10121  10165  4992  10719  219  5878  802  9099  2528  9200  3640  3440  8241  10704  10504  7395  7936  7721  4933  8873  3913  6667  4447  7256  8779  10082  10569  11040  10149  3174  9178  32  316  6755  5581  8867  2424  8766  6686  10474  3845  9123  9555  381  3599  6486  7585  1009  5967  781  3586  9021  2495  813  6445  9298  1287  9489  10546  9379  1866  7568  8371  8091  10981  5978  632  9749  6023  5284  1140  2298  4360  2151  4391  4744  7476  4646  5075  321  5508  9560  10924  1042  1535  3190  5262  1241  2180  2786  9386  4418  322  7914  2224  2440  6574  9783  7421  3076  9775 \n",
      "C IS CURRENTLY: 11195\n",
      "doing: [1, 1, 1, 2, 20]\n",
      "MADE SZ 2 40\n",
      "MADE SZ 3 94\n",
      "MADE SZ 4 228\n",
      "MADE SZ 5 571\n",
      "MADE SZ 6 1436\n",
      "MADE SZ 7 3546\n",
      "MADE SZ 8 8409\n",
      "MADE SZ 9 18874\n",
      "MADE SZ 10 39622\n",
      "MADE SZ 11 76876\n",
      "MADE SZ 12 136217\n",
      "MADE SZ 13 217531\n",
      "MADE SZ 14 307864\n",
      "MADE SZ 15 378190\n",
      "MADE SZ 16 392525\n",
      "MADE SZ 17 332580\n",
      "MADE SZ 18 221076\n",
      "MADE SZ 19 111180\n",
      "MADE SZ 20 41288\n",
      "MADE OMINOS\n"
     ]
    }
   ],
   "source": []
  },
  {
   "cell_type": "code",
   "execution_count": null,
   "metadata": {},
   "outputs": [],
   "source": []
  },
  {
   "cell_type": "code",
   "execution_count": 16,
   "metadata": {},
   "outputs": [
    {
     "name": "stdout",
     "output_type": "stream",
     "text": [
      "MADE SZ 2 60\n",
      "MADE SZ 3 148\n",
      "MADE SZ 4 381\n",
      "MADE SZ 5 1024\n",
      "MADE SZ 6 2816\n",
      "MADE SZ 7 7816\n",
      "MADE SZ 8 21586\n",
      "MADE SZ 9 58624\n",
      "MADE OMINOS\n",
      "27544  500 1000 1500 2000 2500 3000 3500 4000 4500 5000 5500 6000 6500 7000 7500 "
     ]
    },
    {
     "ename": "InterruptException",
     "evalue": "InterruptException:",
     "output_type": "error",
     "traceback": [
      "InterruptException:",
      "",
      "Stacktrace:",
      " [1] copy at ./array.jl:299 [inlined]",
      " [2] rem_vertex!(::SimpleGraph{Int64}, ::Int64) at /home/zachary/.julia/packages/LightGraphs/PPsyP/src/SimpleGraphs/SimpleGraphs.jl:111",
      " [3] check_holes(::Array{Int8,2}, ::Array{Int64,1}) at ./In[7]:11",
      " [4] build_conflicts(::Array{Array{Int8,2},1}, ::Array{Int64,1}, ::Int64) at ./In[15]:25",
      " [5] enumerator(::Array{Int64,1}, ::Array{Int64,1}, ::Int64) at ./In[12]:29",
      " [6] top-level scope at util.jl:156",
      " [7] top-level scope at In[16]:1"
     ]
    }
   ],
   "source": []
  },
  {
   "cell_type": "code",
   "execution_count": null,
   "metadata": {},
   "outputs": [],
   "source": []
  },
  {
   "cell_type": "code",
   "execution_count": null,
   "metadata": {},
   "outputs": [],
   "source": []
  },
  {
   "cell_type": "code",
   "execution_count": null,
   "metadata": {},
   "outputs": [],
   "source": []
  },
  {
   "cell_type": "code",
   "execution_count": 2,
   "metadata": {},
   "outputs": [
    {
     "data": {
      "text/plain": [
       "false"
      ]
     },
     "execution_count": 2,
     "metadata": {},
     "output_type": "execute_result"
    }
   ],
   "source": []
  },
  {
   "cell_type": "code",
   "execution_count": null,
   "metadata": {},
   "outputs": [],
   "source": []
  }
 ],
 "metadata": {
  "kernelspec": {
   "display_name": "Julia 1.0.1",
   "language": "julia",
   "name": "julia-1.0"
  },
  "language_info": {
   "file_extension": ".jl",
   "mimetype": "application/julia",
   "name": "julia",
   "version": "1.0.1"
  }
 },
 "nbformat": 4,
 "nbformat_minor": 2
}
