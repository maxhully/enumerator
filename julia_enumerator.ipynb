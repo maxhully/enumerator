{
 "cells": [
  {
   "cell_type": "code",
   "execution_count": 1,
   "metadata": {},
   "outputs": [],
   "source": [
    "using Pkg\n",
    "using LightGraphs\n",
    "using IterTools\n",
    "using DataStructures\n",
    "using Base\n",
    "using Combinatorics\n",
    "#use Pkg.add(\"<<name>>\") if you don't have a particular package"
   ]
  },
  {
   "cell_type": "code",
   "execution_count": null,
   "metadata": {},
   "outputs": [],
   "source": []
  },
  {
   "cell_type": "code",
   "execution_count": null,
   "metadata": {},
   "outputs": [],
   "source": [
    "\n"
   ]
  },
  {
   "cell_type": "code",
   "execution_count": 16,
   "metadata": {},
   "outputs": [
    {
     "data": {
      "text/plain": [
       "make_omino_set (generic function with 2 methods)"
      ]
     },
     "execution_count": 16,
     "metadata": {},
     "output_type": "execute_result"
    }
   ],
   "source": [
    "function valid_omino(omino,cont=\"rc\")\n",
    "    if 2 in omino\n",
    "        return false\n",
    "    end\n",
    "    n1 = size(omino)[1]\n",
    "    n2 = size(omino)[2]\n",
    "    check = zeros(Int8, n1,n2)\n",
    "    _f = false\n",
    "    g = Grid([n1,n2])\n",
    "\n",
    "\n",
    "    \n",
    "    if cont == \"qc\" \n",
    "        for i=1:n1-1\n",
    "           for j=1:n2-1\n",
    "\n",
    "               add_edge!(g,(i-1)*n1+j,i*n1+j+1) \n",
    "\n",
    "            end\n",
    "\n",
    "\n",
    "        end\n",
    "        for i=1:n1-1\n",
    "            for j=2:n2\n",
    "                add_edge!(g,(i-1)*n1+j,i*n1+j-1)\n",
    "\n",
    "            end\n",
    "        end\n",
    "    end\n",
    "    \n",
    "    for i=n1:-1:1\n",
    "        for j=n2:-1:1\n",
    "           if omino[i,j] ==0\n",
    "                rem_vertex!(g,(i-1)*n1+j)\n",
    "            end\n",
    "           \n",
    "        end   \n",
    "    end\n",
    "    \n",
    "    return length(connected_components(g)) == 1\n",
    "            \n",
    "    \n",
    "end\n",
    "    \n",
    "\n",
    "\n",
    "function make_omino(inds,dim,cont=\"rc\")\n",
    "    \n",
    "    p = zeros(Int8,dim[1],dim[2])\n",
    "    for loc in inds\n",
    "        p[loc[1],loc[2]]=1\n",
    "    end\n",
    "    if valid_omino(p,cont)\n",
    "        return p\n",
    "    else\n",
    "        return zeros(Int8,dim[1],dim[2])\n",
    "    end\n",
    "\n",
    "end\n",
    "\n",
    "\n",
    "\n",
    "\n",
    "\n",
    "\n",
    "\n",
    "\n",
    "\n",
    "function make_omino_set(cells,grid,cont=\"rc\")\n",
    "    \n",
    "   pair_idx = []\n",
    "    for i=1:grid[1]\n",
    "        for j=1:grid[2]\n",
    "            push!(pair_idx, (i,j))\n",
    "        end\n",
    "    end\n",
    "    ominos = []\n",
    "    for t in subsets(pair_idx, Val{cells}())\n",
    "        p = make_omino(t,grid,cont)\n",
    "        \n",
    "        if sum(p)!=0\n",
    "            push!(ominos,p)\n",
    "        end\n",
    "    end\n",
    "    \n",
    "    \n",
    "    return ominos\n",
    "        \n",
    "    \n",
    "    \n",
    "    \n",
    "    \n",
    "end\n"
   ]
  },
  {
   "cell_type": "code",
   "execution_count": 3,
   "metadata": {},
   "outputs": [
    {
     "data": {
      "text/plain": [
       "make_omino_set_qc (generic function with 1 method)"
      ]
     },
     "execution_count": 3,
     "metadata": {},
     "output_type": "execute_result"
    }
   ],
   "source": [
    "function valid_omino_qc(omino)\n",
    "    if 2 in omino\n",
    "        return false\n",
    "    end\n",
    "    n1 = size(omino)[1]\n",
    "    n2 = size(omino)[2]\n",
    "    check = zeros(Int8, n1,n2)\n",
    "    _f = false\n",
    "    g = Grid([n1,n2])\n",
    "    \n",
    "    \n",
    "    for i=1:n1-1\n",
    "       for j=1:n2-1\n",
    "            \n",
    "           add_edge!(g,(i-1)*n1+j,i*n1+j+1) \n",
    "            \n",
    "        end\n",
    "        \n",
    "        \n",
    "    end\n",
    "    for i=1:n1-1\n",
    "        for j=2:n2\n",
    "            add_edge!(g,(i-1)*n1+j,i*n1+j-1)\n",
    "            \n",
    "        end\n",
    "    end\n",
    "    \n",
    "    for i=n1:-1:1\n",
    "        for j=n2:-1:1\n",
    "           if omino[i,j] ==0\n",
    "                rem_vertex!(g,(i-1)*n1+j)\n",
    "            end\n",
    "            \n",
    "            \n",
    "            \n",
    "            \n",
    "            \n",
    "        end   \n",
    "    end\n",
    "    \n",
    "    return length(connected_components(g)) == 1\n",
    "            \n",
    "    \n",
    "end\n",
    "\n",
    "\n",
    "\n",
    "function make_omino_qc(inds,dim)\n",
    "    \n",
    "    p = zeros(Int8,dim[1],dim[2])\n",
    "    for loc in inds\n",
    "        p[loc[1],loc[2]]=1\n",
    "    end\n",
    "    if valid_omino_qc(p)\n",
    "        return p\n",
    "    else\n",
    "        return zeros(Int8,dim[1],dim[2])\n",
    "    end\n",
    "\n",
    "end\n",
    "\n",
    "\n",
    "function make_omino_set_qc(cells,grid)\n",
    "    \n",
    "   pair_idx = []\n",
    "    for i=1:grid[1]\n",
    "        for j=1:grid[2]\n",
    "            push!(pair_idx, (i,j))\n",
    "        end\n",
    "    end\n",
    "    ominos = []\n",
    "    for t in subsets(pair_idx, Val{cells}())\n",
    "        p = make_omino_qc(t,grid)\n",
    "        \n",
    "        if sum(p)!=0\n",
    "            push!(ominos,p)\n",
    "        end\n",
    "    end\n",
    "    \n",
    "    \n",
    "    return ominos\n",
    "        \n",
    "    \n",
    "    \n",
    "    \n",
    "    \n",
    "end\n"
   ]
  },
  {
   "cell_type": "code",
   "execution_count": 4,
   "metadata": {},
   "outputs": [
    {
     "data": {
      "text/plain": [
       "16-element Array{Any,1}:\n",
       " Int8[1 0 0 0; 0 0 0 0; 0 0 0 0; 0 0 0 0]\n",
       " Int8[0 1 0 0; 0 0 0 0; 0 0 0 0; 0 0 0 0]\n",
       " Int8[0 0 1 0; 0 0 0 0; 0 0 0 0; 0 0 0 0]\n",
       " Int8[0 0 0 1; 0 0 0 0; 0 0 0 0; 0 0 0 0]\n",
       " Int8[0 0 0 0; 1 0 0 0; 0 0 0 0; 0 0 0 0]\n",
       " Int8[0 0 0 0; 0 1 0 0; 0 0 0 0; 0 0 0 0]\n",
       " Int8[0 0 0 0; 0 0 1 0; 0 0 0 0; 0 0 0 0]\n",
       " Int8[0 0 0 0; 0 0 0 1; 0 0 0 0; 0 0 0 0]\n",
       " Int8[0 0 0 0; 0 0 0 0; 1 0 0 0; 0 0 0 0]\n",
       " Int8[0 0 0 0; 0 0 0 0; 0 1 0 0; 0 0 0 0]\n",
       " Int8[0 0 0 0; 0 0 0 0; 0 0 1 0; 0 0 0 0]\n",
       " Int8[0 0 0 0; 0 0 0 0; 0 0 0 1; 0 0 0 0]\n",
       " Int8[0 0 0 0; 0 0 0 0; 0 0 0 0; 1 0 0 0]\n",
       " Int8[0 0 0 0; 0 0 0 0; 0 0 0 0; 0 1 0 0]\n",
       " Int8[0 0 0 0; 0 0 0 0; 0 0 0 0; 0 0 1 0]\n",
       " Int8[0 0 0 0; 0 0 0 0; 0 0 0 0; 0 0 0 1]"
      ]
     },
     "execution_count": 4,
     "metadata": {},
     "output_type": "execute_result"
    }
   ],
   "source": [
    "make_omino_set_qc(1,[4,4])"
   ]
  },
  {
   "cell_type": "code",
   "execution_count": 5,
   "metadata": {},
   "outputs": [
    {
     "data": {
      "text/plain": [
       "biggen (generic function with 2 methods)"
      ]
     },
     "execution_count": 5,
     "metadata": {},
     "output_type": "execute_result"
    }
   ],
   "source": [
    "function biggen(omlist,grid,bad,cont=\"rc\")\n",
    "    new_oms = Set()\n",
    "    for o in omlist\n",
    "        \n",
    "        for i = 1:grid[1]\n",
    "            for j = 1:grid[2]\n",
    "                z = zeros(Int8,grid[1],grid[2])\n",
    "                z[i,j]+=1\n",
    "                if o[i,j]==0 && valid_omino(z+o,cont)\n",
    "                    push!(new_oms,z+o)\n",
    " \n",
    "                    \n",
    "                end\n",
    "            end\n",
    "        end\n",
    "    \n",
    "        \n",
    "        \n",
    "        \n",
    "        \n",
    "        \n",
    "    end\n",
    "       \n",
    "    return collect(new_oms)\n",
    "end"
   ]
  },
  {
   "cell_type": "code",
   "execution_count": 6,
   "metadata": {},
   "outputs": [
    {
     "data": {
      "text/plain": [
       "biggen_qc (generic function with 1 method)"
      ]
     },
     "execution_count": 6,
     "metadata": {},
     "output_type": "execute_result"
    }
   ],
   "source": [
    "function biggen_qc(omlist,grid,bad)\n",
    "    new_oms = Set()\n",
    "    for o in omlist\n",
    "        \n",
    "        for i = 1:grid[1]\n",
    "            for j = 1:grid[2]\n",
    "                z = zeros(Int8,grid[1],grid[2])\n",
    "                z[i,j]+=1\n",
    "                if o[i,j]==0 && valid_omino_qc(z+o)\n",
    "                    push!(new_oms,z+o)\n",
    " \n",
    "                    \n",
    "                end\n",
    "            end\n",
    "        end\n",
    "    \n",
    "        \n",
    "        \n",
    "        \n",
    "        \n",
    "        \n",
    "    end\n",
    "       \n",
    "    return collect(new_oms)\n",
    "end"
   ]
  },
  {
   "cell_type": "code",
   "execution_count": 18,
   "metadata": {},
   "outputs": [
    {
     "data": {
      "text/plain": [
       "check_holes_qc (generic function with 1 method)"
      ]
     },
     "execution_count": 18,
     "metadata": {},
     "output_type": "execute_result"
    }
   ],
   "source": [
    "function check_holes(omino, bad_holes,cont=\"rc\")\n",
    "\n",
    "    n1 = size(omino)[1]\n",
    "    n2 = size(omino)[2]\n",
    "    check = ones(Int8, n1,n2)-omino\n",
    "    _f = false\n",
    "    g = Grid([n1,n2])\n",
    "    \n",
    "    \n",
    "    if cont == \"qc\"\n",
    "        for i=1:n1-1\n",
    "           for j=1:n2-1\n",
    "\n",
    "               add_edge!(g,(i-1)*n1+j,i*n1+j+1  ) \n",
    "\n",
    "            end\n",
    "\n",
    "\n",
    "        end\n",
    "        for i=1:n1-1\n",
    "            for j=2:n2\n",
    "                add_edge!(g,(i-1)*n1+j,i*n1+j-1)\n",
    "\n",
    "            end\n",
    "        end        \n",
    "\n",
    "    end\n",
    "    \n",
    "    \n",
    "    \n",
    "    \n",
    "    \n",
    "    for i=n1:-1:1\n",
    "        for j=n2:-1:1\n",
    "           if check[i,j] ==0\n",
    "                rem_vertex!(g,(i-1)*n1+j)\n",
    "            end\n",
    "            \n",
    "            \n",
    "            \n",
    "            \n",
    "            \n",
    "        end   \n",
    "    end\n",
    "    \n",
    "    for c in connected_components(g)\n",
    "        if length(c) in bad_holes\n",
    "            return false\n",
    "        end\n",
    "    end\n",
    "    return true\n",
    "            \n",
    "    \n",
    "    \n",
    "end\n",
    "function check_holes_qc(omino, bad_holes)\n",
    "\n",
    "    n1 = size(omino)[1]\n",
    "    n2 = size(omino)[2]\n",
    "    check = ones(Int8, n1,n2)-omino\n",
    "    _f = false\n",
    "    g = Grid([n1,n2])\n",
    "    \n",
    "    for i=1:n1-1\n",
    "       for j=1:n2-1\n",
    "            \n",
    "           add_edge!(g,(i-1)*n1+j,i*n1+j+1  ) \n",
    "            \n",
    "        end\n",
    "        \n",
    "        \n",
    "    end\n",
    "    for i=1:n1-1\n",
    "        for j=2:n2\n",
    "            add_edge!(g,(i-1)*n1+j,i*n1+j-1)\n",
    "            \n",
    "        end\n",
    "    end    \n",
    "    \n",
    "    \n",
    "    \n",
    "    \n",
    "    \n",
    "    \n",
    "    for i=n1:-1:1\n",
    "        for j=n2:-1:1\n",
    "           if check[i,j] ==0\n",
    "                rem_vertex!(g,(i-1)*n1+j)\n",
    "            end\n",
    "            \n",
    "            \n",
    "            \n",
    "            \n",
    "            \n",
    "        end   \n",
    "    end\n",
    "    \n",
    "\n",
    "    for c in connected_components(g)\n",
    "        if length(c) in bad_holes\n",
    "            return false\n",
    "        end\n",
    "    end\n",
    "    return true\n",
    "            \n",
    "    \n",
    "    \n",
    "end"
   ]
  },
  {
   "cell_type": "code",
   "execution_count": 8,
   "metadata": {},
   "outputs": [
    {
     "data": {
      "text/plain": [
       "first_one (generic function with 1 method)"
      ]
     },
     "execution_count": 8,
     "metadata": {},
     "output_type": "execute_result"
    }
   ],
   "source": [
    "function first_zero(mat)\n",
    "    \n",
    "   for i=1:size(mat,1)\n",
    "        for j=1:size(mat,2)\n",
    "            if mat[i,j]==0\n",
    "                return (i,j)\n",
    "            end\n",
    "        end\n",
    "    end\n",
    "    return nothing\n",
    "    \n",
    "end\n",
    "function first_one(mat)\n",
    "    \n",
    "   for i=1:size(mat,1)\n",
    "        for j=1:size(mat,2)\n",
    "            if mat[i,j]==1\n",
    "                return (i,j)\n",
    "            end\n",
    "        end\n",
    "    end\n",
    "    return nothing\n",
    "    \n",
    "end"
   ]
  },
  {
   "cell_type": "code",
   "execution_count": null,
   "metadata": {},
   "outputs": [],
   "source": []
  },
  {
   "cell_type": "code",
   "execution_count": 56,
   "metadata": {},
   "outputs": [
    {
     "data": {
      "text/plain": [
       "build_conflicts_qc (generic function with 1 method)"
      ]
     },
     "execution_count": 56,
     "metadata": {},
     "output_type": "execute_result"
    }
   ],
   "source": [
    "function build_conflicts(omlist, bad_holes,num_parts,cont=\"rc\")\n",
    "    \n",
    "    \n",
    "    firstdict = DefaultDict(Set)\n",
    "    \n",
    "    for o in 1:length(omlist)\n",
    "        k = first_one(omlist[o])\n",
    "        push!(firstdict[k],o)\n",
    "    end\n",
    "    \n",
    "\n",
    "    conflict = DefaultDict(Set)\n",
    "    print(length(omlist),\"  \")\n",
    "    for os in subsets(1:length(omlist),Val{2}())\n",
    "        i = os[1]\n",
    "        j = os[2]\n",
    "        if i%500 == 0 && j==i+1\n",
    "            print(i,\"  \")\n",
    "        end\n",
    "        _c = true\n",
    "            for p in zip(omlist[i],omlist[j])\n",
    "                if _c && p[1]*p[2] ==1\n",
    "                    _c = false\n",
    "                end\n",
    "            end\n",
    "            if _c && check_holes(omlist[i]+omlist[j],bad_holes,cont)\n",
    "                push!(conflict[i],j)\n",
    "                push!(conflict[j],i)\n",
    "            end\n",
    "        \n",
    "    end\n",
    "    return firstdict,conflict\n",
    "end\n",
    "\n",
    "\n",
    "\n",
    "function build_conflicts_qc(omlist, bad_holes,num_parts)\n",
    "    \n",
    "    \n",
    "    firstdict = DefaultDict(Set)\n",
    "    \n",
    "    for o in 1:length(omlist)\n",
    "        k = first_one(omlist[o])\n",
    "        push!(firstdict[k],o)\n",
    "    end\n",
    "    \n",
    "    \n",
    "    \n",
    "    \n",
    "    \n",
    "    conflict = DefaultDict(Set)\n",
    "    #print(length(omlist),\"  \")\n",
    "    for os in subsets(1:length(omlist),Val{2}())\n",
    "        i = os[1]\n",
    "        j = os[2]\n",
    "        if i%500 == 0 && j==i+1\n",
    "            #print(i,\"  \")\n",
    "        end\n",
    "        _c = true\n",
    "            for p in zip(omlist[i],omlist[j])\n",
    "                if _c && p[1]*p[2] ==1\n",
    "                    _c = false\n",
    "                end\n",
    "            end\n",
    "            if _c && check_holes_qc(omlist[i]+omlist[j],bad_holes)\n",
    "                push!(conflict[i],j)\n",
    "                push!(conflict[j],i)\n",
    "            end\n",
    "        \n",
    "    end\n",
    "    return firstdict,conflict\n",
    "end"
   ]
  },
  {
   "cell_type": "code",
   "execution_count": 57,
   "metadata": {},
   "outputs": [
    {
     "name": "stdout",
     "output_type": "stream",
     "text": [
      "22  "
     ]
    },
    {
     "data": {
      "text/plain": [
       "(DefaultDict{Any,Any,UnionAll}((1, 2)=>Set(Any[7, 9, 10, 8, 6]),(2, 3)=>Set(Any[21]),(3, 1)=>Set(Any[22]),(2, 2)=>Set(Any[20, 19, 17, 18]),(1, 1)=>Set(Any[4, 2, 3, 5, 1]),(1, 3)=>Set(Any[11, 12]),(2, 1)=>Set(Any[13, 14, 16, 15])), DefaultDict{Any,Any,UnionAll}(1=>Set(Any[20, 22, 13, 14, 16, 17, 19, 15, 21, 18]),2=>Set(Any[20, 22, 19, 17, 11, 21, 12, 18]),16=>Set(Any[7, 9, 12, 18, 3, 11, 6, 1]),11=>Set(Any[2, 16, 5, 22]),21=>Set(Any[4, 14, 2, 3, 5, 8, 6, 1]),7=>Set(Any[4, 14, 16, 19, 5, 15, 22, 20]),9=>Set(Any[16, 5, 22]),10=>Set(Any[5, 12]),19=>Set(Any[7, 2, 12, 1]),17=>Set(Any[2, 5, 1])…))"
      ]
     },
     "execution_count": 57,
     "metadata": {},
     "output_type": "execute_result"
    }
   ],
   "source": [
    "f,c= build_conflicts(make_omino_set(3,[3,3]),[],2)"
   ]
  },
  {
   "cell_type": "code",
   "execution_count": 58,
   "metadata": {},
   "outputs": [
    {
     "data": {
      "text/plain": [
       "get_next (generic function with 1 method)"
      ]
     },
     "execution_count": 58,
     "metadata": {},
     "output_type": "execute_result"
    }
   ],
   "source": [
    "function get_next(fd, curr_inds, omlist)\n",
    "    \n",
    "   return [ d for d in fd[first_zero( sum([omlist[j] for j in curr_inds    ])     )] if verify(curr_inds + d)   ] \n",
    "    \n",
    "end\n",
    "            "
   ]
  },
  {
   "cell_type": "code",
   "execution_count": 59,
   "metadata": {},
   "outputs": [
    {
     "data": {
      "text/plain": [
       "enumerator (generic function with 3 methods)"
      ]
     },
     "execution_count": 59,
     "metadata": {},
     "output_type": "execute_result"
    }
   ],
   "source": [
    "function enumerator(grid, om_sizes,num_parts, cont=\"rc\", io=false)\n",
    "    count = 0\n",
    "    oms = []\n",
    "    bad_hole_sizes = [ [i for i = 1:minimum(om_sizes)-1] ;[i for i = maximum(om_sizes)+1:2*minimum(om_sizes)-1]        ]\n",
    "    \n",
    "    tmp_oms = make_omino_set(1,grid,cont)\n",
    "    \n",
    "    if io\n",
    "        os = om_sizes\n",
    "        gr = grid\n",
    "        np = num_parts\n",
    "        outfile = open(replace(\"enumerations/enum_$(gr)_$(os)_$(np)_$(cont).txt\",\" \"=>\"\"),\"w\")\n",
    "    end\n",
    "    \n",
    "    \n",
    "    if 1 in om_sizes\n",
    "        oms = [oms;tmp_oms]\n",
    "    end\n",
    "    \n",
    "    for sz = 2:maximum(om_sizes)\n",
    "        tmp_oms = biggen(tmp_oms,grid,bad_hole_sizes,cont)\n",
    "        if sz in om_sizes\n",
    "            oms = [oms;tmp_oms]\n",
    "        end\n",
    "        #print(\"MADE SZ \",sz ,' ',length(tmp_oms),\"\\n\")\n",
    "\n",
    "\n",
    "    end\n",
    "    \n",
    "    \n",
    "    oms = [ o for o in oms if check_holes(o,bad_hole_sizes,cont)]\n",
    "\n",
    "    #print(\"MADE OMINOS\\n\")\n",
    "    \n",
    "    \n",
    "    \n",
    "    fd,cf = build_conflicts(oms,bad_hole_sizes,num_parts,cont)\n",
    "    #print(\"MADE DICTIONARIES\\n\")           \n",
    "    \n",
    "    function verify(plan)\n",
    "        #print(plan,'\\n')\n",
    "        \n",
    "        for p in subsets(plan,Val{2}())\n",
    "            if !(p[2] in cf[p[1]])\n",
    "                return false\n",
    "            end\n",
    "        end\n",
    "        return true\n",
    "    end\n",
    "           \n",
    "                \n",
    "                \n",
    "    function recurs_part(plan,steps)\n",
    "        #print(\"plan:\",plan,\"  sum: \",sum([oms[j] for j in plan]),'\\n')\n",
    "        if steps == 0\n",
    "            if sum(sum( [oms[j] for j in plan])) == grid[1]*grid[2] #&& sort!(collect([sum(oms[j]) for j in plan    ] )) == om_sizes\n",
    "                count +=1\n",
    "                if io\n",
    "                    strrep = \"$(sum([j.*oms[plan[j]] for j in 1:length(plan)]))\\n\"\n",
    "                    strrep = replace(strrep,\" \"=>\",\")\n",
    "                    strrep = replace(strrep,\"[\"=>\"\")\n",
    "                    strrep = replace(strrep,\";\"=>\"\")\n",
    "                    strrep = replace(strrep,\"]\"=>\"\")\n",
    "                    write(outfile,  strrep)\n",
    "                end\n",
    "                return\n",
    "            end\n",
    "        elseif sum(sum( [oms[j] for j in plan])) == grid[1]*grid[2]\n",
    "        return\n",
    "        end\n",
    "        for q in fd[first_zero( sum([oms[j] for j in plan     ]))]\n",
    "            if verify([plan;[q]])\n",
    "                recurs_part([plan;[q]],steps-1)\n",
    "            end\n",
    "        end\n",
    "    end\n",
    "    \n",
    "    #print(\"NEED TO DO \",length(fd[(1,1)]), \" TOP-LEVELS\\n\")\n",
    "    for p in fd[(1,1)]\n",
    "        #print(\" \",p,\" \")\n",
    "        recurs_part([p],num_parts-1)\n",
    "    end\n",
    "    \n",
    "    \n",
    "   print('\\n')\n",
    "    if io\n",
    "        close(outfile)\n",
    "    end\n",
    "   return count \n",
    "    \n",
    "end"
   ]
  },
  {
   "cell_type": "code",
   "execution_count": 60,
   "metadata": {},
   "outputs": [
    {
     "data": {
      "text/plain": [
       "enumerator_qc (generic function with 1 method)"
      ]
     },
     "execution_count": 60,
     "metadata": {},
     "output_type": "execute_result"
    }
   ],
   "source": [
    "function enumerator_qc(grid, om_sizes,num_parts)\n",
    "    count = 0\n",
    "    oms = []\n",
    "    bad_hole_sizes = [ [i for i = 1:minimum(om_sizes)-1]      ;[i for i = maximum(om_sizes)+1:2*minimum(om_sizes)-1]        ]\n",
    "    \n",
    "    tmp_oms = make_omino_set_qc(1,grid)\n",
    "    \n",
    "    if 1 in om_sizes\n",
    "        oms = [oms;tmp_oms]\n",
    "    end\n",
    "    \n",
    "    for sz = 2:maximum(om_sizes)\n",
    "        tmp_oms = biggen_qc(tmp_oms,grid,bad_hole_sizes)\n",
    "        if sz in om_sizes\n",
    "            oms = [oms;tmp_oms]\n",
    "        end\n",
    "        print(\"MADE SZ \",sz, \"\\n\")\n",
    "\n",
    "    end\n",
    "    \n",
    "    oms = [ o for o in oms if check_holes_qc(o,bad_hole_sizes)]\n",
    "\n",
    "    print(\"MADE OMINOS\\n\")\n",
    "    \n",
    "    \n",
    "    \n",
    "    fd,cf = build_conflicts_qc(oms,bad_hole_sizes,num_parts)\n",
    "    print(\"MADE DICTIONARIES\\n\")           \n",
    "    \n",
    "    function verify(plan)\n",
    "        #print(plan,'\\n')\n",
    "        \n",
    "        for p in subsets(plan,Val{2}())\n",
    "            if !(p[2] in cf[p[1]])\n",
    "                return false\n",
    "            end\n",
    "        end\n",
    "        return true\n",
    "    end\n",
    "           \n",
    "                \n",
    "                \n",
    "    function recurs_part(plan,steps)\n",
    "        #print(\"plan:\",plan,\"  sum: \",sum([oms[j] for j in plan]),'\\n')\n",
    "        if steps == 0\n",
    "            if sum(sum( [oms[j] for j in plan])) == grid[1]*grid[2] #&& sort!(collect([sum(oms[j]) for j in plan    ] )) == om_sizes\n",
    "                count +=1\n",
    "            \n",
    "            return\n",
    "        end\n",
    "        elseif sum(sum( [oms[j] for j in plan])) == grid[1]*grid[2]\n",
    "        return\n",
    "        end\n",
    "        for q in fd[first_zero( sum([oms[j] for j in plan     ]))]\n",
    "            if verify([plan;[q]])\n",
    "                recurs_part([plan;[q]],steps-1)\n",
    "            end\n",
    "        end\n",
    "    end\n",
    "    print(\"NEED TO DO \",length(fd[(1,1)]), \" TOP-LEVELS\\n\")\n",
    "    \n",
    "    #print(fd,'\\n')\n",
    "    for p in fd[(1,1)]\n",
    "        #print(\" \",p,\" \")\n",
    "        recurs_part([p],num_parts-1)\n",
    "    end\n",
    "    \n",
    "    \n",
    "   print('\\n') \n",
    "   return count \n",
    "    \n",
    "end\n",
    "\n"
   ]
  },
  {
   "cell_type": "code",
   "execution_count": 54,
   "metadata": {},
   "outputs": [
    {
     "name": "stdout",
     "output_type": "stream",
     "text": [
      "MADE SZ 2 4\n",
      "MADE OMINOS\n",
      "4  MADE DICTIONARIES\n",
      "NEED TO DO 2 TOP-LEVELS\n",
      " 4  3 \n",
      "  0.000594 seconds (1.44 k allocations: 94.844 KiB)\n",
      "MADE SZ 2 6\n",
      "MADE OMINOS\n",
      "6  MADE DICTIONARIES\n",
      "NEED TO DO 3 TOP-LEVELS\n",
      " 4  5  6 \n",
      "  0.000627 seconds (1.69 k allocations: 111.016 KiB)\n",
      "MADE SZ 2 4\n",
      "MADE SZ 3 4\n",
      "MADE OMINOS\n",
      "12  MADE DICTIONARIES\n",
      "NEED TO DO 6 TOP-LEVELS\n",
      " 7  9  11  8  12  1 \n",
      "  0.001029 seconds (3.58 k allocations: 242.438 KiB)\n",
      "MADE SZ 2 6\n",
      "MADE SZ 3 4\n",
      "MADE OMINOS\n",
      "14  MADE DICTIONARIES\n",
      "NEED TO DO 7 TOP-LEVELS\n",
      " 9  13  10  14  11  8  1 \n",
      "  0.001047 seconds (4.21 k allocations: 288.313 KiB)\n",
      "MADE SZ 2 4\n",
      "MADE SZ 3 4\n",
      "MADE SZ 4 1\n",
      "MADE OMINOS\n",
      "13  MADE DICTIONARIES\n",
      "NEED TO DO 7 TOP-LEVELS\n",
      " 7  9  13  11  8  12  1 \n",
      "  0.001001 seconds (3.90 k allocations: 261.438 KiB)\n",
      "MADE SZ 2 6\n",
      "MADE SZ 3 4\n",
      "MADE SZ 4 1\n",
      "MADE OMINOS\n",
      "15  MADE DICTIONARIES\n",
      "NEED TO DO 8 TOP-LEVELS\n",
      " 9  13  10  14  11  8  15  1 \n",
      "  0.001378 seconds (4.54 k allocations: 308.344 KiB)\n",
      "MADE SZ 2 4\n",
      "MADE SZ 3 4\n",
      "MADE SZ 4 1\n",
      "MADE SZ 5 0\n",
      "MADE OMINOS\n",
      "13  MADE DICTIONARIES\n",
      "NEED TO DO 7 TOP-LEVELS\n",
      " 7  9  13  11  8  12  1 \n",
      "  0.001134 seconds (3.99 k allocations: 264.641 KiB)\n",
      "MADE SZ 2 6\n",
      "MADE SZ 3 4\n",
      "MADE SZ 4 1\n",
      "MADE SZ 5 0\n",
      "MADE OMINOS\n",
      "15  MADE DICTIONARIES\n",
      "NEED TO DO 8 TOP-LEVELS\n",
      " 9  13  10  14  11  8  15  1 \n",
      "  0.001180 seconds (4.63 k allocations: 313.656 KiB)\n",
      "MADE SZ 2 4\n",
      "MADE SZ 3 4\n",
      "MADE SZ 4 1\n",
      "MADE SZ 5 0\n",
      "MADE SZ 6 0\n",
      "MADE SZ 7 0\n",
      "MADE SZ 8 0\n",
      "MADE OMINOS\n",
      "13  MADE DICTIONARIES\n",
      "NEED TO DO 7 TOP-LEVELS\n",
      " 7  9  13  11  8  12  1 \n",
      "  0.001125 seconds (4.25 k allocations: 272.672 KiB)\n",
      "MADE SZ 2 6\n",
      "MADE SZ 3 4\n",
      "MADE SZ 4 1\n",
      "MADE SZ 5 0\n",
      "MADE SZ 6 0\n",
      "MADE SZ 7 0\n",
      "MADE SZ 8 0\n",
      "MADE OMINOS\n",
      "15  MADE DICTIONARIES\n",
      "NEED TO DO 8 TOP-LEVELS\n",
      " 9  13  10  14  11  8  15  1 \n",
      "  0.001288 seconds (4.89 k allocations: 319.359 KiB)\n",
      "MADE SZ 2 12\n",
      "MADE SZ 3 22\n",
      "MADE OMINOS\n",
      "18  MADE DICTIONARIES\n",
      "NEED TO DO 5 TOP-LEVELS\n",
      " 4  9  14  15  1 \n",
      "  0.004729 seconds (16.21 k allocations: 1.250 MiB)\n",
      "MADE SZ 2 20\n",
      "MADE SZ 3 48\n",
      "MADE OMINOS\n",
      "44  MADE DICTIONARIES\n",
      "NEED TO DO 12 TOP-LEVELS\n",
      " 40  16  26  9  17  44  37  23  13  31  12  18 \n",
      "  0.005611 seconds (37.91 k allocations: 2.937 MiB)\n",
      "MADE SZ 2 12\n",
      "MADE SZ 3 22\n",
      "MADE SZ 4 36\n",
      "MADE OMINOS\n",
      "54  MADE DICTIONARIES\n",
      "NEED TO DO 16 TOP-LEVELS\n",
      " 47  32  16  21  39  46  26  8  49  37  53  38  13  27  36  12 \n",
      "  0.014351 seconds (54.73 k allocations: 4.098 MiB, 45.98% gc time)\n",
      "MADE SZ 2 20\n",
      "MADE SZ 3 48\n",
      "MADE SZ 4 85\n",
      "MADE OMINOS\n",
      "133  MADE DICTIONARIES\n",
      "NEED TO DO 43 TOP-LEVELS\n",
      " 68  124  89  46  66  29  95  57  20  90  14  33  69  114  109  133  125  130  64  37  110  117  93  105  32  77  80  101  82  43  128  60  104  38  71  36  113  76  98  122  16  107  51 \n",
      "  0.028577 seconds (191.92 k allocations: 14.283 MiB)\n",
      "MADE SZ 2 12\n",
      "MADE SZ 3 22\n",
      "MADE SZ 4 36\n",
      "MADE SZ 5 49\n",
      "MADE OMINOS\n",
      "128  MADE DICTIONARIES\n",
      "NEED TO DO 40 TOP-LEVELS\n",
      " 115  54  32  121  89  109  107  39  46  21  96  25  55  66  102  104  17  65  22  88  92  53  103  72  110  38  118  127  63  78  120  117  99  126  113  70  97  108  52  1 \n",
      "  0.056416 seconds (218.81 k allocations: 14.353 MiB, 11.61% gc time)\n",
      "MADE SZ 2 20\n",
      "MADE SZ 3 48\n",
      "MADE SZ 4 85\n",
      "MADE SZ 5 102\n",
      "MADE OMINOS\n",
      "264  MADE DICTIONARIES\n",
      "NEED TO DO 98 TOP-LEVELS\n",
      " 124  241  46  134  158  215  25  42  29  181  131  249  150  209  201  247  139  176  185  159  194  175  70  205  233  212  234  252  109  232  223  166  133  187  83  250  257  220  145  127  45  235  168  263  86  93  115  1  206  47  77  229  190  211  82  128  203  244  178  221  153  217  79  38  118  152  120  113  224  242  213  100  189  140  143  62  169  196  174  162  73  262  92  156  191  53  222  251  255  261  23  163  218  56  97  108  41  245 \n",
      "  0.154416 seconds (744.13 k allocations: 47.043 MiB, 7.37% gc time)\n",
      "MADE SZ 2 12\n",
      "MADE SZ 3 22\n",
      "MADE SZ 4 36\n",
      "MADE SZ 5 49\n",
      "MADE SZ 6 48\n",
      "MADE OMINOS\n",
      "176  MADE DICTIONARIES\n",
      "NEED TO DO 68 TOP-LEVELS\n",
      " 148  89  39  46  160  25  55  66  151  170  131  144  155  142  150  173  176  78  159  70  52  121  109  96  166  133  172  130  17  65  138  145  110  127  117  99  126  137  115  1  54  32  171  132  157  104  103  153  38  118  120  113  167  140  107  21  102  161  162  129  22  88  92  53  72  63  97  108 \n",
      "  0.052592 seconds (265.10 k allocations: 17.511 MiB, 9.91% gc time)\n",
      "MADE SZ 2 20\n",
      "MADE SZ 3 48\n",
      "MADE SZ 4 85\n",
      "MADE SZ 5 102\n",
      "MADE SZ 6 78\n",
      "MADE OMINOS\n",
      "342  MADE DICTIONARIES\n",
      "NEED TO DO 148 TOP-LEVELS\n",
      " 301  329  124  241  267  46  134  158  215  25  42  29  181  131  249  150  300  209  342  289  201  323  247  139  176  185  283  159  194  175  70  205  318  233  212  335  266  234  252  109  232  223  265  269  166  133  187  278  83  314  336  250  324  257  220  145  292  327  127  45  235  168  263  309  270  86  93  290  115  1  206  47  284  77  229  190  211  311  307  303  82  128  203  337  332  334  244  178  221  320  153  313  217  79  38  118  152  272  330  120  113  293  295  224  242  213  100  189  140  143  297  62  169  287  196  174  319  294  341  162  268  321  281  280  274  73  262  92  156  191  53  222  251  255  261  271  277  23  163  305  315  218  56  97  108  41  245  276 \n",
      "  0.166122 seconds (857.54 k allocations: 54.652 MiB, 6.37% gc time)\n",
      "MADE SZ 2 12\n",
      "MADE SZ 3 22\n",
      "MADE SZ 4 36\n",
      "MADE SZ 5 49\n",
      "MADE SZ 6 48\n",
      "MADE SZ 7 32\n",
      "MADE SZ 8 9\n",
      "MADE SZ 9 1\n",
      "MADE OMINOS\n",
      "218  MADE DICTIONARIES\n",
      "NEED TO DO 101 TOP-LEVELS\n",
      " 148  89  210  39  46  197  215  160  25  55  66  151  170  131  144  181  155  193  142  150  209  173  199  185  176  78  159  194  70  205  52  212  121  109  96  182  166  133  187  172  130  17  65  202  138  145  192  110  127  117  99  126  137  115  1  206  54  32  211  214  171  188  203  132  195  157  104  178  179  103  153  217  38  118  120  113  184  167  213  140  204  107  21  196  208  102  180  161  162  186  129  22  88  92  191  53  72  63  218  97  108 \n",
      "  0.055991 seconds (294.80 k allocations: 19.596 MiB, 9.36% gc time)\n",
      "MADE SZ 2 20\n",
      "MADE SZ 3 48\n",
      "MADE SZ 4 85\n",
      "MADE SZ 5 102\n",
      "MADE SZ 6 78\n",
      "MADE SZ 7 36\n",
      "MADE SZ 8 9\n",
      "MADE SZ 9 1\n",
      "MADE OMINOS\n",
      "388  MADE DICTIONARIES\n",
      "NEED TO DO 185 TOP-LEVELS\n",
      " 134  158  215  29  131  249  300  384  289  201  176  70  318  335  252  133  354  327  93  284  77  311  353  221  153  217  79  120  224  213  143  62  169  287  294  162  280  251  261  41  245  150  209  344  139  175  205  212  265  269  314  250  324  127  309  270  1  47  366  307  128  203  379  352  244  348  320  345  152  38  118  100  140  196  268  378  281  191  277  255  163  276  301  108  329  241  370  365  342  283  375  159  372  109  368  387  350  292  235  168  290  115  211  373  359  337  332  334  178  363  313  272  113  293  295  242  189  297  364  374  274  380  262  92  97  362  124  267  46  382  25  42  181  356  323  247  185  194  233  388  266  234  232  355  223  166  278  187  336  83  257  220  145  263  45  357  346  86  206  229  385  190  303  82  381  376  347  383  330  361  174  319  341  321  73  156  222  53  271  23  305  315  349  218  56 \n",
      "  0.181291 seconds (905.12 k allocations: 57.999 MiB, 9.79% gc time)\n",
      "MADE SZ 2 24\n",
      "MADE SZ 3 52\n",
      "MADE SZ 4 113\n",
      "MADE OMINOS\n",
      "89  MADE DICTIONARIES\n",
      "NEED TO DO 13 TOP-LEVELS\n",
      " 80  39  21  82  42  49  8  44  6  3  23  63  15 \n",
      "  0.036593 seconds (238.49 k allocations: 18.511 MiB, 14.55% gc time)\n",
      "MADE SZ 2 42\n",
      "MADE SZ 3 132\n",
      "MADE SZ 4 419\n",
      "MADE OMINOS\n",
      "391  MADE DICTIONARIES\n",
      "NEED TO DO 56 TOP-LEVELS\n",
      " 89  215  160  155  296  159  175  372  106  212  308  269  166  278  83  125  368  130  44  324  286  357  67  339  105  385  190  211  326  307  337  104  237  299  376  179  325  313  154  242  12  100  102  389  129  22  6  24  243  280  380  116  322  218  56  41 \n",
      "  0.536974 seconds (2.89 M allocations: 210.244 MiB, 8.72% gc time)\n",
      "MADE SZ 2 24\n",
      "MADE SZ 3 52\n",
      "MADE SZ 4 113\n",
      "MADE SZ 5 244\n",
      "MADE OMINOS\n",
      "293  MADE DICTIONARIES\n",
      "NEED TO DO 47 TOP-LEVELS\n",
      " 197  215  160  207  142  209  289  90  111  31  159  256  175  205  266  69  232  219  182  282  278  187  146  130  286  230  290  54  227  128  87  71  242  167  143  196  10  51  24  92  277  63  163  56  97  15  41 \n",
      "  0.304077 seconds (1.73 M allocations: 119.158 MiB, 11.76% gc time)\n",
      "MADE SZ 2 42\n",
      "MADE SZ 3 132\n",
      "MADE SZ 4 419\n",
      "MADE SZ 5 1156\n",
      "MADE OMINOS\n",
      "1527  500  1000  1500  MADE DICTIONARIES\n",
      "NEED TO DO 272 TOP-LEVELS\n",
      " 1279  288  134  882  1103  1000  435  1395  1047  318  946  1129  1117  727  610  803  1442  748  1122  49  1490  1194  552  978  230  534  1400  1327  1175  513  685  441  195  617  797  1446  1188  217  847  786  1085  1347  1087  184  903  414  287  169  682  1089  939  10  294  1459  601  917  966  1174  630  1456  15  985  638  757  1468  1034  569  969  150  1133  1184  728  789  1455  747  1405  253  258  1272  1052  778  1199  763  282  1240  452  172  853  1214  545  583  1475  970  453  1056  436  1247  934  450  647  637  339  1511  307  944  91  43  1033  104  244  860  604  931  1236  152  465  742  1043  570  821  1484  982  1086  140  1225  667  911  688  1003  454  424  1519  427  485  918  861  659  508  602  1074  532  1350  370  1128  365  771  848  1443  283  1297  696  1107  26  1083  1307  1363  885  866  958  1228  834  1112  211  897  1091  467  762  1267  551  627  842  810  343  1010  1288  1019  979  695  600  678  1115  1205  1252  988  1449  1486  584  767  990  1507  643  1069  791  1070  1407  46  1462  1270  1018  1028  894  867  1044  995  1005  811  20  726  1139  233  774  406  234  852  232  1243  802  1294  397  1126  533  1371  408  257  1099  1244  541  1406  346  1064  1402  67  1414  808  303  228  923  972  594  781  945  684  1125  500  536  517  523  340  1059  680  504  98  1263  792  1101  1366  371  1138  1035  1336  706  1046  1038  640  1241  1152  1391  496  983  27  1409  1423 \n",
      " 14.940598 seconds (90.62 M allocations: 3.949 GiB, 6.41% gc time)\n",
      "MADE SZ 2 24\n",
      "MADE SZ 3 52\n",
      "MADE SZ 4 113\n",
      "MADE SZ 5 244\n",
      "MADE SZ 6 496\n",
      "MADE OMINOS\n",
      "693  500  MADE DICTIONARIES\n",
      "NEED TO DO 123 TOP-LEVELS\n",
      " 2  89  39  491  160  593  55  654  624  478  569  142  675  296  342  384  199  176  375  78  396  521  175  253  407  625  479  669  403  406  538  616  121  421  664  677  223  282  278  397  336  610  609  65  545  568  563  392  558  127  541  692  99  662  284  559  608  229  80  513  359  605  670  441  75  195  34  442  432  352  447  481  264  668  353  613  179  604  693  503  217  383  577  48  571  619  242  213  410  204  484  626  507  422  519  196  416  505  560  540  443  162  268  281  22  240  578  119  251  116  255  312  561  338  640  529  322  349  438  480  661  659  97 \n",
      "  2.258139 seconds (11.70 M allocations: 613.864 MiB, 6.67% gc time)\n",
      "MADE SZ 2 42\n",
      "MADE SZ 3 132\n",
      "MADE SZ 4 419\n",
      "MADE SZ 5 1156\n",
      "MADE SZ 6 2658\n",
      "MADE OMINOS\n",
      "3897  500  1000  1500  2000  2500  3000  3500  MADE DICTIONARIES\n",
      "NEED TO DO 889 TOP-LEVELS\n",
      " 1704  3513  1760  1090  2812  2564  1265  176  2502  3335  1881  2885  2351  2061  2882  2805  2835  3490  3688  563  2202  2631  2562  721  2886  3139  3397  3073  1144  1374  1116  3286  3887  353  2730  1166  1479  1331  1821  3377  845  2765  3500  2787  2732  240  3059  1959  514  3195  1358  2207  3082  3376  2613  1817  2664  2539  586  2674  573  3524  2701  1158  2325  3121  1527  3552  256  1052  1418  3797  1873  1199  620  2841  146  660  1475  3716  1100  1985  3212  1445  1349  2132  2767  2186  183  591  2650  3735  2655  1276  1484  2458  3446  732  2075  2324  832  1938  454  751  2380  1672  602  3756  3753  2926  2682  1933  654  3738  2220  2849  848  2947  2347  3234  2991  2932  2634  1107  2115  3323  279  3666  2541  3146  1191  922  963  2213  1796  1794  650  3893  3302  3040  418  334  1973  3505  1091  503  2117  2494  2770  1801  2485  3051  3035  2256  2998  914  3566  3374  2727  2903  1548  1655  393  1759  1073  2187  2915  1922  3623  634  1782  1252  3558  2121  2821  584  1757  2831  2706  39  3767  2236  3469  2758  867  739  333  2421  1702  3291  2022  2545  1054  2301  2219  1571  3163  554  2413  2847  2913  3889  3389  303  2123  567  3010  668  386  2127  1988  2697  3544  949  2962  2389  3815  2212  1896  389  3443  3744  3488  3309  2566  869  502  2800  1271  1826  882  3227  2239  499  1891  1261  2106  1818  3789  3886  1636  3546  1454  1129  3036  3375  2860  1117  2317  1326  3583  3226  1490  1060  327  1164  978  1545  1756  2178  2225  3577  2419  1879  3182  1216  412  3651  1188  3399  3615  217  2919  1830  681  2174  3833  3745  62  2437  1910  2617  2968  2645  1174  3390  2960  1870  3350  1971  2451  1670  909  1034  3328  694  2822  3254  3457  2893  3839  2644  1963  929  1498  2513  1161  1120  815  2931  1542  3540  2795  3166  1322  2759  1800  1080  1806  3648  1894  1367  800  1448  2248  2702  3249  3336  273  1143  1323  3844  821  2116  2874  3812  2605  1771  904  2595  1346  2508  861  2670  3822  2895  3236  2450  3772  3468  3855  2128  3712  1832  1304  3025  3033  1808  2620  2628  3414  2856  2794  3439  3122  3154  1679  1051  1320  2430  762  3704  2155  3638  2592  3417  2694  3588  805  896  2672  3829  1554  3713  1649  1697  1995  3263  3695  3818  68  2950  3605  2311  275  2929  3589  2939  3298  1111  3530  3862  3463  3656  3642  2003  652  3020  1149  2537  2891  3148  3304  3052  2037  2680  1342  3366  2369  3698  595  743  546  3527  1075  3773  945  2685  3757  3171  1048  1489  3054  862  870  1160  1711  2026  1733  2783  2784  2118  3776  2133  3435  3285  1106  2486  2289  1215  3728  2854  1889  712  2401  1895  289  57  3267  3585  2481  3423  445  3009  2141  3891  534  2638  2070  1723  3296  984  2712  2769  619  2402  2004  3878  3372  484  2368  1965  2342  1956  3338  88  1945  3748  2603  783  2271  472  2454  501  2272  2167  2954  1119  1635  734  3830  1251  2710  3078  1680  3647  583  3831  37  2238  3737  1769  214  91  2500  2833  1108  2515  2864  3041  829  2456  3177  2719  2253  3693  140  2374  785  1742  3769  688  2237  3187  2817  1696  1766  3282  1921  740  2006  3665  2792  1132  1775  3203  1561  2659  1541  1937  2568  1989  2148  3295  3307  825  2382  1058  820  3086  1307  1789  2717  2771  3049  3277  3873  1229  1770  3100  1065  2699  417  2025  2940  2658  2921  3486  1147  2642  1601  2526  364  456  1388  678  1203  262  3596  3248  1205  3528  1651  2013  1507  3729  3840  2125  85  2774  3717  3684  194  3206  52  2230  3787  2173  1669  278  959  1291  2282  3281  1620  2304  651  2604  1663  1578  229  1351  3013  3683  3856  3383  2263  340  2315  1319  2018  1202  3560  1138  2832  2853  3649  2588  3548  1176  2662  3384  3675  349  2360  1964  839  633  1772  3283  2530  582  3117  1869  1534  3764  1047  2756  1429  490  1846  1859  3362  133  1880  328  1912  3026  2741  3897  3870  752  3788  2337  3069  1978  3175  3275  2533  1720  516  550  1609  2653  2183  302  1178  2058  3436  3578  1882  2981  3573  1975  1844  2869  601  806  2824  2776  1700  2509  985  3269  2444  1940  462  2578  3183  969  2908  3750  2966  1952  2576  1210  2436  1408  1531  2972  1904  2264  3581  1573  3662  2388  2728  2990  3270  2646  3819  475  1013  3667  2409  1193  851  3601  2570  3809  3324  2660  2197  2479  1768  998  3836  3019  737  1765  3310  2335  3153  196  3421  3061  2338  277  3882  2328  2042  485  3563  1282  1491  2163  3723  1641  3673  1315  3223  2583  1432  2152  3614  2917  1006  3028  3364  1674  3837  2273  1701  2193  3562  3853  3209  2343  1011  109  3141  298  1951  1001  2209  3256  3779  836  3556  644  1493  784  1162  2934  3014  2898  3654  1687  1528  2690  2879  1749  1206  1037  3827  1799  3045  3345  3727  1990  2296  2232  689  2556  2626  1747  2122  3135  850  1728  2610  1486  1597  2837  990  2705  698  1070  1040  3287  2678  2007  1183  3250  2577  2181  1692  69  2900  3890  2528  3440  1378  2378  1928  3594  3860  558  3176  3032  3123  915  2164  385  2512  2850  2142  2984  923  3599  719  3740  3  1125  910  691  3237  928  1025  3820  1012  2151  2417  856  1038  2055  2224  2440  3785 \n",
      "156.056957 seconds (926.69 M allocations: 32.265 GiB, 4.21% gc time)\n",
      "MADE SZ 2 24\n",
      "MADE SZ 3 52\n",
      "MADE SZ 4 113\n",
      "MADE SZ 5 244\n",
      "MADE SZ 6 496\n",
      "MADE SZ 7 912\n",
      "MADE OMINOS\n",
      "1857  500  1000  1500  MADE DICTIONARIES\n",
      "NEED TO DO 369 TOP-LEVELS\n"
     ]
    },
    {
     "name": "stdout",
     "output_type": "stream",
     "text": [
      " 1279  1090  158  1131  300  1103  542  1495  1395  1469  1461  285  1401  490  946  479  1396  445  779  921  1846  1117  1678  1718  354  748  1082  511  1170  1816  978  671  1797  752  645  720  50  1175  248  1750  685  1216  441  1302  1631  1549  621  1590  1640  302  1331  1370  1085  1487  1552  1664  619  1821  1683  769  1154  1426  1459  1523  1510  601  251  561  980  1174  1456  1614  1825  245  1700  985  1097  734  1234  1372  1488  909  1007  962  969  150  1625  728  789  344  236  1654  1621  1210  1471  1680  212  1278  1017  1584  1531  760  973  815  655  1418  565  1542  1214  125  492  1573  65  660  324  801  453  1575  1247  793  967  270  981  1367  1769  216  105  1  1063  1421  944  1467  1033  639  522  320  931  1173  152  38  465  1223  570  982  711  1086  1499  1660  1555  196  667  576  795  968  1003  1673  950  1008  535  759  123  1612  1256  358  1672  1766  1661  746  861  713  1026  658  1798  1350  1853  1416  1006  1444  1608  1776  1072  900  1375  1313  1055  907  1850  1024  544  1310  433  1808  820  1083  700  368  518  1789  1171  823  836  1706  1823  622  644  1228  1537  834  1477  1796  115  1855  101  211  1524  1359  897  359  1567  838  481  1518  1572  1622  762  1496  426  1431  1463  1585  571  1088  1266  912  1538  1778  810  528  398  507  1246  1379  1810  1548  889  623  896  1752  1388  979  1559  827  1802  1203  1554  338  1115  1747  1697  1843  1651  97  362  1430  1486  1783  1507  990  1069  267  1751  85  1462  894  1044  768  428  1483  628  1553  1675  1594  194  1738  1002  1644  1139  849  18  1692  991  1243  278  749  959  1126  572  1294  1157  1054  1480  1398  1605  1620  814  816  444  145  1099  1244  558  263  1441  1402  1809  662  1334  1295  316  1233  1340  1039  809  923  1659  237  510  945  376  1824  537  947  1125  1530  1048  1848  1500  1639  1213  1489  409  1025  523  1059  1160  1309  989  1319  1685  1296  1012  618  519  1390  174  1035  73  1535  687  1311  714  502  745  322  1409  1630  1690  56  1753 \n",
      " 80.285173 seconds (443.64 M allocations: 15.176 GiB, 3.79% gc time)\n",
      "MADE SZ 2 42\n",
      "MADE SZ 3 132\n",
      "MADE SZ 4 419\n",
      "MADE SZ 5 1156\n",
      "MADE SZ 6 2658\n",
      "MADE SZ 7 4912\n",
      "MADE OMINOS\n",
      "9335  500  1000  1500  2000  2500  3000  3500  4000  4500  5000  5500  6000  6500  7000  7500  8000  8500  9000  MADE DICTIONARIES\n",
      "NEED TO DO 2514 TOP-LEVELS\n"
     ]
    },
    {
     "name": "stdout",
     "output_type": "stream",
     "text": [
      " 3194  4495  8791  306  1316  4621  5543  5842  4473  6421  4460  4517  3120  7748  7203  5335  4547  5162  7361  8588  5342  3170  6454  2553  5476  8627  905  5746  1469  3711  6827  8714  3335  4156  318  4817  2351  4398  2061  3308  8605  873  5773  3598  4411  4715  2805  2835  6440  7250  975  7316  4300  7514  5622  1442  2300  7573  7418  6507  6688  3213  6963  7398  7932  6079  8524  5529  6627  671  8075  4479  8365  930  3397  5216  5458  8409  8346  3386  8607  5822  4629  8116  6501  6312  7321  8045  6764  6867  7851  9321  7530  3286  4599  1871  7269  3246  7278  8421  8729  7093  7766  8670  7166  3887  5322  3007  2251  7943  4159  4507  7694  8787  2396  4701  5363  7484  7849  6332  9063  8494  5279  7452  4614  6731  3377  2433  4542  1683  7103  908  4150  1705  4812  5011  7895  9197  5577  8229  682  4605  4781  5084  4832  5420  1426  2306  7916  2732  6803  8207  8369  8741  5064  8204  8634  7871  4747  9130  2414  1512  6298  1146  6218  9208  2207  6123  8252  5843  3783  6554  1135  4528  4682  2664  6689  8284  4527  5248  8244  8027  5863  2674  7444  5302  4931  5589  6824  5101  1158  5973  7466  7504  8918  5266  6397  6394  7363  3979  9022  2210  5560  2624  6538  6715  5133  1136  2076  3821  4413  8098  3432  592  5854  8389  4554  6247  6115  8157  3629  7271  6347  8171  6820  7437  3716  2700  4671  453  7179  7486  1247  3482  7101  2490  9314  1445  4601  5755  8022  7564  8692  1150  8064  4534  1286  3914  5839  6745  5341  5527  9169  6982  9073  4892  5909  2204  5192  522  7071  7960  8095  3965  152  4407  4899  2491  4591  6890  7112  6665  8144  6231  3398  7129  5408  2458  6387  5649  6588  8516  9106  5487  4919  7019  8837  2075  667  1618  3918  5351  795  5694  6483  6631  7859  3110  3950  5836  5998  7762  8742  7328  1274  8094  9069  6988  446  6169  5003  8570  2380  1672  2443  5098  7048  9331  918  9067  3022  1946  5944  602  1074  5305  8507  2404  3900  241  2752  1444  2926  5688  7333  624  4340  7119  7401  8139  4338  6210  935  1049  3691  2947  4500  5184  4235  5044  5218  4040  4010  5300  5004  5758  5882  7151  4714  5725  7053  7874  8753  1107  4681  8879  5259  2985  4539  8502  5642  7890  1381  2241  5614  7738  4428  7260  2703  4439  890  4350  8332  1228  8307  5796  2872  5374  1794  8148  8082  8119  607  418  3040  4501  7757  6944  5697  7636  7723  8921  4425  750  4403  9329  6408  9135  3954  3928  1091  1211  1098  8675  7806  9038  2485  3587  7074  2998  8361  914  6004  4017  1637  4133  2290  3070  4009  7677  8237  507  2727  2903  5125  5902  497  3680  5742  8979  4801  2580  1748  1559  4628  6309  8088  8216  9260  3271  6536  8498  3623  2093  5702  8288  5368  634  9094  2426  2821  584  7586  8462  9288  8138  9117  2352  9036  1437  6346  8265  8355  8552  8849  4656  7912  867  5431  4861  5920  2421  6796  5204  7236  9108  1607  2987  3188  5816  9294  3291  6371  2168  9055  5088  5454  849  3274  6425  1942  421  5227  2545  4994  6488  9019  8366  5965  166  6551  4054  8901  1898  5269  4423  6843  7754  3150  3682  7084  6753  7622  9309  7590  1831  4060  5757  8566  5770  554  1441  7542  9270  86  6950  4556  4999  6920  4245  7312  3317  3357  5110  8223  2913  3790  7297  7746  8097  8187  3501  8926  7521  3342  6077  9033  9075  7713  9276  872  883  2689  2839  5764  5514  701  237  5945  6522  8166  8476  613  2127  5891  7215  6120  1502  8395  8676  3268  4717  6513  7760  5197  6650  4483  8841  2697  4019  4311  5457  6923  1698  7553  8311  4858  1059  6562  6153  3311  2640  3815  4551  5340  8013  1543  4505  3368  5289  5567  666  7637  9025  7152  4064  8019  2161  3564  5588  5321  8069  3443  73  5026  5215  5541  53  6523  3309  6839  7302  745  8209  6877  6606  1826  6991  5371  3293  8763  4773  5078  4985  6294  7664  6852  2779  4531  8477  1248  1532  3227  4417  9334  5448  7789  8700  5916  8422  2967  1818  4647  4145  3289  4253  1981  4577  8086  1015  2177  4587  625  4520  8812  1385  3036  1218  3676  6955  1189  7739  7826  5750  1326  7464  6888  3660  8190  4272  8725  327  511  3593  5019  7511  780  1756  2225  5860  7867  4926  4765  2989  1216  3431  4250  7315  8429  3415  3630  2146  5171  5453  4240  6946  5820  8537  7544  217  4148  6552  6240  4434  5724  6050  6144  9237  8457  1668  8895  6527  5455  2085  7731  2469  5158  9115  5608  7930  5054  8651  7354  2969  3734  5183  8460  1611  2968  3715  961  6007  2651  4034  9265  2573  6060  6898  1684  7428  4087  4503  6164  7558  4329  4365  6017  1825  5065  6180  6829  2960  1870  3350  4028  6863  5206  7416  7555  7758  3318  7695  5440  5561  55  1034  7133  7284  7556  7843  7854  3254  3379  1625  5706  7654  3709  6579  3297  2073  3724  6404  2877  747  2405  6637  9311  5358  5089  253  1498  7858  7717  1584  3990  6861  3408  2931  5264  5849  2795  9234  3993  3759  452  2415  9218  3888  6740  2247  6994  6015  4347  7917  5433  6385  7040  8914  6084  901  1080  1806  5728  8928  5407  8989  9268  6430  7028  105  7192  8245  800  3758  307  1448  6648  6682  5867  3249  6704  7352  1934  5575  3575  8782  4077  8008  8393  6370  3844  7301  2361  7642  6110  9083  2116  2750  2874  7944  715  7787  4499  6733  1555  2595  5022  5213  3710  7810  8953  8735  7228  7611  9176  19  4228  4349  3326  7186  5378  4215  4326  2746  5069  6477  6517  2356  7900  8050  5478  5603  7866  8640  9039  2190  4497  5271  108  5093  1053  3494  7631  8580  5308  5073  2924  6692  9185  5002  755  3772  3705  6605  8466  6333  6879  1253  4564  6643  6818  4356  4620  4921  1304  8085  5217  5938  6211  8029  4578  3947  5518  6233  7649  1310  2618  8104  8716  7064  6760  7588  8978  1413  7339  3414  2890  4863  8465  7230  6798  3122  9279  6330  9058  7016  8772  3157  3866  7741  6557  6057  6679  5471  6451  2708  5864  3261  4506  6358  7057  7967  1893  5225  2781  6020  8195  2155  7025  8140  5377  6816  8214  8854  627  3417  936  7947  6414  5606  3650  2105  7583  3134  5050  4953  6702  1577  5356  7480  2147  4181  6154  7489  4074  8189  8231  6664  9213  805  2965  3829  8114  1676  2611  7908  5260  695  2952  5120  7380  380  5175  6874  8479  5536  6417  4375  7676  6854  5293  9199  1168  4898  3263  4730  8290  5817  3695  3818  4852  5256  7116  2012  4415  5656  3725  5747  68  3201  3605  6736  7274  4608  1861  4203  6422  7525  7734  7740  7929  8717  724  3467  3592  4869  6463  4935  7405  3775  6743  5785  8475  8428  199  6917  7008  8376  4185  7358  5006  6400  2880  7578  6892  9089  4139  1121  7004  2379  683  5616  7665  8565  8587  7685  9151  5463  9243  4788  4575  3130  6949  4662  1149  2891  8865  539  814  1371  7288  7382  9100  2074  3037  6936  7528  3034  8145  541  7120  8860  954  1482  6171  7966  8730  3115  4395  7132  6438  2037  8020  5403  3531  3645  6288  7510  7616  2149  5775  8496  2369  9066  5794  3698  6585  3871  3527  6449  1075  3084  3773  945  4446  5709  684  7561  7957  8480  9253  4285  8378  4759  3863  8183  6401  2391  3054  7475  4424  7832  7206  8230  2429  2666  7257  6034  5585  7490  4023  6973  304  7110  7755  7221  8286  8905  4613  8620  5258  7246  7272  4958  6398  1104  5200  5327  6969  8693  9303  1106  2531  2091  8637  6989  1152  4864  6635  7994  5057  5456  3807  5494  7802  8649  3997  7207  3407  5445  4047  9004  2883  5366  5618  2854  4989  7691  6481  6747  3600  7507  7429  5360  3559  6374  1000  8172  289  7105  4522  7700  8289  8529  2063  4746  4804  7836  1232  7996  6112  3280  2287  6805  5997  4194  7364  8454  4454  6021  3896  4081  7648  8316  1944  5715  4666  4964  1718  8776  4167  3009  2141  3551  5045  5663  552  4907  2754  6500  8948  2283  4857  489  6649  8323  5553  2668  7560  2995  6461  3306  898  3891  3430  7445  8758  6519  3219  7242  2270  6453  2534  2584  5014  7720  3371  4736  5789  6916  4297  5128  4908  4523  2712  8975  2136  6302  8096  1370  3927  8005  2949  4032  6260  2368  3441  8373  4302  9059  7164  2185  7891  8167  2848  9064  4384  2721  5928  4262  1743  1945  8336  6556  9164  9226  8434  4879  6142  8517  7667  5005  6320  8799  8924  7822  5017  3545  6662  8046  8356  7267  734  3830  5591  5511  4138  1251  6560  6661  2961  7575  4494  6968  8018  2977  6491  3011  2710  4451  6600  7201  5201  1890  6644  7992  8764  6609  4925  7210  1787  5252  8102  4332  7400  8663  308  5923  4673  4550  6495  8161  6674  4920  1317  778  8724  3233  1264  7926  1982  5555  4606  7457  7403  4278  6751  4275  7329  4695  6054  596  6337  7100  7223  5482  4037  8813  8838  793  3737  4211  5499  942  1574  3210  9301  7265  4237  1  7365  7389  7566  3103  7309  8281  1868  4361  5756  6703  944  6819  6957  8897  9261  4053  5025  4566  8203  8560  6381  6845  3922  5637  2176  3088  1173  3041  3303  9283  6986  3177  3526  8896  6498  5703  7799  8679  2250  1954  4282  2955  6075  2017  6413  6940  7688  6156  785  4950  7750  9138  7671  2002  2215  4570  6119  2066  8934  8954  6869  4281  5601  5545  6364  5051  5166  2535  2363  3165  4561  5695  2612  1977  6308  358  8990  7887  3804  3282  5504  5974  1921  6677  2006  1947  1716  5467  7673  8424  4532  6279  4716  1132  3203  365  7978  7131  3731  4069  2958  771  4754  4875  8000  1989  5130  4829  1969  6188  8297  825  8818  5602  78  2523  1403  3056  521  4626  8049  6399  1864  1464  5771  8882  3145  6680  5832  1961  9086  9271  3422  2339  2268  7862  8639  4853  4529  4623  8208  5000  6150  2819  7293  3703  4888  8124  3144  8681  9044  2112  7305  3447  3553  703  8904  5107  7808  6657  6361  4244  3129  1865  9306  4015  6690  4509  1855  5419  8941  3478  3817  3100  3697  4795  3211  2150  5224  7075  9289  2762  5554  4718  417  6615  5449  4256  1156  9026  5007  2658  4877  6353  4449  7592  1200  5210  7281  7980  2448  2842  3486  6383  4609  6048  7815  8455  8546  1016  7078  5038  1724  1913  8996  2228  5393  7925  5716  4337  364  2925  1246  1810  2652  4727  4658  5621  889  623  5236  5850  4738  6081  6306  6698  8017  9015  7907  8505  8840  7368  4971  2815  5442  8165  2455  4128  6292  3528  7933  8367  1068  7779  8273  1915  6779  6016  1828  8106  7904  3739  6471  4036  4444  6165  2125  4725  85  2629  3425  6418  798  4416  5733  6549  9160  894  7042  9277  5910  7856  8610  9251  8929  6520  6728  4837  8408  1163  8300  1646  3591  6093  4690  5986  1919  2364  2459  2619  3458  3582  3970  6668  6726  6214  6974  7090  7692  5411  7728  4557  2600  2866  1291  4603  8773  4654  8469  9060  9224  7604  1620  7026  7222  3802  7698  2304  6297  6350  1948  6429  6713  8721  5631  7552  7726  6553  9175  588  4643  5788  7931  2676  6730  9144  5579  4644  9068  7115  2608  3067  6911  2802  2358  5146  4750  5913  3444  5076  2051  3401  8534  6939  7669  8047  8626  2439  6235  8508  395  6821  1848  2745  5424  536  2738  6539  2001  6542  5196  4862  4226  3835  6006  6395  5222  3330  2208  8247  8774  7393  9179  5793  371  4821  1221  5383  2453  1138  6264  2088  2832  7749  5234  9305  3649  6432  4536  3000  1453  2036  4488  7231  7360  7875  1391  3675  6653  983  7425  8077  7153  7009  9126  3437  7581  7640  8213  8631  7137  4917  491  2530  4805  160  5066  7158  2493  6341  7067  8326  3117  8056  8535  9139  2563  4820  384  992  5827  8733  8589  3255  4598  4818  6012  6497  1429  3402  4649  4936  8759  6815  9286  5416  8594  1396  6502  7383  9221  3867  4216  9256  4825  6434  2019  7387  5148  6628  3456  6783  2477  5760  7526  9078  8749  5498  4261  4705  645  8176  5402  8762  425  3874  9158  1208  5956  4450  5497  6360  7703  4901  1302  4703  5624  3175  3204  3657  1631  5604  3275  5980  5994  4696  4106  8135  8425  4290  7277  7061  3046  1903  3102  5010  8129  8293  9153  5425  2974  3569  302  3720  1178  5103  5546  8959  9215  6720  5311  8432  7051  5729  9292  3048  2393  3626  4977  8257  4490  2175  102  4227  1975  9247  6393  5117  8156  4419  6531  4252  6515  5245  4170  8728  9107  4192  2483  5767  9074  6767  9249  5623  8987  4379  331  8503  4486  5509  5619  8705  1328  4844  638  4922  6140  5984  2941  8100  8986  9147  3265  3568  3068  4464  6622  7602  1626  3994  6778  2908  7189  9250  6804  6456  6573  5451  8317  4983  3186  3579  1952  7170  6241  6521  1145  8143  8011  7134  705  5795  1272  3072  8065  8995  9093  4386  4607  265  5180  282  1860  2264  2938  5635  6746  2188  5176  8711  801  2388  8026  6433  2728  2357  8379  5042  3352  6170  8034  5786  3819  9042  127  4890  3763  8170  5400  5159  2828  851  4815  5692  1804  744  2570  5826  7174  4433  5452  7369  8340  8809  3424  7062  6344  8352  1268  2470  999  4083  6447  3471  6232  5713  2979  1768  6998  7840  8548  3846  5500  3836  3116  2171  2476  6642  702  2846  8848  6971  4212  8248  737  4345  5932  6448  7618  3421  5638  7410  2823  8814  6125  1667  8833  3519  4916  5364  8968  8894  7879  5278  8394  8255  9056  1282  1491  2163  2594  1321  3673  5460  4097  5811  6263  1190  7251  4197  8039  2785  3614  2227  1269  2917  8359  3028  6187  9238  5924  7813  4708  9183  5818  8543  2510  7439  1987  2193  1220  8263  1284  1878  8541  1313  5369  6587  7370  2982  2514  6868  3209  5177  5179  5350  7499  2492  7896  1941  8083  8410  1839  6321  8695  9227  538  2983  6305  6319  3633  2503  2349  2392  4639  6375  7146  9293  8201  5693  7906  2196  5373  2209  7788  4860  6954  1171  7680  4359  5174  8330  644  5763  6799  8443  2235  3238  4692  3185  5170  7311  8906  2818  2934  5309  6442  3142  6789  3014  8964  359  6960  5732  6658  1687  332  8655  9214  8072  2690  4169  1207  1267  5024  5896  7435  7889  4491  1206  2897  5552  2892  1980  5647  7881  8549  8550  9180  7652  1088  1627  5840  3714  9192  7423  1010  5912  5958  4574  3345  1345  3727  6512  5033  8726  9156  8397  4824  5254  5648  5199  6489  7656  8851  920  9229  7922  2739  4140  4352  4160  6475  7743  5111  5287  4728  480  1314  850  2610  2837  9034  7768  6930  6437  8291  4465  6878  1235  3659  1935  7582  7488  2586  2350  1788  2099  4357  1472  1930  5744  5753  1300  6768  7290  8109  8559  527  4903  7172  5126  2034  7919  3250  4161  2813  6388  7247  5347  7347  8830  1692  6369  9062  991  219  8768  9014  8486  7432  4477  5772  9099  572  2092  8539  4965  7646  3113  7395  7721  3184  2522  6612  6667  3032  4447  1837  4180  4068  4301  2164  4222  3174  8756  206  5669  6755  2850  6113  4096  7710  2387  4058  7037  7794  9300  6686  9024  7546  6460  923  7585  3599  7777  7921  8448  1009  4957  8458  813  3740  6445  1931  1474  3232  3561  4508  1866  6122  6441  6468  7056  8413  928  5082  8453  4336  5802  4713  5978  6439  7841  1296  4360  4469  7396  8407  7476  8542  5075  7658  6619  4238  2408  3190  5432  1038  1241  2432  2786  3892  8983  5570  4378  4867  2224  6356  6749  6846  6959  7571  7914 \n",
      "2736.768085 seconds (20.49 G allocations: 587.899 GiB, 5.38% gc time)\n",
      "MADE SZ 2 24\n",
      "MADE SZ 3 52\n",
      "MADE SZ 4 113\n",
      "MADE SZ 5 244\n",
      "MADE SZ 6 496\n",
      "MADE SZ 7 912\n",
      "MADE SZ 8 1474\n",
      "MADE SZ 9 2032\n",
      "MADE SZ 10 2286\n",
      "MADE SZ 11 2000\n",
      "MADE SZ 12 1236\n",
      "MADE SZ 13 488\n",
      "MADE SZ 14 116\n",
      "MADE SZ 15 16\n",
      "MADE SZ 16 1\n",
      "MADE OMINOS\n",
      "11506  500  1000  1500  2000  2500  3000  3500  4000  4500  5000  5500  6000  6500  7000  7500  8000  8500  9000  9500  10000  10500  11000  11500  MADE DICTIONARIES\n",
      "NEED TO DO 5293 TOP-LEVELS\n"
     ]
    },
    {
     "name": "stdout",
     "output_type": "stream",
     "text": [
      " 11163  9905  10094  6380  5842  4473  8312  9934  4460  8805  6757  1131  10440  9911  6336  10486  6827  1469  10458  1461  7237  5251  2061  10396  7250  6037  6200  9410  2300  5349  8644  6990  6583  7398  5870  6627  5228  8075  8752  11237  10225  6118  6426  10826  3624  6764  10388  11265  9641  8648  7264  8563  10533  4392  8197  10939  11374  621  8261  8058  10206  4507  10604  3496  6699  7077  10965  7849  9537  5047  2071  1683  5226  3464  2787  7916  9341  10750  4154  6774  9667  4247  6178  8037  9208  8252  7948  6220  6634  8284  11495  11404  3340  7504  5589  8388  5101  7466  11501  9760  11474  7756  9357  6715  7705  3432  8689  1418  4554  4548  3629  8242  660  4841  9657  11392  8184  8666  4006  8022  981  4534  6745  6904  3495  5829  11390  11446  10889  8691  2655  8601  10401  982  10630  11311  8516  9106  10789  10202  8794  10044  2050  5998  6102  4645  8404  9331  9263  11391  9458  9360  9194  9551  4436  1853  8335  6472  6018  5219  7401  9438  7591  5493  5004  10343  5725  8127  7053  10112  8482  8028  9526  10561  2888  4147  5571  9851  9755  9085  10722  2647  9258  9077  115  5012  8082  9318  11187  9329  11055  11179  1496  6903  426  8105  10164  3003  10057  7424  7806  10296  11332  9038  9778  7074  7479  2256  8940  6311  8237  10351  2572  5481  5902  9944  7178  4628  6624  5633  10436  2269  4538  10005  9847  3558  2121  1430  11408  8558  11438  1751  3332  1044  10242  4035  2976  2154  8266  628  7381  11258  7681  11220  8287  4001  2245  10879  11464  1958  9375  10140  8850  10932  11233  5965  7000  11001  1126  4054  10422  8901  1054  7076  10557  3343  7709  6727  5658  5757  4945  8566  10617  9188  5087  3823  6950  2871  4245  10003  9276  8097  10154  3342  2123  6522  7254  10346  10105  4761  10122  8439  1530  3392  6141  1213  4024  10577  6160  8832  4858  1309  4551  10512  2901  2212  4978  1896  10400  5321  73  9788  2487  6523  11014  687  11078  11322  10968  10818  10523  4368  5232  10279  10075  11488  6410  7003  6956  5968  10878  5916  10177  5919  3289  5345  6503  7951  10636  5090  4887  3789  10494  7522  10959  4520  6980  10118  8310  10646  8925  3583  10224  8190  3252  3593  1797  9275  8531  7898  1879  3182  10051  10211  2064  6962  11359  8325  9476  4930  9841  1487  6085  4846  7731  8185  3745  9387  4627  10887  5752  5183  11203  3765  3771  7798  8581  3700  7846  9534  6017  1825  6059  8504  7139  10944  2803  8911  4199  10632  2249  7284  909  2822  8593  8795  9921  7770  9399  6404  11465  10317  6104  5298  10184  4726  1471  7043  8891  3294  10931  10997  6851  1542  9333  2795  9234  6999  10810  7803  324  7191  7917  9436  8334  10769  4372  11434  105  5439  5714  11428  3249  4292  11183  9942  10562  5154  9319  7682  2068  2398  5127  10447  10861  10650  11189  3812  7184  9472  10899  7213  4655  1555  7718  7950  11248  8108  10266  5946  9177  7440  8923  5069  10131  9428  7197  10141  9039  4880  1661  9815  11260  11157  8624  9185  6329  6643  9999  3038  10181  5518  7353  1908  2620  3952  7322  7327  4457  3800  2095  2856  10752  4098  5418  6537  9583  5074  9279  9613  834  3157  11315  2438  11312  3934  6057  5471  2101  11466  3261  4117  2544  7057  7708  5325  5710  8750  4924  3704  10983  10482  4779  4873  7947  10216  398  896  3829  2100  3055  4650  7908  8608  10706  5304  10900  8406  11036  10398  6417  6787  9477  8685  10361  7727  2311  2427  7929  5798  9016  10284  4869  9753  8042  2656  9719  9358  8428  8309  7678  3656  6601  11347  5834  7509  7685  1243  3130  3020  4662  1480  2751  10038  3382  9100  9924  10276  10432  6936  3304  7120  4225  1402  5853  6171  7966  6128  662  1334  4395  4800  10696  4041  11008  3973  7510  1039  7616  2149  10830  10208  4125  5794  11277  9253  10550  376  11477  11358  3057  10055  5906  9964  3202  4424  10687  9685  4023  11089  10294  8892  3776  11479  7272  5327  5505  9303  7182  4640  2303  7614  8578  9307  10364  10525  10250  7185  7878  4678  2109  5434  11180  3407  4047  1993  2305  2780  11386  11024  8152  8030  3983  5653  7836  2808  10185  3585  5997  9722  445  6978  6541  10594  4964  8776  2141  2748  4802  10451  9638  8456  7027  10166  11124  8948  4857  5553  7276  10653  3891  5801  6446  4642  10469  11067  5521  10783  1549  6712  3161  7030  6184  10587  1370  619  3878  8778  6260  3081  7891  2185  11254  3951  11211  2370  5094  10547  10586  4262  9731  8673  9797  11154  8517  6213  2087  7267  6568  8018  6661  10730  6039  789  6600  4438  8847  9578  9741  3632  6609  8102  5964  2031  9936  1278  6495  9365  6674  6826  4305  9835  9502  5922  4883  10425  8036  2169  7403  4560  10331  9398  9448  793  11017  216  4113  4237  8474  7021  10349  6419  4361  6957  5756  9579  9532  10657  3611  5025  11249  10970  5874  6229  6315  9819  9917  7799  2955  2017  3851  8194  7961  11012  3991  4387  11400  9738  9751  2066  950  3031  5601  9772  8788  123  2363  3105  9727  7887  6392  2683  10077  10707  658  4616  1350  5467  3665  7673  8803  9891  3517  4143  6901  4069  2958  11194  2568  1989  6111  7824  9673  11471  3136  8882  2523  2382  5370  2855  5523  8208  5080  10955  10028  2112  4369  8904  4762  5009  8292  9700  6576  7608  3697  9242  5224  7075  11065  8103  1518  4718  11047  3895  7592  6427  2538  2194  11104  7980  11125  9651  8017  9499  6133  9948  9663  623  1388  11413  4334  6436  7907  8840  5705  2546  11371  2455  3118  6261  4128  5707  10947  8367  1843  3359  8484  5736  10663  8106  5472  4709  85  2067  11340  4764  9236  4206  6919  3543  7268  8238  9779  6406  1675  3899  4029  6735  3206  9449  5686  10129  2619  7350  10894  6726  8680  11500  8272  278  11331  3112  8403  9745  7829  8603  444  9421  8927  4752  10100  11349  6817  11232  2472  7304  6235  6895  537  10139  5535  10217  11018  9829  10778  11492  7270  11110  4144  4046  7833  174  4821  6847  10885  9818  2832  7063  3976  7360  7231  3621  6653  1630  10998  1964  9990  9973  2473  3437  11138  5903  8631  8535  5066  6341  8956  1103  5398  9716  8638  6493  2054  4936  946  8594  1859  9219  10157  4408  8014  2029  2191  11184  9594  11383  10529  6628  1912  3026  2994  6325  9207  9598  3874  10764  9143  1175  11304  10387  11478  8200  8551  1631  8425  11410  11002  5929  9215  5103  5546  8959  10647  2254  1882  8920  1975  4031  6531  10101  10311  4252  8728  4192  7885  9249  2829  9661  9090  10854  10495  5984  6748  10520  7736  10087  11281  10119  4518  6738  11395  9836  6573  4443  9002  10841  1621  5531  4766  4220  8011  7134  212  11490  9954  6036  760  8995  11205  11339  6746  2188  1573  8275  9926  9895  10433  11045  3819  4218  9878  10167  10086  10010  1033  4889  6158  7729  7569  6998  3018  711  6849  5932  3883  576  3061  10156  10403  8939  11354  8394  8963  10862  11243  3547  7095  5229  7251  4637  5430  5617  9238  2917  1416  1006  11033  11210  11325  10384  7800  10908  8263  3941  1850  5350  6509  3880  9227  2983  9484  10362  4639  7469  9070  7146  11062  11049  9293  10945  2196  6543  4095  8781  11113  9001  9492  4359  8330  3556  6245  8224  9515  2818  5309  7010  359  3465  8635  1622  9754  7977  8253  4121  8493  7435  10949  8549  8600  2978  8232  7652  3207  6389  7423  7724  11218  8226  8916  10092  9975  1752  4824  2410  7972  3178  8851  8391  10467  9767  3089  1747  9486  3953  7595  11068  4312  9857  9479  2837  10288  990  9462  4472  3659  5489  8574  2005  8654  5744  9627  11098  7949  9557  11003  11317  3574  4798  3618  6162  1139  6201  6639  10739  10503  5772  9883  572  4965  10350  263  6912  8521  7300  5030  5669  2850  11344  809  4304  11318  9024  11035  923  11483  4957  10572  8590  4322  10875  1125  2331  8413  10214  7624  5802  3968  5450  8258  1012  1390  1916  6217  10473  8755  11129  8420  1035  11480  4238  7619  9047  6259  9637  6356  7918  3264  10758  11397  9244  10819  11493  1090  4130  4811  10553  9424  9408  7748  10461  5318  2376  3826  11042  8714  6555  10658  5310  4156  5317  11061  10992  9487  9860  8605  4411  11460  7316  5502  7573  2202  6688  10103  7932  671  8154  4479  5894  8409  7902  11342  5650  5357  8346  9443  6501  6744  10004  11212  685  5446  10835  8670  7166  6334  5274  6918  5297 "
     ]
    },
    {
     "name": "stdout",
     "output_type": "stream",
     "text": [
      " 5169  7289  10328  5363  9330  7484  1664  5281  1821  2433  8839  10301  11095  3331  11416  8229  6547  4732  10733  1510  5359  1959  7871  4747  9130  10649  11268  3082  10023  10622  4682  9787  9048  10777  4109  3290  2674  5096  8071  8919  7853  9901  3524  2701  10966  5973  236  11109  11291  2210  7956  11147  9951  5988  7941  5461  5961  125  6347  11498  3876  9593  8579  11451  11432  5755  10828  2996  11044  8199  11364  11195  9073  10802  2491  6890  7112  9124  4458  8697  9843  5261  7859  10293  1003  4186  8742  7762  8094  9069  5003  1672  7048  8598  3466  10022  10911  4856  6124  2113  11422  10928  5907  10539  1444  1608  8295  1072  11219  4299  10660  6210  9629  10281  5044  8707  6033  9837  3234  5888  8331  4948  10327  4984  4720  3549  10916  2115  9590  10838  10954  5657  2675  3220  11136  4439  9203  5323  11261  10151  10175  4546  7143  5796  8307  8821  8362  11368  3043  9565  9174  7723  2089  11197  8522  10071  4126  3926  8675  2559  9527  2609  8125  9998  5085  507  9260  10265  10475  11485  1559  11221  3770  8533  5702  10430  7844  9442  2821  9575  6511  7372  10891  3484  2199  2352  9744  6633  8265  3469  10046  10634  4291  9769  6424  11450  7236  5613  7233  2400  3346  9103  9666  3274  6425  6146  4993  9848  7453  11321  3525  2518  8945  11288  5269  11054  7754  6843  11382  8044  10382  3936  8423  8988  10709  1441  5595  8930  5745  3889  1233  7746  7790  7935  7713  7216  7408  5764  5945  5514  10322  3010  5891  510  2081  5203  1639  5197  4483  6650  4019  7979  10373  3066  8076  3260  6096  10625  2293  6086  3368  8553  10994  10130  5609  4064  8055  3179  10877  10072  7194  10097  3488  6839  5211  745  4120  10667  1690  10194  10926  9313  7707  4043  8477  3859  2446  542  10408  4511  10526  11080  6833  10407  11222  10446  8812  9351  7292  8746  6888  3660  7620  7253  10353  10189  2225  3577  7867  9780  4765  5182  10501  3852  1216  4250  11181  5312  7097  5171  10465  6946  7852  2919  10735  7386  8457  8748  9384  10073  11115  6431  9115  10796  11034  4947  9441  9546  6384  2138  5682  2024  8460  9217  7946  4480  6226  1174  9586  9782  1614  6180  2616  9353  4674  5142  8967  7758  11435  9325  1372  7668  5382  7821  10325  7635  3452  728  5706  3709  2144  3724  7355  3385  7776  2644  4702  8718  9831  6861  10710  4868  4318  3916  5666  6811  10138  8235  9908  8274  7644  10104  8701  3959  4149  8872  8864  5597  9190  1934  10198  9746  10262  8782  9570  4589  5908  9636  3537  6370  2361  11301  570  5700  4320  10927  5022  7611  5115  9422  4326  5172  8532  11305  2356  9707  8324  8690  5603  7866  10897  861  3104  3479  11059  5237  4118  10034  10543  6692  7883  4481  8947  10107  7085  4921  8829  3857  9463  8824  8029  8104  9340  8716  3881  11199  7064  6666  2628  3363  10836  3414  7018  11290  10209  7880  1888  10960  3245  10176  622  9861  11447  7016  7987  101  4478  6679  11165  11160  6525  10392  1431  2936  8080  7072  7687  8195  9412  6203  9643  5050  11276  7480  2797  9118  4074  6841  6664  8196  5189  8114  2672  10984  2611  9425  3092  10982  6874  8479  10552  2195  10413  11029  7850  8491  3263  10568  5817  3818  8021  362  7342  7477  8251  5328  9805  3589  7291  9668  11316  10488  8321  4056  6917  10571  6159  6032  7375  18  3732  10941  11467  749  11338  6597  2314  7258  7336  11234  7528  6191  11264  3752  1809  5857  1295  9519  10903  6707  7773  10754  5815  6870  7282  11148  3757  1048  10759  6655  8994  7111  8183  11072  11173  2026  3511  11153  6773  8792  9299  1986  4613  9611  7086  9759  5673  4737  11256  9968  1279  3997  9699  5445  8808  9116  8557  9122  11308  3600  6019  5360  4724  8308  7613  1395  7996  7298  4932  779  11192  921  1718  10895  6121  5677  3551  11375  10551  10788  11208  6368  5819  9072  10257  11229  1816  9196  11336  10308  2499  5238  7160  9864  2310  5528  10223  3430  5586  8910  5845  6654  10798  5681  6022  8342  9680  4741  8178  7567  7052  4190  10775  2136  5104  8220  5168  7650  3927  6710  4032  6355  11327  2368  1154  2342  7044  7600  11489  6025  6098  6199  10182  3221  10240  9164  10059  6556  7039  8283  8417  9858  6386  8009  10892  8799  6320  2542  2474  10999  6662  7838  734  7038  10278  11088  8796  5735  11494  150  8115  10255  9037  8764  8965  7343  1680  9825  5923  7786  11225  9017  8724  1982  11401  9223  9811  5482  8122  11240  7701  5114  8831  6250  6225  9928  11207  1769  8684  9220  7365  7263  3643  8281  8660  8897  11379  2500  9362  639  10662  3766  6809  6845  10025  11279  10609  10222  7962  6174  11142  8866  9283  9201  7346  10018  9804  5576  8679  6075  4371  7765  10726  1499  6063  6156  5739  8751  6869  7915  6812  7306  9427  5838  759  8518  10675  11263  9739  8564  6202  11369  3749  4699  10684  10871  1937  8528  5602  3145  6680  8862  9712  5550  8639  10933  9222  8112  10832  3553  518  7593  3049  4244  10563  10792  10527  3478  3100  11231  3211  9923  11064  7627  4256  5007  10298  4784  8546  8455  11193  1778  7024  10043  4727  3798  11270  8622  8737  10626  7845  9163  5645  338  8084  11387  6694  6114  8438  3967  10681  2390  4780  1507  5352  9350  8857  4444  267  3840  10621  5149  1462  3425  6172  6850  7042  6469  768  5910  6327  8441  9251  8929  5734  11155  4610  8604  194  3502  1002  3591  7692  5072  5141  7986  2282  1605  3281  10816  1620  7026  9543  1867  9865  9167  9953  3506  7938  4643  6830  6730  2604  5579  6290  7812  9856  9902  5913  3444  7820  10132  8628  7113  8047  7060  8070  4689  8315  8786  10606  9082  4358  5286  8247  989  10249  1319  1685  11448  519  7069  8296  9173  5383  10661  8900  4502  9710  10870  1311  9832  7481  7875  8890  4942  10123  7742  6323  56  4209  9126  8464  6953  8856  158  3117  8193  8060  9587  9704  5915  9206  10779  10363  10333  8703  479  10839  10961  10548  10275  3867  9256  9947  10784  6575  4085  6434  5148  7442  6783  9523  6073  7390  11409  10423  5641  10702  8749  10856  11083  6565  9827  10039  4705  6097  645  11351  6871  11457  2182  10583  11497  1978  4157  5604  11442  5980  8217  11105  5010  6324  8538  4455  6524  8374  1552  9393  5917  3192  5905  9423  11182  8432  10150  7051  9892  7324  2393  769  4346  6470  10517  7175  2720  9876  6409  561  6515  9107  9764  11427  9969  4168  8054  8880  7984  4213  11309  10558  6140  10986  9416  8100  10083  8986  3265  6622  4177  7602  8908  10252  6729  6893  1960  3750  3518  4838  6822  9717  8143  5480  8633  10689  1531  8345  5332  4386  4607  1860  4669  8912  1214  9338  10290  11274  7857  801  5178  2728  2990  3270  6072  6170  11356  10173  10576  2561  6183  4890  5438  10060  5159  5692  8877  11293  6758  10468  10755  10289  6981  7422  6344  7099  4859  4083  6209  10851  3199  7367  320  3956  5713  6465  9278  9137  9332  7953  11000  3416  6808  7548  7823  5638  6647  5865  10056  7816  11143  9648  11313  3230  8894  11463  10013  10813  9056  11257  746  4196  10454  4579  9023  9045  5426  11323  5924  9183  11393  3837  9765  3562  10366  11361  9005  7896  10153  6766  8068  2442  10380  10953  11415  10952  3080  3355  4860  3256  5008  10935  836  4067  1537  7141  9957  9983  6799  10067  8906  7737  9868  11491  1567  3590  5732  7081  8573  11355  10218  7699  7107  2892  1980  4854  571  1266  9894  5912  9009  6782  11476  8817  8907  10040  8668  3539  11482  10791  11070  9229  11046  7922  4140  9389  5287  10244  4728  11499  8632  10035  2610  1486  6872  8770  6930  4295  6437  1069  5778  6878  2705  7582  8582  6082  10716  2099  7774  6179  2198  7536  8151  4101  8830  9582  4742  10842  1692  10115  9374  11269  9014  9808  8486  9816  7903  8303  10368  4380  1099  3594  3860  558  9828  11388  4068  4089  4414  5975  6113  9809  7794  9300  8458  4774  3232  3237  8876  5590  6439  7841  5782  8617  10881  5432  8983  8583  11380  3892  6492  9230  11367  6846  10925  3194  8791  10820  9873  11455  11278  11145  9420  7361  8708  3170  6719  2126  6482  5636  8874  10196  9652  285  5993  7603  9392  5444  2351  6929  10664  5773  2597  3490  354  5622  7670  9796  1082  5594  10099  2162  9285  6079  5529  5936  "
     ]
    },
    {
     "name": "stdout",
     "output_type": "stream",
     "text": [
      "5548  8365  5216  8801  11423  3386  9456  8116  6092  10367  5530  8971  9591  3661  3246  4310  9035  10016  10669  7766  7706  9518  5023  7943  5059  3445  10852  8555  5240  1640  1331  11213  6935  5056  7452  6882  10670  9197  3825  2765  8343  8415  4911  11319  5084  8207  7083  10972  8372  9356  10893  4697  7073  10948  6298  6027  6672  11011  5013  7735  11376  3376  7657  9239  9349  1097  5781  9869  6689  9459  6362  11101  5248  9547  9989  8481  6824  9766  5266  6397  11094  11324  8509  4667  6147  6009  11283  7460  7532  1017  2661  9316  973  10532  10991  655  7498  6115  3487  9563  3786  6135  4671  11328  9979  4871  7013  3482  8001  8625  8177  8337  8692  7349  7334  7954  6569  522  5979  931  7377  9986  152  4407  2170  6008  11475  11280  7596  11504  6396  10253  1008  11058  5098  9067  5944  9684  10823  5132  10782  9852  9820  10768  4845  5688  7031  3738  10068  4810  10598  4940  4235  11253  10234  7151  433  10450  5406  5259  5235  9020  5937  7890  9545  11373  2090  8888  2203  6717  4182  4350  7318  8332  3754  9623  1906  2213  8148  9146  9693  11486  8254  10942  4814  10585  4425  9135  2252  6593  8079  10882  6246  9255  9679  4970  10001  11418  3702  7540  4687  3677  5823  7683  3940  9553  9494  7135  5742  11275  11010  11015  8216  1802  3271  6536  7407  9939  3623  1922  1115  9132  8643  10781  7804  9288  9117  10158  5134  7502  11161  11440  6913  9799  1644  7032  6887  11289  7308  11394  6488  8366  6551  1157  6420  816  5396  2707  4902  5468  9826  5704  7590  10964  10620  7266  10287  5110  3272  8223  8187  5983  3387  8166  8476  237  10799  9501  6595  9817  10921  5443  11126  5824  11027  6923  3523  4311  523  7173  5340  7303  9482  4913  10648  3358  8019  9737  11175  10215  3443  11496  10975  9675  10478  10334  502  9978  10896  2800  6877  4876  8609  6828  8087  9846  10078  9334  10493  5448  10579  4647  6236  10174  2177  9013  9824  10410  11366  6428  3375  4663  4830  10326  9726  7411  7739  9003  10019  10058  10201  11134  7114  6219  10683  10002  8725  511  7225  1949  6652  7167  9133  2178  8887  7990  720  2056  8401  10827  8120  9871  248  5491  11043  9993  8117  5820  7434  6278  5417  9564  5249  2865  10564  7780  5344  10302  2437  6705  11227  5054  10780  1459  10230  2617  6741  7690  10912  251  10324  2859  10737  4638  9561  5954  11246  9850  10863  7606  7828  7654  1625  344  10864  10545  3288  10738  10144  4513  8211  9181  7717  815  5899  2931  5849  10256  6163  9218  3692  2827  11131  10628  4882  5433  9660  8928  8463  11300  6704  10238  11329  10064  11133  9987  10186  5539  4396  7234  10995  11076  9743  8008  3844  5689  4704  4166  5362  2605  7550  3944  5213  8953  10555  10352  10427  3462  2986  3326  5378  8360  535  1612  8035  8661  10833  3622  10179  5271  6772  10909  2032  10655  8580  3822  5073  11250  11086  5939  4323  3236  7775  9915  8466  6333  10285  2128  7371  8085  7529  1024  4578  5071  544  1310  3603  4437  8623  7147  8978  8174  11177  7339  7897  7861  10359  6798  5372  8836  8922  5800  823  11242  9468  1823  5556  8772  9509  3154  10383  2371  11209  3866  6897  10491  3006  7959  11452  9102  5825  481  9296  5173  2781  10639  2775  7628  3050  6181  3869  8576  3417  11406  8827  11204  11255  4181  9213  5573  9514  11224  5260  7380  1554  8938  10207  6983  8182  3610  4375  7006  1697  10725  10807  5145  6035  11439  7734  11166  2012  4415  4967  5747  6736  2799  8449  8322  7525  9495  7740  6463  5610  2299  5876  6411  8475  7461  11119  7008  10476  5365  6961  5507  7358  3463  11112  3642  7870  11168  7004  5616  10540  7848  3958  8982  6444  8865  3373  7382  3148  8936  4946  10633  10283  5846  10321  5403  8496  5157  8081  6328  6794  10973  6449  8480  7638  7888  10937  5722  4285  3863  7860  1489  3012  4132  7832  8230  7475  4397  1160  7490  6034  9945  7221  2783  8286  10052  10602  2551  10740  2133  5391  4958  8249  8327  4975  8693  8276  2222  8980  9692  10076  10463  3904  10264  2289  3529  7325  8282  3672  5494  9004  6069  10371  1889  7507  9405  7659  9608  4137  11102  4280  7341  8221  6029  3267  5029  3280  3423  8454  10605  7648  9245  5715  6659  3620  2283  8323  8744  4052  9630  8933  3907  10883  8279  7445  8305  8758  8024  7242  8993  8802  5678  4839  9640  8192  4013  3470  2769  10152  10987  5537  5900  7863  9059  9996  11259  11239  9363  8336  9893  8434  10263  6455  1456  5091  2272  4487  6275  6126  3830  6560  9584  8556  4494  3405  9281  6190  9918  6676  10241  7831  5336  3400  10420  8663  9877  6900  2159  3491  10229  4165  9889  6378  7055  10358  3647  10329  11096  7610  967  4211  5307  7518  7599  7988  11048  9800  7309  2395  7696  9756  10126  4053  2833  4566  7138  8560  3922  9549  7963  3356  9007  10850  3155  6498  8896  5703  11037  5893  7688  6045  11099  9838  2002  4570  5319  1673  6119  11372  5545  4905  5695  4544  11135  5914  1256  5399  11087  358  8471  4342  1766  9528  9938  10907  8489  713  1026  6064  8424  10867  4532  4430  8074  6984  7978  2863  8267  2659  9929  11503  4875  6578  4996  6458  10515  3671  6252  10554  4626  6343  9271  10233  9086  10977  10674  7554  10866  1083  6150  2819  8392  7491  2265  9530  7808  4271  4088  3873  1855  2734  9289  838  2696  10575  9481  2025  11345  1994  3426  5155  6267  9884  7771  11506  6598  9028  7815  5038  10258  528  5716  7275  2925  1246  1810  4059  7310  11156  889  7091  979  8505  1203  10300  8165  3912  10666  3528  10021  7779  1651  1915  9713  11370  7351  11028  11186  11411  3172  6943  7516  9932  894  8568  4208  9655  10610  11081  9971  6107  1483  6970  7856  7778  8300  6093  1932  10957  2364  2459  8773  10619  959  9224  11381  3802  6713  9550  2870  5788  9068  11170  10205  2608  4027  8513  10742  4927  4409  10011  7769  5806  8626  10063  8508  10085  7188  10990  1848  8128  6281  6539  3856  10748  3383  9179  8153  9734  10521  2295  11196  10438  11273  11417  10254  2020  9305  11468  10790  5138  7153  2873  5969  6237  8506  9287  7899  5881  7581  8886  9439  9343  4917  4805  4778  5807  10584  10273  1495  2997  9592  6116  3255  9254  7689  7157  4242  8759  3617  7722  490  10848  5291  1678  1880  6317  748  8571  9659  5153  2080  6645  2876  10946  8760  11107  8784  10320  11449  8960  752  9703  8176  9949  5492  7837  11303  2337  1750  3778  4828  7703  8135  1302  441  3099  3204  3657  5596  2533  6590  7061  10747  3005  8129  5425  6813  6412  302  6289  10962  3214  11190  7795  2789  10749  8844  10314  8790  4966  6800  8815  10419  5711  601  4107  10888  11362  3292  5767  6510  8987  7920  10643  2776  1700  5619  7121  5580  7047  7374  9633  6228  3616  9845  6875  969  2881  6514  10914  5859  5272  10538  1210  6241  7809  5848  11430  9093  5635  5955  3662  2388  8379  3919  10685  9246  6061  11127  6734  9781  1421  4429  10806  11114  7062  9763  11106  3322  10714  11426  9774  8823  9812  9046  2930  2027  465  11378  10860  6642  5582  10304  1086  7547  4345  11071  1660  196  9383  7618  968  6924  8835  6776  7730  10809  5223  6131  7344  9959  5364  2279  7879  10705  7969  5811  2583  5562  10814  1776  3028  9567  8162  8584  10938  2510  1987  4221  11399  1313  10306  4467  8695  2343  5883  5804  10736  2214  8440  8554  10195  10637  6972  10795  6954  5510  9875  9789  3690  5651  1706  2447  11353  644  1477  3238  10821  9092  4757  10110  10514  6960  10801  10098  8072  5896  10291  10492  5840  6215  9192  9605  8710  10996  10090  7995  10869  8641  7805  11052  5254  5648  10402  10510  8227  11414  7743  10499  6475  5111  10645  10843  9273  8602  4465  1935  8946  3287  7488  8234  2586  5564  8559  9822  11057  6010  1553  9475  9859  11200  7919  9257  9589  2181  5737  3021  10106  5331  5437  991  6479  7432  11310  1294  3890  8206  8539  9588  9736  8540  1398  11023  3113  7733  6985  7285  11245  10824  6612  1244  5136  7645  10168  6212  10376  6618  1340  4096  8883  9585  11445  1659  2902  9577  7777  5830  7921  6198  10840  10260  11031  9320  10163  5324  6441  2884  1025  6516  9646  10065  3628  5991  10062  9323  618 "
     ]
    },
    {
     "name": "stdout",
     "output_type": "stream",
     "text": [
      " 2260  6234  7396  8407  10773  8542  6619  9729  10703  10615  2432  9382  9140  2346  5123  5672  3513  9708  3847  11443  10319  2381  11421  7203  3320  9508  5996  6139  7163  5476  4809  3711  10686  4398  10582  10032  11007  3929  2284  2805  10053  10922  5568  9706  10315  8825  10915  2354  4912  9678  10169  10187  11334  10624  9542  10989  11299  7851  7530  7827  8468  10190  11470  8729  11026  9419  3887  5322  7661  4159  9485  11151  5779  5524  9063  9012  7895  4812  7066  8369  4832  1426  9920  11429  5064  10589  980  10429  11481  10412  6535  4632  4783  10270  9233  8219  10929  10481  6907  8350  1488  8061  5863  9791  11287  4931  6546  7801  11296  6394  3552  9022  2737  8614  5854  8389  3797  565  9506  2082  6581  11272  453  8789  3284  7179  1247  7101  10988  3058  8437  10280  7679  10484  9169  2204  4734  6656  10348  6752  4899  6231  5405  3446  11097  4680  1976  9407  2875  4919  7459  6078  2636  9773  667  795  5694  8667  5836  9141  2324  10691  8958  7328  8339  6091  10378  8368  7413  11226  6169  10963  9676  7819  8507  8769  4259  3279  1798  3753  8147  10235  10717  6462  7617  9671  7119  8139  9154  8023  9150  1375  1055  3768  4040  4010  4822  11436  5758  7874  11020  7714  8269  2985  8502  9903  3323  3666  6129  700  368  2778  6691  5614  7378  5202  7260  3347  8596  5927  6031  1228  10439  4515  1796  7455  10231  8264  6996  5697  7014  1572  5873  9888  11396  3505  8950  9688  10199  1463  10673  7753  1538  6855  8899  7331  4816  1548  8699  11128  5930  10786  10590  11437  9061  8951  11469  7814  8932  7792  97  7586  10741  4051  9210  2706  9036  7912  6840  10505  428  11162  1957  10744  7420  8250  4142  3273  5816  8155  9294  1594  9664  1738  11056  6371  849  10697  2022  9032  11215  10978  10698  9019  10757  1898  145  7622  7952  3163  5770  6626  2413  3635  5273  9270  6452  9033  8783  2913  2312  4769  8926  5346  9075  6077  6876  1970  6120  8395  947  7089  3964  6254  10226  7559  7576  5947  1059  6562  9793  5289  10259  8754  10513  10466  8845  9752  9031  9863  11025  6976  2348  5741  8078  3982  6268  11462  5708  3411  8118  2134  5436  5607  9931  10133  8422  2967  10271  7882  10574  1401  3910  2749  11118  1117  8853  5750  7662  9740  8567  4272  8828  10943  10556  1170  978  6941  8222  9453  11174  10127  2419  50  9626  7934  7793  9862  10024  3630  10460  5337  9721  3399  9624  2788  5724  8137  9237  4204  9098  9284  11041  5455  7118  8159  8246  3370  5338  5380  6007  8063  8884  6616  11326  7448  3341  8757  6829  7082  10623  2451  4974  2441  3730  6683  3079  10956  2083  6582  5664  10452  5787  8381  10776  7340  8902  9030  4771  1654  6637  10498  11444  5569  1584  7190  11271  10549  492  10671  65  6740  10029  10274  6979  9849  270  7005  1367  5407  9776  7192  3758  6682  8863  1467  2702  7352  3507  6934  11461  11365  10979  9131  38  8218  1223  6623  6110  9083  5989  10342  9997  5485  6733  7991  7810  5060  10136  8777  4215  11487  5181  7999  6185  4786  8669  9622  10442  11357  9814  5999  10268  8259  10825  3699  7513  10815  11266  4294  5699  1808  6760  10375  9952  6697  11424  8562  10672  5698  8861  6530  9058  10377  9315  7741  10426  897  5513  6358  10868  5225  6020  762  4000  7913  10644  1585  5606  9040  3588  10418  912  5355  810  2519  7632  5897  9904  6706  7169  5942  10113  2952  10923  6854  9199  2482  8290  4730  8402  3725  5592  7208  8717  9572  7894  4002  6359  4935  7715  7020  3530  5037  10607  9642  5538  8180  10015  5006  7578  10761  6892  8173  11412  4248  6349  814  4540  2669  3741  10679  4173  2911  8730  9259  8859  7641  1950  7132  8433  8419  4688  11459  10272  11343  10434  9368  945  4803  6239  6785  3171  4923  8093  8233  409  10534  11185  5263  7110  7975  10061  10694  7279  10424  714  3879  6989  11005  6635  7994  10200  1409  1753  9656  5070  6853  9966  4103  6058  5366  2854  10313  9269  6747  300  5533  8451  10573  8175  8289  8529  3412  8370  8722  2065  10855  9080  9853  10295  10441  10536  3915  4167  3009  6390  10091  9632  11198  6461  9607  11307  4604  6453  6223  8885  11228  10318  11093  1085  5384  8005  3625  11191  9742  3372  11348  6718  8373  9198  8167  11060  2848  10239  3062  3338  5140  7280  10588  6732  7161  6506  9226  6001  10516  6142  6134  2271  10014  5288  4819  7589  8937  245  5861  9355  3722  5674  7562  5615  10865  8868  6014  1007  7029  8595  9694  962  3555  2471  3078  7098  10638  4925  6269  9272  6168  10507  8357  5413  4920  11484  9460  8961  5555  6089  7384  10905  7329  10354  7100  7223  9148  8838  5885  5499  5662  4944  7265  1  7566  9906  4576  5611  944  10147  2796  10416  6572  3419  2176  8012  7214  1173  7674  2719  1918  3239  2253  9483  6413  9910  8712  9378  5940  9138  4950  7702  11433  4281  6725  4367  5051  8659  11100  2612  9104  10596  9977  9189  4308  10108  10435  4595  9691  10292  10307  10640  3476  6003  7924  10037  7131  10027  10837  7412  1911  3295  2107  10120  8818  907  8057  7307  7862  11090  7373  820  10593  8672  3774  3703  4888  7570  4265  10191  7305  1789  5892  10178  11077  3394  3277  3949  5334  4015  6076  4509  8569  2798  9670  8740  1359  8160  10114  2762  5554  9026  7761  7140  7281  3486  8399  6048  9925  10934  2589  8909  8996  2228  6192  10829  4679  7388  8260  5442  10951  9491  7933  5683  8210  11472  10732  10876  8273  5077  8123  10462  9235  1783  10599  6471  6165  9165  9935  2793  10847  10767  9160  9376  3717  11039  8610  6520  8408  3337  6136  9373  5986  3458  11333  3582  6790  7123  7463  4557  9060  7974  7604  10787  6429  10874  7472  7726  9558  10213  9144  8386  7115  10700  9569  10397  7058  6161  11402  6754  1907  9677  5076  3401  5121  11176  5195  1824  10395  5634  7958  10890  9913  1500  10148  3858  4619  8398  6006  6518  2201  4686  5119  4230  10917  10708  11505  10339  4870  8077  8869  5877  5135  7640  10659  2677  10000  10522  5303  4835  6750  10470  8589  9531  3980  9644  5409  6497  9286  3402  4649  2718  1396  9291  4260  1846  4152  9221  10508  4825  2019  2108  5858  10766  9714  8101  9937  6175  6977  11214  8762  11117  9158  9807  9454  11144  3069  5320  6360  9844  6473  6339  6629  2124  9342  10310  1590  6189  7183  8293  9153  4231  8577  8621  10763  11454  9465  4772  3168  1863  3573  7563  8257  5048  9709  10665  1523  9385  10372  11063  6544  3708  5245  10449  9417  6767  3974  5516  4379  5623  7767  8503  9166  10958  985  10357  2916  1234  1940  3087  9304  8317  10985  4776  9429  8977  10566  10711  7686  2274  10309  9770  5180  5676  8026  10919  7335  7533  2357  9872  1575  9510  5255  5786  9264  9403  7993  10188  10444  9504  5400  7911  2828  11016  1063  7647  8889  9541  8353  5151  8848  11069  6177  9312  11235  9050  8647  9155  10793  3679  9347  9757  11302  2957  3519  7653  2042  9451  8414  10715  10721  5934  10845  5766  8039  11335  7813  8131  5147  8720  900  3903  8541  5369  7470  7784  6564  6868  11247  8410  3244  8606  1941  6305  7168  3580  3633  5306  10886  10530  1951  9057  10541  11223  3231  6088  1171  10930  10251  9723  10760  4105  5170  2104  2934  6724  211  1524  10203  10635  10846  10603  10303  9943  3492  2690  2288  5600  6326  6295  5668  9071  5496  2897  8550  9415  1088  3235  6224  11164  4574  10701  1379  1990  5630  827  7656  10080  9702  8132  3707  5343  6558  9034  3418  2782  8032  10030  8121  10347  8972  5239  7482  6768  9142  7172  9111  8656  2577  10165  4992  10719  11350  9099  2528  9200  8241  10704  10504  4158  7256  10082  11040  10149  4084  9178  6755  316  9690  8867  11377  9109  6686  10474  3845  9123  9555  7585  11425  5967  9021  6445  11282  9489  10546  9379  8371  8962  10981  5978  1296  2151  7476  10332  10924  1535  5262  9386  4418  322  7914  2440  9783  9366 \n",
      "159.449715 seconds (905.29 M allocations: 30.584 GiB, 4.40% gc time)\n",
      "MADE SZ 2 42\n",
      "MADE SZ 3 132\n",
      "MADE SZ 4 419\n",
      "MADE SZ 5 1156\n",
      "MADE SZ 6 2658\n",
      "MADE SZ 7 4912\n",
      "MADE SZ 8 7098\n",
      "MADE SZ 9 7844\n",
      "MADE SZ 10 6498\n",
      "MADE SZ 11 3968\n",
      "MADE SZ 12 1760\n",
      "MADE SZ 13 556\n",
      "MADE SZ 14 120\n",
      "MADE SZ 15 16\n",
      "MADE SZ 16 1\n"
     ]
    },
    {
     "name": "stdout",
     "output_type": "stream",
     "text": [
      "MADE OMINOS\n",
      "37196  500  1000  1500  2000  2500  3000  3500  4000  4500  5000  5500  6000  6500  7000  7500  8000  8500  9000  9500  10000  10500  11000  11500  12000  12500  13000  13500  14000  14500  15000  15500  16000  16500  17000  17500  18000  18500  19000  19500  20000  20500  21000  21500  22000  22500  23000  23500  24000  24500  25000  25500  26000  26500  27000  27500  28000  28500  29000  29500  30000  30500  31000  31500  32000  32500  33000  33500  34000  34500  35000  35500  36000  36500  37000  MADE DICTIONARIES\n",
      "NEED TO DO 17552 TOP-LEVELS\n"
     ]
    },
    {
     "name": "stdout",
     "output_type": "stream",
     "text": [
      " 35510  30216  34034  29201  3120  20368  19698  10458  32855  25568  28400  17959  35152  27248  12377  7514  19769  32789  34640  28730  8075  30033  14446  22245  14398  29542  8421  36680  36953  7849  11710  6731  32433  35693  18774  34263  28097  27318  33772  18145  25125  35775  16887  36200  26802  33470  15125  16947  36788  34806  1146  20929  9208  8252  27366  27099  31595  31447  12260  17752  5589  5101  32289  24623  31203  22042  28343  13428  31415  7437  22336  22986  33245  4601  9446  23022  9336  17208  23303  1150  25997  36259  6745  17869  34289  33361  25281  11733  28210  10414  13863  18580  17030  10202  34158  6483  26320  36735  30899  36177  32375  34847  25266  18877  34036  15110  15469  36870  32637  33586  35830  36322  30252  5218  34013  5725  13057  23360  36607  22465  20266  24096  25223  32417  35371  23748  24300  7636  18905  29294  35024  36234  29336  34456  36353  31435  7074  25663  30426  27263  32016  2727  5902  32580  10676  33464  9944  22247  497  4628  2093  34304  34904  36437  9094  17463  9401  11408  17283  13458  13250  22755  17205  35618  36960  29290  29548  13461  35065  19120  31574  35092  1607  35206  26108  13741  13766  23378  11220  35700  13642  27177  25241  32421  166  10422  12618  15803  4060  5757  8566  15018  20400  20522  6950  4556  31528  34440  29241  34881  6522  16706  20621  33293  23544  11974  22203  33424  36552  20727  22865  2697  34558  4551  15863  24021  10512  17336  2161  28192  13968  23431  31397  5215  20563  11078  37073  8209  37164  24111  14753  31727  22179  10279  7664  10075  4531  9554  33399  34281  31510  36786  5916  25363  22110  4577  14004  33223  625  20714  14969  34238  36205  30234  24497  21244  13247  780  25880  33412  16579  22630  25817  19745  19012  33556  20586  24211  34784  30923  18803  21378  24439  27501  27586  7731  20303  22841  25513  35410  27722  27805  35922  2968  19062  30525  13924  6898  32146  18799  13447  31936  29727  11772  28004  36317  7284  27285  31990  7556  35335  27091  14721  18403  10317  32772  36690  253  27643  33009  27046  10931  24827  25155  25506  36860  12276  14030  35680  25978  17878  28984  24787  37103  21647  24611  27505  19584  307  20816  36528  5575  12263  4077  16656  19008  33488  29769  12221  11189  35394  36556  7787  34524  25348  22828  27896  36279  35653  12057  27428  37047  36452  27209  10141  30961  12155  28904  3494  18124  30177  21383  3772  6605  35768  9890  33946  3947  7649  27955  24049  17536  18706  17148  28201  32080  19879  17003  29122  4863  19306  23395  9583  25227  3157  18919  17373  20326  17766  30624  31065  22048  13573  1893  34915  20141  10482  36103  17436  26753  36570  18202  25750  28345  4953  32621  31260  30356  17035  29985  7908  25854  14033  17833  24546  11586  36669  36422  33850  3695  5256  21864  30833  3201  16164  20455  16791  17101  26144  36014  11738  18751  9358  18816  31772  37051  28971  21260  14274  21826  21191  13353  30438  9100  32243  36262  7120  24480  22830  16707  13219  7966  30849  8020  20020  20234  32528  2149  27233  32437  1075  33651  24388  21190  32572  34382  31182  24278  3054  4424  14490  24062  22071  21609  2666  4023  16072  34191  35237  8620  12581  32119  13895  6398  34312  25501  23523  19265  15609  25920  19341  26280  25715  31077  5456  29624  32366  29866  8172  26227  27041  27063  7836  36137  26456  16796  34999  32296  4964  33802  32485  8776  33080  35578  21121  37159  11746  4857  11657  27953  10653  11814  25858  21688  12564  20411  11067  27625  2534  15886  14989  34742  28615  13532  22610  10245  26808  4908  31142  16457  24903  31194  6260  30578  10547  13978  27154  9731  31267  8517  17160  21171  25117  13749  20306  33068  8924  16010  27089  32396  29218  33002  35268  21105  36613  31718  6661  25109  14633  34961  33754  20578  11706  24625  1890  26611  35595  19683  33446  23121  29712  32383  4550  27539  22441  14933  36762  12738  37161  33053  34198  16798  22580  37155  793  1574  29850  30993  7389  36261  5756  22735  32948  36506  5025  12936  34985  9469  21460  35707  10535  24114  36615  20899  15234  35162  34395  34062  24074  27251  7671  19617  21747  16228  27243  14970  9772  2363  14119  19154  20794  35581  26774  7887  3804  29383  18633  11172  4716  30429  30885  22077  21765  21680  29359  34200  19732  31868  8882  2523  20254  26303  23990  33985  2112  37177  17746  17583  35837  18099  28475  18965  17721  22334  33043  28491  23569  28398  28560  24818  32387  13976  23666  33121  31033  28455  36214  7592  33275  21297  24510  31616  16223  23064  28219  29924  24080  364  31449  30273  9663  5236  4738  32283  26819  27141  22563  8840  26368  35876  14083  25257  33067  24835  8367  34795  32879  36298  6779  6016  17382  30537  29673  34779  24573  14131  35882  36391  26309  35755  34817  32500  36703  9779  28610  1163  29073  11407  36150  21411  14672  34938  16732  35040  36663  19680  2304  29763  10117  35782  31466  35403  14846  11349  14245  10682  6235  36269  26824  15557  35563  9829  37049  18096  6542  4862  6395  29974  32665  36153  371  4821  2088  18194  33469  17728  29878  1391  33701  32676  9990  22096  3437  28636  17495  31382  8535  22427  30417  31996  6341  13194  26036  18680  36165  31580  29449  21579  27656  18076  14146  10193  4936  30183  30765  33311  35891  20952  21798  36109  23623  35138  36151  32057  11693  4216  32559  33907  26738  32527  34708  6628  18837  35239  9396  32728  25585  28063  28304  17595  12064  27685  11304  11683  36491  30807  30830  3046  19311  19355  20783  15785  27112  1178  18318  19638  29309  27048  23337  24820  26848  4490  20932  27871  8156  30611  36500  10311  4192  11130  24981  21134  18707  24759  28150  18380  20007  36389  10087  12679  24654  3568  4464  20503  6456  16136  32532  14150  19036  30950  8011  27341  21890  17348  11205  22788  28929  2188  36632  5042  25239  18948  27803  1804  11570  35431  26418  18280  8809  14790  27702  34471  29085  999  26657  17122  31760  26111  17798  9540  20833  22153  7840  24250  18978  2476  17247  34352  24394  29419  4916  22351  15415  34438  8394  8255  32145  3673  21361  35318  34143  35529  30094  1269  22758  13298  26944  34399  27502  13227  16815  2982  25255  23804  34531  22285  27908  24853  33186  33175  18141  9293  26972  7906  36796  16745  30209  34864  35476  28780  4359  13260  36243  30977  32686  30508  28853  33541  23911  28526  13090  359  26292  26058  29940  29486  9344  29657  30039  26363  29170  15094  12349  7423  26794  12355  18895  31463  9975  26546  21464  6489  8851  24039  23310  26135  27174  18135  9479  28592  3659  33851  32578  30448  2350  25756  27127  30949  14266  4903  17089  32313  21894  34449  17904  14556  7347  28779  31004  17948  24029  25573  13085  20901  5772  572  22546  28362  34010  24016  25508  36226  25470  35425  28415  17809  2850  19483  30418  14040  37078  19185  36901  7546  31112  25665  4957  26471  33455  18243  12889  24838  10340  15710  17290  22767  16826  25599  31832  36402  9637  28083  34668  6356  21388  21627  11493  21591  16033  26050  7748  17288  32223  16455  6454  10479  23107  8714  24274  32277  18991  10992  17154  4411  2835  11460  24130  20292  13419  35253  24878  7573  30845  6507  17155  23264  24813  33483  16624  22116  671  16177  8346  15564  6312  23289  33991  36592  11861  34486  23879  8670  30759  32430  20437  21349  25667  4701  27664  5363  31624  18778  35848  7484  3377  29650  4605  14028  18840  27578  34642  17170  35711  37189  16204  34147  28649  27869  34745  29322  19283  4528  22308  25485  9901  17592  24249  12268  29588  1158  25235  13964  28306  18489  2210  26236  36194  34295  6247  13570  36769  13045  28368  16867  34360  11431  29340  6820  30925  33773  1445  5755  31741  28447  23066  33959  30287  14229  36482  33249  22857  35178  23665  34351  21092  30920  19206  35028  19030  27898  6890  25915  22729  36300  25961  19591  25988  24473  21506  18462  29251  19419  18042  32214  21356  23838  7048  33241  30791  15934  26984  13802  1444  36662  20964  20883  14184  37133  36877  29162  4338  25726  6210  20713  31128  32222  34218  31500  19189  34256  5882  36810  21189  33021  35800  36255  24492  24291  19904  12063  36334  18940  19626  36855  35480  32866  15314  1794  20106  32381  27293  25056  750  15970  20363  30345  19361  20718  30008  1098  8675  17076  36056  22845  18445  28326  20045  26075  27367  17407  16759  1748  11485  28194  30133  20605  16984  13145  26398  2821  26319  9575  35133  32533  36199  34792  8355  8265  34630  11450  20519  28133  12917  34834  27916  31488  24212  9055  19405  32187  32284  19388  36198  11054  7754  30453  16930  22889  29095  29180  21904  33363  24390  32868  27714  10971  31367  34661  7746  23783  30589  18453  18227  36215  31853  35801  5945  36599  28170  33419  6513  28745  22044  13990  33302  35517  32618  24876  12412  35334  18590  36773  3368  17503  31787  4064  19791  22109  20065  9621  3309  21754  6839  18479  27597  13616  24235  36655  12984  37139  29080  33997  30398  15232  15796  3227  32453  34037  35862  10526  11080  25908  36581  18857  35260  1218  33125  36415  22629  17481  31839  30565  24022  3660  27556  33217  34138  13049  23769  35712  36867  20804  10189  7867  13109  4765  16596  35298  35156  26759  33600  34567  4250  24867  34499  14755  7544  18028  25401  12462  34146  19410  10036  19513  24405  25775  36887  7354  28975  32717  31594  33190  21611  14700  25151  34340  17574  55  16953  7843  5706  3724  35086  19651  10518  19799  10710  19739  22088  14794  35849  35860  30158  18374  14758  15896  31480  34305  16041  901  17292  30509  27785  14234  30918  10198  35982  34733  20238  33831  17759  6370  22191  12459  10723  25088  31009  14027  36683  32087  35276  12238  26788  35424  28091  9422  19543  7186  4228  29256  11809  11305  21308  2356  19571  25706  16560  26452  35735  36551  33330  31302  5002  11771  33126  15703  15641  27485  33942  27903  10678  21264  16710  12675  9463  11171  27173  8029  9340  11892  31798  28320  35374  24574  10176  33189  22934  37169  7016  15993  32468  27852  28039  13352  30635  12588  10392  22090  27980  5050  31028  7480  18481  15229  28591  30839  33908  8114  22920  36144  10984  2611  33339  22237  30058  27872  15730  20064  11029  35553  3605  12757  37154  18275  10155  17313  28371  27181  12820  35177  35607  10571  28882  15026  31417  17057  18395  9151  35418  36361  9243  29134  4575  11338  35955  3037  7528  31308  20498  32520  20245  6438  34139  26769  12196  14520  17963  10754  36742  32120  22020  23379  16622  36053  8183  6401  25171  11813  7206  21473  20774  7257  34672  9612  34217  33272  32394  35524  29838  16443  9759  28458  14475  19720  20891  12893  28413  19047  12563  31891  32628  32626  27093  24075  31034  4804  32508  36653  24158  26850  32588  16391  35814  36567  26755  35836  25071  24985  26221  6649  25209  32979  34629  28565  25103  2584  21954  36167  13231  18252  26674  33862  30116  16125  33326  2949  32287  22309  10753  23180  25236  17387  30777  28767  17815  10511  36161  25856  15821  21933  6556  37089  21791  14495  12855  17029  32944  37082  15857  6320  33689  734  35603  32974  34953  15869  27427  26622  32759  15579  11821  30200  19827  29231  14449  11638  1982  32371  14527  22190  30335  11240  31114  36326  16345  34511  15677  18386  13752  14994  30778  8203  12578  26085  11279  27187  34181  20742  24681  24686  25341  31479  10898  10726  31629  16844  6156  20204  37008  33197  33428  11965  17841  24523  26773  10834  19052  28901  26624  28921  16410  20697  15631  23168  29949  12741  34231  10871  13581  28956  19743  24270  11292  28759  32831  16268  17797  78  28047  23785  19989  25714  36741  36097  17301  14625  27280  35136  3553  28861  6657  36569  27964  36689  3100  37110  31826  18196  17129  36254  32397  31252  6353  30941  10298  12232  29355  28599  36928  8546  30874  29488  34706  30142  11676  16687  25553  27998  7925  11642  10626  29045  29108  28157  22457  35472  11387  25812  21386  26350  35710  16166  18423  21630  3425  32298  5733  25555  28873  18071  14723  9251  26354  35793  19783  24943  29188  13362  15231  7692  13888  17451  20576  16028  34058  20910  33298  9953  21509  26885  31275  26315  5579  36457  29777  25871  23817  16765  3444  16733  34678  33193  26836  6821  18934  20107  24464  32036  36729  30800  25342  34743  24107  11448  14433  11615  14383  32740  18876  26406  28104  13163  26203  35776  3117  22134  26648  27562  20312  24002  36745  10779  27387  29609  4598  18354  17253  26382  30815  31607  27618  35944  13765  17674  23459  20139  19897  3456  37024  15000  31067  18171  8749  21690  37126  13472  23591  21115  36095  36191  36332  4450  10583  23496  5624  23768  25297  11442  11105  4290  30393  36892  26099  31910  8432  2393  4977  20291  21434  36420  30413  9107  17062  16542  29027  28211  18735  32849  31511  12034  18522  22707  13244  31412  15850  25787  3265  15808  7602  20112  23294  35473  22963  13220  17277  30583  4983  21080  32689  36909  10689  25394  1272  19562  20998  24829  25532  36158  4607  26413  30220  22678  22771  23106  6170  29715  22188  14817  27892  5159  29047  24315  37150  19693  23660  28679  25003  6447  12584  17795  35858  11977  27811  31573  34372  702  36196  28923  29559  17263  24483  12108  28078  30134  33980  31662  10056  22689  33611  8968  8894  28974  13189  24975  34978  27070  34898  28813  21728  31411  23473  28673  20474  12061  11850  10858  16017  36440  15872  18418  33215  35214  26892  2209  34363  24751  13350  20399  15495  23579  9695  33955  12110  29807  35004  22241  35378  30556  36076  13441  32234  17782  12424  27464  27073  5732  34590  15919  25539  28810  11661  30340  32999  25263  15217  14171  28845  19178  31208  5912  35613  13445  25917  36536  30601  30670  24416  17901  19246  30705  32008  11046  10244  18278  25326  13828  23330  6930  6878  7582  26404  30353  2099  26603  20301  7290  16464  26534  21136  16777  35780  2813  31986  22945  33840  11269  36836  23571  8486  30294  23162  31041  21825  4180  26102  35266  9881  35233  8756  36983  28466  2387  23938  33919  34933  33846  35267  35670  31178  12548  20187  12449  3561  33279  6468  22636  24361  18972  928  32574  19502  4469  17645  27311  16888  30260  19161  5432  33307  17040  17212  24428  15130  25090  6846  34455  32872  36421  6421  12782  34922  23577  28254  16189  26977  23089  31870  36753  27022  27607  24370  27514  25148  5773  16011  32272  975  24005  25800  36912  25725  19468  33521  19155  15611  19442  8365  16735  28688  9321  19083  34853  27641  36475  10228  22033  26128  23923  34839  36461  35577  13108  13740  28600  28977  22356  24166  23111  32308  21292  7452  14410  5084  8207  19546  23085  8204  12267  29360  6298  23286  11011  25971  26142  31869  22596  29505  6689  21277  18730  7444  30657  16862  36499  34069  11324  21908  36841  20417  32224  35127  19661  4413  13253  592  10532  10991  19260  31720  35361  32125  32261  31254  28317  23484  34845  20302  35003  17527  14407  35173  36970  17333  31576  26017  30119  522  18703  26169  4591  30399  31064  15484  32530  18523  22430  26281  13039  33538  28663  12952  28322  25810  10247  33383  18331  29155  25646  10070  18592  32992  32460  2380  29069  26326  12842  20894  31180  14439  33072  9524  23428  12971  3900  36945  9852  34224  5688  13527  7333  9715  18294  29211  32292  30247  35699  15602  15618  29273  1107  28661  11780  16843  7890  27572  1381  34692  15563  27565  29023  30206  21058  35078  25405  13236  32600  7757  13534  25607  35946  30858  30319  20841  32081  22618  29066  14544  12256  27799  31432  23102  34849  22276  22152  33752  28669  31181  20957  2580  34512  8216  6309  17726  24033  6536  23744  23231  20461  18997  15138  19946  36803  34022  34534  20039  21569  34325  20672  23747  33797  19765  36203  12826  32449  18860  9595  6551  19127  4423  32388  32969  36378  1831  21049  30608  554  7542  12538  34960  28870  8476  25160  16719  36910  613  34859  33516  7760  5457  30704  33325  29697  25395  14653  "
     ]
    },
    {
     "name": "stdout",
     "output_type": "stream",
     "text": [
      "26454  19965  5588  32104  5541  21279  35115  34930  23052  14263  4773  17273  26060  17307  22734  20177  29796  15801  20937  35626  34919  33866  17969  20820  13851  27769  20646  22108  32376  16227  24041  1015  3036  23930  25033  12610  7739  36558  17053  11134  16866  10683  35390  32135  25690  20539  36274  17739  22275  21163  23136  20873  29665  17150  22987  19106  25463  6144  22595  12512  22909  35687  15560  11227  15157  20256  16215  21938  23070  36112  30652  23416  4365  28774  28751  31269  17535  17951  36189  19830  33309  14136  24408  7654  23260  31579  30749  14578  26810  25316  26314  28993  30972  7717  18910  2931  5264  5849  26620  35397  21886  2247  21296  4347  6385  36725  35022  35930  26349  28515  31842  1448  20821  10652  17748  24830  26685  16610  9987  24714  26893  36478  27123  8008  26049  23270  34163  21906  14466  16668  12641  32749  36994  32215  2595  14950  5213  25883  32018  12089  29245  14719  5378  22977  36776  26064  34951  23123  35689  27478  2190  4497  5093  10909  35572  31743  8580  18125  25952  2924  755  27861  22146  36270  4620  31617  21849  13401  6233  14829  1310  35342  11788  28799  24594  19143  15341  16153  26298  31601  10359  11583  14318  34420  22860  36988  37153  36778  35623  11915  18103  8772  20824  3866  10491  18412  28260  28294  35540  35044  10639  33118  35120  27018  30333  12461  22174  23003  19305  17345  3417  18686  34197  29653  28399  35738  6702  23801  21317  34077  23040  15404  32602  27370  34826  4375  16448  32722  36817  4898  7734  11166  4415  18564  21552  22873  12095  30410  34669  3467  36941  37016  13710  34836  34594  12438  15067  31505  37079  22975  4185  19180  21310  28555  25882  24895  25286  21150  30080  17473  26213  23996  27592  31858  16307  13739  20886  36700  28411  21418  13433  30484  3527  27772  8230  12779  27566  31539  7221  8286  8905  16910  31547  5258  12975  24237  21861  4958  34711  36557  17991  23646  20803  24496  32651  32506  35641  12000  30518  9004  35902  36381  29863  22378  7507  12440  7429  32112  18916  34300  9866  25628  34616  12287  3280  25084  14074  26476  8316  34220  31886  16637  20838  36797  30479  33366  31361  35762  4907  8323  34212  24004  18291  36962  2270  25772  26579  29356  24995  19071  13123  35698  35090  11911  12254  27483  10987  14134  34548  9059  16979  29494  36407  25014  11239  33742  33283  34078  2721  5928  37080  29667  26766  11178  20142  33380  34702  29387  34493  17596  7822  22600  27598  19567  25353  22757  25145  3830  27768  34774  31459  30682  20509  11684  28773  25579  16437  9918  33386  27291  33574  12410  4332  23104  17310  32056  21708  1264  9359  32039  596  26635  20861  18018  25569  27914  32788  21517  35792  15141  33796  35407  31341  34255  9431  12643  30402  12577  29627  36728  28934  3922  32275  3088  27614  10172  20109  26934  23021  23558  2250  31045  7688  18656  32100  15272  20419  24255  2002  30205  11372  27700  26185  14995  12549  5695  4561  11087  358  34369  17587  10907  33903  12939  21417  11990  32210  25662  3203  365  18823  25052  21048  23120  31998  4875  25833  10515  10554  35980  5771  26884  10674  15829  23008  36623  7293  33949  35937  23919  14338  19307  24988  16716  24634  9306  10210  26670  16642  24914  35971  30052  35725  13136  13201  11506  35634  7815  27547  15571  15196  11053  5393  37162  5716  4337  31611  32691  35457  4658  6081  889  9015  21110  27133  25142  28620  29458  36947  17225  23726  26786  36352  28878  29861  36081  30567  16513  3528  12168  18064  35907  29416  20600  34705  11081  36438  32863  23616  21928  15036  34899  28537  32063  25760  6974  36367  15133  11217  21348  6713  24555  28586  17518  21922  2608  35542  30157  6911  12982  35030  28237  12572  29302  6939  8626  27990  17110  5424  11201  13127  35666  9478  27689  16801  27563  36980  35696  34498  21497  15181  22111  36900  33005  37094  2036  34783  34703  32945  20739  29736  24351  23241  21995  28324  31752  34025  14868  25319  30154  23404  26414  22698  20355  24120  23031  32546  26232  17216  21327  30764  34483  28654  24233  36765  34462  18417  35598  9703  16568  27904  30179  33376  12265  35997  14774  3175  28862  34515  30677  26013  7277  7061  35180  32368  19788  21394  16705  14389  29884  21052  18626  12659  12125  34243  36276  9074  17758  10643  13190  34215  34130  26226  9633  20725  34257  36013  34765  12290  25751  18902  33328  18745  6241  6521  26776  705  28549  19453  265  28206  36644  28302  25642  32280  34271  34175  33948  32860  30217  14488  851  21516  22330  11114  12589  26346  36184  15626  37011  29234  28538  26395  26426  30945  30901  30337  11736  33299  16952  23469  14928  19078  27449  29993  33809  1282  4097  5811  4197  28186  33938  9567  27352  17105  25575  26642  31916  33735  25214  24066  29515  36283  25881  15918  33728  1220  26995  1284  14170  32754  29439  18710  36633  36640  6587  7370  34322  5177  36641  17735  35001  2503  18581  14574  24683  20575  16035  22801  32331  25629  6954  16836  17924  26198  26358  29347  14875  5174  15183  33819  644  25855  34691  14393  33845  21776  34611  20426  33224  37130  24635  10920  11984  23491  16915  1206  29215  31050  10770  16233  9192  25456  17718  11722  33826  31106  23814  31253  10869  11052  15460  15743  17012  15456  6475  31103  35249  35622  36874  27313  11580  24749  27494  4465  32726  1935  27092  24618  27970  24354  21152  34209  12040  29690  8559  33973  15328  24206  23403  37064  11200  7919  32473  27495  28093  12348  991  35673  15871  11310  13917  20252  31484  17133  12169  36718  23924  28568  23192  24379  25819  14638  37014  4058  12226  24289  7777  13525  6441  24788  33530  28496  29341  17383  17824  33136  32499  20279  24252  10703  16898  30370  14536  21022  25027  22429  34660  29986  35181  13986  9508  24716  16366  13077  31230  25466  29517  31336  30504  17008  4398  26065  32182  25020  33688  29783  23690  28683  12537  6963  30787  34102  30913  19574  22697  10187  930  29890  32461  22250  31698  28995  31604  34946  24261  1871  27028  32441  34517  18467  12871  29010  3887  18160  18352  14539  35818  9063  36084  31966  17547  19950  9920  33443  11429  10771  14983  14547  28525  27442  33191  12617  21034  12863  34206  1135  4527  34508  28072  20293  21551  34460  21564  9022  24898  13977  8389  31195  17381  29091  31342  28770  35382  33723  31495  25010  3716  30449  35483  34076  13697  1247  22447  16742  9314  16190  19494  30797  22406  17822  33811  8144  19174  34947  24150  23268  26176  5649  35720  4919  35826  29688  5694  31906  20856  7328  24927  12365  12129  32240  34878  17902  23358  21674  20543  27205  19915  9671  25724  24770  32448  34526  15071  34736  15010  23094  19343  14866  27368  18500  19566  19456  21905  25743  25806  32785  11632  12399  7260  14891  27648  16347  17112  30799  6944  5697  19748  3928  9688  24741  28670  27064  13644  22469  10199  4009  36494  21025  29412  34258  26625  35531  4801  33447  23966  32330  26040  26282  32405  29524  18008  26300  8462  10741  19235  26234  30750  12136  16574  24156  34728  31885  24667  33409  19620  31283  30893  36309  35788  35075  26251  23630  31255  33869  11206  36676  17954  29373  28897  26735  30921  3682  13224  30736  24839  30633  30174  9033  2913  6077  22270  34503  17521  12389  16985  28596  6120  19563  10226  26458  23302  28732  35240  21101  36485  30195  27542  21140  53  36559  9752  12937  37029  24949  25002  5371  23952  21862  23327  22445  6852  34386  21775  26699  16721  12597  35222  22511  34043  10012  1818  25067  27541  15119  9411  32032  16480  32045  26841  26901  9874  1189  24783  20320  28290  19059  15903  9434  29375  36126  9453  27103  32195  34235  3431  33898  22236  18795  10460  34997  26463  9624  6552  9237  31501  13493  16812  32438  11041  25095  5455  30530  34737  19301  18554  31838  16808  6007  16551  19826  28523  12174  37084  7428  17999  29814  34414  11792  20546  29130  33764  35191  10956  22759  36360  28581  17272  24148  20764  24514  23780  12311 "
     ]
    },
    {
     "name": "stdout",
     "output_type": "stream",
     "text": [
      " 16018  30648  17517  34935  21790  26345  21430  12004  16965  32643  26925  15104  7352  35224  26053  20802  11461  21106  21604  33370  25983  19403  12627  29363  7944  32425  31036  30809  24082  12703  4349  15964  9520  26646  29694  27161  18283  9354  36341  19054  30684  32294  11929  37179  5308  17107  25861  9814  12946  15693  27733  27496  37053  22624  13767  6760  33563  20983  1413  10578  11905  33248  36542  28414  21266  23696  35512  12638  26693  32935  32938  34869  24236  31334  13513  13529  35108  26100  5225  36113  28122  31995  5377  13893  33667  5606  3650  11928  9497  21986  20859  21355  11761  19669  21013  31721  33558  30758  19404  22010  30208  36247  35744  5293  12250  4730  24067  21939  27780  32982  30374  22468  22831  8717  20356  6422  22173  36187  13126  33162  32672  4935  29217  25570  6743  31229  35809  34093  17883  22165  28698  10805  6892  36664  7665  36058  37006  14836  14112  12594  28972  20569  18432  21082  25473  30498  21777  11508  12908  13579  27777  32818  13718  35196  26178  32175  16553  6585  19179  34631  32989  33620  21677  31835  20156  2391  20134  17813  29545  7110  32372  18734  19040  23179  23603  27431  10061  33522  33877  32956  19181  19226  2531  19211  25024  26790  24793  6635  13604  35688  36879  16282  18791  9656  27212  30914  28002  9966  3807  28686  14749  34475  17832  11074  32059  36757  31717  23787  14884  16008  35871  32265  36291  12405  15387  27971  32837  36241  4666  23501  35812  22202  4167  3009  34573  13113  29621  31876  27241  32374  25660  898  26678  25692  23552  13999  36685  13824  26947  27841  6916  36005  19840  31399  31778  37158  13747  35250  5128  26106  13402  6302  32088  32615  33027  21362  25402  8005  16780  35466  11191  23638  12586  20504  20181  35549  11060  29404  31325  9064  13963  20506  24403  24549  14463  6142  10014  27800  14117  36898  26629  35257  34447  24547  13671  11150  19917  12024  18206  18463  23261  13870  18839  35018  29509  14838  4673  1317  30571  3233  7329  22389  26259  19522  10066  36665  13358  13359  36537  35567  34427  29599  26724  33860  18356  35617  36822  32501  1868  944  36321  33266  23221  2176  12231  21162  33135  33553  6413  23255  21251  9138  29901  35530  27906  29414  32923  15038  18180  11100  31002  13850  31014  6308  5504  19990  34942  10108  34874  28723  34910  14791  32928  23338  20943  8818  35526  36666  34908  1961  35528  7862  11090  21910  34308  11986  4888  7305  23951  6361  4015  4509  8941  22749  3817  26606  2762  30115  20017  25731  27109  24700  30226  15075  36516  12046  33674  11763  24217  16411  23471  30099  34962  17896  29562  9491  1068  23992  31149  20066  29491  6471  27029  6165  16150  9654  10847  17144  33910  36530  6520  21899  28817  8408  18219  35840  30516  27814  23659  31168  7090  19650  18169  36041  26723  35632  35471  18705  23856  36497  34690  12949  15008  31315  27425  30653  11969  12476  35781  12723  35759  31670  22848  34683  3401  24662  21365  37132  2745  22544  31722  6006  21422  21160  19519  32329  31105  12369  35993  27499  1453  10708  25361  31261  32750  17702  26376  25337  11830  11360  23293  25021  19123  8213  13853  13143  24285  21133  19488  22192  10616  14598  18717  32393  33805  19346  35235  18846  32262  9286  3402  19075  22413  30857  30316  9221  2019  36963  35820  10766  21496  17646  27616  35825  27424  8762  26068  16471  18721  9556  35185  28644  31709  5994  36826  36896  25237  27948  29841  36768  15122  6720  26412  24817  25851  36007  19086  20459  10665  22766  26392  14493  35458  5117  16289  33440  14873  23865  4844  21407  30596  35363  13302  36371  36417  35948  35584  29744  22083  29101  34591  36624  37042  21035  28705  31684  9770  36217  23087  36976  15174  11816  36722  15920  18448  8034  27628  15366  21135  29826  17539  28298  28794  25063  25499  32484  30900  3116  24414  11069  21518  12874  25360  11032  21730  18725  12042  35151  1491  28791  6263  33262  27332  31548  8039  20179  2227  32431  7813  33015  35036  27699  33110  11801  1878  26383  26917  36772  6868  11247  17462  22159  24554  35614  2392  24713  22219  25928  17486  28162  7788  1171  7680  22253  30702  25597  35624  36811  3014  10203  35648  22498  10081  25963  8655  36181  24383  26585  34120  9180  22446  19378  16333  36756  23642  4574  3727  10088  25825  27143  7656  17026  21731  26831  22727  32888  24309  22738  4160  28012  11762  24677  10135  36577  20734  19901  21454  33977  20573  10017  18798  34520  20695  12252  34315  16676  10859  17409  14760  30645  34074  25941  9099  16497  33210  36935  7721  22354  10082  29944  17099  3174  24798  34969  6755  14073  29074  23065  12827  13839  36085  6445  28548  14441  35217  31725  30586  13854  9749  34442  33252  14900  34068  1241  13842  2224  32897  22880  11163  17315  25635  1316  5842  25596  18201  23364  13385  17452  30739  5335  34710  16392  23899  26477  24931  10134  6827  16520  18082  24147  25897  32055  21639  32744  29919  2061  35737  27858  35841  26636  17698  35521  31311  10269  33506  7398  22569  6627  24336  28564  22125  32358  27453  5822  10826  8045  6764  24468  9641  29873  33232  21088  13494  27677  27881  24420  35719  2251  31863  10206  28927  28856  15685  29972  16651  32707  36107  32503  682  5420  32379  30991  21767  13625  29000  14688  21869  30980  3783  25567  30401  30886  34353  13443  34909  24886  11501  15753  13564  24648  27813  17257  30685  12280  22157  21147  33626  35586  32610  25582  10565  3629  36646  30128  15795  20481  16468  28056  33673  13396  31475  10365  4892  7960  11908  34384  19677  17704  22471  8516  23296  36310  29057  11689  13627  32408  27090  9464  6988  28155  35376  21636  11551  23797  33624  14183  32797  12016  24491  25091  29513  28460  16889  4340  7401  14955  13633  19622  17185  26472  14768  7053  19068  21618  17355  21395  13122  14269  26634  17266  20233  24785  2241  7738  30867  8119  9790  20692  13902  19780  24104  33468  28461  3954  35758  10057  2485  914  34222  2290  24656  23847  25490  23446  29367  16881  21503  31723  8088  28601  27740  33671  25370  5368  18090  20389  28204  24939  19425  35043  11571  36781  33459  12018  14424  24293  28916  17088  8552  33286  13210  19245  23912  29852  12823  22288  29912  28331  13897  30612  10932  31436  11001  10277  4054  31205  13544  6753  35189  29629  24958  20908  22357  4245  16904  13688  8097  17966  23309  22306  28742  21230  17993  21952  30444  13985  20452  18153  36751  20412  31452  10577  21066  15152  7553  30321  28969  35616  34250  16084  34813  24091  25168  13330  18787  35384  24095  21239  33941  35112  22133  33837  11534  36784  10523  33499  12645  28880  31706  31215  29775  36401  33426  10878  34145  30563  25059  10494  28763  14292  28440  33444  22551  36830  21964  27732  32793  24443  36022  36657  36687  27179  12246  17414  36911  27941  17676  21435  18872  22658  23210  4240  8537  25138  34284  34418  9841  30502  36481  19414  19668  20836  21937  28821  31441  24535  17342  35462  2469  20208  24792  7930  27333  31008  5183  9265  24643  12614  22248  33621  4503  6164  16704  13578  32043  35865  25951  25369  5206  7416  24247  35872  32677  29938  13412  21761  24396  25740  27924  30930  31439  23689  14513  35056  36386  35150  16116  17446  27812  29169  31151  31454  23818  14016  18215  23030  20730  23375  6994  30542  32103  17260  23731  26146  10769  18388  35332  14007  8245  6648  26522  23482  16655  31438  23791  30382  36037  12633  28804  23902  28566  28129  2116  13788  1555  14785  24498  31680  30383  32273  35958  36313  34606  16069  34598  33780  8050  31244  2746  12381  32494  30122  19999  27520  7631  14325  26856  33025  37096  31994  27457  20328  28408  22112  10480  36840  6879  28808  33974  33344  15243  26063  16022  17274  14895  30431  34725  25119  17772  22534  21669  28827  35999  19034  31154  22299  30948  30341  29583  33550  15315  36465  33100  23211  5471  27307  35309  35637  16200  16927  8214  27439  30665  936  7947  36369  19942  35297  25530  "
     ]
    },
    {
     "name": "stdout",
     "output_type": "stream",
     "text": [
      "5356  7489  2147  32427  2965  3829  10706  12970  34358  25921  30049  20529  21016  19633  31167  31497  13038  32162  17233  23828  30790  15739  24494  32952  17658  12555  27011  28765  7929  35329  10284  20634  23262  35774  23857  21752  23155  26193  16386  35570  12001  8565  32257  7685  36169  2891  25859  28448  954  35063  31834  36458  3115  4395  14551  25710  7510  24445  35551  31554  32898  9253  16869  12431  20016  28789  31359  4759  9685  31654  26416  17095  33316  20154  34973  36804  34957  27912  22941  9303  24851  10248  34721  8637  23969  4864  28183  11352  10525  14780  11180  36777  34840  22056  23723  31055  6374  1000  28666  19949  36923  4746  10185  36164  21676  9722  18691  34756  28071  32971  13485  20738  26706  36823  15992  35375  29926  5045  21537  552  15197  5553  3306  21456  32930  24421  12384  32705  13686  3371  31770  16178  12601  16981  20249  10587  24306  24557  36824  30332  32641  23470  36359  31429  11254  20515  26304  1945  11836  12164  27937  30138  21370  16816  21805  31645  32445  5005  12400  20589  24724  8018  34190  2710  4451  33035  22093  24884  24373  10344  25300  35469  29484  21712  33089  28556  6495  30063  6674  13889  18368  29185  35348  21076  32697  18458  6054  30812  17111  30117  34903  3210  9301  31464  19103  20531  4361  6957  16535  36228  22503  18896  24203  14557  25347  29344  35515  25566  27456  18561  28509  17045  23058  15276  11400  12696  27362  33324  15658  5601  6364  1977  21779  24504  22628  28474  28833  9891  29680  26820  36043  26037  1132  29666  34950  36052  26533  2958  4754  17079  24484  29644  27005  12211  6399  27198  31980  32842  14106  12697  26969  15061  8208  26992  21685  3144  18307  21717  24271  28197  13112  21919  15613  18511  6690  17944  28910  35890  7075  32148  34404  12685  31509  35280  1156  25946  29921  19885  22501  10581  23846  18472  11951  36102  7078  24986  19634  19222  34729  30167  8017  9948  20850  23236  24106  7368  25797  22971  2455  4128  14752  34680  20110  29413  1828  18662  8106  4725  36038  25135  35652  34368  33741  32166  26667  33156  26823  36501  20521  2619  31156  26507  30262  29516  5411  13669  31172  34346  7698  29264  30010  7931  22555  23352  2676  33678  34949  25276  30368  35113  33113  25805  21120  20949  34083  10139  10217  28263  12308  23565  34278  33670  5196  35750  11110  36587  29756  19038  25639  28798  7749  24692  26511  18449  25957  26986  14413  20095  29425  32012  33451  36444  18259  32590  8631  29885  8326  15727  9139  15168  18943  2563  35163  33055  34602  16776  33828  30560  24833  27763  8594  25075  25945  36020  31934  29774  25730  27268  7387  28391  33681  28562  32838  31664  31285  4261  31271  34336  26576  14905  4901  29153  35678  36148  20986  27587  34952  33890  8959  22581  23598  32880  30468  15289  35911  32304  26540  22105  31060  9511  16971  27422  16496  36659  32147  32933  35797  27378  20895  35485  25685  28863  29205  22279  6573  30582  10841  33943  14140  28707  1145  25838  19926  24600  22915  34401  8995  22483  11339  23389  6746  28077  28942  29987  9895  31148  37027  16724  3763  24134  12762  11502  26202  33171  21528  22392  23439  27273  31392  35504  23343  6998  26688  30877  3846  34137  27574  16322  8248  25195  5932  11673  22225  33442  1667  30715  35338  10403  34648  36610  18911  29024  21766  28865  1321  18786  7251  19334  12803  31018  9821  24569  15552  29592  30794  5179  5350  21275  25127  34990  16974  24030  2983  14102  26682  35444  14250  29407  19303  2196  29435  30377  35100  25050  32250  8330  5763  8443  32921  7311  18383  31972  24442  25550  36643  14542  32940  16446  28127  24608  10949  31247  8549  34801  11202  24124  3345  21063  12240  32398  27671  35275  36688  18077  28361  36028  18266  22246  33699  24259  32629  32023  13973  25708  22761  5744  5753  29547  9557  33967  22730  21479  4161  33320  21366  10739  36351  4477  26155  4965  31951  22189  32731  35716  10350  30254  32595  12729  37160  16406  34085  17480  27828  21217  10785  31689  15418  29891  4508  16229  8453  35683  15043  31184  28433  18790  19663  33280  31400  26652  29634  34934  18502  17507  17744  23944  12758  35355  14372  6959  36829  36266  25697  8588  27738  28652  18492  32474  11042  33143  18156  30592  10162  10658  18579  4156  18880  26201  24561  30755  3598  33276  7316  36871  34699  24639  22897  33400  36904  8409  8607  23320  23363  33145  19006  21759  34075  11212  23685  18079  20691  22398  15517  27265  24911  34045  22372  34885  34393  17875  35769  35668  908  14820  35165  31813  19996  2306  13872  24418  33243  18635  35446  27824  4747  9130  14054  2207  33793  13609  35579  27548  32633  31716  8918  27619  34030  14477  35691  24842  34557  11147  16653  17561  19838  9974  26322  6347  24614  22197  13729  2490  27946  32236  34518  7564  15191  17531  27010  31403  35942  24745  23016  35411  22226  13861  25178  28425  31048  22402  25182  33661  15845  2491  33512  17642  17720  20296  35957  6387  30460  12382  12605  21419  5351  14035  34354  31440  21429  18267  36462  32522  24499  36620  1074  25087  24105  35025  29046  10928  29397  23551  34506  17717  28869  28874  21127  33194  33259  9837  12094  22746  23108  33625  29734  30007  8879  37034  37148  5642  14295  21661  28434  22960  28011  31007  4439  22784  32378  11261  28134  32912  12458  36526  30955  29154  31303  21060  20269  29566  12478  25615  30868  26639  35383  34972  9635  34400  6004  33820  9409  32903  25620  32814  36232  21953  5125  33502  34572  26921  15990  12420  26845  28111  29500  20758  21846  33525  15112  24910  35659  2352  6346  14345  26713  27989  33042  34597  12304  7236  27465  17280  30595  36579  27389  32213  31304  18006  25457  26443  37002  33093  6425  421  37075  32748  25175  27014  37040  30906  35068  35248  28090  1441  13082  29586  18211  34639  12915  34828  36280  29083  5764  18908  36000  6650  8841  27169  36736  35516  9025  22099  12759  17864  20711  32255  19091  32698  745  5078  36111  35766  28948  2779  25334  8477  12105  26386  29864  21679  28983  12992  16771  33148  28762  8086  20339  18687  9351  24711  25222  24579  30419  26539  14198  20735  15449  25446  25444  2225  36849  15616  22690  15371  22449  35005  18616  27101  31527  32457  35796  19289  27492  27417  24398  25525  9441  34757  17612  18984  2573  21734  1684  32244  27806  15166  27466  36997  4028  20378  26403  31183  18986  29660  11523  22549  33006  9879  30512  12220  13914  19643  32566  30392  30434  37135  33824  34320  36301  3993  10138  22194  31608  17817  17906  18825  24078  6084  30747  30384  21231  36547  33221  33609  36040  27017  13420  32122  32900  29867  12707  1934  24964  12948  8782  29934  34184  22239  25608  25437  35546  29648  10927  19340  33422  36122  21452  19  18821  19169  18591  25118  33856  35533  34641  34434  22293  18459  12490  25314  5603  7866  8640  23342  23621  18921  12505  10543  32463  6692  24524  11983  3705  10107  28427  18270  18317  10243  26056  10831  20280  19203  28963  8104  23836  32650  8716  36809  18401  20535  26756  29376  14677  21828  35499  10936  2890  20002  8465  17870  16726  12414  18582  34296  11985  14810  37187  17520  26070  22422  11569  6451  17981  30462  24671  28998  13584  28456  19136  30071  11680  22006  19725  14738  18338  18652  32736  19598  16115  8231  13117  805  25889  5175  22835  15050  31955  26591  30016  10488  22810  28588  26393  2880  18075  33234  9533  32608  23387  25583  30062  25763  26101  1482  34294  20438  37173  22976  23508  22438  33713  21520  30433  5709  18835  10759  18913  34051  33214  14357  31751  11022  11153  33900  21026  22861  12882  29923  19817  9611  32419  36616  26998  31013  20745  24736  35051  32663  18820  3997  5618  4989  30056  34079  31514  19338  36787  22312  19010  11980  19270  29272  19413  24617  16597  24929  31282  33350  1718  27725  28682  25128  5663  16260  25556  17232  14540  9748  10308  18146  29707  25610  36100  21316  23858  33878  33372  5014  18577  30994  28305  36061  "
     ]
    },
    {
     "name": "stdout",
     "output_type": "stream",
     "text": [
      "26547  4523  2712  17164  35649  36529  25792  10800  18859  4032  34109  22434  24040  35231  4384  14465  26461  27151  17724  23897  14076  20161  36974  19927  13166  8799  15192  21207  18715  25965  30883  26140  32769  22995  3011  30092  36561  25441  34712  19262  26570  20588  7400  13051  5923  10873  31186  35933  33101  28291  30320  22996  22623  31015  36955  34627  14162  20846  17468  30213  15105  17669  31232  12032  22843  34159  22193  17686  32829  28147  37145  28694  19125  31161  31924  11539  30253  10018  18131  27612  4282  23715  6940  35054  18701  34674  33630  22432  34883  24307  27246  29204  34596  10675  20117  36801  30897  15482  17214  26649  32920  34713  13754  12189  16106  34287  18747  18001  13982  18642  1864  27470  18192  32978  16211  6680  28185  22872  11971  4529  20982  16055  22951  25626  20858  26165  32154  24595  4244  26767  32456  21226  30330  37018  10527  30507  5419  13948  12676  33251  3478  11064  27226  36881  27239  18540  11743  34891  19741  30872  23614  27008  17396  36218  12498  28233  8455  12340  12047  26762  13794  4727  26552  19531  14644  33406  22436  2815  25885  32603  30257  21414  10681  31638  25647  27745  16598  3739  29269  35727  30104  12027  29662  20963  4690  33172  14506  16019  33515  4603  2866  16774  36412  1620  7026  14308  6297  33835  1948  8721  28656  35704  23386  27882  32310  23860  12612  14703  9856  17723  24207  36647  2439  21977  23655  12239  25679  35243  34681  4226  26130  11004  32271  25097  32861  28989  18329  29345  29830  31561  11547  28858  24690  11419  26889  27621  36670  4488  35057  28802  15214  30744  29017  12454  27454  32894  21736  13164  25777  26139  25035  33646  28405  22170  29181  11626  17618  29430  17791  5760  9078  31071  36582  29316  24172  14977  31729  19534  5497  12258  5604  31974  11720  26680  35049  5010  23500  2974  31960  30997  26818  23844  9292  17960  36146  30741  31017  33595  29436  4419  23176  14793  33138  4486  31284  31330  9416  34563  8986  6622  12925  3994  10252  7189  31313  33616  24942  3579  12009  11548  18620  8143  37168  22647  16565  15438  19933  35740  35831  1860  26796  20366  29048  35778  11274  12020  18182  27649  10060  36982  24453  33579  19828  4815  26306  25329  22054  10468  27165  26014  31457  33966  25383  6344  23148  36929  33545  34433  36539  2171  35349  14824  25689  29281  11000  29771  32959  31040  21050  6448  23514  20595  25074  34380  21307  28207  35655  24277  36863  35341  14919  34777  11653  33335  36661  35437  36944  25293  26844  28665  26861  35843  26127  2514  22079  23396  27129  15508  10380  16309  24532  28116  36456  15416  28589  3185  31610  12450  11964  31763  24303  16418  29396  31390  33875  29532  19272  11355  26269  13958  28922  35002  16691  33924  36235  17459  27888  21131  26008  29182  15968  25256  33034  35966  22216  5199  11482  16103  13952  7922  29148  30329  35810  16995  6437  21104  29957  1788  20510  32631  32319  14729  28764  24189  9582  34364  35188  6369  33972  13425  35234  17812  32625  16370  14319  19876  24327  23985  28988  29447  1837  24192  17176  22387  35746  13694  20008  23458  7037  7794  33130  25703  28826  21602  8458  14630  18505  10054  27741  1474  14381  21519  25070  4336  33362  6439  35154  24889  28287  25913  32877  19749  16800  34061  16257  11367  17509  36878  6749  27061  18648  306  21474  33745  15267  19138  23165  8627  28961  16541  35877  15448  9392  34547  34188  26490  23409  28541  33069  19368  23516  12379  29507  5622  15135  7418  26598  29504  29887  32098  26149  6079  28966  16602  26260  34911  32155  29708  4629  8116  14521  27771  29947  4599  7278  26715  3246  18360  29989  26278  3007  23474  16756  31462  21526  35062  34803  15030  29362  9197  33461  22676  29797  28278  14704  26390  29851  32172  32634  22489  30878  27140  33031  31268  9349  5843  19964  9869  35697  27564  9547  30312  6397  13730  11094  3979  9994  16351  36160  20825  34080  24863  35340  12264  28629  31544  2700  27254  16711  27513  28244  35347  35487  23093  23208  28899  27757  16557  32555  24640  32946  14096  152  14865  21987  27552  25699  6588  33379  17328  36099  11504  10253  13519  32764  22969  31143  5098  33749  17418  32890  28579  241  35805  24888  12353  32426  20137  16368  18422  34014  34798  4235  11253  18393  31113  7151  4714  14047  24009  37066  18868  20011  23837  24268  17294  36873  28860  8332  28379  8148  22051  30954  31044  27298  24509  28334  35991  9135  31867  10882  26197  22566  36492  31016  30369  19649  15584  3070  14034  17780  5742  29663  28216  3271  16834  35310  14448  20626  35364  30681  33905  30931  23460  867  4861  12153  29198  15527  21214  32489  33533  16632  24577  12385  26076  8366  22278  24896  22850  23325  28377  27234  26032  13541  17146  30825  23710  27918  35870  8223  33929  8166  883  12519  9426  27477  11126  34309  35747  26287  6923  32513  35489  30891  14412  19738  35981  36701  18817  15463  19141  12230  17162  8069  17261  21462  12093  30006  17135  10334  27969  30819  4985  14560  16840  25896  36630  24357  32756  23661  26828  14561  7789  35132  4647  29312  10174  33847  2177  4587  26018  34298  35592  35752  32033  10019  28059  21709  32841  8725  34528  327  16592  26659  20247  30397  19152  35220  9871  11633  24429  17367  23301  4434  22479  25331  19200  17965  34577  13004  36993  22412  3734  32510  34049  36534  32406  24284  35037  6863  36477  24071  34089  26151  32994  7133  25031  20478  32184  6579  17281  20439  36507  11120  29683  30564  15503  10580  5433  31612  19994  34448  1806  29002  8928  25042  6704  30097  13571  16573  3844  7642  17743  10125  25684  28139  14081  22007  14907  8953  15721  16330  17510  12653  6477  6517  20150  13698  28389  24183  22982  14669  37195  27712  10655  12358  29300  34012  36882  17442  28085  16118  4564  16433  29553  36182  8085  36964  4578  31987  34521  21915  30738  34907  11692  7339  18494  36432  17408  23178  22014  12121  28409  30903  13351  19771  32709  10383  37045  33718  36306  4506  34253  30916  7025  18222  27632  34232  11123  13035  33628  28239  26980  4181  30343  30591  14450  37054  28214  33408  22696  34565  1676  695  23745  10844  21856  14177  27297  30404  30028  30804  35273  33647  18854  27407  31512  2012  68  34636  29959  16163  7525  12923  7740  33988  31120  21720  22741  26829  27345  15732  20278  11119  199  10476  34700  17055  23982  32516  15891  36047  23356  23707  30976  37128  5616  24100  19439  5463  31356  32183  36808  35225  7288  28038  3034  14535  31861  35686  24332  20501  13641  26782  10321  22998  5403  24613  34585  5775  2369  9066  25655  10973  34994  6449  29060  21554  13626  24701  16783  3863  31223  12066  27310  17508  23361  21696  33123  25412  20670  17048  26569  1106  31744  2091  25870  26453  30286  29063  12052  5494  28098  15045  7691  26729  35337  21820  32305  19172  32382  30952  23525  19015  7364  8454  4454  18844  35501  22632  36039  35508  21208  35008  13277  23575  2283  28630  33452  18254  31492  34605  36903  21358  20046  6519  16766  14225  4736  13660  12755  32589  26230  32002  29292  24228  15895  30673  4302  36566  1743  36800  33347  25434  26935  30566  34870  20244  31159  26072  26442  15750  32784  36067  16339  24200  20104  17500  28677  25574  13546  4494  2977  20845  32848  15394  16015  17907  24387  16247  23582  35219  17037  28585  35988  20401  36919  27202  25693  28708  26586  23848  21772  30929  4211  14509  24052  26737  28275  12663  26906  20960  36521  24586  7309  20068  19373  12193  19690  22234  28521  34174  23422  9549  5637  12076  11935  34819  35880  35389  26356  30112  30081  36430  37178  35026  37188  7750  4570  22132  30207  19603  16654  22244  23426  24516  12200  30251  34144  17460  34812  17525  2006  13022  14684  23291  32014  24937  20076  25603  16024  17763  16138  3422  28117  24175  13677  12716  25170  32097  14456  34269  20067  19051  20536  3129  21601  22878  25664  35414  30838  35391  12764  21510  36233  18623  30969  22068  24771  26295 "
     ]
    },
    {
     "name": "stdout",
     "output_type": "stream",
     "text": [
      " 33225  30846  36136  5038  20135  25552  29331  19625  28226  26046  25028  24356  2925  1246  1810  26504  32363  32811  10729  37196  10021  30793  25853  35409  18350  30314  11028  7856  20201  24589  33783  33367  8300  6093  10957  21532  8773  29321  9665  28756  3802  27534  5631  7552  5788  35554  34916  28889  36739  35906  2051  21256  30051  34854  15420  8508  10990  1848  32834  27879  10688  14161  16768  25953  15265  31124  9305  32606  27214  26132  26614  19073  29656  29789  21959  7581  32638  4917  30492  19836  34841  32010  10273  35430  8733  34637  26915  22706  23354  36364  6012  19197  29522  36749  25648  28720  20989  33340  10848  22384  9659  7526  16757  27330  10320  18512  35748  32345  34203  25202  27218  29759  15511  23734  30894  29991  7703  16556  1302  4703  24449  22851  3657  19601  29576  14842  19293  20176  21691  8129  32424  35373  17441  302  10962  30919  13865  15702  14059  22621  12517  13645  14224  24930  25892  30237  34236  13134  8987  331  35331  26301  26621  18995  13533  9147  33496  11893  9845  30011  21555  11713  36937  3186  24195  34529  13140  33306  5795  18583  28951  20805  23133  5635  16860  32813  13202  31964  26499  36568  2388  28367  33736  22431  23035  11127  17308  33508  17385  7369  20440  12839  15545  32391  18731  7062  21781  32560  18724  29696  32315  13377  14320  23736  18814  32065  12181  26432  20773  17625  31094  36622  35741  28955  9455  12500  36972  3028  6187  29230  14952  1987  17210  16108  34767  15512  36434  17672  26052  25788  12336  26073  31211  25857  16483  19299  16677  22867  34823  20710  35184  32143  36486  30464  18123  30098  36668  3238  27136  36003  10821  24565  33494  6960  16287  16684  12616  30697  8072  32228  36897  13719  20941  15674  4491  36006  24328  32737  32684  18568  9605  5958  11705  25197  14712  18336  5648  14777  7743  10499  4352  31879  5111  10528  20420  31726  7768  30678  28513  16697  17371  25150  31248  8109  17433  29399  27323  16046  9589  17989  9062  14609  13960  18231  28935  20055  31981  3113  22172  24320  33373  19286  16658  15802  3032  21337  28316  33639  29444  35708  14889  24079  26725  4096  30824  9577  9909  12711  15580  22502  31489  21051  25488  19100  17786  28547  17378  23275  27635  35447  36393  22619  8542  31175  6619  27666  29374  36419  36790  27667  18897  21250  25676  16572  13947  30911  24810  15549  36835  35823  19463  18000  17638  11421  31280  32152  4547  33065  29382  5476  13161  28981  35083  13371  31233  36782  33909  26311  31666  34924  10922  21925  22948  17733  25734  35681  23624  20053  23189  32883  34292  23825  12591  31551  34156  30068  31026  34116  33930  7269  28160  8729  35101  11026  29013  16723  32576  4159  31677  11151  26876  10743  7895  25728  36124  4812  31476  8369  22040  1426  13337  5064  27620  14480  15887  31023  6218  6123  11030  10270  13876  34005  36388  19537  25430  11287  15379  32636  6394  33036  18174  2624  35167  16283  19261  31287  15230  29939  31116  8171  24856  33039  17447  31845  21923  35041  15083  12065  32377  1286  11602  22704  14203  9169  16554  36435  9733  13089  17321  35415  22283  28248  3965  18631  13079  20458  26083  9407  36820  23896  31365  34189  795  5836  36918  10378  13429  30359  26181  13755  30698  34202  8507  21116  11611  34759  32409  13442  24131  37023  9960  31193  16099  17660  18043  31553  35519  31074  27870  5758  32064  7874  37009  4681  2985  9903  22642  19366  19703  25220  35594  17653  28734  30428  26582  30865  22719  20263  24157  14149  16799  18675  1228  10439  36172  607  30998  35366  11396  9888  34029  36930  36940  22019  35739  22725  28812  33085  34831  27044  24809  25735  25039  37068  27891  32591  28967  31063  26502  15629  37118  30126  36969  32582  24743  18416  2426  35433  13173  17323  24181  25491  7586  35897  29716  13370  17789  30385  8138  25264  9036  30634  30714  5431  32118  10744  26475  26555  16301  21912  849  10697  34101  19090  33549  2545  9019  20484  28416  23585  26340  19759  9309  36965  30396  37057  15363  9270  17504  30619  34983  19850  31781  3317  23601  30987  24882  29725  9075  20902  15020  701  33140  12860  30235  26122  33740  25721  11699  15134  1059  6562  28314  21078  36535  13411  16335  35034  32384  21216  17938  30551  30937  26324  25925  9863  7302  15980  9649  20258  28643  30730  25923  31090  28638  13820  19602  17987  35777  32031  20374  27935  14022  8422  2967  13427  13699  1981  15060  31363  36600  23704  22017  23368  19921  22282  36129  5750  14189  23607  22536  17052  32515  26023  21032  15062  35879  25206  36329  34549  11789  21405  28493  29922  27571  32630  26415  36442  14246  28323  3630  15532  5453  29822  13310  31693  11595  5724  13911  29011  22213  32353  36074  9418  33474  27655  21982  26384  11326  29882  27088  6829  21997  32758  16357  1034  7854  10452  14138  36888  33267  2877  19096  35204  18809  5089  27467  35006  1584  30745  3408  11565  34992  26066  24950  27381  31565  24355  18628  13737  24198  11613  10718  12999  6682  25200  32219  27216  25061  28196  11365  34714  35709  37127  9083  26183  2874  25636  26240  31019  18098  19042  28040  21248  10910  17124  31756  4215  24089  14474  12467  14425  14110  31075  22972  23398  19710  14452  17857  28462  33532  25529  13432  12546  33310  36498  11357  36517  36527  13799  6818  35789  11389  19017  20094  18578  28978  36119  16321  29958  10672  12790  16197  31804  16288  21193  16434  11084  24779  7741  33288  6358  18571  35767  26804  13825  6020  21907  33767  627  20149  23712  18588  31683  36307  27253  24162  24885  6154  24954  27252  2952  14555  36819  27025  9199  18264  35117  30202  28189  33738  20898  7274  17990  18603  28868  17269  1861  30971  30219  34578  25275  20765  24784  33277  12362  18271  30843  22514  24294  9089  14652  16054  28729  10145  33052  24023  30805  15319  31256  1149  30503  36292  814  12993  17369  36060  36938  32612  31169  26630  13935  36656  3531  33045  11640  24220  3698  26518  23766  35401  29280  22151  9368  18113  26684  33573  34882  9961  31738  8378  34760  37088  15195  21871  31830  19050  30842  12678  5200  21568  23365  36117  6989  28277  14894  17356  13331  37166  22009  15190  16493  28152  30093  31070  5366  34124  30146  16576  33971  35535  34377  13617  22366  8289  8529  14386  31058  17984  22361  32254  22150  16246  18400  25105  26721  26098  34863  17375  17694  27472  2995  33607  22338  23306  20289  31264  35157  13188  12875  17200  6453  19329  22547  35426  33879  33004  36795  31235  25505  24679  21130  35190  31959  18441  25271  3441  13060  21401  22657  31928  8167  2848  17679  14435  23097  16750  28822  35685  9226  36337  19555  15326  15295  12151  21498  28027  27322  33787  23913  27553  1251  21789  29951  9694  17114  36679  32121  29860  7992  4925  24138  29677  13314  34131  31833  21556  778  19794  7926  24024  30390  7100  7223  8838  17573  13901  7265  24730  24125  1  30844  36093  9906  29068  9795  19166  12938  19858  33473  3303  30732  32285  3177  9682  19704  9378  12783  36727  29089  17893  18625  28522  25877  18520  18688  4281  19093  25576  22811  10596  26807  13204  34310  35353  20334  11158  21745  32970  20771  30523  32435  24413  27030  4829  1403  32035  36719  24849  18233  5832  18796  33874  18951  25192  35470  35053  29220  19254  24521  11152  30023  16645  2150  22893  26745  31872  36859  12544  15473  35543  32000  11740  21352  2448  3486  29755  33871  10934  34671  36252  13971  36845  5621  18478  20897  16477  15489  14511  20642  31289  33486  6292  11472  19035  36051  33800  31209  30430  16590  26180  4036  22058  19983  4416  9160  22098  18914  22540  33714  23506  8610  34319  19849  17391  9370  3582  26599  7728  36023  1291  8469  24795  27007  23017  22601  13418  30440  27498  9175  29976  20246  33263  25694  26722  33058  7115  36282  32367  14697  34746  28570  37043  31925  36446  11176  33572  30610  24358  22118  16702  11843  10148  32071  9625  12464  34087  36673  20922  34595  36554  23036  36423  19326 "
     ]
    },
    {
     "name": "stdout",
     "output_type": "stream",
     "text": [
      " 34740  35038  36208  34614  11536  32537  3649  11505  24902  13515  35925  983  31165  29018  23760  12316  160  32614  36380  23905  37180  26761  6497  1396  18097  20054  7383  27688  16925  25742  33526  35058  22066  9937  35633  31020  18363  36755  30282  18993  9158  29335  17845  29785  24953  12366  31589  19276  25852  9153  31773  34119  10246  28818  20628  9465  16648  17425  30265  21581  14570  18789  34495  5729  23800  11896  28898  8257  34937  29595  37012  102  4227  36532  25769  10372  21188  23224  2483  31799  6767  37113  21364  35952  35827  21958  22400  27228  28026  36398  24559  31700  21478  37090  19886  31819  30193  27709  24459  5180  30322  32440  19839  13898  17936  36065  36523  6433  34277  2357  16990  22435  16281  33638  5786  21898  27375  27309  27414  22967  21470  27446  18770  24699  15324  5500  32966  21652  24389  16690  14784  35975  32174  21209  13590  19581  35915  36253  34618  15726  36704  25040  5460  29330  30733  34450  34989  3614  22578  33357  23753  32490  19390  35449  36238  8543  18879  34536  15291  32562  1839  23774  27516  6319  19167  5373  21287  17483  30711  32853  34781  19809  14155  28583  13365  4692  16334  19296  36473  2934  21616  30054  6789  32556  25205  35287  12395  36104  25994  16510  25245  28687  33848  10084  5024  16157  23414  35419  29952  8550  30334  1088  36636  26898  28996  16718  27418  19067  19676  26965  14056  20767  26136  22790  11567  30597  13530  36441  17220  20281  22087  21588  25632  34459  35947  11546  31109  27644  22518  27152  17637  36054  12318  20287  23505  20643  28781  11262  36045  21943  10121  17854  31549  37114  16763  8768  35281  36638  17479  27247  30474  16045  19868  34502  19578  26950  33576  21477  19330  17884  11377  29612  32889  36760  36509  15837  23626  29016  14939  29596  33381  28374  13537  32852  7476  23258  36609  29293  34929  12489  12869  29305  11576  28169  7571  14232  31920  34265  30027  32278  9905  11532  16546  32070  25247  4517  36780  5342  20644  21992  1469  19961  28154  27767  3335  27302  25782  30231  873  14001  20499  7250  4300  27840  2300  11286  18501  27056  21940  26497  27142  29676  24568  36064  35984  27281  17046  16294  25482  20834  4507  8787  25230  31503  15082  30658  5279  25366  13670  1683  27269  18235  36943  31080  18305  8634  25982  29078  2414  33415  19865  35211  36574  9916  18073  34478  21897  36246  29138  8027  29640  34788  20469  7504  7466  19424  19662  11474  21441  7363  34821  3432  4554  17231  34876  15945  23449  31272  33687  36586  14502  19070  8064  35640  26041  32328  24165  29084  32647  33906  11716  17988  31567  32344  13430  25156  28309  33881  15490  30109  27452  31746  36906  11679  37061  19875  29652  12285  2458  35182  16239  19954  25242  5487  34818  3918  5998  9331  30576  21544  29135  16515  27131  27723  31956  36880  16206  13216  31635  13426  11982  30005  935  27356  34833  34762  25974  29338  37074  31375  26044  10112  29686  12053  30483  37107  28706  16372  25102  21550  34275  29036  24281  34525  25188  30554  24371  36257  15553  19814  25011  9329  11179  27901  6408  19823  21836  26370  7806  28229  14917  26446  7677  23900  26524  12097  22519  18780  30441  32913  8288  9634  27987  15662  25372  19408  34879  26987  35868  36155  24653  24983  26224  19284  17015  17424  24831  19887  25322  16587  14069  23373  19238  26924  32498  35625  23433  14397  31292  19948  16521  30189  23742  5227  18362  27569  23015  36493  33799  17024  14095  30526  16794  34971  10557  20934  26104  19587  20959  14420  23965  30308  35629  33448  3342  13979  10346  10122  31814  33636  11703  15007  35299  17630  17910  22371  32332  22437  33803  17898  15865  15085  31423  15590  16349  29966  35448  17337  28492  20260  3564  23274  27627  5321  33986  34165  26955  6523  29996  34285  29903  19342  28672  1826  16503  19754  20743  29366  12534  18763  28055  30572  23936  3289  14132  32910  34551  33762  35241  14151  3676  34424  14872  36738  24265  8190  19795  3593  17405  36505  13832  17058  5860  15486  33418  34632  19278  7315  14734  19264  36746  33019  11518  23109  14445  11739  11644  29485  36098  25900  33838  21103  14037  18058  25243  25932  32237  36027  18339  26195  13557  6017  30458  22669  2960  3350  34341  26336  30979  31448  3379  36204  35754  6404  10641  33071  30284  747  28554  36585  17997  24732  3990  26531  31425  29617  21715  35258  32678  11520  13957  36443  13910  7917  23415  34884  37067  20288  22421  31648  25303  34780  23756  31985  3249  25225  17975  36905  32850  14646  10861  35186  26161  32823  21006  19793  26468  17235  22084  10266  28335  35893  5069  10131  25814  14667  35402  9039  11791  31379  18357  20819  15001  25831  31346  11157  36514  17198  9185  22141  25527  18437  28662  29287  16371  31903  10181  5518  20250  35161  20343  36230  33703  24341  25522  36895  10459  24380  34656  34772  36973  34766  25068  9279  20741  33779  37172  16027  34126  36821  11315  23903  37025  11312  14291  35048  6057  24578  7057  35493  24543  20921  24239  17956  18681  6414  27957  15072  31803  21625  37115  24058  35943  27153  6417  20406  16266  9477  12475  27636  33312  24738  35160  25388  31708  10142  12315  31312  14139  13796  32692  12872  33269  8376  16463  27570  24650  29704  27065  17542  2379  23583  34487  22717  23941  34560  3130  21984  25507  37026  19707  23917  26171  6936  12979  20001  24987  26022  13981  27506  18529  27507  36893  28748  7616  32350  27052  32859  31854  10208  17610  5794  37129  23321  36837  11477  33282  31623  27518  35077  24772  33751  14827  25367  16650  29475  304  25254  13562  24248  28319  30855  32062  34905  13100  35604  24670  36171  1104  5327  33040  36286  31005  19597  26897  4047  24963  24266  33634  36606  6481  13182  19412  22898  29246  12307  37142  25479  29378  16454  15914  18777  13559  33430  25076  35149  24465  28476  23540  10594  23593  36827  19806  33552  9638  18117  18704  24826  14361  17668  33569  20410  21595  17689  24864  25872  12965  24467  33567  34944  36202  31118  21710  30850  34086  16548  18056  2185  28472  33103  34886  30735  17416  29844  18282  7667  12306  27358  36602  7575  25835  34896  13502  24297  31652  6600  19170  9741  6609  5252  8102  29561  30654  20528  8161  30938  21415  29534  12317  6751  34996  27823  30106  20887  29856  4237  32655  6703  27006  21990  36374  32869  7799  18314  18138  18343  22200  2017  25904  2215  35076  33565  25274  17916  33816  32796  26537  33561  36968  28079  31915  15513  35494  5974  18878  20496  30802  10707  5467  7673  23673  24069  32535  19128  24519  16505  34098  33965  23157  24346  34782  771  1989  9673  35667  35187  21703  30342  18848  24857  37186  19023  23202  11111  4853  36716  18643  32317  21746  10955  34425  28232  18238  32509  31543  20347  5224  26109  29055  36072  32667  34445  27977  32053  26134  21635  36285  28628  1913  26826  31646  11346  21017  32800  27919  25210  31970  11371  15176  36709  34216  32066  30910  12029  11865  24874  2629  18923  32919  6418  20259  27954  27844  22339  23277  33434  24982  20772  31294  18184  15989  1919  24756  10129  28902  26419  14369  26133  30173  29451  20120  26277  30046  30978  20526  16943  24807  24773  22631  35664  20276  29351  35883  13000  16968  24999  21726  15622  536  20585  21945  16161  27037  5222  16384  12727  18062  29762  31138  29900  36011  23953  6432  7360  34539  34832  29361  7231  36950  10379  6653  25907  33365  28987  19074  13598  26784  18508  37005  12133  28939  29916  7067  33614  37081  19271  19228  31702  24969  30488  11712  37076  21145  33185  36385  22552  18205  16709  37101  23174  32462  33176  32968  26953  21867  33466  32950  17705  23377  34494  29791  15798  28785  34545  34328  21823  19944  34785  1631  12134  8425  35847  4106  14897  11002  34018  14636  20629  5546  30655  36105  9803  27012  35677  19654  31099  31711  20780  22039  27295  32670  36210  4252  4170  27224  27921  17552  18486  32783  5509  35703  5984  24493  10520  13993  "
     ]
    },
    {
     "name": "stdout",
     "output_type": "stream",
     "text": [
      "19841  28982  26530  20919  28436  28714  7134  20716  28096  26709  33070  14607  2938  19812  21934  20357  26754  3352  11658  34868  17464  31769  24599  37056  12660  20147  15528  27033  12480  33801  2979  26092  12598  32575  2846  31135  12119  28045  31843  36071  36572  18142  36959  24703  32128  19148  25778  35761  17484  22383  10853  11719  24946  9238  34800  11033  11210  23308  7439  26465  34345  8263  20322  36176  8083  34132  2492  20191  21963  36179  14236  31201  4639  13063  27349  8201  5693  15479  29964  15998  26527  21437  37065  17654  18586  22925  18340  24822  23947  2818  12255  6658  31345  1687  31288  25931  14165  35131  23191  27991  29635  16416  16121  34649  35490  17982  23778  34408  15832  23604  35763  19892  4824  22539  22038  13142  23605  31820  36992  24879  36511  33343  25644  9486  22459  17255  9857  31930  2837  15244  23898  12942  20686  20006  15310  13612  23495  30224  12482  33715  13439  23464  11003  35794  28281  28015  23071  23754  32233  32369  9883  37138  24126  17557  37184  31081  26094  32021  34581  34979  28500  20466  32130  23427  13621  23160  15350  18375  5669  9024  34599  6460  923  30113  22055  27721  16279  25774  1931  36891  29041  5802  35886  35303  34122  33170  34052  29222  31712  30082  29038  34299  27336  33401  23054  5570  27326  30310  18613  21159  11363  10461  29061  35042  25594  28346  11013  30386  11882  17957  26493  31785  20268  20667  20857  17388  17849  33747  13829  21932  18022  31119  36212  21169  7932  18785  35960  4479  3397  34513  18903  15776  15281  7321  32931  31104  20198  33815  29538  30463  32359  16524  27188  10328  32054  2433  25799  32545  24607  23548  8229  4781  23313  14094  32623  16531  12219  35103  30575  22353  33007  30962  36508  20615  18815  22127  25277  20361  25440  31421  4682  9787  10777  33717  35996  36168  30061  5973  28932  30614  27194  34467  5133  34751  36012  18334  33960  16578  26494  20413  31999  34753  37102  32904  21204  36344  25144  29855  26239  29423  30018  25773  30086  33359  5909  31675  27144  25385  31598  20851  25683  30129  36026  27862  6631  32542  3110  8742  7762  35282  8094  24462  15396  9069  12962  1672  22243  34164  32820  29352  1946  18659  19670  624  31828  33090  20544  16394  12298  35647  5044  5300  23933  30731  23075  25215  19648  35017  16670  13906  27261  19770  31687  12493  28225  26641  33439  13327  22606  5796  20206  26573  36858  24502  34995  36814  7723  12776  21094  11538  25657  30873  33784  20390  1091  31827  32862  27249  28593  35694  28480  21332  17671  19220  36713  9758  17606  9662  2903  10265  32196  1559  19021  12086  35832  26034  5702  10430  13073  634  34555  22899  33112  22597  35379  24481  10891  33729  27321  32779  33207  9769  33865  27695  30953  31424  20524  25211  20972  34207  30188  16259  22731  33635  28266  21948  25282  34504  5269  34491  6843  31692  33413  11382  13655  27650  36400  11085  18744  13015  19635  23038  29314  4999  23950  25973  25977  15316  16611  34476  5514  28341  27854  29870  17010  34489  2127  5891  24276  24210  28130  14616  32027  5197  33075  36490  4019  10373  24244  27371  31443  1543  20791  5567  28301  30328  27402  27546  30829  25134  11637  18761  31788  18244  16963  6991  30727  33481  6294  34564  36079  21656  17779  35066  26817  4145  24725  4253  33029  30549  17985  32370  13306  25558  6888  27784  25252  16874  25162  19852  25802  10353  14053  37134  27968  23521  11839  12390  28578  34324  11181  28489  19909  5171  18907  6946  34047  13845  16966  26778  6050  26956  17249  30722  31901  36260  12092  8895  16688  18976  35753  22052  26797  17066  8460  26578  23988  27377  4087  15102  26728  27974  25866  31690  29531  5065  6180  16462  7758  34726  7695  13233  33692  32084  21505  26521  24748  23347  20050  14828  17002  36157  32181  31333  19019  11141  36603  28236  6861  30203  9933  31068  20818  18410  30636  36278  19864  17117  33501  18714  12606  20777  32616  37144  12325  27589  17605  31592  14404  23816  30060  5867  32766  34396  19624  3575  18440  27829  23247  29799  33432  14025  27684  26605  29929  3710  19122  24143  34003  7228  27167  35393  27697  35143  36648  20108  33374  13896  1253  4356  35328  4921  31046  20980  6211  21030  12801  29133  23223  27068  7064  13357  24051  24837  24729  11290  23606  35821  32666  6330  32570  20705  23432  20385  13410  20449  20993  23904  30505  19906  36573  35853  6557  15644  6679  2708  5864  14834  7967  18399  36779  30769  30882  16169  18347  27744  8195  16973  26009  22325  33253  36195  20872  36436  34865  25333  28382  34838  35505  30951  5120  11384  6874  14185  25338  28372  5817  35055  3818  9617  30172  29389  35137  5656  28303  30305  32312  15470  17846  6917  30240  16425  12363  19752  24365  16901  10941  28110  22272  15830  22565  34428  18033  29319  27391  29834  27710  16997  26981  24994  21172  28099  30459  21670  23092  35357  34473  11994  33937  17224  14416  25384  26080  31817  33706  30163  26617  17195  20128  22297  24544  34820  5445  11723  12070  7105  18127  34082  36927  25980  1232  22667  2287  4194  33333  4081  35888  15172  16144  20624  23926  20405  29297  26353  10551  14259  23280  34461  3430  27889  26608  15561  24621  23267  19819  31893  30686  2136  3927  30639  14128  26105  27517  2368  11489  21001  10182  9164  30550  18148  29529  21099  23556  25767  18442  6662  36096  10389  20381  19665  36925  17001  28726  35416  8764  11770  25377  16387  35274  9825  19657  29070  31632  25933  23600  31762  16993  17172  20622  5482  34657  8281  33778  16696  6819  32639  27874  35682  18621  27789  6381  6845  30792  11142  20043  17431  13860  8679  6075  31003  32085  21667  32763  30103  13239  6869  33658  28267  34441  28834  34787  36848  26235  17228  11263  21108  29132  3282  12573  32892  26279  9698  32762  3731  5130  8297  22444  6188  25940  28459  21061  36237  3145  30272  13909  28107  21660  23550  21139  17912  17038  32402  35513  21780  17589  34041  31366  12987  14172  14354  27926  27693  32719  22559  4256  15566  20344  5007  21541  34584  33265  5210  30166  2842  19098  15393  18830  20652  29393  24025  25259  36785  31246  16415  36730  34851  35923  33641  34194  16583  24338  31634  21491  14937  35262  27713  26205  798  22078  7042  34722  9277  33500  5910  30687  13408  8929  25557  4837  26792  36132  22681  9604  3591  30726  24117  15471  18539  26515  27979  32826  9865  32263  36024  29858  4643  20865  31236  35773  20316  32357  2358  35285  34091  32351  16363  33242  14006  21559  31531  21742  24782  18748  35665  3330  17412  26088  5793  17494  32324  20830  21019  22405  29611  16083  20955  28671  34550  4536  34654  25489  35561  14436  26082  7425  35478  36563  11252  28938  13545  34245  33571  36693  11815  35787  35571  2530  22218  29053  25944  36981  12171  16738  27958  384  34291  17853  30680  27600  37100  25265  36201  4818  16383  23654  15506  34566  3867  21769  36002  15878  15321  5148  17403  6783  13606  29353  11409  24348  10702  35736  15178  24744  27525  33855  26190  32585  4705  645  5402  31192  33177  22103  36474  35404  36652  17354  23101  10974  12135  3569  3720  36087  36621  34208  36706  27820  13785  16183  32599  6393  27410  25960  29945  36886  34016  28288  9471  638  30626  30958  2941  15351  31627  9250  35919  17097  36264  24417  30820  13511  29150  30604  11758  4386  24934  35802  34242  9338  36637  36932  35386  31213  32140  801  22993  2728  11356  4890  10312  14210  31405  24448  29137  2570  34615  8340  10289  34530  8352  4083  31919  13814  24377  5713  26568  21917  3836  6971  22944  35423  33077  27020  27049  24404  32047  11313  13016  27317  14311  12953  15398  35345  20340  11257  17940  27734  19565  23677  17502  2785  10774  12940  31407  23346  31318  27999  20874  23382  35898  18161  21114  9345  10366  35141  31649  7499  16134  29928  31490  26271  30975  16408  29184  2349  31603  21259  26325  24094  20088  30816  28736  23078  21340  37004  22345  20700  30888  7881  23781  27560  2892  "
     ]
    },
    {
     "name": "stdout",
     "output_type": "stream",
     "text": [
      "1980  18998  20495  35279  32874  12391  1010  1345  13675  15536  36805  31337  19706  36379  26167  25413  920  4140  5287  28685  31857  35085  10035  2610  19510  21689  33300  1235  30966  20211  17390  16498  27995  7247  5347  35970  35119  9014  25999  17514  13980  22780  35010  25739  28044  27630  19014  20395  33059  9828  33821  28092  12376  22825  33719  6113  16030  15836  34391  14620  30782  21324  31056  36747  5082  14858  4713  12469  31460  31644  18981  10712  32211  30527  3892  15285  20620  3194  10820  4621  14101  9873  11278  11145  32660  7361  2553  16928  15678  10196  9652  33174  34054  16516  33554  13167  16131  26274  35786  37124  24386  21830  20380  13486  5529  26447  29131  10803  28036  11906  35889  25617  31797  35400  3286  19066  21463  28727  7093  7766  9518  31027  7943  30538  19866  29520  32231  11213  28614  32901  18379  27899  33540  36101  21412  35663  16609  31051  34617  15380  10972  12209  14850  19159  26545  25688  36921  16323  32675  29743  36697  29411  22538  27098  28168  18355  29461  6554  2664  9459  10180  5248  12702  32914  9989  21227  25480  26294  29570  5302  13431  27405  25152  36030  35255  5266  17394  24199  25022  31485  11283  13679  26332  27096  37123  6115  35319  34481  33520  26263  12245  19416  15844  36357  35615  22751  36978  34554  12852  29968  37116  14941  26588  36920  30813  31125  25362  25292  12567  25450  13923  25477  21276  30130  24638  4407  16502  31989  3398  22286  36294  28626  2075  11730  24887  36961  13716  1274  23400  24395  30324  15035  32149  31204  25439  24353  9067  35619  35585  21123  35210  16923  18232  18226  36675  27223  31968  21643  35503  21965  34136  14615  5259  18084  27938  14751  23167  35569  35453  20854  30540  22800  11486  12930  26942  11888  35961  24342  10585  26887  28530  4425  35721  29121  16992  19372  31585  27441  26438  15812  1211  14781  10337  33153  37037  33775  12806  4017  12585  30037  22560  3680  8979  23339  25272  30280  9939  3623  28100  14942  29400  34015  29600  23675  1437  32993  31251  10158  29342  5204  29567  11161  15385  12895  27484  16523  18409  5454  10102  23447  19126  34288  30114  6488  13521  32854  20778  34332  12622  34624  7590  10964  31932  23935  3357  5110  3790  27236  34096  36732  22365  19024  36467  7215  8676  9525  20928  27754  17604  11456  4311  16932  8311  30721  33352  11858  29471  6153  16490  2640  30734  28158  13720  31470  10215  35875  28750  19234  26962  10221  10478  24922  30421  36834  19568  13475  15612  24688  33257  23594  1532  30964  9334  35412  5448  35405  32830  29883  14355  24177  20844  22492  13900  36907  25987  30970  12386  24719  12750  26593  33322  6955  23456  26565  31259  36783  1326  35158  33804  22890  28143  35172  20272  28069  13240  20631  25850  29905  24761  16819  30279  35749  27672  32753  35304  16842  35575  28950  8429  29110  31656  14049  31474  36116  18518  22050  11019  11883  16518  26665  36448  32547  28454  9834  6527  10302  27961  21400  26771  32020  12182  10780  31673  36989  2969  23100  34976  961  33531  21624  7558  14837  19593  21109  24216  13107  4329  16692  21124  12808  35320  30577  30387  29077  27416  34383  1625  26342  23143  20048  2073  29536  20239  22335  34628  36427  7858  33686  12364  22928  23266  3759  3888  13474  10628  25584  23706  11651  28342  32828  33841  23215  8989  33613  30143  34006  24747  34306  36382  13500  21303  15454  10238  20863  21875  21814  25393  9743  37191  20636  34413  34457  29315  13251  35396  20386  14123  10427  13665  20392  33393  34931  24430  36733  29809  18960  19521  36545  35283  21396  15391  34365  36315  15559  31126  34465  34011  13184  30960  19762  22024  23517  21838  21966  31450  31774  27388  37000  25448  6798  16396  30478  30981  32113  23959  34039  11209  22974  30513  27050  28470  29320  14835  34070  2781  16657  24436  34127  36682  23285  9213  35170  12969  27952  19328  28125  13139  13662  16595  20966  7676  23448  10807  23749  25431  7116  33721  6736  4608  9495  35630  16585  25344  27783  31301  724  20635  15136  33654  13916  14920  8475  15838  36705  28276  12885  32881  17973  32983  34682  12825  7004  683  28268  20810  6949  17085  27845  27535  31766  34709  20847  27480  27390  2074  33536  14553  15752  36110  10283  23743  35432  19645  25149  17470  17370  8496  24003  26186  21527  28369  36166  8480  7561  3773  36139  26002  29820  7475  25004  30292  34359  6034  5585  15773  19241  21319  23890  21353  24626  18019  25641  32470  32962  33668  21272  34210  34221  18609  7207  18010  36626  36450  3559  29156  15299  15400  20033  20083  17794  12543  27023  34056  6805  21176  34609  6021  7648  29739  33748  26422  33746  21741  23349  32095  2754  26717  9630  22311  7445  33066  7242  19243  7720  36798  20648  13807  33476  24283  27766  31847  29948  31668  27001  35459  29186  34698  29962  22844  13811  22269  16909  26600  9996  28940  22094  9363  17364  9786  8336  31263  27026  30496  18059  12436  19726  35314  12904  18627  30870  22155  6560  22903  26247  19000  37106  36899  1787  31093  8663  13315  36593  29726  18034  13548  25157  26896  19972  31976  29123  6337  33314  30096  24916  22774  25943  30995  32564  3103  21345  10126  26815  15756  20349  37167  37157  3041  29910  10850  8896  6498  36308  10204  21976  13731  29530  6119  8954  13003  26749  35350  16070  13423  31095  27645  28766  28790  1947  11572  17565  4532  23830  18808  24604  11800  14334  12045  28572  1969  12114  24996  35321  4626  521  32609  11959  9086  23970  13550  13937  22768  27118  9433  36816  26293  6150  2819  14543  21331  22838  21232  22772  35123  36396  33601  1855  32708  18858  11767  4795  21593  9289  11924  30415  27105  33220  18268  33578  6383  17033  28478  19087  31534  24325  24687  26946  35370  32226  26028  32165  2652  9352  36314  20321  17496  24769  17025  34409  24951  36838  12525  19835  7904  25834  14485  35757  25634  30192  32412  22139  32694  33308  26677  29886  16666  27850  9655  23335  35556  6728  27962  24974  25411  23440  20835  29821  2364  36712  30725  36086  36604  25779  27462  9224  32026  7222  6350  20164  25783  20027  13349  35502  10742  31179  19418  31587  33390  7669  12321  28712  29214  26584  395  20763  15806  26996  6539  20463  31933  13348  17169  24000  24657  13565  3835  30351  2208  13685  21880  29015  31076  10521  36691  27445  31364  14813  34444  21228  12666  24828  35460  24234  26389  12637  32531  22440  31768  32208  15882  4805  33884  28401  2493  33484  15107  3255  30170  19932  18750  5416  28896  33327  14572  10946  32960  5498  23408  16180  8176  20599  11303  24976  35591  31122  3204  25410  17211  34123  18952  12856  27080  34651  35904  30070  5311  19750  21200  28242  25484  35538  20057  15859  33160  20330  16160  34337  36236  35067  13601  23091  20903  27573  34268  13744  16722  30967  18650  36178  19076  7170  18525  30050  28318  26003  8065  9093  31000  19400  11122  34638  18081  33818  9042  31160  14792  35052  24287  27523  744  5826  26851  10806  28646  36807  37087  11106  35590  9774  30889  11846  3471  8548  36671  6642  31242  17203  14673  17275  737  13103  30827  25798  20587  29254  28840  7410  13452  6125  5364  37060  25713  28737  27864  35580  35467  4708  21350  36995  19360  29720  37015  29339  23490  1313  36831  32099  30244  29647  20093  35973  30248  10736  31628  19859  25397  20442  13836  26902  34918  13055  33885  9571  27538  30896  11353  30763  36799  28257  14980  34110  6442  35456  33122  33990  30940  20893  28587  30222  17716  36424  7889  5896  17909  24610  30561  28811  6512  19069  26483  32565  5033  27171  21892  27662  26352  29628  30022  5254  10402  11414  21539  27765  1314  30025  31508  27996  29081  2586  23867  10668  32338  11057  31121  25512  31240  29149  5126  31228  31914  29784  27294  27430  27019  27661  11975  7432  28008  2092  19843  19958  7646  27681  35289  11245  28435  2522  14621  6612  20143  36512  28469  16811  11879  31953  20572  206  22625  17994  20885  9585  "
     ]
    },
    {
     "name": "stdout",
     "output_type": "stream",
     "text": [
      "22864  16749  27658  10840  23392  32309  10163  7056  14168  25260  10065  12142  26444  34829  16403  19900  20418  30196  7396  17680  21980  34913  2432  17641  28645  25471  4867  32937  32794  31639  27235  28536  5543  20659  28006  35272  35953  23864  19557  22261  26307  25376  19935  15852  35164  4817  18566  32706  1442  10531  10915  28618  8524  9678  35936  5458  13996  27034  32483  24518  18359  29932  7530  31997  22057  20297  20561  25968  34920  28710  31328  8494  4614  7103  16619  1705  23012  10391  11916  27486  32792  36183  10589  10429  21427  27095  14454  26911  27749  33331  21543  26916  15789  20160  27400  5863  32206  35069  35316  4931  29874  30706  33622  32492  1136  35851  35176  13833  29161  29977  24097  32954  453  36951  35903  13695  29537  7101  27720  20172  25930  16458  19742  32601  27303  34887  3914  5839  28014  35197  13962  33551  25172  29459  15184  6982  18760  22983  2204  34192  33203  23884  12859  23319  29463  26377  4899  21156  33583  34273  26440  6231  36650  16876  5408  27100  667  21833  23201  26736  10691  26863  17063  6169  19256  14167  27208  13628  19728  14916  24691  2752  32465  8139  28577  3691  27878  35856  24596  23719  12273  36048  22942  4539  31354  20105  13437  5614  22053  29719  35934  16133  2703  24161  26078  35650  16675  18438  33832  36761  13961  18772  24538  32161  14580  35611  17300  16039  25911  1637  14457  31006  35500  14596  33199  35194  33244  22887  23672  35568  9962  32502  23824  23475  36147  29668  17663  36368  18646  35869  31665  30298  33696  28146  25602  24119  27189  19955  35360  5816  6371  29210  35324  12766  11215  10978  24455  20295  24832  19907  32908  1898  27085  25475  27940  3150  11810  13707  35439  26270  36057  31434  12109  15499  20996  26957  14473  22654  19825  33537  31219  2689  14799  21843  30238  31724  21803  8395  29301  26469  21770  15025  17159  18228  24582  36174  36707  31622  33167  8013  25533  29699  33606  34603  5289  32878  20623  26401  29803  35928  10513  18167  34514  33798  34059  30450  19660  23217  37117  31637  8763  18299  15261  31518  14693  22904  1248  31150  27490  34670  29717  29237  34338  10574  26318  13818  36472  25038  25905  35795  13758  29658  30642  4272  22594  29902  19556  5019  11732  1756  29434  19837  9522  28307  27758  14020  18754  9721  20555  25784  16114  24710  13551  6240  18655  22517  26360  27670  1668  13451  24352  24410  18224  10031  28081  29585  29358  13011  16810  3715  34773  30021  36240  28517  16983  19279  3318  24267  5561  33792  31258  15700  31353  31481  26966  9311  5358  13751  18749  28627  31145  17972  27540  16353  30379  36619  6740  37046  12807  33982  35074  17773  7040  28881  25189  15944  5728  22499  13701  24330  25249  33734  3758  31661  27669  27890  28120  26943  32160  18295  33364  24871  29540  17137  33285  17439  28252  2750  28828  715  9432  30515  32939  6733  36433  34519  21322  35271  8735  37038  29243  31605  31703  27853  29157  32653  25520  16879  35356  20271  29679  20967  21857  31880  17590  29470  1304  19918  34959  22930  29261  24076  33727  19716  31750  21021  33492  11424  14417  32232  32347  7230  35605  13750  30363  23983  33375  19411  32804  35593  9058  10219  32990  19774  29871  32072  19941  29105  18068  33487  35520  30548  8854  33332  24536  2105  34619  35861  35421  36209  20226  12835  21650  30036  5536  21027  24717  25043  33173  1168  8290  18404  24733  4852  30471  32471  3725  15819  36207  4203  34843  35035  32658  36763  33315  14496  32529  14664  15615  12733  13397  12236  20082  10015  12629  35315  36345  34543  8587  22733  16708  10679  24891  34100  29965  31469  29551  13848  13289  2037  21587  18890  945  22917  22070  25669  15241  36525  35838  11869  32276  25339  10534  34537  11660  14608  26873  27801  28660  29097  20920  6969  25614  24503  35436  7994  5057  35539  36540  32075  29669  34105  2854  31660  15070  30574  6747  19684  35440  15543  32168  27401  12281  13383  22015  14169  289  7700  16838  12491  2063  18630  12531  27897  33917  15468  20429  18977  33823  1944  12878  27206  16005  34392  34696  9632  28639  489  6461  21083  32007  32339  36503  13920  22550  28049  8975  20231  11075  36651  18298  15044  26043  33096  11021  18677  11664  36316  20970  28947  25308  35679  33345  3545  13702  19140  17903  18699  20827  31775  33504  17622  2961  12180  22320  6491  22324  22541  34394  10638  26978  24108  30529  14611  23722  22884  20219  4606  7457  19322  10905  4278  29151  4275  4695  37070  34031  3737  11562  28428  24990  31523  19718  37098  7566  25403  22668  20878  34453  36409  30422  28131  20010  21486  19105  33899  33619  6986  29034  31559  36318  3526  31900  35751  15771  32169  16013  25895  31391  4950  20609  24369  36339  37105  32380  8934  22113  35070  35308  26748  2535  14130  15300  25967  2612  18708  26936  30795  8990  17134  24848  19344  19345  22792  27972  33091  20436  25124  22808  35140  15419  10640  26131  35692  7131  30160  35461  13746  26039  8049  24081  36340  17943  31696  26143  5000  25133  3703  25876  35059  23772  23276  29495  27532  22030  31619  25101  35307  9601  9580  25492  10114  30493  13081  5554  12397  23171  30105  417  26359  13333  9026  14108  14084  7281  10445  16883  34464  13989  6048  35326  1724  11598  29417  19287  30424  4971  22011  27413  34552  7933  33014  27561  27575  23333  35932  2125  20542  17363  11647  10767  15555  32955  29032  29465  27615  22290  31158  29670  29560  33433  35221  3458  6668  20310  30637  22886  32988  9060  2600  14113  15413  19998  25589  26523  27985  6429  31249  10874  7726  33073  13096  35442  25970  9513  27606  35597  36404  3067  2802  4750  5076  36660  15565  20264  21733  27830  11786  30228  36872  20923  35506  31420  18419  27543  23877  28754  35646  24401  22209  29317  20512  1138  27170  5234  29263  34357  21863  10339  12897  32464  35463  30469  9377  19804  35534  5827  23806  10817  26557  28854  22181  4649  6815  28550  29388  17986  31355  25146  33192  18303  28332  20460  31078  30042  24084  36163  1208  34786  22135  11144  6360  9844  11992  28991  32693  4696  20000  8293  14550  10763  32459  17139  30985  3626  31084  2175  20333  37193  32452  27559  23305  32163  30066  32390  5623  20441  8503  18658  36149  18764  18473  34226  1328  4922  32486  31947  13197  28270  31110  30801  22816  20476  29888  27361  26338  23117  34009  28144  34719  2264  30915  25262  24176  21476  32648  36145  8026  33933  29801  35128  127  36001  2828  11016  30784  32812  4433  30476  26038  23316  28443  30259  25373  26209  8848  10124  16858  29199  32822  33590  36225  24669  30999  30957  36263  17168  8833  28381  18119  23668  28258  34437  15098  16265  30851  33705  10845  35541  17423  28962  12284  5818  27865  31897  28641  36926  33564  23362  8541  20188  5369  19943  3209  9823  30411  26666  3633  22870  24628  22207  10530  16762  30743  26744  13029  16540  29104  9723  32525  30943  34350  20733  5170  8964  36857  30669  34000  37059  32046  9214  17080  31231  32450  2690  18842  15908  2897  21763  9544  12639  36550  34542  9156  18565  15981  16933  34267  16681  30547  25942  12102  31419  33505  9034  26369  25950  16807  21119  34333  24603  1472  24936  27032  37137  31401  7172  32067  13023  33088  28224  6388  14042  35011  22475  31917  23645  17633  27354  19158  16481  33485  35644  6667  31453  31734  26791  19891  20023  29602  13028  33336  19216  35121  36565  36077  7585  3599  34871  11968  11282  20748  19815  13256  21822  28112  10981  5978  22349  35427  1296  15647  19702  25296  25991  33097  5075  16977  10924  17872  29303  32106  30641  3190  30570  2786  16110  11614  19498  12736  35921  36519  4495  30521  29372  4473  23485  4460  22163  34580  26719  31582  16575  26261  18970  21290  318  29506  18320  23751  34044  26781  27175  15207  17711  10225  34417  15915  26958  15048  36915  23762  15248  12677  34311  25046  28857  2396  19255  9537  30500  6332  17586  33962  36449  32699  4150  25807  13892  17488  31141 "
     ]
    },
    {
     "name": "stdout",
     "output_type": "stream",
     "text": [
      " 30245  33867  7916  9341  28903  34185  6803  14796  32980  34488  26595  29143  36851  26811  33389  33782  8284  20988  17620  28616  25619  23193  19431  14510  28507  6538  6715  32138  28086  13503  32715  32716  35550  17259  31748  29019  8022  25126  25008  20884  25609  4534  19573  23812  36531  22257  15686  22985  16185  34373  18132  34880  20953  5192  19973  25216  7071  23252  13881  11594  18909  7129  10630  34587  9106  10789  27902  24036  19401  23647  17897  33768  32108  35635  8570  12122  602  5305  33693  28387  17571  33712  25012  28839  9438  20101  26470  36522  13805  35574  36596  11707  14735  22712  5004  32170  21229  35990  14503  10561  12463  30879  30871  22638  11902  34927  21819  8082  15118  26069  418  26241  34429  36856  4403  11055  13147  29770  33212  13436  10164  17449  36031  30256  9038  23315  30445  23779  8237  29664  36544  28068  23434  8498  36774  24606  32696  13463  27301  19312  28512  28505  23788  37165  14815  19514  12665  29492  2421  22826  24753  3188  11258  31335  3291  31494  2168  18979  10140  5965  35674  29306  8901  18102  31793  21380  22500  15502  25130  36034  25426  32105  28115  7312  31694  10677  36141  9276  22926  23073  29780  25086  30076  22571  34822  28711  29270  16149  17952  1698  32656  4858  21408  3815  25503  26265  31498  17380  666  7637  23671  30693  7152  35901  15570  36843  15239  73  35339  25389  16685  32909  24144  3293  25864  34053  35824  34199  21377  11851  20396  22592  15925  25687  33297  24872  10177  35532  29160  32001  34348  11875  10959  18567  4520  34228  34066  23019  9887  7826  22532  34770  28692  14516  29466  10224  33737  31127  34482  13186  19433  7511  20936  13448  28892  21187  19874  20471  20665  4148  19192  17666  24141  35702  34663  10887  14951  20183  2651  21041  6060  24558  33346  24350  1825  24680  25327  33660  17751  31398  30451  3297  12650  32094  35537  22885  28883  29328  1498  24438  28016  10997  2795  9234  2415  15741  33169  6015  30532  23420  34866  8914  9840  16127  31776  35207  29879  105  31504  33183  36347  22633  32060  11183  32451  35564  11619  12216  22777  27530  31614  34182  25954  29983  25049  17729  25758  12423  9176  13158  22854  25141  9428  33209  32597  21305  11913  108  28412  11260  18756  29450  25400  19230  23046  23518  20175  20099  6643  15202  9999  25461  30767  22145  5217  34347  17429  2618  25305  14472  14725  20069  16412  10752  13946  31864  26541  35438  31430  34625  34647  19982  29713  33817  14422  27787  14604  3261  14260  15211  25261  26963  14911  10720  10983  8140  10216  35662  18482  24304  33593  32115  31343  12228  25542  31032  29136  10361  36480  34917  4869  9753  37174  18276  11718  19705  36862  8428  35908  15059  31163  27747  31537  15709  32799  25213  29953  22242  34608  18875  29250  20497  27299  27365  23739  27412  4662  35842  13683  14315  10276  30075  8145  6171  28838  30933  24184  31550  24013  36227  7957  31471  684  22787  10055  32158  28450  12880  24675  7755  34761  11089  20131  30546  25335  36170  7272  33084  29497  21724  31672  27750  7802  25007  14002  3407  21086  12988  22120  11386  16192  34888  11024  28758  24007  19675  31615  32798  5997  33623  23989  33852  33698  20237  32893  2141  33230  35174  10451  15292  21326  21446  35857  35976  8948  30152  21895  7560  29510  3891  17174  35609  21529  23709  18327  14068  28423  3219  13759  10469  22423  27833  19784  19560  36331  28000  4297  23039  1370  31728  36272  29835  7164  7891  36913  18917  21205  36885  32302  4262  31538  36377  33317  33351  34653  22855  36812  28612  31850  21753  28118  32073  19438  25302  7267  25623  13104  13290  23699  18476  37151  25472  35488  6644  18369  27730  17130  17524  23504  32739  21813  9835  33337  16607  24862  27855  32069  7403  23437  13301  12187  9448  22548  19380  942  35124  30751  16994  24780  10657  29079  33584  10095  20709  34894  18521  15462  26615  34771  17742  35816  29868  2955  14851  31688  31369  22608  2066  26853  34533  18971  13735  28344  5166  33864  3165  28690  27602  26993  9727  28895  23380  6677  12468  1716  25137  13822  37120  32780  24834  31456  31597  32306  33880  31157  4069  13585  25789  36123  8000  11471  26466  32734  10159  36884  18644  26011  33834  2268  18454  30409  13273  33226  36454  8681  9044  34153  19031  19153  19753  35015  3447  703  8904  19696  34092  29174  29731  25785  34535  30230  28195  3697  11876  21831  33956  4718  24343  5449  11047  13742  24451  4877  4449  30047  31445  23336  34072  7980  26160  25228  24707  1016  26417  32832  33342  27717  19664  25317  31062  33198  20133  623  30317  33271  7907  23477  30817  15817  29630  27278  19250  35560  25736  32805  19862  85  12539  29298  29401  17039  15696  11989  24463  26427  23863  30454  17667  31092  26150  36748  16940  13229  3970  6726  24254  20026  28404  27696  4654  14363  35974  36426  31578  24275  25912  22424  36518  23457  36752  25868  34282  15037  34793  35039  30531  35346  36265  28716  15997  36695  20059  19524  2738  33028  23067  19097  36152  11341  20493  20918  36677  36866  2832  16561  17343  32519  13230  11621  25219  20880  491  5066  7158  33137  12991  33629  30847  36338  36723  16884  35368  26869  29005  25136  6502  32477  32646  31461  36068  25469  30306  28602  9992  29702  23057  22754  36271  425  3874  24750  37099  21455  14924  11478  33157  10212  23004  28028  31704  31212  9215  5103  24045  31185  35671  17829  3048  31351  30803  36649  27527  24064  14265  1975  22979  6531  8728  35918  23653  9249  29469  32220  12730  24225  18847  30876  12931  21449  21829  36180  21927  24469  17899  14438  28744  36469  14883  16911  15946  27944  35171  16377  30065  30585  13368  35690  3819  34687  8170  7174  27925  34266  34586  1268  2470  36696  27481  23245  21206  26707  35029  15370  28954  30932  26656  32524  19831  11963  20565  22158  34379  36251  19168  15634  12335  27193  32640  19218  29004  2917  19755  31948  21201  15862  31516  33844  36453  33653  22708  36617  9227  23118  9855  26880  25100  14605  26189  13414  11062  7146  33887  19699  37152  9492  25351  17546  32817  9515  36320  5309  23718  36090  33334  27603  32207  16673  17803  36549  20428  7435  36715  5647  36949  28264  30032  7652  25270  19686  11218  9696  10092  20817  21185  16729  26742  8726  15635  10467  14869  10171  18797  33528  19242  32049  26508  32493  20517  27939  10288  34249  33041  28667  1300  12694  27867  32847  31486  11317  25452  31035  26519  27434  27637  24515  27210  33932  35621  36416  4301  20434  4222  17347  27698  34388  36496  20611  11483  10305  17242  13526  34501  6122  8413  17406  31568  21024  15883  32495  31332  16194  34479  33124  31759  15736  7658  11881  36726  29455  29365  4238  2408  12824  33233  11236  13768  1038  31083  35945  36894  33989  21502  17243  31962  20931  16300  26560  12720  12262  30307  18415  5746  25232  26974  31577  18849  36590  19195  11061  36510  25187  35256  8605  31338  4715  36734  6688  32079  32777  13817  27471  34592  16593  16877  28908  29674  35905  21142  35111  25140  25720  31701  6501  28213  27883  26097  35343  26054  11856  14306  11618  10835  26662  20229  18755  7166  21291  33144  35134  10765  35305  7694  32400  35254  23534  36035  36916  31942  11416  19501  33939  11561  36268  21782  8741  28175  7871  30539  10649  23227  11268  28701  22337  34042  36362  16664  36966  28749  37021  21241  12322  27676  2674  36759  12599  19580  34443  14953  23187  18497  5560  25106  11899  28177  2076  35014  16492  12583  8098  25179  16128  30164  24678  16857  9593  26814  28269  19464  17778  37041  17683  29760  13222  18742  14878  34797  31663  36221  12224  24693  14241  12793  9073  22458  24152  10802  7112  36958  36131  9843  7859  12282  30818  14594  3950  31394  19327  30095  5003  22666  918  23796  33863  29695  25643  26941  2926  19457  15684  14014  15179  35511  37055  16665  10327  8753  31841  25519  30928  32414  29219  30568  36711  10954  4428  21589  9371  10151  15912  8307 "
     ]
    },
    {
     "name": "stdout",
     "output_type": "stream",
     "text": [
      " 2872  22645  37048  11368  3040  4501  19691  33087  29452  11197  31992  12428  2998  27509  4133  32241  507  35967  26222  35822  13991  37039  31771  9260  17366  34677  23763  16102  22043  20072  31011  36791  29113  28886  25036  34981  584  31374  36588  19590  36933  9744  23126  25674  9108  2987  17701  34019  19888  34977  27257  9666  31761  17166  5088  3274  26770  29209  15066  37141  11288  18230  15758  30001  31218  32929  34451  30012  17970  33074  27831  35733  24446  29899  6920  15588  37182  3501  18873  7713  22807  20162  29597  9985  22888  24647  28222  4483  25836  35887  26112  12146  27178  10994  26870  33901  17917  10877  18111  26835  16530  14717  27372  16980  24432  15325  27493  30729  31409  19389  10437  21535  16831  22343  16431  8700  27351  27463  8812  15663  32687  25561  18333  19659  35514  26772  9780  16317  11574  36370  1216  27821  27755  30365  35884  30837  16158  37185  10047  24778  26029  29090  23539  8457  9115  10796  9833  13128  33356  16647  36487  31502  10033  22789  9782  34575  31202  15884  9353  14679  17577  28135  11517  29854  31840  27691  3709  2405  18151  14356  18866  9599  452  22858  16612  32997  13170  16137  36055  26548  31266  37104  11993  7028  21946  32577  25221  27176  31214  15978  34925  9636  32539  32551  14514  7301  2361  13235  30108  30026  21802  5022  21501  23631  14876  7611  36770  35656  26084  17914  36082  4326  26148  5478  14587  26510  20248  29512  23372  12717  32543  29096  18484  21653  27966  16751  19981  21988  32995  28925  26348  5938  18640  37122  22358  13497  10411  10804  7588  34764  18980  3414  34966  15175  12760  12501  24545  20251  3122  34965  28849  29429  32984  17927  9606  14913  21740  30875  24588  21941  31049  25163  32029  2155  23190  6816  33912  33843  22059  18166  12106  4074  6664  28274  31290  18147  8479  33944  26451  3263  33196  21043  26864  30145  33011  32006  35104  33915  13823  11510  24970  16532  22344  24908  19867  31888  28119  26194  28238  25563  36571  6400  13065  25481  31437  32200  1121  29999  4788  19844  13421  32342  37058  35987  11234  14541  541  11264  13499  23450  24340  28418  9976  25098  35899  30043  26692  9519  3645  6288  33675  17632  24452  32934  35166  3084  23994  18277  22374  21014  33341  30892  6973  36258  4613  18926  22341  30562  29748  36479  31347  22171  12128  29862  11256  24824  21053  31572  33429  27114  32416  36914  27102  3600  18345  18933  5360  28823  36476  4522  7996  26297  30699  20178  35096  30862  22180  31535  3896  3551  20579  20262  11375  36908  29039  12247  20801  2668  33722  24585  35050  33493  27164  24384  35867  5789  9680  29806  26733  16398  15714  8096  19536  16449  28352  11677  15410  22443  33664  11931  12611  31978  11932  31317  24522  35783  19628  31431  32654  22199  23383  34261  9858  24224  31824  15790  10892  14804  21042  11088  16975  14156  33702  29224  28228  17962  34936  5201  30255  22456  33254  37083  31586  31147  21421  28850  29348  22368  23112  24437  8724  24528  18281  24055  22685  18168  8813  30118  9811  22211  25577  16621  24967  23698  29380  9928  31935  7365  26157  32713  8897  30853  26830  32401  36591  26795  11529  22620  23417  22805  9283  18157  19027  20037  26731  25283  24712  25832  785  26114  17685  25284  24508  22627  33037  36206  36050  27838  22575  11886  1921  22049  15699  35153  30707  19993  25391  27339  26047  35582  24794  16278  26882  18120  825  5602  24534  28887  26095  29267  34752  2339  30909  8639  17070  27160  26199  19842  24054  31221  12541  21077  13322  18249  31875  10950  32279  34750  3211  28506  31926  30768  23045  25606  36597  28271  18819  9735  18746  16679  31899  23206  21174  6698  25201  27222  30376  30482  5850  6306  16487  18693  31069  30988  35072  18341  29819  27623  33657  26698  18572  36250  4444  24583  25415  27473  21631  31757  34342  30480  19461  29499  31101  26536  26381  12773  37019  19902  11605  25399  28738  33527  25990  17036  9543  25495  6730  23390  4644  34693  30153  22018  37125  18072  16049  20490  30924  5913  32704  22710  36197  28563  13847  8047  31950  13295  17068  16859  34286  2001  32089  13666  31657  8247  14629  9801  7393  31765  5383  15586  30150  9832  36520  7875  32164  3675  9126  31395  26691  28419  22167  15205  7137  30779  32873  29643  25158  27794  35895  16761  4820  12626  992  9704  23809  32922  24663  1429  17931  10839  12075  20917  26734  31327  17128  9947  9256  35525  6434  34021  10728  18302  25085  21732  31730  35088  35465  25562  29598  11009  11083  17933  12644  12107  32192  24053  30823  5980  13940  22839  30123  1903  17816  29482  35910  29242  21255  21865  24263  26246  7051  25139  30581  22875  12005  28753  29954  32558  6515  36019  27404  17325  36936  30038  34600  35252  6140  27690  35125  8100  25716  26153  24334  2908  32775  14029  35300  22765  18509  14960  10542  25795  1952  18683  27687  9717  19186  23090  3072  27975  30034  30059  19275  282  23813  32180  22002  14500  10173  10576  9498  29937  27945  30866  17454  11671  5692  27834  17761  31277  12394  32198  29228  36564  10851  35723  26747  1768  34662  28659  36861  37030  21811  37010  10282  16509  18611  18040  12140  34454  25427  16544  5638  32201  25874  37069  24006  8814  36694  26900  9648  19773  33305  33431  11709  9056  27124  33289  2594  15576  33542  30127  32819  30989  5924  9183  11393  27398  16942  15124  17303  29427  2193  21338  36674  15574  26027  7896  22187  22481  33104  36289  6321  9806  16221  33791  28223  25015  32673  32365  20345  18545  23777  30946  4860  16660  25407  31896  31262  31943  28545  19060  9983  27036  6799  27503  2235  8906  3142  26045  18349  25837  13563  31557  31792  14992  29718  30211  35643  12771  13118  36488  21304  12920  20031  22495  21181  9229  34385  9389  11398  4728  31855  21877  31653  10727  33061  32256  27809  32507  12927  33107  37111  26640  26175  16880  8830  25549  1692  25700  9374  9808  26763  33632  26712  10368  16699  15596  25625  26883  21891  14064  13965  28176  31758  28325  4068  16987  26690  17028  9809  7710  9300  15841  15459  36952  28241  35202  3740  33555  37156  27875  22797  3232  21558  18199  30072  12710  21617  36868  7841  28437  32274  28689  22737  14252  28651  8983  4378  17537  25537  18087  10925  19448  21499  33403  34112  15383  8791  28136  28501  22583  32791  26526  28657  13019  9420  14135  3170  19013  23072  29196  11698  23063  11880  2351  12448  24965  18136  13286  6440  25093  34469  24739  20186  21192  35881  25051  26686  32022  25975  30395  19350  21029  5216  3386  22919  32129  22881  34107  28647  23405  28918  25972  22304  29141  4542  5011  24017  36267  33730  33987  32808  10559  21288  25705  11376  18258  22968  35097  29685  31909  17584  18861  25474  31691  17945  31794  8244  29167  6824  29703  22609  18670  35756  34507  27128  12485  30024  3821  19711  32729  16566  16955  33534  32620  29911  22379  4671  30406  17156  13481  7486  3482  15797  19813  34251  29973  8692  16226  31938  20812  33495  22673  12291  23695  32227  20987  26628  26223  17709  24311  20029  8095  34855  9981  13932  8837  12778  20978  21845  11280  36192  30869  23370  446  11058  22892  30029  20547  27338  5944  10823  16872  16159  26730  18193  10068  27411  22978  24715  33149  17635  4500  2947  12966  25332  20035  25707  21714  30472  28354  35986  19585  17477  890  4350  17862  5374  30902  36299  33894  21385  24044  19945  23669  17664  23119  31988  29764  13343  34020  16230  31061  15298  19205  32681  29823  11646  22795  33739  22328  23981  13466  20492  9288  31227  36366  11838  9117  8849  28128  35047  4656  23391  6796  36069  19533  29765  19102  17736  13586  32839  15193  36634  4994  11394  29661  35557  31923  12797  35657  13259  28544  7084  13972  20060  27719  17201  27163  15650  30742  34314  25621  8187  11756  872  27508  13261  23445  26423  237  10799  33056  16474  34435  30380  26156  23528  14674  5340  33523  22882  4505  9995  28755  8019  14307  24173  3443  5026  32561  10896  17379  6877  "
     ]
    },
    {
     "name": "stdout",
     "output_type": "stream",
     "text": [
      "32013  11941  14212  24572  20591  19499  31329  27577  14558  33360  13287  17489  18390  18020  23958  29605  15544  11366  1385  34117  28246  35358  15150  27476  25354  16959  7464  34754  25285  12006  21325  31825  17616  511  33258  34343  30664  4926  25827  33710  28140  13258  34237  35377  5820  217  35940  27461  33691  19484  19251  17785  27711  2085  24616  5158  19204  5608  35760  21858  5054  18727  35491  25528  26739  10912  4034  10464  30821  20032  9561  36744  14966  31883  31749  12669  14737  25268  5440  20511  37003  15262  33733  3254  13547  12497  29283  16475  10738  25666  31946  10144  33205  31380  16631  14761  36083  9218  33378  36971  16797  19009  32102  26119  1080  24385  31558  20694  14659  24847  28025  30495  11300  22574  17923  28945  19646  20913  15344  29909  16788  25390  12774  30412  29988  17937  13795  36350  27760  11870  3326  37190  33546  26702  7900  32455  21774  5271  35742  35145  26564  29742  36089  24364  5073  31376  26695  25517  9915  8466  6333  33086  34860  35251  32864  35336  26317  30352  8978  33255  31871  11727  36468  32815  31031  24520  12728  25406  11452  19747  25830  20351  36021  17830  20538  19398  34544  24553  26048  15330  36015  15051  17219  17276  33656  30079  37140  11204  3134  21146  22249  27270  31764  13782  11385  30640  9514  5260  7380  20655  25947  380  27324  25065  35892  23488  24050  10725  29422  31671  34827  30227  5747  22470  27242  25248  30668  3592  23802  6463  9718  5785  36142  19776  7008  7358  17895  36088  15521  30270  24672  30338  4139  31299  36319  10540  34398  32124  21070  24731  18506  14582  8865  7382  14072  36987  28075  14910  27304  36373  8860  20241  35545  28042  33129  15922  25053  31426  27287  32096  36890  3871  26616  12453  31360  4285  34561  21657  24629  7832  26905  27277  21237  34035  11782  32447  26154  7490  16615  25058  32536  14948  35669  35714  21125  29311  23129  32967  8693  27122  10463  1152  28094  35344  10264  17808  12896  21194  26237  36813  2883  15597  32786  32771  9608  28034  31102  26337  6112  17712  29453  12579  28713  13886  5715  34778  12518  12672  28313  19190  28407  25443  18574  29535  29473  30973  8758  30487  16674  17474  25538  33568  24866  34604  10797  35855  36764  10152  20740  33239  15763  13317  28788  22161  23770  21598  14070  25846  31613  21762  16469  8434  23530  26024  31732  29593  12212  17320  23228  5017  13375  5511  4138  12909  27421  6968  17781  36348  35033  33022  19430  18162  34991  27190  10420  30671  17754  36302  18234  24525  21028  27761  25681  18812  36553  17286  33633  27736  11840  9261  4053  24243  37044  25169  4566  8560  19618  35464  20744  36046  18685  10443  22292  5703  1954  15250  26500  35215  25544  14567  28265  21874  18602  19297  5545  28262  15941  17093  15169  8424  22572  16850  28524  36766  35972  27708  26760  7978  15347  35259  23703  9929  21090  32204  27197  9271  31566  21713  33161  1464  17533  30394  33892  30590  26708  8124  17628  9530  22177  16555  31892  5107  7808  31851  16263  32927  34193  16893  27207  16262  34148  18446  18722  22004  16820  37175  24728  9481  19779  35926  1200  17925  13859  32593  9884  23235  25711  30703  14808  26912  13473  34081  18493  13813  11156  13266  14826  8505  19037  8165  24997  18436  31918  37147  21668  7779  1915  27651  30822  15716  11186  9932  894  22799  34390  31973  36758  34720  35772  33836  1646  11600  23849  13501  2459  9750  16255  31021  16600  20557  34926  25996  37062  32268  22589  25761  32475  27764  588  28801  9068  21218  26299  33278  32266  31954  37136  26566  26672  35486  29014  35950  33694  28580  16601  25374  19912  13492  30267  9179  26396  11417  6264  1221  2453  35144  22227  7153  18863  7009  26026  31206  34850  35146  18457  34095  21330  36328  29428  10584  33480  32355  14909  28605  36004  31719  26245  8759  19595  33904  15106  20809  31884  14888  24869  23611  36948  20487  15558  13709  35129  34704  30181  32418  16818  20559  33033  19432  8135  11778  19175  26865  10747  3102  22813  27849  28145  5425  36538  21955  35420  33704  10749  12069  9247  28970  34161  12082  35094  16275  5767  18377  26860  11753  5619  8705  32403  26961  20282  14013  23513  3068  18300  1626  21236  20822  5451  11629  24310  34816  30407  35566  32205  11627  23688  12328  8379  20869  34877  32323  15439  36471  15475  21141  22923  31378  23771  24781  3424  28691  34446  30541  6232  25995  15958  25611  33662  21129  35116  36977  4212  34943  4345  36406  36562  25328  18178  7618  9959  13133  19916  7879  21794  2163  36750  13603  1190  28632  31815  19381  27791  2510  17790  19072  17866  26822  27504  8695  32321  21155  6375  19656  31384  18128  30249  23882  20146  27043  22138  9573  27594  22037  24859  23761  33437  35726  23374  26985  32680  332  4169  19025  1207  29757  27146  36740  23265  30168  34133  5552  5840  3714  13840  32326  29258  21268  35701  32334  27759  18945  30694  21758  13141  34065  850  26250  35296  29092  35642  24347  20174  34026  7488  22395  4357  22686  35771  26862  26397  17415  23340  26700  2034  25865  34186  36847  37031  26575  9736  8539  11023  28741  21868  33202  35362  19518  3184  32360  17422  10168  25375  31164  34113  33134  14575  29158  34646  17034  7921  22000  13275  27512  31323  36839  33471  10415  16686  24540  13155  13780  22210  23492  34432  33518  29076  29225  8407  28595  26200  35114  35931  9566  22773  15913  26571  35245  28378  36216  17776  7203  13047  5162  20024  20423  905  19048  3711  21153  32199  30437  29710  3308  26010  2805  13176  29498  22615  36598  32549  27130  31795  28468  36460  3213  30810  18664  33338  13884  37109  30301  33047  23002  34084  32635  18310  6867  7851  23402  24258  5322  32891  33612  28074  21392  34297  11509  12735  18155  16470  33975  15263  23027  16057  5577  17843  28084  4832  16343  2732  31047  21553  13050  36942  11481  17331  27604  1512  27320  25511  19553  32230  32742  29062  34099  16311  17750  12356  30101  20336  30776  33013  36273  30151  21824  13613  25115  26258  33213  17756  25598  34431  5854  23080  28778  24746  28867  17350  8157  20277  24564  25379  7271  15668  32086  37183  7179  23254  37176  30934  11873  18272  23401  28106  27567  35552  5341  24375  17126  16113  5527  13001  23423  19131  9897  25278  32476  6665  27956  28879  29735  36249  7019  1618  32846  31529  33827  33296  18312  18743  23006  25845  26689  29514  2443  15377  3022  14299  15927  31525  2404  12372  10717  32884  17471  19781  7119  30835  14409  1049  32300  25526  17188  5184  28051  19963  4040  4010  11436  9810  12799  33211  36162  31468  27071  23272  14290  27027  20462  25420  8502  35208  18956  20170  35089  15109  29818  32557  26512  26960  36710  32413  14922  20638  18759  20402  8921  34254  16605  16803  18292  32767  23555  15158  29758  3587  37097  19951  8361  36445  30199  29037  31967  14220  33184  11128  31862  37085  28752  35718  32188  17540  29752  14508  23170  7912  5920  18898  21440  9294  11056  28394  30828  24011  26228  16613  29813  1942  19551  34984  30841  25668  35492  35715  14528  14906  7622  36018  5770  33582  86  36946  14458  32947  20958  7297  8926  14624  7521  32824  2839  32738  23546  22970  26405  1502  15334  11188  3268  4717  14901  26367  13378  15713  35450  3311  25515  21465  25966  13203  29259  26121  16040  29557  10259  13018  32111  24571  33753  6606  22022  24447  23507  36470  35706  11607  30354  15403  9931  4417  26881  27774  14411  29815  23322  26090  31482  23635  12242  35992  22650  34805  25572  28797  33109  21037  15748  34407  31190  37092  15860  32821  33921  2989  33164  15591  3415  20942  2146  36608  11766  14434  14855  9467  28968  16558  21655  28905  22916  33517  19673  29896  25435  8651  33889  1611  24846  15215  34809  25287  15021  17282  26402  1870  7555  20590  22380  19497  35651  24649  23499  28914  17319  37121  29876  32478  33497  6637  13386  19134  13148  36392  36451  36372  35102  37181  32514  27215  10029  27055  28488  33716  19623  15274  37194  32943  34229  5407 "
     ]
    },
    {
     "name": "stdout",
     "output_type": "stream",
     "text": [
      " 9268  6430  7192  34694  800  32411  24230  18286  24272  26433  32645  36546  18989  8393  15212  6110  35009  33284  4499  18964  21796  19082  36408  7810  30754  29059  23007  23641  12303  17558  15754  33608  31822  20971  21161  1053  22467  31812  12481  34835  31790  14680  9622  25762  31319  37033  10268  12293  17287  24548  24881  15417  20194  36342  17868  11612  30275  22137  28624  23230  31571  28383  21580  9616  25919  29963  34219  34902  26890  31226  9574  27491  24980  33012  34474  30895  25034  28495  32801  35724  28609  31322  19268  29164  31487  36678  28261  22217  33219  35286  24844  7583  33510  1577  8189  13124  10113  27108  11914  25686  25321  18325  11420  25454  6854  17860  23929  29997  14148  29028  26429  18387  7405  33825  30350  3775  36889  32977  18159  5006  34490  7578  29753  16682  24425  12479  16753  11412  25717  539  1371  27397  13944  27312  36724  36008  13587  14803  28567  20888  8730  32768  7132  20916  17102  28815  10434  25627  4446  36365  14194  2429  16913  33187  16402  22258  24279  17189  24913  25026  28597  30860  33585  14377  7246  19077  28212  37170  33849  21221  21851  34225  8649  24854  17806  33313  26341  17009  31404  20216  32050  33588  28113  18242  23430  24957  21903  26484  24511  32281  27062  6500  11198  36312  14699  33557  33680  17138  28191  24513  14583  11654  23823  16828  23393  28590  19462  10316  26610  21186  34279  21646  36411  21942  35435  19209  15406  23667  8373  31816  34802  24651  15539  33368  21884  16167  27230  33984  19325  19215  4879  19532  34500  34897  36984  17042  14238  18610  8356  34861  8046  32246  5591  17688  9496  22911  36290  26087  7201  35994  7210  29526  33146  12425  12360  12748  36418  27659  308  29817  34955  30555  29573  4920  35829  20651  13326  35016  5555  25381  25929  32724  14045  4037  17602  5499  29587  27790  22803  22060  37036  35323  18930  13059  27084  19778  16680  21599  29637  14453  25244  1173  28312  33178  21018  28054  30477  27201  9910  35322  16773  17103  31352  5051  21786  17865  32958  24471  36336  24393  33957  17064  6279  9691  10027  29501  35627  16382  36128  20904  3056  32091  19406  18014  30613  34301  36059  10593  23205  4623  16075  31575  12634  36922  16917  28199  27537  35555  28722  1865  35295  10614  23840  29128  25455  6615  17601  31427  17285  2658  35608  16342  23113  14223  27886  4609  24814  8996  15213  23279  2228  20427  13908  31387  24026  12310  28230  5442  18922  27923  35672  8273  31555  21073  19084  10599  35658  17476  21126  28103  28520  9935  12373  6549  18776  25190  20870  20552  23095  10611  33592  36032  30772  5986  26933  6214  23081  4557  22268  27910  7604  24804  32511  32579  6553  9144  32137  11402  5146  35864  9677  8534  31641  32870  33891  34987  24664  35913  20215  14675  16957  13555  10890  32386  28171  31265  32446  31526  19292  26407  8774  23538  32428  31085  25428  30250  3000  34111  35147  8077  27282  17644  14114  14350  7640  29984  23949  29641  20308  8056  10470  14091  8589  22156  20877  9644  36125  32078  33127  4825  26385  22367  18460  2477  20448  21164  25013  11214  5956  33168  34155  18392  18021  34900  28760  14144  24802  3275  21461  29420  33618  30357  27382  16539  24264  20693  23639  30650  22535  20853  30927  24584  28700  31733  16218  5245  35612  24319  33940  10627  31217  35291  4379  25116  19109  32131  34842  32755  37063  21523  27611  6778  24214  35874  22012  6804  22586  27792  31037  36425  31796  34901  8317  21357  24196  10566  28994  18069  33760  16451  25510  26103  36850  14248  36127  22001  10421  5176  8711  26291  26520  19679  30905  29773  10919  20240  25186  20840  26388  17192  9403  20003  36211  5400  29558  25107  36721  16088  26874  5452  35082  20358  31521  20793  36584  36017  33726  32518  27120  34118  31137  30358  29350  3421  26849  2823  26899  3519  23288  5278  33591  18265  12613  36429  36293  34002  36828  8359  19099  33627  36789  22340  17837  33788  15687  32481  16591  16833  19447  8410  17109  34480  14276  1941  28944  538  6305  20979  32540  16790  32436  19367  17678  22776  36605  34071  25979  33596  22529  36699  21962  15725  28449  27157  25828  13882  35806  30579  29177  1267  20911  21888  26970  18296  27357  31155  1627  15019  20530  29098  11164  14816  35031  10041  22394  8397  20049  12787  32297  2739  10080  35098  25153  28906  480  19785  19409  26542  18530  25543  8291  11530  12511  1930  6768  9361  527  13950  19028  29511  35799  3250  34804  21111  28395  15995  17335  33450  31754  11659  11828  219  33604  26243  30277  18831  10704  26701  7395  4447  31001  28208  22069  19473  2164  10569  28471  14462  31890  24978  6686  20930  36327  8448  37171  1009  11425  22228  813  25414  34371  24961  9379  1866  19277  12513  11852  4360  23717  27859  21457  12881  24551  31524  7914  20560  30040  27835  15769 \n",
      "5431.711098 seconds (36.73 G allocations: 1.053 TiB, 5.57% gc time)\n"
     ]
    },
    {
     "data": {
      "text/plain": [
       "1130612"
      ]
     },
     "execution_count": 54,
     "metadata": {},
     "output_type": "execute_result"
    }
   ],
   "source": [
    "@time enumerator([2,2],[2],2,\"rc\",true)\n",
    "@time enumerator([2,2],[2],2,\"qc\",true)\n",
    "@time enumerator([2,2],[1,2,3],2,\"rc\",true)\n",
    "@time enumerator([2,2],[1,2,3],2,\"qc\",true)\n",
    "@time enumerator([2,2],[1,2,3,4],2,\"rc\",true)\n",
    "@time enumerator([2,2],[1,2,3,4],2,\"qc\",true)\n",
    "@time enumerator([2,2],[1,2,3,4,5],2,\"rc\",true)\n",
    "@time enumerator([2,2],[1,2,3,4,5],2,\"qc\",true)\n",
    "@time enumerator([2,2],[1,2,3,4,5,6,7,8],2,\"rc\",true)\n",
    "@time enumerator([2,2],[1,2,3,4,5,6,7,8],2,\"qc\",true)\n",
    "\n",
    "\n",
    "\n",
    "@time enumerator([3,3],[3],3,\"rc\",true)\n",
    "@time enumerator([3,3],[3],3,\"qc\",true)\n",
    "@time enumerator([3,3],[2,3,4],3,\"rc\",true)\n",
    "@time enumerator([3,3],[2,3,4],3,\"qc\",true)\n",
    "@time enumerator([3,3],[1,2,3,4,5],3,\"rc\",true)\n",
    "@time enumerator([3,3],[1,2,3,4,5],3,\"qc\",true)\n",
    "@time enumerator([3,3],[1,2,3,4,5,6],3,\"rc\",true)\n",
    "@time enumerator([3,3],[1,2,3,4,5,6],3,\"qc\",true)\n",
    "@time enumerator([3,3],[1,2,3,4,5,6,7,8,9],3,\"rc\",true)\n",
    "@time enumerator([3,3],[1,2,3,4,5,6,7,8,9],3,\"qc\",true)\n",
    "\n",
    "\n",
    "\n",
    "@time enumerator([4,4],[4],4,\"rc\",true)\n",
    "@time enumerator([4,4],[4],4,\"qc\",true)\n",
    "@time enumerator([4,4],[3,4,5],4,\"rc\",true)\n",
    "@time enumerator([4,4],[3,4,5],4,\"qc\",true)\n",
    "@time enumerator([4,4],[2,3,4,5,6],4,\"rc\",true)\n",
    "@time enumerator([4,4],[2,3,4,5,6],4,\"qc\",true)\n",
    "@time enumerator([4,4],[1,2,3,4,5,6,7],4,\"rc\",true)\n",
    "@time enumerator([4,4],[1,2,3,4,5,6,7],4,\"qc\",true)\n",
    "@time enumerator([4,4],[i for i=1:16],4,\"rc\",true)\n",
    "@time enumerator([4,4],[i for i=1:16],4,\"qc\",true)\n"
   ]
  },
  {
   "cell_type": "code",
   "execution_count": 61,
   "metadata": {},
   "outputs": [
    {
     "name": "stdout",
     "output_type": "stream",
     "text": [
      "24  \n",
      "  1.052358 seconds (1.46 M allocations: 72.461 MiB, 2.86% gc time)\n",
      "42  \n",
      "  0.055794 seconds (174.09 k allocations: 11.948 MiB)\n",
      "92  \n",
      "  6.787933 seconds (33.81 M allocations: 1.443 GiB, 9.84% gc time)\n",
      "190  \n",
      "107.252841 seconds (502.03 M allocations: 20.662 GiB, 9.54% gc time)\n",
      "205  \n",
      " 26.116536 seconds (111.96 M allocations: 4.765 GiB, 8.68% gc time)\n",
      "609  500  \n",
      "434.496436 seconds (2.30 G allocations: 88.404 GiB, 11.39% gc time)\n",
      "449  \n",
      " 41.139536 seconds (205.92 M allocations: 8.544 GiB, 9.67% gc time)\n",
      "1765  500  1000  1500  \n",
      "1258.468394 seconds (6.09 G allocations: 205.033 GiB, 20.82% gc time)\n",
      "11506  500  1000  1500  2000  2500  3000  3500  4000  4500  5000  5500  6000  6500  7000  7500  8000  8500  9000  9500  10000  10500  11000  11500  \n",
      "162.119137 seconds (935.70 M allocations: 32.559 GiB, 5.41% gc time)\n",
      "37196  500  1000  1500  2000  2500  3000  3500  4000  4500  5000  5500  6000  6500  7000  7500  8000  8500  9000  9500  10000  10500  11000  11500  12000  12500  13000  13500  14000  14500  15000  15500  16000  16500  17000  17500  18000  18500  19000  19500  20000  20500  21000  21500  22000  22500  23000  23500  24000  24500  25000  25500  26000  26500  27000  27500  28000  28500  29000  29500  30000  30500  31000  31500  32000  32500  33000  33500  34000  34500  35000  35500  36000  36500  37000  \n",
      "5434.274201 seconds (37.20 G allocations: 1.083 TiB, 5.52% gc time)\n",
      "140  \n",
      "  0.311867 seconds (1.69 M allocations: 135.572 MiB, 12.81% gc time)\n",
      "3436  500  1000  1500  2000  2500  3000  \n",
      "  3.833955 seconds (17.43 M allocations: 1.096 GiB, 8.87% gc time)\n",
      "412  \n",
      "  0.569857 seconds (3.03 M allocations: 242.829 MiB, 14.42% gc time)\n",
      "9380  500  1000  1500  2000  2500  3000  3500  4000  4500  5000  5500  6000  6500  7000  7500  8000  8500  9000  \n",
      " 18.910427 seconds (81.10 M allocations: 3.827 GiB, 6.11% gc time)\n",
      "676  500  \n",
      "  0.925212 seconds (4.81 M allocations: 384.513 MiB, 17.08% gc time)\n",
      "13260  500  1000  1500  2000  2500  3000  3500  4000  4500  5000  5500  6000  6500  7000  7500  8000  8500  9000  9500  10000  10500  11000  11500  12000  12500  13000  \n",
      " 38.348814 seconds (154.23 M allocations: 7.684 GiB, 5.61% gc time)\n",
      "936  500  \n",
      "  1.272361 seconds (6.92 M allocations: 549.880 MiB, 11.99% gc time)\n",
      "15232  500  1000  1500  2000  2500  3000  3500  4000  4500  5000  5500  6000  6500  7000  7500  8000  8500  9000  9500  10000  10500  11000  11500  12000  12500  13000  13500  14000  14500  15000  \n",
      " 59.408179 seconds (278.78 M allocations: 13.689 GiB, 4.69% gc time)\n",
      "11506  500  1000  1500  2000  2500  3000  3500  4000  4500  5000  5500  6000  6500  7000  7500  8000  8500  9000  9500  10000  10500  11000  11500  \n",
      "140.004051 seconds (899.27 M allocations: 30.264 GiB, 4.45% gc time)\n"
     ]
    },
    {
     "data": {
      "text/plain": [
       "627"
      ]
     },
     "execution_count": 61,
     "metadata": {},
     "output_type": "execute_result"
    }
   ],
   "source": [
    "@time enumerator([4,4],[2],8,\"rc\",true)\n",
    "@time enumerator([4,4],[2],8,\"qc\",true)\n",
    "@time enumerator([4,4],[1,2,3],8,\"rc\",true)\n",
    "@time enumerator([4,4],[1,2,3],8,\"qc\",true)\n",
    "@time enumerator([4,4],[1,2,3,4],8,\"rc\",true)\n",
    "@time enumerator([4,4],[1,2,3,4],8,\"qc\",true)\n",
    "@time enumerator([4,4],[1,2,3,4,5],8,\"rc\",true)\n",
    "@time enumerator([4,4],[1,2,3,4,5],8,\"qc\",true)\n",
    "@time enumerator([4,4],[i for i=1:16],8,\"rc\",true)\n",
    "@time enumerator([4,4],[i for i=1:16],8,\"qc\",true)\n",
    "\n",
    "\n",
    "\n",
    "@time enumerator([4,4],[8],2,\"rc\",true)\n",
    "@time enumerator([4,4],[8],2,\"qc\",true)\n",
    "@time enumerator([4,4],[7,8,9],2,\"rc\",true)\n",
    "@time enumerator([4,4],[7,8,9],2,\"qc\",true)\n",
    "@time enumerator([4,4],[6,7,8,9,10],2,\"rc\",true)\n",
    "@time enumerator([4,4],[6,7,8,9,10],2,\"qc\",true)\n",
    "@time enumerator([4,4],[5,6,7,8,9,10,11],2,\"rc\",true)\n",
    "@time enumerator([4,4],[5,6,7,8,9,10,11],2,\"qc\",true)\n",
    "@time enumerator([4,4],[i for i=1:16],2,\"rc\",true)\n"
   ]
  },
  {
   "cell_type": "code",
   "execution_count": null,
   "metadata": {},
   "outputs": [
    {
     "name": "stdout",
     "output_type": "stream",
     "text": [
      "455  \n",
      "  1.127084 seconds (5.75 M allocations: 419.188 MiB, 11.96% gc time)\n",
      "1675  500  1000  1500  \n",
      " 53.750353 seconds (347.19 M allocations: 12.776 GiB, 4.36% gc time)\n",
      "4275  500  1000  1500  2000  2500  3000  3500  4000  \n",
      "991.800509 seconds (7.58 G allocations: 216.658 GiB, 3.83% gc time)\n",
      "11235  500  1000  1500  2000  2500  3000  3500  4000  4500  5000  5500  6000  6500  7000  7500  8000  8500  9000  9500  10000  10500  11000  \n",
      "22712.327052 seconds (170.15 G allocations: 4.234 TiB, 5.03% gc time)\n",
      "2308  500  1000  1500  2000  \n",
      "149.341205 seconds (1.13 G allocations: 38.041 GiB, 4.95% gc time)\n",
      "60  \n",
      "  1.289038 seconds (6.91 M allocations: 367.174 MiB, 3.85% gc time)\n",
      "144  \n",
      " 11.921882 seconds (58.77 M allocations: 2.799 GiB, 3.27% gc time)\n",
      "357  \n",
      " 26.200192 seconds (139.86 M allocations: 6.077 GiB, 3.49% gc time)\n",
      "27544  500  1000  1500  2000  2500  3000  3500  4000  4500  5000  5500  6000  6500  7000  7500  8000  8500  9000  9500  10000  10500  11000  11500  12000  12500  13000  13500  14000  14500  15000  15500  16000  16500  17000  17500  18000  18500  19000  19500  20000  20500  21000  21500  22000  22500  23000  23500  24000  24500  25000  25500  26000  26500  27000  27500  \n",
      "1204.947083 seconds (7.64 G allocations: 317.302 GiB, 7.58% gc time)\n",
      "125115  500  1000  1500  2000  2500  3000  3500  4000  4500  5000  5500  6000  6500  7000  7500  8000  8500  9000  9500  10000  10500  11000  11500  12000  12500  13000  13500  14000  14500  15000  15500  16000  16500  17000  17500  18000  18500  19000  19500  20000  20500  21000  21500  22000  22500  23000  23500  24000  24500  25000  25500  26000  26500  27000  27500  28000  28500  29000  29500  30000  30500  31000  31500  32000  32500  33000  33500  34000  34500  35000  35500  36000  36500  37000  37500  38000  38500  39000  39500  40000  40500  41000  41500  42000  42500  43000  43500  44000  44500  45000  45500  46000  46500  47000  47500  48000  48500  49000  49500  50000  50500  51000  51500  52000  52500  53000  53500  54000  54500  55000  55500  56000  56500  57000  57500  58000  58500  59000  59500  60000  60500  61000  61500  62000  62500  63000  63500  64000  64500  65000  65500  66000  66500  67000  67500  68000  68500  69000  69500  70000  70500  71000  71500  72000  72500  73000  73500  74000  74500  75000  75500  76000  76500  77000  77500  78000  78500  79000  79500  80000  80500  81000  81500  82000  82500  83000  83500  84000  84500  85000  85500  86000  86500  87000  87500  88000  88500  89000  89500  90000  90500  91000  91500  92000  92500  93000  93500  94000  94500  95000  95500  96000  96500  97000  97500  98000  98500  99000  99500  100000  100500  101000  101500  102000  102500  103000  103500  104000  104500  105000  105500  106000  106500  107000  107500  108000  108500  109000  109500  110000  110500  111000  111500  112000  112500  113000  113500  114000  114500  115000  115500  116000  116500  117000  117500  118000  118500  119000  119500  120000  120500  121000  121500  122000  122500  123000  123500  124000  124500  125000  \n",
      "6384.053021 seconds (26.20 G allocations: 1.122 TiB, 9.04% gc time)\n",
      "110  \n",
      "916.148373 seconds (4.72 G allocations: 188.232 GiB, 5.65% gc time)\n",
      "3506  500  1000  1500  2000  2500  3000  3500  \n",
      "788.375746 seconds (6.10 G allocations: 177.660 GiB, 4.65% gc time)\n",
      "16527  500  1000  1500  2000  2500  3000  3500  4000  4500  5000  5500  6000  6500  7000  7500  8000  8500  9000  9500  10000  10500  11000  11500  12000  12500  13000  13500  14000  14500  15000  15500  16000  16500"
     ]
    }
   ],
   "source": [
    "#=\n",
    "\n",
    "@time enumerator([5,5],[5],5,\"rc\",true)\n",
    "@time enumerator([5,5],[4,5,6],5,\"rc\",true)\n",
    "@time enumerator([5,5],[3,4,5,6,7],5,\"rc\",true)\n",
    "@time enumerator([5,5],[2,3,4,5,6,7,8],5,\"rc\",true)\n",
    "\n",
    "\n",
    "@time enumerator([6,6],[6],6,\"rc\",true)\n",
    "@time enumerator([6,6],[2],18,\"rc\",true)\n",
    "@time enumerator([6,6],[3],12,\"rc\",true)\n",
    "@time enumerator([6,6],[4],9,\"rc\",true)\n",
    "@time enumerator([6,6],[9],4,\"rc\",true)\n",
    "@time enumerator([6,6],[12],3,\"rc\",true)\n",
    "@time enumerator([6,6],[2],18,\"qc\",true)\n",
    "\n",
    "\n",
    "\n",
    "\n",
    "\n",
    "=#\n",
    "\n",
    "\n",
    "\n",
    "\n",
    "\n",
    "#@time enumerator([5,5],[5],5,\"qc\",true)\n",
    "@time enumerator([5,5],[4,5,6],5,\"qc\",true)\n",
    "#@time enumerator([5,5],[3,4,5,6,7],5,\"qc\",true)\n",
    "#@time enumerator([5,5],[2,3,4,5,6,7,8],5,\"qc\",true)\n",
    "\n"
   ]
  },
  {
   "cell_type": "code",
   "execution_count": 24,
   "metadata": {},
   "outputs": [
    {
     "name": "stdout",
     "output_type": "stream",
     "text": [
      "[4, 4, 5, 6, 6][4, 5, 5, 5, 6][5, 5, 5, 5, 5]Array{Int64,1}[[4, 4, 5, 6, 6], [4, 5, 5, 5, 6], [5, 5, 5, 5, 5]]"
     ]
    }
   ],
   "source": [
    "L = [ p for p in collect(partitions(25,5)) if minimum(p)>=4 && maximum(p)6]\n",
    "for c in L\n",
    "    sort!(c)\n",
    "    print(c)\n",
    "end\n",
    "print(L)"
   ]
  },
  {
   "cell_type": "code",
   "execution_count": 25,
   "metadata": {},
   "outputs": [
    {
     "name": "stdout",
     "output_type": "stream",
     "text": [
      "MADE SZ 2\n",
      "MADE SZ 3\n",
      "MADE SZ 4\n",
      "MADE SZ 5\n",
      "MADE SZ 6\n",
      "MADE OMINOS\n",
      "16527  500  1000  1500  2000  2500  3000  3500  4000  4500  5000  5500  6000  6500  7000  7500  8000  8500  9000  9500  10000  10500  11000  11500  12000  12500  13000  13500  14000  14500  15000  15500  16000  16500  MADE DICTIONARIES\n",
      "NEED TO DO 1608 TOP-LEVELS\n",
      " 5672  3513  12690  13008 "
     ]
    },
    {
     "ename": "InterruptException",
     "evalue": "InterruptException:",
     "output_type": "error",
     "traceback": [
      "InterruptException:",
      "",
      "Stacktrace:",
      " [1] Type at ./boot.jl:394 [inlined]",
      " [2] vcat(::Array{Int64,1}, ::Array{Int64,1}) at ./array.jl:1536",
      " [3] (::getfield(Main, Symbol(\"#recurs_part#40\")){Array{Int64,1},Array{Int64,1},DefaultDict{Any,Any,UnionAll},getfield(Main, Symbol(\"#verify#39\")){DefaultDict{Any,Any,UnionAll}}})(::Array{Int64,1}, ::Int64) at ./In[13]:55",
      " [4] (::getfield(Main, Symbol(\"#recurs_part#40\")){Array{Int64,1},Array{Int64,1},DefaultDict{Any,Any,UnionAll},getfield(Main, Symbol(\"#verify#39\")){DefaultDict{Any,Any,UnionAll}}})(::Array{Int64,1}, ::Int64) at ./In[13]:56 (repeats 3 times)",
      " [5] enumerator_qc(::Array{Int64,1}, ::Array{Int64,1}, ::Int64) at ./In[13]:65",
      " [6] top-level scope at ./In[25]:3"
     ]
    }
   ],
   "source": []
  },
  {
   "cell_type": "code",
   "execution_count": 31,
   "metadata": {
    "scrolled": true
   },
   "outputs": [
    {
     "name": "stdout",
     "output_type": "stream",
     "text": [
      "MADE SZ 2\n",
      "MADE SZ 3\n",
      "MADE SZ 4\n",
      "MADE SZ 5\n",
      "MADE SZ 6\n",
      "MADE OMINOS\n",
      "16527  500  1000  1500  2000  2500  3000  3500  4000  4500  5000  5500  6000  6500  7000  7500  8000  8500  9000  9500  10000  10500  11000  11500  12000  12500  13000  13500  14000  14500  15000  15500  16000  16500  MADE DICTIONARIES\n",
      "NEED TO DO 1608 TOP-LEVELS\n",
      " 5672  3513  12690  13008  14298  5459  1090  14637  5099  15267  9420  16300  14314  8527  3532  13538  1662  10134  4427  1469  7551  16429  13774  4782  15852  10582  9487  2061  2284  7594  6884  2835  12854  14159  6037  11711  13419  5784  7807  6990  9796  11286  3213  2735  8825  2354  10624  11237  13996  5216  1386  5357  8686  3386  9456  3689  6092  5743  685  1871  13494  7766  13281  7313  8058  2396  13632  13887  10965  5655  8494  184  15760  1821  1301  1683  10670  12769  13558  5572  13770  12961  15380  240  8372  14704  10589  1959  15887  13169  4471  6298  6535  6672  11011  15069  15659  10023  9029  4091  2539  5565  6307  13443  5385  14833  8481  9791  3843  2867  7968  12268  9766  2665  12432  11324  3327  13613  14211  16009  2210  6147  2229  1201  16351  12583  9171  763  6581  15359  15606  8242  11498  9657  16296  13676  13729  7486  8625  8678  1445  7314  8022  6103  12547  525  15642  12291  16113  1779  14576  7334  4900  16185  15441  9988  13089  860  5139  5192  14096  9430  6756  7377  9986  14711  14623  16111  7112  6665  2359  9732  13137  13178  13803  3446  4680  9711  6588  16393  9106  15301  9337  12330  12747  9464  5003  12129  15604  13755  9684  14271  659  1368  8507  3756  12971  8147  12372  2698  5907  11611  13802  8335  10768  6462  593  7617  11731  14409  3413  8731  3691  5884  4010  12628  10234  10343  12094  12273  8331  12866  433  15828  10112  11620  8482  3454  6691  5614  7738  9851  9755  6717  12399  2221  8596  15466  12640  6031  10439  8307  4515  963  5796  9693  7455  115  12351  8082  14922  5749  12776  6584  12486  12478  13147  8079  13941  178  11649  3003  1098  6216  13663  9998  13654  2627  5085  8899  14457  14348  2290  10386  7683  9758  1288  2903  5902  16007  8979  10265  13495  11824  4592  6309  8599  1118  7407  3770  9962  3938  3276  12457  9442  13145  10537  15672  6511  1382  3460  9288  13458  14552  12699  15880  6633  2558  12665  2353  6840  4325  4035  11450  13017  13434  13461  11161  8713  9103  16523  868  2168  9055  10093  16259  10697  13586  2022  12766  15066  10978  9848  7308  7283  9019  8366  10757  9187  13837  2687  10422  13307  286  3150  3682  7084  11996  13114  5704  15803  7542  15547  2413  12109  10971  6950  2913  3655  7976  13688  4351  7216  8166  11091  10322  9322  9985  12709  5203  15334  14258  6066  14650  3544  4019  6923  6932  8858  10577  11456  9025  2098  15824  7104  11805  4913  4505  16349  14782  3358  666  7286  12230  12759  13720  15520  4064  11175  14932  3179  3443  73  2030  3228  7427  10466  11014  10478  9649  8209  10667  1690  14742  10926  14753  6991  5371  8078  10279  3982  11851  6268  15232  5361  15925  16044  4928  12992  201  3301  3289  3996  6902  11863  1015  11875  13818  13459  3546  15663  12352  1218  9887  12610  9003  2317  12635  14189  1689  11948  4383  3226  473  7662  511  1170  9434  15170  7797  8396  7867  2056  9610  13448  5182  8418  11633  15833  11043  11181  2064  4246  10460  16158  14755  5820  7434  7852  401  11826  9564  2980  1354  11644  2218  7780  5344  10089  10036  6527  6431  7118  7731  4959  5158  4664  12512  12359  1094  5682  1459  2840  4636  3765  15086  13924  5976  6898  15116  15102  4552  3341  6059  9967  13379  9170  6863  12695  14051  8967  11517  1670  16357  14737  8130  14136  7284  14127  8593  7654  2423  13153  7770  9399  5298  12339  4567  11734  1471  16284  11141  12763  10997  14016  7190  4410  15733  16353  15741  4514  16175  16137  2759  5433  16310  858  5728  647  7537  12325  11803  7192  765  307  5962  5575  6934  1323  7642  12813  3612  12641  7443  14025  10650  5989  12341  14081  411  5485  13622  10338  5946  2768  1346  5060  268  4228  1851  5069  2356  8661  15952  13665  14587  7235  14750  13341  7866  10179  1425  11929  11524  9815  7631  11634  4786  10161  4118  10034  15058  2895  5002  7883  3772  11983  15641  11357  4516  8280  4620  9890  15219  15391  7371  11171  12701  6211  1979  15932  11955  14829  15357  2465  11199  4437  13086  14472  10993  14895  8174  14725  3800  6466  15957  7018  9084  5898  4863  11294  15201  3489  8836  12574  1888  5800  12765  12772  12638  5466  11985  9861  15414  6897  13513  3934  6679  9102  14797  13651  14835  16141  5325  5671  6525  12588  13825  1431  13471  9412  9517  1226  15827  5050  5355  11276  5751  875  6706  208  4003  3055  12561  5304  12383  1812  3092  12015  8406  11029  6603  4012  12475  4048  8685  4967  8251  12087  15819  9495  9252  9941  13126  15405  382  4869  8042  6359  9718  15470  6743  547  1111  323  15891  9512  8376  10761  12825  2003  14274  232  994  7848  13200  8525  3020  4662  10370  7336  3924  6132  3382  10276  3037  14535  14342  4229  11264  12978  2911  15628  1192  14519  14551  11508  6438  12272  3366  7510  4785  5670  13718  10208  442  2489  976  16356  1219  10434  3871  4446  5709  7888  5722  10759  12509  1489  11173  12624  36  7206  11022  7755  15751  15143  14608  6880  10448  7221  8792  12975  415  13895  3435  12451  13209  2486  15987  11005  8110  3483  6635  7614  8578  2040  7519  9656  10525  6853  15190  14002  1993  8808  8557  4989  5315  9405  4267  4724  10573  14187  4804  4746  13983  16148  1232  16008  7007  6244  690  12579  11956  803  14293  15867  13786  10788  12283  15292  1744  11229  4857  11657  2601  14361  15090  4535  7276  4257  13891  6446  15042  15467  7242  14225  8993  13456  157  8687  6836  8802  15886  2327  15365  10797  9640  4908  10335  8885  16398  15680  11544  11093  8351  8470  10987  3931  3878  15410  4943  15282  4302  11489  12611  9914  15117  5094  13978  4262  15821  9152  12439  5412  11178  13165  4653  937  12455  14076  9797  2271  8517  11516  15737  5288  1729  5091  7589  10074  12400  14804  7838  13702  14661  4093  12681  1635  1468  4138  11088  13546  6039  2259  12596  14633  9274  16015  9281  7201  8650  9918  1890  12269  15579  7098  5252  7359  5964  8688  9877  11596  16247  7786  11638  7892  8961  13936  987  4606  6145  10905  14591  970  14670  596  10066  15815  13687  8585  793  2945  953  14853  14050  3210  11017  4277  9928  6580  216  4113  10349  214  5067  5756  9756  12507  13942  11249  12643  4566  6314  9549  5637  15462  10222  7674  9283  13588  9682  3155  7799  13860  1897  6413  1954  4282  10726  6045  7750  1742  15272  1077  12922  15204  7639  15074  7915  1695  13106  3165  4561  15443  15939  3804  16410  10108  10435  10077  11967  1947  3133  12670  5467  7673  9691  11990  15419  9119  13193  7924  7978  15482  4996  6458  7955  10120  7262  5833  5242  3313  15089  7373  7554  4529  4583  4623  1789  6266  3394  5009  10210  5419  11895  9670  12099  3478  3100  9601  9923  13131  2699  11743  12115  5155  10581  13311  13136  10445  8399  15393  6797  10934  3208  16223  6206  7243  12419  7925  364  4104  7910  11156  6081  14593  15531  6306  15489  6915  16021  10612  8438  10021  5691  15483  10462  8484  10681  14937  12029  8106  6471  15226  6476  8870  12178  3172  9165  5149  2629  14099  1377  6172  6005  9655  5910  11039  8610  14565  7268  5734  7778  8408  12027  3502  9604  6735  10957  5740  6790  5141  11559  4603  14369  9745  7187  16327  13399  12026  3802  14308  6297  9550  7552  9175  7931  2604  13349  1663  6290  11170  7812  8511  9856  8048  15095  11232  4750  5063  12625  10132  13847  11624  2326  14971  1803  15408  437  9956  15120  9829  13483  14188  615  3858  8398  15670  13666  3391  8153  4144  10521  16486  2234  15181  6264  14813  15173  9870  10045  9327  12666  15329  4230  1046  6052  3384  5447  3686  983  2313  633  7218  9343  14809  5046  13305  2530  13879  15731  10584  5303  12514  16119  16512  12207  12171  5827  5915  11712  3255  5409  4598  6497  3617  14811  8594  828  7383  8473  9221  4216  9256  12600  133  13765  10766  13606  9992  9396  6325  10702  9207  5498  8960  3874  11351  5956  12644  11304  14924  5970  4828  5497  1978  6629  1631  5596  11105  14897  13095  5010  15929  3005  5929  4231  14744  3720  13179  8113  15305  15367  5917  3192  14570  1863  7527  10749  12609  13865  4490  6470  9184  6800  14224  14265  4963  15627  3751  13601  14415  14873  16306  9417  14215  9661  1353  13387  5509  5619  2444  9416  15808  15676  13302  1357  9204  14166  2621  4518  6738  6514  6778  9250  4443  9002  14438  9091  12101  14414  6521  10566  10689  11430  13316  9093  12615  16377  8294  8490  4607  5180  3085  6072  11356  10173  14210  16358  8170  5911  5159  2828  851  7647  4193  5452  5780  4429  16038  10806  8809  7099  10714  2160  10851  12775  7729  12584  2930  14176  3018  3846  15958  5582  1045  14824  8510  15936  1086  7547  4952  5932  7255  7618  8835  9347  3061  5865  10056  9648  13133  16407  2328  14722  2163  14654  15576  11749  5460  14163  15098  4196  16071  3223  9455  5617  12033  11691  11323  15956  9394  8618  11653  11210  1562  15343  13298  10938  11325  13945  15918  1987  7784  7896  4435  6858  5031  2442  696  9227  121  15624  15872  15594  11062  5306  16483  2196  11223  14468  10795  4470  4860  7392  9875  10935  5651  12850  14980  15816  15416  6770  7311  1162  7150  8964  10110  4897  6789  12255  10203  10514  11747  2898  3590  3465  10801  12424  10303  15919  16418  8655  11661  11919  5643  9344  12862  4121  14395  7881  1037  10291  8232  12838  7973  15019  955  6215  1335  11164  8916  12721  12240  3369  1752  443  10902  11052  11567  5254  8227  10467  2480  4493  8391  12787  12102  9389  4728  9486  7404  11958  14656  14626  14406  14133  13044  8032  5778  4881  14304  530  14316  7482  9414  6152  15304  6179  16213  5753  5105  13949  13950  2297  13439  3631  14294  12324  14974  9257  9589  6249  10842  10115  10739  11623  10692  4992  7752  12152  14778  4354  802  7211  13980  9816  8206  3640  9588  15985  7903  8303  12623  6667  4158  357  3123  4317  14889  8766  11035  2984  9123  11445  9555  10305  10840  12827  13526  8590  11031  10054  10192  8413  1081  9489  13974  2192  8500  7624  5802  2435  11961  12142  11852  6234  14843  4469  12731  13866  15736  4646  6619  14492  13066  1535  14536  1038  9382  15285  4867  218  3264  12736  6345  9244 \n",
      "171313.276152 seconds (1.63 T allocations: 40.334 TiB, 21.68% gc time)\n"
     ]
    },
    {
     "data": {
      "text/plain": [
       "70491206"
      ]
     },
     "execution_count": 31,
     "metadata": {},
     "output_type": "execute_result"
    }
   ],
   "source": [
    "@time enumerator_qc([5,5],[4,5,6],5)"
   ]
  },
  {
   "cell_type": "code",
   "execution_count": 49,
   "metadata": {},
   "outputs": [
    {
     "name": "stdout",
     "output_type": "stream",
     "text": [
      "\n",
      "22\n",
      "doing: [1, 1, 1, 1, 1, 1, 1, 9]\n",
      "MADE SZ 2\n",
      "MADE SZ 3\n",
      "MADE SZ 4\n",
      "MADE SZ 5\n",
      "MADE SZ 6\n",
      "MADE SZ 7\n",
      "MADE SZ 8\n",
      "MADE SZ 9\n",
      "MADE OMINOS\n",
      "MADE DICTIONARIES\n",
      "NEED TO DO 3864 TOP-LEVELS\n",
      " 2843  6380  1316  5099  4460  1333  4517  3485  3120  6757  5335  5342  1662  2308  6788  1461  7237  3335  1881  318  5251  2061  873  7250  3688  3093  2300  5349  7807  4915  2631  1400  6118  2657  5822  1327  6426  1374  1616  5474  4392  621  6251  1166  1329  1479  7849  5047  6332  5279  6731  5226  6155  682  2787  4755  162  6889  6774  2103  6178  2414  2809  3001  5563  4269  573  4584  2867  5589  5101  2325  1527  7363  7756  7379  1201  2933  3432  4706  4554  620  965  1148  3629  4102  4787  5578  1813  6591  6775  4006  4601  6921  525  1029  6745  366  6904  3495  5829  5139  5192  6762  7071  345  5626  5164  7496  2655  4847  7129  2458  1703  5487  2050  6102  2811  312  6988  5966  4436  1853  1933  6472  2826  6018  5219  7401  5218  3164  2347  5493  5004  7053  1652  2888  2241  3146  5571  115  5012  5061  1984  373  455  4316  7636  4403  6408  6903  426  1710  6216  2077  2494  2485  3051  7074  7479  914  859  2290  7677  2572  1288  5481  471  5941  4321  393  3258  1167  6480  1602  5633  7818  2269  4538  5397  7572  1858  7485  2999  1751  1740  3332  1926  4325  4035  1114  2154  5774  628  1702  4661  4001  2245  5100  1958  3114  7000  166  4054  1054  6117  7709  6753  7154  4910  5757  4945  3823  2973  2847  3342  2123  567  7254  386  6066  3392  1213  4385  4024  7431  7553  4858  1309  4733  7104  98  7637  7152  1875  4978  2161  3564  73  498  3030  7447  1826  3293  7664  1807  7209  391  7003  6956  207  4928  5720  1565  2106  1261  7176  6026  5919  3289  5345  6503  4887  3789  625  4520  1129  3676  4519  7826  4468  2318  5972  3583  1060  3252  3593  4693  7797  2851  6221  1879  6640  1420  2064  6962  6610  5605  3615  4148  855  2861  1487  4562  6085  7731  143  3745  1447  548  2645  2651  3771  5828  3700  6898  2679  4503  6164  7846  1250  6017  1825  7139  5632  2803  4745  747  6860  5298  6966  1963  7043  253  1079  3294  1120  6851  1542  3516  6999  7446  7803  6230  6015  3794  4466  5439  307  6648  4292  2233  5575  273  1032  2398  5127  5035  4057  3812  7184  7213  1555  1346  268  7440  5069  7197  2291  4880  1262  3609  5268  6605  6329  6879  788  1285  5253  494  893  7565  7353  1908  7649  106  2618  5137  2620  3606  7322  7327  4457  2095  4098  2794  6570  5477  5074  585  3157  1679  3934  7238  3449  5471  2101  60  7057  1277  7708  5325  2567  1051  1893  5671  5710  2430  3638  1785  4873  5522  6414  4953  2147  3814  398  875  5163  6837  896  3829  2801  3695  5490  7727  3201  5379  2427  3243  2656  1380  1005  7678  7634  7609  7509  2379  1243  1480  2751  3382  7319  6357  4229  45  4225  954  5853  7847  7467  662  1334  3115  3975  4395  4800  4041  3366  3973  7616  808  2149  5670  442  4125  5794  4255  2685  684  5660  4759  4341  5040  4424  870  2834  2666  7755  4023  304  476  629  7272  1030  1104  2761  5505  5957  7519  5434  288  1993  2305  1805  6481  2780  6947  3983  1570  5653  2094  4746  3585  445  6978  5230  727  5045  2635  3891  5801  7607  5473  5020  2534  5521  1466  3371  3299  1549  5102  6712  264  3161  7030  4297  6184  4908  619  3878  3081  2185  4833  3951  2370  1945  1458  4653  2084  149  6213  4665  1729  7667  6844  5005  2211  4093  7575  6568  6661  6372  6039  2710  6600  4855  1890  3632  1405  5252  175  2031  2517  4550  2276  6674  3251  5922  2169  3831  6751  6054  793  1574  4635  4277  4113  7389  4361  6957  5756  6703  1123  7579  1568  1777  7799  3693  2955  2497  6316  2602  3851  4387  5062  950  3031  5601  2606  123  2363  3105  1497  6677  3138  2683  5467  3665  4716  4178  4143  7033  5810  3242  771  4754  3136  4127  2523  5833  2382  6399  2496  7697  2889  2268  2855  5523  5080  4135  138  2112  3447  292  2717  692  2330  6576  6690  7608  5776  7075  4718  1156  5296  3895  7592  1962  6427  2194  6373  1016  6042  7078  2642  1601  6133  6602  623  5236  4738  2460  6204  678  262  7368  92  2455  6261  4075  3359  5691  5736  791  3729  6476  5754  4709  4725  85  2067  1377  3781  181  6418  4764  4206  1071  6919  6896  7268  3684  4691  1476  3899  3206  233  3787  1919  5686  2619  6726  5411  7187  64  568  6391  2304  257  220  4045  2676  2258  4797  5092  864  5875  4752  1424  2373  2326  4484  5535  5652  536  2738  7811  2263  340  4862  5222  4144  4046  6566  7833  174  371  6847  2088  2853  7749  7360  3548  1391  6653  2473  5903  7158  7067  6341  5414  1103  2563  7337  1534  4831  1047  4936  946  6502  1859  5951  4408  2029  328  7387  6628  1912  2994  3726  425  3874  1175  4188  1681  4288  1389  6300  3046  2425  5103  5546  1178  1882  225  5841  7527  204  180  1975  2869  4031  6531  4170  4963  4192  2829  877  2905  3872  6748  2332  1184  6738  6456  5531  717  1686  3167  7134  4572  2938  3581  1573  5112  3352  2463  4218  6975  4600  7605  6685  7759  1022  6053  7174  5780  6908  6684  3324  104  1268  6158  7855  999  2160  919  6998  3846  857  1318  5506  711  1765  5701  6849  291  5932  576  2023  1667  578  4694  2328  1721  3547  2386  5229  7251  1269  1416  1006  2917  3364  925  4684  1874  2964  7439  1057  7800  3941  611  1850  5350  6509  2492  3880  2983  2226  5693  4660  2196  6543  4095  2000  3556  5763  906  1493  4792  636  2818  5309  7010  359  6658  2231  3515  5949  7817  4121  198  1037  6354  3045  7652  3207  7473  7423  7724  3345  7127  1752  443  4824  3178  1526  2686  3071  1728  2837  990  3205  3659  5489  4388  2005  5852  5744  5753  1300  4485  2297  811  6534  3618  4161  6249  4842  6201  5977  351  2206  4477  5772  1886  2378  4082  3176  263  2028  4301  7300  5880  2731  4941  3911  4735  4322  1125  2331  6122  7624  2543  5802  3968  5450  6926  1012  5809  1916  7658  6958  1035  2772  6467  856  7512  4238  2408  7619  6259  7397  5570  6356  1090  4130  4811  29  7748  2564  7054  2912  4427  5746  6272  2502  6555  5317  4156  6367  5502  7573  1451  5844  671  5894  2886  3139  3397  5357  5043  3689  6312  685  5869  4122  5446  7166  5862  5124  5274  6334  6918  5297  7289  7694  7249  5363  7065  1664  4377  1821  3377  4719  1301  908  3331  5526  4605  294  1510  5359  4747  4471  3082  4849  41  4025  4682  4109  586  3290  4400  2674  7853  7535  3524  6886  2506  5388  236  6443  2210  5560  5133  2076  1924  1199  5988  7483  5961  125  3876  6862  3119  2490  1445  309  5755  7564  2996  1349  4171  3864  2186  6100  7663  860  591  1179  103  4313  5792  2491  4998  6696  1719  4207  7859  4276  4421  6494  846  918  1946  508  1368  6124  2113  5907  1763  2926  1072  593  4299  6210  7534  5044  718  5300  3234  818  2991  5882  4555  4948  4984  7068  5642  279  3406  4428  4439  5323  4546  5796  963  2872  1794  3040  4501  2089  1091  178  4126  6784  3926  2559  493  3566  6004  5085  4234  3107  274  5330  6143  3770  7844  1255  2821  1449  584  1757  6511  6464  2344  3484  2199  2021  58  3469  739  6424  7236  5613  5584  2987  2400  5088  6678  3274  6146  421  5441  7022  3525  2406  6843  7406  5595  6920  3889  3389  7790  3501  1708  1656  7713  7408  2137  5764  1492  1730  668  5891  510  3784  2462  6513  1639  6650  7273  3544  3978  4019  3066  1603  3260  1543  2293  3368  5567  6086  4064  7194  598  7441  3832  3309  5721  745  305  1325  6991  7707  4043  3859  4172  2446  2239  542  4511  4712  4253  3905  6127  3546  7204  2673  2649  7292  1218  2860  6888  6351  3226  2555  6293  230  1412  2225  3577  2956  4723  1901  5182  4969  513  3852  1216  4250  2505  2461  3651  5171  7097  6946  1188  401  786  1814  6050  3865  2218  2174  903  6431  4947  6384  2736  5682  6945  2024  7354  280  260  4480  4087  4482  3510  6180  1971  5142  7758  1670  1372  1589  694  7635  2423  709  3457  2144  3724  7355  1745  6761  4702  6487  4318  4441  3993  452  3916  5666  6811  6604  202  2825  3143  192  729  6382  6084  3427  3648  7028  339  5597  1917  1485  379  4589  5908  3537  6370  7301  2361  570  826  2059  81  7228  2768  5115  7186  1851  5831  4326  5172  7199  1842  5478  5603  3104  4118  2895  6692  5002  4481  3855  7744  4356  4921  1067  1832  7419  6211  1014  7588  3363  5475  3414  2890  5799  1888  3245  440  622  7016  101  6557  4478  2708  34  6525  467  238  2155  7687  2592  6203  1092  7480  775  1815  6841  6664  1019  1254  2611  5679  5120  6874  7850  3263  653  5817  988  5328  7096  2929  3589  938  6166  6313  247  6032  631  2880  403  6148  3732  4788  749  2314  7258  7336  487  6191  753  1809  1482  1295  6438  1078  743  546  3084  7282  4843  3757  4768  500  3834  6655  7111  4949  7206  7541  1711  7117  6973  6773  6508  1986  4613  4442  423  315  5673  1999  5445  3229  6614  3600  712  6019  5360  6051  4724  7613  1395  4804  2287  7298  4932  4194  3002  4081  96  1718  6121  5677  803  2633  5295  5819  4393  1816  3378  6649  2499  4535  5238  7160  2310  5528  4739  5486  6654  515  4217  157  5681  5762  7052  697  7650  6450  6030  3927  2949  2402  4032  6355  2368  3039  1154  2342  7600  4384  3221  7039  6791  2963  783  6386  63  472  557  6320  3995  7838  1119  1591  5735  5542  5201  4283  7400  7343  1680  5923  7786  3538  1292  1982  37  5482  2238  450  953  6250  6225  3533  3643  6819  470  2500  6314  3766  6845  7587  2598  7346  1897  6075  1224  1499  140  4456  5214  1077  5739  6869  7306  759  427  6759  3282  1365  1921  6202  1341  2792  4699  1937  825  5602  1864  5587  3145  6680  2339  1093  866  1754  5419  40  3211  3777  6992  7627  891  1784  1452  5210  842  4784  3208  884  1344  2526  2069  3798  7764  4834  1734  5421  5257  6694  2923  1507  5352  3739  4444  267  3425  6172  5733  6850  2755  7042  5039  6469  768  1665  1185  3044  5734  4463  4610  194  3591  5549  5593  234  2173  5141  2866  2282  1605  3281  3637  5921  651  4643  6830  2604  4644  6290  5913  7820  7113  2858  179  3636  7060  4689  2001  5286  1658  4226  989  3330  1319  1685  5793  1263  1364  4677  4502  3791  1311  1516  4536  7481  5447  349  6646  4209  2478  1249  5046  6953  158  6149  464  1998  3117  4820  5627  384  992  3217  1429  2688  3362  4618  6434  738  5760  2741  5106  5641  6565  6097  645  93  5402  4293  564  6871  6807  1978  7465  6687  5010  1903  5086  6324  2910  4455  6524  3720  1552  5917  76  4977  414  287  4346  6470  1130  6393  6409  4419  5808  2824  4168  4486  638  2444  6937  6622  3994  2908  7189  1299  1455  139  1960  4983  6893  3518  3579  1952  2576  4838  6806  5480  1272  871  6101  1531  4386  4914  4607  282  1860  2972  4296  4669  7857  5178  6072  4512  2561  6183  4890  1193  5738  4815  1172  5692  6273  6981  6344  7099  4859  6447  2041  1236  3572  4939  4049  4452  6465  6701  998  2171  4402  1225  7548  6448  5638  6647  5865  7816  2338  1519  4611  4579  5426  5924  136  3837  342  2193  7385  926  6321  2442  3353  5583  4011  3080  2209  6291  4860  457  3256  3348  836  4067  1537  7141  5667  2235  3185  5348  1567  3590  5469  299  4448  363  3827  1266  3565  6899  6859  3247  1361  5199  920  3499  4140  4728  449  2610  5963  1486  4405  6872  6930  6437  1069  4092  1306  2705  1066  6082  1788  193  3448  6179  7290  5386  3631  7536  2813  4742  4354  3761  1883  1378  1928  259  997  3594  3860  558  1837  2286  6589  4089  4317  7165  1731  5975  7794  3321  4774  3232  6468  2242  3237  928  5082  2488  3820  4713  5590  4597  7841  4183  2742  4469  5782  1110  2928  3047  5432  6492  7017  6700  306  6421  7361  5950  3170  3180  6719  2553  6482  5636  4073  285  2420  1481  5444  1337  6929  2882  5773  5428  6440  6884  7594  2597  3490  354  4799  5622  5594  2162  3200  5529  5936  5548  3126  3509  1714  3841  2951  3286  2625  4599  7278  3246  4310  7766  5023  6922  3007  5059  3445  5240  79  4162  1331  6935  5056  4542  2773  107  416  3500  5084  2547  3480  7083  240  974  4697  7073  6027  6672  7781  5013  7735  3376  7657  2613  1097  1817  6554  6689  2539  5565  5385  3843  6824  3979  2229  3821  7460  7532  4413  2661  1141  592  973  6115  3487  6951  6135  4671  1062  7486  4871  7013  7314  7349  556  4112  7334  4900  5233  6207  6569  183  3451  931  742  4407  1043  2650  6641  843  3398  2359  2075  7596  6396  1938  1008  663  751  2380  5944  659  3216  3861  241  5688  7031  4810  3413  4500  4940  4235  1694  612  4714  433  2634  1107  5406  5259  5235  5937  1381  4119  2203  7181  1540  4182  3354  890  958  3498  4350  916  672  2213  5374  2166  3893  3016  4814  5717  3450  4775  641  1211  551  4687  3677  3420  4968  4017  3374  7122  7683  3940  1655  707  7524  7135  5742  2580  6613  6885  1802  7407  4376  1922  3938  1782  1252  2403  377  6083  1437  3534  4656  5134  5208  1506  7502  635  6913  4525  20  3854  3932  2988  5194  5454  7032  4710  4994  3799  3253  6551  7612  1157  4423  1571  816  5396  7252  4476  1900  4902  7084  7590  554  7542  346  2971  3357  5110  5983  3315  3387  883  237  613  6595  7760  5824  6923  6932  5457  949  523  1580  7399  4913  4505  7286  540  161  952  7500  646  5541  1514  3228  580  640  3140  6877  7783  1271  4773  6828  7106  4219  131  249  5495  5448  173  6193  7789  3301  6902  70  886  3036  6428  4663  7248  6955  7411  7739  4324  1326  4553  6219  3240  511  7225  1545  720  2056  4453  248  1520  5491  5187  7287  5820  6891  4434  506  1558  7224  1767  3833  5344  6527  2085  2437  1355  2617  4636  4979  5515  7690  961  251  2859  649  4988  1854  5954  6863  2418  7430  3266  5440  7133  3328  7606  155  7654  1625  344  6579  3288  3839  4513  1576  3961  2513  2548  7148  7717  7858  815  3759  6163  3692  2247  4347  1322  2943  858  647  137  2724  1448  6704  6559  4743  4704  4874  5362  904  5429  2595  3944  5213  6256  3462  2986  3326  243  535  2927  6517  676  3622  5271  2670  5093  6772  2032  3822  2924  5939  4323  755  7775  1312  144  1849  2128  4620  7371  3025  1024  6233  5895  3603  4437  2757  1811  5868  7079  7339  6798  3489  5372  5800  4086  2554  6340  3154  4198  4990  54  4581  481  4506  5825  6499  2775  7628  2607  3134  4909  6702  7162  5573  4042  4675  5260  695  7380  380  6983  3610  7006  4012  1995  2799  2950  4608  4770  7740  275  382  6463  5876  6411  5785  3862  5365  6961  5207  3642  3077  5559  5616  2223  5520  4617  7848  5463  5598  6444  6528  3097  6132  3148  2333  5403  2355  5775  2369  4891  595  6794  3871  3527  7638  5722  6550  3863  7860  1489  1761  7832  2165  4440  1160  5585  7221  2783  772  7495  3435  3285  4975  2091  3483  3904  2289  3529  2040  1215  7325  4401  7207  3678  7691  7507  7429  7659  4280  57  6029  1617  3267  799  5029  6112  2481  3423  7364  4504  6021  5715  1556  3620  4907  1827  4052  5985  2744  716  7242  2270  4736  2327  2763  3218  4839  3470  2769  5887  4079  390  484  3396  5537  2721  5928  129  88  1743  937  3828  6455  4487  7822  5017  3830  6560  5511  4138  4494  2726  6676  7831  5336  3400  4363  6378  4633  3647  970  6337  419  4211  5307  7633  7518  7599  47  2714  7309  2395  3584  3607  3939  2833  4566  7138  3922  5637  1108  5001  1923  3356  5718  6498  5703  7688  863  2374  1742  2002  4570  6948  560  688  5319  1673  6119  51  5545  4905  2397  5695  4561  2643  1696  2006  713  6064  4532  4430  6984  3203  4205  2659  4875  1443  6578  2148  2894  1969  6458  3671  6252  4626  5771  6094  3422  4020  1083  1307  7293  1363  7317  7808  5995  4022  3129  971  1647  1229  1855  838  2025  3426  1546  2921  6383  5981  6598  5038  1736  5716  2925  1246  1810  2652  4059  4104  5329  6081  7091  979  1203  1205  3528  3824  7779  1651  124  7351  360  5661  6943  7516  6005  3459  6970  4328  7778  7244  3173  1932  52  2459  5740  6974  336  3923  7222  3802  6350  5631  2870  7552  6763  6287  2608  6838  1428  4474  6939  4076  395  325  3013  7188  1848  6670  6281  2993  526  3835  2208  399  6264  1221  2020  2449  1046  2036  6052  4496  496  7088  5138  2360  6237  7009  7011  2493  3764  1495  2997  7689  4242  6012  5416  5291  4634  6317  7087  2080  2876  2637  977  5498  752  1569  1373  7837  2337  5970  1750  7703  4703  441  231  6590  3102  6813  2653  302  6289  7795  1087  2981  1593  2789  5311  7229  122  7506  4355  4966  6800  3259  4061  4107  731  4070  1700  2509  3269  7121  1237  5580  7047  7374  4155  4327  4374  3616  6228  1626  5859  5272  6675  5451  3186  3984  6138  6241  705  1415  4893  265  5635  2216  5955  17  6041  5316  5640  2372  466  1885  3875  3919  5826  3809  4429  3424  5243  3322  2660  3471  6348  4021  4212  737  1086  7177  7549  1660  196  7255  2614  968  6776  7730  6131  7344  5364  2163  1641  5053  5811  2583  1776  5292  4708  151  4565  1987  1220  1284  4221  6587  7370  4467  2343  459  1847  2214  6375  3325  1001  4615  1623  6972  5510  722  7392  5174  3690  5651  1706  6770  784  4757  6709  6960  332  1528  4169  2879  1749  4491  5840  3714  6215  1335  2015  1943  6475  5111  2266  2596  1935  3287  7488  170  4357  6010  1553  5126  865  3021  991  7432  1294  2092  1398  7733  6985  3184  3504  460  357  4348  5136  7645  6212  6618  2984  1659  5830  6198  5620  1259  4146  5324  6441  7056  2884  1025  3628  618  2260  7396  3969  6619  7450  2055  2432  2346  4813  3847  6857  5185  2381  4547  5162  5996  3532  6965  7362  176  4809  3711  5889  3308  3181  2284  2805  563  6963  2735  4707  2562  721  5313  930  5458  1195  1386  1144  1116  7851  188  7530  1835  7827  617  797  7661  4159  4129  6673  5524  4174  6342  184  794  733  4812  1426  2862  6910  966  840  4571  4632  4783  6123  6814  148  1135  3156  66  4931  6546  2665  844  6394  933  256  2737  2045  6997  549  6581  7271  3716  1100  4851  1247  7101  99  5341  1779  7679  6621  348  2204  6656  7330  4899  7623  3842  5405  1484  5408  5696  5649  1976  2875  6078  911  795  2399  5694  5836  832  7328  7413  6169  4331  2443  6987  3022  7819  5625  3279  1798  3753  6062  2404  2752  2682  1369  6363  3691  956  5184  4010  4461  4822  7842  1739  7714  3666  6129  700  2778  5109  609  6691  1227  7260  2703  5927  1604  3989  1228  4515  5654  290  3885  607  6944  6848  7014  3963  1572  334  5873  1973  1645  3928  2845  2591  577  113  293  6855  7331  4009  3262  3149  1548  4801  7577  1118  3276  4080  7586  1715  4790  2706  4729  4961  2353  2758  5920  333  1957  3747  6130  7420  4142  185  3273  868  1738  6371  3884  849  1942  5855  2593  4274  1440  5871  3150  3682  7622  3163  5770  2413  1064  5273  86  2913  3655  4769  5346  7521  1682  3474  6876  75  5353  1970  2689  2839  947  7089  3964  4717  2709  4997  1059  6562  3311  1101  1992  1725  7494  1939  3744  1392  562  53  7427  869  7302  3576  3972  6976  5741  3982  1564  6268  134  215  3411  5250  5708  5607  4417  3985  1818  5118  31  3996  7326  3886  2749  1189  5517  2317  5750  7662  1490  1170  6941  3652  4995  80  7793  6013  2989  5337  4044  6552  6240  2788  5724  4204  6280  1910  7830  4960  1611  6007  3930  7448  463  7082  2451  5918  1508  757  2441  3730  6683  2083  1034  1983  7854  2681  4771  1654  6637  5358  5089  5569  258  205  1584  3408  7190  4410  269  492  4514  6740  1056  4094  7040  6979  270  4114  5728  7005  5407  7332  3758  1467  3336  7352  5962  2334  38  118  3612  3743  7443  6623  2750  902  5989  411  4499  4722  5060  686  5181  1053  6310  3468  6818  7513  1304  1583  1841  4569  5790  4294  5699  7487  1413  26  7230  1281  3008  7023  7015  2516  3988  4404  7741  1356  6028  2560  6020  4000  5377  5777  1877  3650  2105  4214  7583  5355  1577  7632  6154  575  6706  3475  4003  3760  5536  5293  2569  4730  1339  3725  5592  5639  1861  1521  4203  6422  4002  46  7366  6359  4935  5081  7020  6743  7745  5037  995  5538  6892  5018  6561  7665  852  3762  4248  3333  6349  814  3718  4540  2669  4173  2911  7641  2504  2037  2680  3531  1342  4688  6585  4446  6785  383  4923  2391  409  1914  2429  680  4612  5263  6599  7279  5200  6969  271  2486  2531  3879  1478  6635  2630  5057  6853  4991  5394  6058  7345  2854  5315  1895  289  6925  7700  1169  2065  2581  6208  690  2723  4666  2046  6390  3917  1744  4602  4777  6500  2995  6461  898  3151  4604  7772  6453  195  6916  6302  1085  4038  3733  3441  5032  2848  3338  6506  5412  1362  4879  6134  2271  2062  6142  4819  7589  2157  5861  3722  566  1251  2961  6014  1007  7029  2692  3367  962  3555  1257  6269  4673  5413  4920  778  3233  3909  7384  4278  4275  4698  394  7100  3737  5662  4399  6318  4944  141  1  7566  4576  214  3419  693  1173  2043  7214  7674  3303  2456  6986  3526  2719  7295  3239  2253  6413  6040  5940  3769  7041  7702  2535  2817  6308  5314  4308  6338  6279  1775  1539  7131  6793  2844  4078  986  3056  616  5832  2329  5948  3774  2753  5000  3703  4888  7305  964  1789  5892  4366  3409  1865  2072  3949  2798  3817  1359  2150  2762  417  2658  6157  7782  4549  7281  2654  4609  6048  2589  1724  6206  7243  6192  5621  4111  5488  4971  6663  3248  1436  7835  3755  6471  4416  3717  356  3337  4789  3458  6668  7090  3582  7123  7357  6214  2600  2623  7604  4659  7726  6553  3946  4938  190  6905  3067  7058  6161  6754  228  4641  5634  1500  402  6006  3957  807  4686  156  3649  1453  4870  5547  2313  6716  5135  7218  5303  1869  6750  5827  5381  3442  5409  5525  3402  4649  5783  1396  7383  114  4152  4625  2019  1122  2108  5858  3870  6175  1303  1208  608  1966  6360  2944  2711  6473  6629  2909  3849  4596  516  6189  7183  4563  4231  1642  4772  3168  3410  1863  3573  5729  3626  2175  5048  939  4227  1523  6835  2431  6810  5623  5516  7767  1940  3096  4526  7462  462  2578  239  2621  6804  7672  4776  3101  2274  3687  2422  5676  3085  2264  5176  5244  6433  7533  2357  5786  6695  127  5911  2828  2764  1063  7647  5079  4433  5452  2838  2992  2479  4524  6024  5500  5151  3116  3361  1045  6177  3421  4543  2042  5460  301  5934  830  1432  2574  3614  2227  3395  7813  5866  5147  1878  3903  5369  6868  159  3209  3244  6858  5122  538  7168  3633  2392  1951  5373  4886  3231  4470  7680  4624  168  4105  4692  5170  2104  3433  4541  1399  6789  3014  5851  1582  3492  5643  2288  5600  7108  5024  6295  4631  3015  1707  2667  374  4100  1187  2480  4493  5152  2122  6558  1597  6586  3418  1407  530  5239  7482  6152  1930  3541  4827  5748  6388  4791  802  2528  3640  3816  7395  7721  4933  3913  4158  5926  7256  2164  3174  4084  32  316  3845  381  3599  6486  7585  5967  781  3586  1287  1866  2192  7568  5978  6023  1140  2298  4360  2151  2307  4744  4646  5508  321  1042  1535  5262  1241  2786  4418  2440  7571  7421 \n",
      "C IS CURRENTLY: 7844\n",
      "doing: [1, 1, 1, 1, 1, 1, 2, 8]\n",
      "MADE SZ 2\n",
      "MADE SZ 3\n",
      "MADE SZ 4\n",
      "MADE SZ 5\n",
      "MADE SZ 6\n",
      "MADE SZ 7\n",
      "MADE SZ 8\n",
      "MADE OMINOS\n",
      "MADE DICTIONARIES\n",
      "NEED TO DO 2865 TOP-LEVELS\n"
     ]
    },
    {
     "name": "stdout",
     "output_type": "stream",
     "text": [
      " 1316  5842  4473  4460  4517  3485  3120  6336  74  1265  1461  3335  1881  4223  318  5251  2061  6037  3688  5784  2631  6583  5551  1400  6426  6764  4432  7070  5474  4392  6251  1166  2396  3496  154  3191  6332  6938  5279  4758  6731  5226  845  4150  3464  1648  682  5420  2787  6889  4154  2809  6592  4269  4793  3783  4091  4224  3340  4584  5589  3597  3663  2325  1527  6715  1201  620  4548  660  1475  4787  1985  5578  1813  2615  1150  6103  4534  6745  899  5629  5829  4892  5139  6762  345  5164  6769  5395  2655  7129  982  2243  6102  454  312  6988  6927  5953  5971  602  5305  5966  1853  1933  1887  6018  5219  4340  935  4806  2532  5218  5423  2932  7053  3257  2241  3146  1563  2647  6567  115  5061  1984  418  6408  3954  6903  426  1710  6636  3003  503  2494  2485  3051  7074  6311  2290  1288  2727  5481  471  5902  4321  497  2184  5633  2269  5397  1522  3558  2121  1430  2831  2999  1751  1044  2421  1114  2154  5774  628  1134  5100  2079  3114  2687  1126  4054  7076  6117  6753  7154  4060  3823  126  3746  6950  2973  4556  303  2123  567  594  386  1530  3669  3392  6141  4385  2697  4024  2962  4858  4551  2212  1875  5321  2566  3030  3522  4368  5232  1807  6410  6956  5916  3685  5919  4577  6980  3676  4519  2318  4249  3583  1060  1797  780  951  2851  1879  3182  1420  2064  6962  4273  6610  4148  4562  4846  5847  143  2469  3745  4184  548  2968  2651  5828  4503  1250  656  7139  3350  5632  4745  6860  5298  1963  253  1610  2536  6851  3516  2415  324  6015  2200  3813  2715  7046  6648  2233  5127  2116  3812  100  4655  4894  1732  4955  3494  329  3772  6605  6643  788  3038  112  3947  3952  6284  2959  3800  2095  2856  1153  4098  4863  1679  5519  6057  3261  2484  2544  1277  7057  5671  1051  2430  3638  1785  4779  4873  5522  2857  2246  5356  2147  875  6837  896  2965  2100  3201  5798  4869  2939  1380  3128  1005  6601  1243  2891  3382  6357  3925  3304  4225  1402  5853  6171  662  1334  3366  3973  1039  2489  4125  976  5794  4255  684  5660  5906  862  3202  4424  476  629  2887  706  5327  4640  5957  2303  2109  6481  2780  1000  3983  1570  7080  2094  2139  5997  445  6978  835  1376  4964  3962  552  4857  3306  2638  1723  1466  6836  1549  6712  3161  7030  221  4908  579  5367  3878  4943  3081  4833  1089  2370  149  6213  6844  2954  2412  5731  4093  1635  6568  6039  1726  789  4855  3632  6609  1405  2501  1596  5964  4982  6826  4264  3831  6751  793  942  1574  6419  6703  6229  1186  1568  1777  3693  2955  4582  2602  3851  3031  5601  2606  6364  2363  1977  3105  3804  1497  740  581  532  658  1350  4616  3665  4716  4143  6901  3242  3307  2523  5833  2382  6669  874  4853  5080  4135  2112  6266  2717  2330  1112  1770  3933  1962  2538  2194  6373  6042  1601  626  364  6133  5236  1388  6915  6436  6286  2455  3118  4075  1843  1902  2852  1828  5472  791  6476  4709  4725  2629  4878  1028  3543  458  6681  4691  1476  3899  4029  2619  3970  5411  1222  3112  64  568  6391  4588  1397  444  4045  220  6780  4797  5092  864  5875  4752  3029  2466  6235  537  2713  2294  878  6542  5196  4862  340  3314  4144  1202  371  5856  2088  2832  3976  6432  3548  1391  5276  1630  895  6341  1103  2563  5398  2599  4831  335  4216  4408  328  1912  3026  3726  6325  6742  4124  1175  77  4106  4288  5841  3048  204  4490  1975  2869  6531  4252  4170  2829  2905  948  2639  5984  4464  4518  1184  6738  1470  6573  4443  1621  1833  5531  717  1145  4220  7134  6496  1573  5112  5042  3352  2463  3819  6856  1804  6053  6908  3324  1137  999  2979  919  6998  4986  3846  2476  857  1765  4952  2023  4694  578  2328  405  3547  7095  5229  4637  3223  6049  5617  4760  1006  3364  4684  925  1562  1874  1057  611  1850  5179  2445  5031  2983  4639  5693  4660  1238  4792  1493  2086  2818  3198  7010  359  1687  2231  272  5647  2978  6354  3045  3345  1752  4824  2232  1526  3004  3089  1747  2686  1308  3953  3071  5376  1021  2837  3205  4472  3659  698  4388  2005  1040  6299  2350  5744  5753  1300  2297  811  3329  3618  6162  4842  4477  2206  1886  4082  3176  263  6912  2028  3123  4301  2261  4222  5030  5880  385  4304  3911  1427  4957  1125  4508  1012  186  1035  4238  6259  218  3264  2812  2376  3826  2912  6272  6555  5310  4156  5317  3598  4411  6367  4066  1451  7045  671  4339  5043  284  3689  5743  685  5446  6334  5274  5297  5169  4701  7065  1664  5281  2433  4719  1301  908  5526  4605  294  2306  606  881  5359  1959  4071  4025  4528  4109  586  3290  4400  2674  4756  3524  5973  6886  236  5560  5133  2076  1924  3780  1876  2524  1199  5988  5461  3212  2490  2996  1349  6607  4171  3864  6100  3481  4268  3497  4313  6890  4458  6631  4186  3950  4421  6494  1677  3942  1672  2691  2698  5907  654  624  2035  3868  5503  718  6033  3234  818  372  2991  4555  4948  7068  3549  3027  5642  279  1191  3220  4439  3349  4546  3040  1829  750  2089  1091  178  3926  2559  493  1884  2609  6004  4133  4234  297  2903  3107  1073  5330  6143  3770  1255  1449  6464  2344  2352  2179  6529  2987  2400  6425  4164  421  2406  1441  6108  4999  5595  6920  2143  3389  3889  3501  2137  1492  5514  3010  5891  510  2462  5203  6513  5197  6650  3260  2098  1543  2293  3368  6086  2135  3832  3309  6839  5211  305  4120  6991  6044  5078  6294  3859  2446  4511  4712  6833  4253  3905  6127  597  3546  1031  3660  6293  1412  2225  1901  4765  4969  513  4250  2505  2461  5171  6946  401  2919  847  1613  3453  3865  5422  903  4959  4947  5435  280  260  6226  1174  2573  4482  438  1614  3510  2616  2131  699  1372  5382  55  3452  5706  2144  3724  1745  4702  6861  4236  4441  6811  202  2825  3143  192  3648  1894  3959  4149  339  379  3575  6370  2361  5700  81  5022  3710  2768  19  5558  1851  4326  5172  2356  1842  5478  1084  861  3104  5237  4481  7109  5628  3705  1253  4356  4921  1067  3857  1650  1657  5938  1979  3033  3881  2628  5475  3945  5898  5712  3122  440  6526  101  4478  2708  5864  6525  467  1431  238  7072  2592  5267  5392  4074  6841  6664  5189  805  1254  2611  5120  1812  3092  5175  2195  72  2579  5817  988  2321  5656  3605  5328  938  4836  4056  6313  6917  247  4700  6400  403  3063  2537  6191  3752  5857  1482  6288  1529  3278  546  2904  4768  2622  6401  4394  7117  2026  2784  6508  1986  4442  4287  7086  5673  3805  4737  5618  4989  6614  712  2047  6051  7105  4724  4522  1395  4804  6222  2255  779  921  3896  4081  6121  803  5295  4393  1544  534  4420  3430  4739  5845  2584  5014  4217  157  5789  6022  2712  697  5104  5168  6450  3927  2949  1746  2402  3039  2342  7044  3221  2963  783  6386  529  63  472  557  6320  2262  2511  209  4586  5990  1680  1292  1628  450  6250  6225  1769  4050  3643  91  639  6314  6381  2336  2598  3998  4282  3604  378  759  427  1435  1921  6202  2792  4699  756  1937  5130  825  3646  1864  5550  3086  4583  6074  2878  518  6657  4244  3478  3100  4256  891  1784  3619  1452  2842  4683  3208  1778  7024  770  2942  764  4727  2069  1734  2815  4593  5645  6114  1633  2013  2923  3967  5352  3739  6303  267  3840  1462  3425  6172  798  5733  6850  2755  3044  4463  4837  194  3502  1002  4131  5549  234  2173  758  1605  533  6297  651  1867  993  3506  4643  3850  2604  5913  2439  2240  2858  2001  4226  989  1319  1685  5793  1263  1364  4344  2588  4536  4488  4796  3675  4209  633  1249  6953  464  3117  992  5915  7001  4818  1429  1280  2688  6575  3362  4085  4618  5148  84  3456  738  5557  6073  5760  2741  5106  4705  93  5402  1790  4293  564  5497  6807  5624  1720  6687  1903  5086  2910  6524  3578  3192  76  414  6409  5808  1258  4168  1353  6140  638  1299  139  4983  3579  6806  6822  2436  2130  871  3072  2953  5332  3224  4607  1904  4296  4669  1214  2728  2990  2561  6183  1834  4890  1193  5159  3601  5692  6758  5901  4859  6209  3199  604  3956  1236  4049  4452  6701  3836  2171  4402  6448  2338  277  1519  4611  3723  4335  164  4196  1792  2152  5426  2049  3562  2514  926  2442  2349  6205  2209  2078  836  4884  7141  3185  5348  1567  3654  2407  7107  2892  1980  4854  3827  1266  3565  6859  505  1361  3499  1486  6872  6437  1069  1306  1235  2705  1936  2099  6179  3631  7125  4101  5347  3761  1378  1928  3594  558  1837  531  2512  2387  3321  4336  2435  4713  6439  4469  5782  1366  4530  6492  4378  7017  6345  306  3339  4621  2553  5636  4073  4782  5444  1337  6929  5773  6884  975  610  4799  1929  1082  5936  5216  6038  3386  4629  1714  3841  2009  2951  4489  3286  2625  3661  4599  4310  4568  7093  1446  353  3007  4162  6882  2765  5084  3480  5013  3376  1817  2664  2539  5565  6307  1503  5266  6397  3979  4667  396  2229  592  655  1873  3487  6951  3786  130  4671  2700  1062  1968  4871  3482  5156  2132  556  5186  4900  5233  6207  831  3451  2743  931  6756  742  1043  6641  1643  3398  6008  2384  6588  2075  5198  1938  1274  446  2380  2416  3216  3312  5132  1465  2323  241  3738  848  2947  614  1694  4714  4462  5665  2634  2747  5259  5937  1381  4119  2090  4973  1540  4350  916  1906  94  4307  3893  3016  4814  5717  3450  4425  641  2252  1211  551  2117  3702  4687  3420  4968  1655  7135  5742  6276  6309  3271  1115  2975  2403  377  2010  5134  867  5208  4861  6913  4525  2988  4670  7032  6887  6182  1157  1571  5396  2707  3357  3272  4351  237  613  6595  6923  5457  5904  949  5283  6594  4505  1713  5116  161  5588  3443  119  3228  580  502  6881  7106  6193  5448  4647  3301  6236  886  4663  4324  7114  3240  327  4453  4926  248  1520  5491  2935  555  5143  6278  1558  2865  5344  5158  996  1459  2969  3734  5515  6741  961  6282  2859  4329  3742  4365  4988  5954  3266  5440  7133  3328  155  3254  344  1576  929  7148  815  5899  5264  3147  3692  1322  2943  6385  858  1806  2724  1448  6704  5539  1143  6559  3388  4743  4704  4874  5689  4166  1182  2605  904  5213  2986  243  6477  5540  676  1425  6772  5073  3360  3236  2450  1312  735  400  1849  5761  4620  375  5895  544  1310  3603  2757  1811  6466  6798  3489  3439  1823  3154  3473  4198  3866  6416  6873  5825  481  5173  6499  2775  3417  5375  1781  4181  5573  4675  1554  6983  3943  7006  4012  1697  5145  2011  6736  68  2799  4770  382  3592  2299  5785  3862  5507  6952  5559  7004  652  683  3958  5598  6949  6444  3373  3924  4175  3148  3034  4946  3796  1192  5403  2355  2369  5157  4891  3871  6449  3773  61  4285  2820  3863  1489  2165  1160  361  2551  5258  4975  2038  1106  2091  1152  3483  3529  2040  3672  1050  1889  4763  5599  4267  4137  4280  1899  3267  5029  2481  4454  6021  5715  4389  3620  6906  4907  4189  5985  4257  3808  3907  6519  2270  5821  4736  2763  5678  4013  2769  4302  2394  5805  5928  5952  6455  6275  4559  6126  3830  6560  2259  2977  3400  1787  4332  6262  6900  2159  1411  4165  4633  987  970  419  596  967  4748  5301  3939  4053  2833  7138  3088  1923  2515  3041  3356  5718  5703  1909  863  2374  1742  2002  4570  560  5319  1673  6119  5914  358  1696  2006  713  6064  4430  3203  2863  4545  1443  2148  2894  3671  509  5771  1464  1181  6094  1307  1363  1997  5995  4271  4088  971  1647  4795  1764  5231  4753  3426  3300  6267  1546  5038  1736  1246  1810  2652  4658  837  7091  1203  3912  1592  1205  2205  1651  124  360  3172  894  3459  4208  6970  6728  3095  3173  6093  1932  2459  367  3802  6713  2816  524  854  588  67  6763  6287  6838  4474  4409  5806  4076  3013  6283  6281  6335  3856  3383  526  3835  2208  2295  3241  2453  2036  3083  2360  1600  5881  7011  4917  6067  5925  2493  4286  1557  4195  6116  4242  6012  5265  5416  1678  1880  4634  6645  2080  2876  2637  752  3788  2337  2830  1727  3778  3099  441  4703  132  3204  5596  2533  231  3102  3005  2183  6289  3214  2981  2789  5767  331  1433  2776  2509  3269  7121  4155  4327  3616  969  296  5859  3334  3186  3984  6138  6521  5848  5795  4893  2216  5955  3662  5640  466  475  6734  744  4270  2729  7062  5243  3322  3471  2027  6642  4021  737  968  5223  1282  6638  1190  4197  1776  4708  151  4565  1701  1987  1284  741  5177  4467  5068  5935  459  2503  298  4134  4615  722  5651  1706  5484  1477  784  1162  4757  1528  1749  4491  5552  482  3714  5675  2015  6512  6825  6194  689  1943  4072  3135  6475  2596  4465  1935  3287  1270  865  2716  3627  388  3021  5331  7034  991  6479  1294  3890  6795  1398  3113  6985  3184  1244  4348  357  1406  5136  6212  6618  927  2142  670  1659  4537  5830  6198  5620  804  910  4146  7056  1025  2367  6047  618  6234  6619  1717  2432  4867  2970  1704  3513  3847  5543  6857  5185  2381  4547  3320  5162  6139  5476  905  176  3711  5889  4817  4398  3108  3308  3181  2284  2805  1845  3109  563  3213  4912  2562  5458  1144  6867  7002  1581  188  589  3887  4159  6792  4174  1780  7066  1426  2732  3059  966  1102  5768  1512  840  6218  6535  4571  4632  6123  1991  1488  844  933  256  3716  2575  4851  3058  3608  1779  5527  6982  348  2204  3520  6231  3446  4680  1976  2428  2636  667  2399  6540  2443  1798  2752  6462  2682  3159  7119  1375  3768  4040  4010  1638  5758  2257  1739  4681  2985  6129  5109  6691  5614  885  922  2703  3989  290  3302  607  171  6944  6848  5749  3963  5873  334  3505  1645  2845  2770  1801  6459  4009  1925  6106  3262  2292  5930  2426  4080  97  1715  6693  2706  3920  4729  4961  5920  1957  5290  4142  1594  868  3884  849  266  5730  1927  2593  4274  1440  6407  145  3163  6626  1494  5273  86  3782  3317  82  1682  6876  75  5353  1970  6423  1502  947  347  7089  2709  4997  3311  1101  1992  389  1725  6196  53  4422  6606  5741  3982  6831  1564  6268  5361  134  215  1248  5250  5607  882  4417  201  3137  1981  3996  1401  3886  5517  2317  4383  473  1490  6941  1756  3399  5270  6552  6240  2788  5724  4204  6280  1076  5338  3715  5095  4552  3341  6829  1870  5918  1508  2441  3079  2083  4364  1034  1983  5561  4906  5664  6582  2140  2365  6637  1654  5569  1584  3408  492  6740  4094  7040  4895  270  7005  5407  1619  3758  1467  3336  5962  6934  2334  6255  2285  3612  6110  2750  2874  715  411  6733  4722  4349  4215  5181  6185  5390  4807  2033  5339  5999  5427  3981  1304  5790  4294  1808  3008  7023  897  5513  6358  5225  4000  4141  5606  3650  2694  2105  912  242  810  575  5897  3653  5536  6854  5293  2119  1168  2569  4730  1339  4872  5592  5639  643  3550  4309  6422  2110  4935  3530  5538  6892  2003  5018  6561  852  355  187  3762  4248  3333  6349  4540  3741  5759  1414  1950  3531  4688  3698  6585  754  3171  710  1914  2429  4612  5263  6880  7110  5188  1615  2377  5723  5200  6969  2486  6989  6635  5057  7156  1753  2383  6747  300  1895  5533  289  1289  2581  6244  704  2723  5835  3917  1744  4777  3151  6352  4604  6453  3296  6302  6883  4038  6718  169  2848  5140  4885  2603  1362  4879  6142  2271  2062  5574  4819  245  5861  3722  5674  495  5591  566  1251  2961  6014  1007  2692  3367  3078  1257  200  308  4673  1317  778  1857  3909  6089  4278  394  4695  7100  4037  5662  6580  141  1  4576  214  1868  5611  944  3419  2456  6986  3177  3526  2253  5940  4153  5015  3187  1695  4367  6777  2817  1525  4308  5504  6338  3133  4595  1775  7131  6793  1911  2844  3295  4829  2107  1297  5832  182  3774  4623  1755  4888  4751  5892  1865  2072  5334  2798  5280  417  2658  4685  2654  4609  6048  1724  1450  5612  2228  6192  456  4971  5442  3248  4108  5683  5077  4840  1783  6471  3694  2125  940  2793  1404  1217  356  6520  3337  6136  5986  3458  6668  3582  1669  3595  4151  408  5034  6553  7115  1351  190  5387  7058  6161  4750  3401  5121  5195  1803  5634  1500  4619  807  6518  1138  2201  5234  4686  156  2341  5547  6716  5135  708  5303  4835  6750  7012  5827  3402  5041  5783  3434  4260  1846  4152  4625  4825  2108  5858  5161  3870  1303  2944  6473  6339  3461  6721  3849  4696  6070  4563  1642  4772  6720  2175  5048  7126  939  102  1523  6544  3751  4018  3974  5516  5623  1920  2916  1234  1940  3096  4406  6778  3087  4776  6186  2274  2422  5180  5676  3085  5176  5244  6433  5400  2828  1063  5079  4433  5452  4475  2197  2479  5500  3361  6177  2335  4543  4573  1632  5278  5460  5934  830  2574  5766  2227  3395  5147  900  5369  6564  1941  1011  6319  5306  4470  4624  7094  2934  3433  4541  1399  3014  777  1582  4033  5643  2288  2897  4631  887  1088  1707  3235  4574  3727  5630  4100  1187  2739  4160  5483  3707  5343  1597  6586  2309  "
     ]
    },
    {
     "name": "stdout",
     "output_type": "stream",
     "text": [
      "1095  5239  59  1472  6768  1183  5748  4791  4992  219  3640  3440  4933  3913  6667  1096  316  5581  3845  719  6486  5967  3586  2495  632  6023  5284  4646  5508  3190  5262  1241  2786  4418  322  2224  3076 \n",
      "C IS CURRENTLY: 71692\n",
      "doing: [1, 1, 1, 1, 1, 1, 3, 7]\n",
      "MADE SZ 2\n",
      "MADE SZ 3\n",
      "MADE SZ 4\n",
      "MADE SZ 5\n",
      "MADE SZ 6\n",
      "MADE SZ 7\n",
      "MADE OMINOS\n",
      "MADE DICTIONARIES\n",
      "NEED TO DO 1586 TOP-LEVELS\n",
      " 3513  1316  4621  4811  4460  1333  3485  3120  2564  3170  2126  905  3064  176  1469  1881  4223  1481  3108  3308  873  3929  4715  2835  354  1845  2648  3093  4799  4954  2202  3213  2162  3200  2172  3126  4629  1327  1588  1144  3841  1374  4489  589  782  1616  1835  3286  4122  3246  617  353  430  5059  1329  3445  4159  4507  1331  3191  1127  2071  5056  4758  3377  794  1683  4767  908  845  1705  2773  4150  3825  5011  2765  3464  1648  682  4781  2787  4832  642  2862  3480  4154  1510  2671  2571  917  261  1102  4747  2414  2809  4783  5013  4793  461  4071  2613  4025  776  2664  4091  586  66  1488  3810  2674  4400  3524  1158  2325  2665  4740  3121  3327  1527  396  256  1136  1201  3821  2045  1141  592  973  1052  1418  2661  2524  3797  763  3487  549  2841  3629  545  660  1475  4787  453  1985  4851  110  3482  2615  4006  3058  4201  981  1150  2996  1349  4534  1286  3914  4972  899  1779  3864  2767  4900  2186  1722  1417  1634  2277  348  736  3451  4268  1179  931  345  742  4313  1348  2170  3398  4458  2655  730  1719  2458  3446  732  2428  1703  2636  941  2075  2399  1003  1536  3160  832  312  751  3022  3466  276  3493  602  4259  2113  4436  2404  2698  2926  2682  1072  2826  624  3738  2220  935  3413  3691  2947  3868  4940  3164  2347  1638  5004  818  372  1457  2932  4555  433  4714  4720  2985  3027  4539  279  2778  368  1381  2541  4119  4147  2675  922  3908  4182  4439  3347  3754  2213  650  2166  3040  2129  4501  455  171  4814  4425  750  334  2089  641  3719  2252  1645  1091  3928  1496  3954  426  3003  1098  2845  3926  2485  3587  577  2256  3420  3566  4968  3955  1637  3374  4133  4009  471  4016  1177  1167  1759  3107  4179  1802  3658  1118  3271  3770  4376  4538  3938  1782  1252  2975  4080  1449  2999  4051  2344  2352  1740  3920  4729  1018  2353  4291  739  333  428  2179  1957  2154  2976  3747  1607  254  628  185  4055  3854  3291  3932  2022  2245  421  1958  2545  4993  3114  3253  2593  4274  1157  3343  1440  286  2707  3150  3682  4910  554  1441  346  2413  3823  2914  2871  2971  3317  3655  2143  2312  3389  587  3790  4769  3668  4981  303  2123  3315  3474  4351  883  1492  3215  4761  594  613  1988  2081  947  3669  3392  4483  1698  4187  949  1551  4630  2389  3311  1543  540  1875  1896  952  4978  1939  3744  5026  2030  222  562  646  1514  4319  498  3030  3576  4120  2800  1690  1271  3972  4985  3982  4876  1564  215  4219  391  4417  542  1565  2106  1261  2967  1818  3685  4712  3289  4090  31  3789  4241  3886  1454  3036  1513  4249  1326  3583  1060  1170  5019  4693  230  1545  2178  2225  4995  2956  4453  1879  513  326  248  3182  1420  1520  1699  2935  2461  3125  4273  2146  3651  4794  1188  3615  855  3453  2549  506  4562  3865  4204  2174  2085  3745  1076  4959  996  1094  2138  5054  2617  2840  961  2645  3771  1174  2679  2859  463  4365  3742  3341  438  3390  656  2803  3639  2451  4974  1670  3730  1372  3079  2083  4364  909  1034  1579  1589  569  3379  2423  728  2877  747  1745  2405  3839  1471  929  253  1498  2552  3990  4585  2931  1542  3540  4441  3759  452  2415  3692  202  2247  44  324  2825  2200  3143  3901  3794  729  4094  858  1800  901  1806  3813  647  1894  1367  4114  4466  4149  339  1547  1840  800  2248  1027  1467  3336  1485  379  2334  4077  3844  2285  118  3612  1223  3743  4057  4704  826  1182  902  2750  3428  4014  904  4498  4499  790  1346  4894  1343  4228  2356  1732  4497  2508  3479  3822  4118  2895  924  1128  3236  4481  3772  5002  735  3705  1239  2033  3468  4516  1285  4356  4620  1067  1304  1657  1014  1310  2465  3881  3606  3557  1413  26  3800  2095  2856  4098  387  4863  823  440  4086  585  2554  3157  3154  3473  2438  2096  4990  3988  3006  3934  4404  4478  1356  1972  60  2544  1277  2781  4924  1431  2155  2592  1785  1585  3869  3417  2857  295  2694  3650  242  2246  189  775  2147  398  4042  208  896  3475  3829  2100  1254  1838  1649  2119  3365  2579  4048  1339  3725  4872  2799  3201  1521  2427  2110  275  724  3592  4869  3298  938  3775  3128  323  247  4185  4700  3463  3656  3642  3077  2540  406  5018  683  2223  232  994  1243  4788  2948  749  3130  1149  1480  2891  2751  814  3373  3148  3037  2669  3034  4946  4173  3752  1809  2911  1482  4808  1192  4395  4800  1295  2504  2037  4041  2680  3531  3973  3094  4785  2369  3278  442  2489  2281  546  1219  3527  1075  4446  2685  4803  2904  2267  4285  383  710  330  3834  1489  3863  4132  4759  2165  3054  4949  36  2429  1711  2118  415  2133  1030  4442  3435  3285  4975  2222  714  1478  3483  4864  3381  3672  4401  3807  1279  4103  4678  2883  2854  2383  3229  3600  1889  4763  300  4267  1895  289  2094  3267  3280  2287  3423  2139  690  4194  4314  779  3002  252  4454  921  835  3896  2723  4081  3915  4666  3962  727  2046  3009  803  3551  3620  2744  3306  3891  2310  3808  4420  4739  4604  1723  2693  5014  3296  3371  264  4254  2340  984  153  4908  4190  4013  1085  1347  3625  1746  2402  4032  2004  3733  484  4943  2368  3396  1965  169  2185  1956  4833  1089  4262  4885  1458  4653  2603  149  439  1362  2062  529  63  472  1004  1729  557  4819  2157  2167  4487  245  2474  5017  1635  4138  2946  2057  2961  3367  3405  150  789  4451  2471  4855  1890  3632  175  4332  2031  1278  2159  4673  2276  3538  1292  3491  3251  543  3090  4264  4305  172  4883  3647  583  970  3831  4275  4904  2238  4211  942  1574  450  4277  3533  216  1  1511  2714  4576  3584  4191  2796  3939  5025  4566  3419  2176  1108  3088  5001  1173  3998  4951  3041  3303  2456  3177  3356  1568  2719  3189  3239  2955  2017  1224  2684  2374  2602  1742  4153  3604  2237  2066  950  4905  3105  661  1497  1341  4430  4178  2792  1132  1775  1561  4205  1541  2568  1989  2844  3307  4996  3646  4626  2523  2382  4962  3162  407  1181  3313  2468  2889  3641  3086  4622  3774  1083  2753  3703  4135  1093  1363  2112  2878  4751  4271  4022  3394  3277  1865  2072  2330  3873  4015  1229  2734  3933  3211  2150  2244  1065  4330  2762  1518  417  2696  2699  4266  4711  1156  2521  2940  3895  891  3300  4449  1212  3438  842  4784  1434  884  1450  1344  1913  2642  626  770  364  1180  2069  4104  4679  623  1388  979  4590  678  1203  2546  2815  3596  2455  3118  3912  338  1592  2013  4840  2390  4780  767  124  3721  4036  267  791  2125  85  940  3425  3781  798  4878  4764  3459  5039  1773  3717  1185  1483  1422  3095  194  3502  3591  4789  233  1709  234  2173  3970  758  1669  3512  1222  959  3112  2282  4654  1737  3281  2623  4659  3637  3802  2304  257  220  651  943  1867  2278  5034  588  4643  2604  1663  4938  190  1428  4474  4362  4750  4976  228  3401  1165  2373  2472  2240  179  2858  537  2713  4484  3013  1848  1500  4689  615  4619  3383  2263  526  989  2208  4200  807  174  2453  1036  1438  2588  4230  1046  1453  1176  3083  3621  4488  983  1196  2313  2360  633  2478  520  895  5046  3811  708  158  2530  1741  3283  582  2493  4917  1557  1869  1103  2599  3764  1495  2997  4202  3980  3255  3442  4831  4232  2044  1047  4242  4818  490  3402  4649  479  828  1280  4260  2688  4825  3362  2019  328  2108  3535  1912  3456  3026  2994  2876  2741  3897  3870  977  645  1373  2337  2830  1966  4450  4651  4901  1302  441  2711  4157  3657  4703  1681  2124  3849  4290  231  550  725  4563  3046  4455  302  1178  3214  1552  2058  3410  225  224  2789  1360  2899  213  2393  204  769  4227  1844  4284  4061  4963  3751  731  4018  3736  4168  331  2776  3269  985  1328  4922  1234  3568  4374  3616  4406  1133  3977  2120  1960  3579  1621  1145  2274  871  3072  2953  3224  4607  282  2216  2264  2972  853  3085  3581  4558  2188  801  2990  4512  1575  3819  475  2828  851  1804  744  2570  226  1419  4721  43  2729  1033  2992  4889  1268  2470  3471  604  3956  1236  4524  4939  2027  3018  4986  2476  3361  702  4345  3310  291  2529  3169  3416  1225  3153  1394  4952  4543  281  2023  4573  578  3519  2279  1519  3882  2163  2594  1641  3547  2386  4335  164  4579  3614  2227  2917  4684  925  4708  4565  2641  2193  900  1878  3941  4221  1313  2982  2514  1850  159  3209  2492  2411  2445  4467  926  5031  696  2158  3948  2226  2503  3633  2392  1847  2214  3141  4011  4639  2196  4134  2078  2362  4860  5008  4359  5036  836  644  4792  2086  2818  4065  211  1567  3465  3654  332  2407  299  1207  198  272  2897  4631  3015  3827  887  1088  1627  1266  1653  3565  3235  4574  374  443  4824  600  2232  689  1943  2480  4493  3089  4352  2122  3135  1314  369  850  4312  2837  4295  2782  3205  4092  4881  1935  4388  530  1270  1066  2586  1936  2099  3448  1472  675  2733  1300  1183  3631  4233  3574  4798  3329  2034  4101  3250  2375  2577  2181  2716  3514  4842  4791  991  219  351  2206  3890  2528  1905  2378  4380  259  3053  3504  4933  1099  3860  1837  4180  1096  3123  2261  2164  1731  4084  5028  5030  316  4749  2142  809  2387  381  3599  719  4537  1427  813  1125  2331  1081  3232  3561  4146  2242  1025  2367  2543  3820  632  1012  2298  4183  3969  4744  2417  4646  420  2928  2055  2786  3892  4418  2440  3644 \n",
      "C IS CURRENTLY: 151052\n",
      "doing: [1, 1, 1, 1, 1, 1, 4, 6]\n",
      "MADE SZ 2\n",
      "MADE SZ 3\n",
      "MADE SZ 4\n",
      "MADE SZ 5\n",
      "MADE SZ 6\n",
      "MADE OMINOS\n",
      "MADE DICTIONARIES\n",
      "NEED TO DO 713 TOP-LEVELS\n",
      " 1704  306  2111  2381  2896  2126  1265  905  1881  2885  2882  2284  2597  1845  3093  2300  563  1451  880  2562  671  721  2886  3073  474  2951  589  782  1835  1871  617  353  797  3007  2730  79  184  1780  2071  2433  845  733  682  2862  974  917  1959  1102  2809  1512  1146  2114  957  2664  1488  573  2867  2506  2624  2229  1505  1201  1924  1873  763  1240  130  1475  1062  2996  525  2922  2767  128  348  831  736  591  860  2491  2384  1976  2428  911  795  1536  1938  846  191  1677  2380  2443  3022  659  1074  1465  2113  2404  2698  2926  1608  197  1933  2826  624  1049  1786  614  1638  612  2932  2257  433  2747  1652  3027  279  2541  885  2221  1604  672  650  115  418  1973  2252  1091  1710  2077  2117  2485  3035  1637  507  1925  1288  1655  707  1118  2269  2915  2156  1449  1858  1382  2831  2999  2706  1560  2352  1740  2558  333  428  185  1702  1594  1738  1644  2022  2245  2687  1109  816  2707  2914  2971  1233  2137  2689  2839  3010  1988  1502  347  1639  1698  2640  2293  540  2487  687  2566  498  745  3030  134  2239  2967  1981  1129  2649  1338  2345  2557  1031  2056  2851  1879  1420  1520  2505  855  847  786  1814  2319  1668  2085  2920  548  2617  2840  1611  761  251  2679  1684  1250  438  1854  1820  2960  2803  1670  2249  1034  1625  2365  1963  1498  1161  2536  2931  1542  1322  858  1800  647  1367  2724  1619  1547  1840  1027  2702  1485  2068  2361  1223  1346  243  535  317  1084  676  2704  108  1128  755  144  2128  1583  1657  1979  1908  1310  2757  2620  2095  1153  1281  3008  585  622  834  1679  2516  3006  897  337  2101  2544  762  2592  1785  1204  775  1815  398  1019  2100  1254  2952  1812  380  1649  362  2012  1595  2299  938  1380  323  247  631  3077  2379  652  2223  1243  2948  3020  2537  2751  541  45  1402  1334  1192  1950  2680  1039  1078  2489  743  976  1075  2685  2820  1489  3054  2429  1160  1711  476  706  2038  2091  315  2303  1409  841  1215  1050  1889  2401  2047  1289  2094  2808  1617  704  2189  3002  921  2723  1944  1718  2141  819  2635  1827  1544  2499  2744  898  534  2270  2584  1587  1155  2693  157  2327  221  153  1370  1085  2368  2394  3081  1956  1945  2084  63  1456  3065  501  2087  2262  2474  210  1635  495  1726  2810  2710  1787  1596  1278  1264  583  970  1628  2238  2945  953  1  2395  91  2500  639  1123  244  1173  2598  2864  488  1897  2955  863  1742  2215  560  378  3031  2397  657  1256  1716  1026  365  1561  2148  825  2107  509  3056  1864  616  1961  2329  874  1058  2268  2855  820  817  3086  2753  518  2717  866  3049  2072  2330  1754  1647  1855  2798  2734  1770  1359  838  1518  1200  2320  1147  1724  1344  1601  410  2942  364  1180  2460  2815  1205  1902  2923  2390  1783  1856  1507  940  2067  25  1028  894  1773  1665  1483  1422  458  1163  1919  367  758  278  1737  568  1397  651  67  1578  3029  190  1424  2373  2472  536  2738  615  878  2263  2315  2234  2453  2020  2201  1336  2588  1516  3083  1391  496  1630  2873  1113  1772  895  158  464  1103  1280  133  1880  3026  2477  645  1790  1373  2830  1061  605  1978  132  3017  1631  1681  2533  1550  1903  2275  2910  2981  1360  3048  769  414  1509  1844  601  1996  806  731  2829  877  2905  2776  1328  1920  3068  2881  1184  2908  3087  1299  1455  1952  1408  1415  2972  1860  3085  1573  2728  2561  934  2409  1193  1063  1804  744  2570  1022  43  1033  2660  960  2197  2041  604  2027  3019  2171  422  1282  1491  1321  746  2386  1792  1432  2152  2049  1416  1562  1874  1057  1987  611  2514  2445  1941  2343  2442  538  1847  833  2196  2000  2078  457  1706  1493  1162  2818  1524  1567  2898  2407  1622  2231  2102  1758  272  2897  2892  3015  1799  3045  1707  1653  2015  2667  2385  2296  2410  600  689  920  3089  2739  480  879  1020  1021  2837  1935  2005  530  1270  1066  2350  1472  2198  1553  811  2375  1139  1692  1294  2092  1883  1398  1378  1967  1099  1096  531  2261  2164  206  32  2850  1659  1009  1125  1931  2488  2367  2766  1140  618  1916  1038  2346  2907  2970  2663 \n",
      "C IS CURRENTLY: 247732\n",
      "doing: [1, 1, 1, 1, 1, 1, 5, 5]\n",
      "MADE SZ 2\n",
      "MADE SZ 3\n",
      "MADE SZ 4\n",
      "MADE SZ 5\n",
      "MADE OMINOS\n",
      "MADE DICTIONARIES\n",
      "NEED TO DO 214 TOP-LEVELS\n",
      " 1090  131  1131  207  542  74  905  876  31  597  625  335  445  803  563  552  327  511  671  721  752  898  720  559  513  441  1155  157  984  221  855  154  681  390  122  733  416  1094  939  102  642  162  881  280  966  514  557  41  679  495  909  1034  962  296  709  728  90  844  717  256  205  258  1079  212  200  308  871  655  565  778  543  545  660  202  596  466  192  110  475  981  1150  851  141  1  30  556  91  1027  1033  639  352  1123  860  1032  693  919  152  723  648  553  570  711  422  950  51  578  312  676  301  108  1074  1105  1053  658  89  654  151  144  735  342  848  788  614  78  112  1014  407  109  820  279  1083  368  833  703  836  585  290  1112  607  777  337  481  34  417  1091  178  674  627  482  810  343  528  297  398  575  707  208  505  623  456  889  274  689  653  879  698  382  724  798  1018  1044  675  635  628  185  20  1163  52  849  406  852  232  991  351  187  539  487  257  220  1099  460  45  32  1075  613  1125  325  330  691  615  1025  618  399  361  792  321  73  423  580  1038  498  305  315  349 \n",
      "C IS CURRENTLY: 299256\n",
      "doing: [1, 1, 1, 1, 1, 2, 2, 7]\n",
      "MADE SZ 2\n",
      "MADE SZ 3\n",
      "MADE SZ 4\n",
      "MADE SZ 5\n",
      "MADE SZ 6\n",
      "MADE SZ 7\n",
      "MADE OMINOS\n",
      "MADE DICTIONARIES\n",
      "NEED TO DO 1577 TOP-LEVELS\n"
     ]
    },
    {
     "name": "stdout",
     "output_type": "stream",
     "text": [
      " 1760  4495  306  4621  1090  4473  4811  2381  4517  3320  2126  74  3064  2912  1461  2502  3335  4223  4782  2885  4398  1337  2882  3181  1273  3308  2284  4411  2805  975  1845  4799  2300  1451  1929  4848  880  1791  2735  3213  2162  4912  2886  3139  3397  1195  3509  284  1327  1714  1144  2009  2951  4489  685  4599  3661  3246  4310  797  353  1446  3887  430  1329  3445  4129  4159  79  4701  3191  4174  4377  4614  794  2433  1683  845  733  3825  416  4911  2525  2787  4832  606  642  162  240  2571  261  1102  2103  4697  514  2414  2809  3195  1146  4849  4956  3376  4269  4793  1991  3783  1135  957  3156  1410  4224  3524  3843  512  2325  95  236  3121  3327  3552  2624  256  2076  1712  3780  2661  592  1876  620  763  2082  135  125  2841  3629  130  660  1475  4671  2575  453  1985  3284  3119  1968  2053  3058  4201  99  2996  525  899  2132  556  4112  1779  3864  2302  2767  2186  4900  2277  348  831  736  860  4734  3497  3965  152  742  4407  1043  723  1348  3842  3735  1719  1484  982  2384  1976  4115  2075  2399  3060  1003  3110  3160  2324  832  1008  191  3942  2380  3022  659  1368  3493  4856  3216  3312  2691  2323  1853  3900  241  1608  1933  593  654  2937  624  4340  2220  142  3193  4810  935  848  2035  2947  956  3691  1055  4500  4940  818  612  1457  2257  2932  677  2747  1652  3549  4539  3323  279  700  1381  3257  2241  3146  1563  2675  3220  922  3908  3754  2166  3302  3040  373  171  455  4316  3450  4814  2089  4403  641  3928  1091  1710  3003  551  1098  2845  2077  3926  493  3051  2609  2998  3035  914  293  3566  859  3374  4133  3070  297  2292  3149  1548  1655  497  3680  2184  1748  1559  274  2187  3271  3770  4376  2156  634  2403  2821  1430  1757  1382  2999  2706  2010  3484  1437  4729  1018  2558  3898  4861  1330  2154  635  2987  185  3188  4142  3291  3932  1134  4661  2022  4001  4710  4164  1927  3525  3253  166  4274  1898  1054  4476  3682  4060  3163  554  2413  3635  86  126  2871  4556  4245  3272  2913  2312  3389  3655  3501  1656  82  2123  3315  4351  883  2137  701  4761  668  510  1988  2462  1502  3669  3392  1639  4483  2709  2697  2807  4024  4311  2527  4187  4630  1551  523  1059  1580  2098  504  3311  2293  3358  4063  4064  1875  3179  3196  3564  389  3443  3744  1392  2030  222  646  53  2135  2487  4422  3806  869  640  502  498  745  3030  1423  3293  3522  4368  2348  4773  4043  1629  4531  134  3403  4172  249  3227  4417  4928  542  499  201  2106  3685  3289  4090  1981  3996  2177  1129  1385  3036  1338  3375  1189  1117  2317  4468  1689  4553  1060  4272  327  2555  1164  4693  1545  3652  2056  2956  4453  4765  1955  4969  248  1420  2989  2064  447  3125  4240  555  4929  1188  4044  4298  3615  2919  1613  2836  2788  4434  1517  1558  2865  3865  2174  167  143  4184  3613  2736  2617  2968  2651  761  3700  4365  649  3390  3510  1870  4028  4674  2451  2418  3266  699  3730  3079  2083  55  4364  4906  1579  155  728  3457  2073  4030  3385  2877  1745  2365  3839  2644  1471  258  205  1498  3961  2513  4702  2552  3990  815  3516  3759  452  492  3916  2827  4514  2247  4882  192  1800  901  1080  1806  3648  4114  1367  4895  1619  1547  765  1467  2702  1485  352  2068  4589  1323  3844  2285  118  2361  1223  4743  570  4057  4704  2116  2750  4014  100  904  81  1555  2595  3710  2768  4176  19  4349  3326  3554  4215  243  317  686  1084  3935  163  108  2498  3494  2032  4786  89  3822  3848  2895  924  755  2450  144  1239  2033  400  1253  1849  4564  3712  4356  3699  4921  3038  1067  3981  1304  4569  1650  893  1979  112  3033  3952  3557  3363  3800  2095  2856  3414  1153  350  3489  440  1823  585  2725  834  2371  2096  2438  3866  1972  60  1277  1051  2781  467  4924  4000  1431  238  2155  2936  3704  2592  1785  4779  4873  2857  1092  1226  242  3134  810  189  2147  4181  1815  913  4042  805  3475  2672  4650  1254  3092  3653  2801  4426  3801  2195  2579  1995  4048  3818  2321  362  3567  4872  68  2799  2950  3201  4770  2110  4002  382  724  3467  3592  4869  2299  4935  3775  1111  4594  3530  4056  199  995  4185  2366  652  2223  852  3063  3732  1243  3958  4788  1149  3333  2314  2751  814  3373  487  3924  2074  3925  2333  3304  3718  3741  4540  4229  4946  3796  4896  1402  4918  3115  3975  4657  2504  3531  3366  2355  4891  2489  976  1075  3773  4255  4843  2904  710  330  4923  1489  4949  862  1914  4394  3024  4397  680  629  2118  2551  4613  2133  3792  1615  3124  423  1106  2222  2091  3879  1478  4864  2303  841  3805  3381  1999  3807  1993  1805  1895  4137  289  4724  1395  1899  3412  4804  2065  2581  2481  704  3423  4194  4314  2189  835  1944  4964  3551  2633  819  552  2754  2283  4393  3378  1544  2995  3306  534  3111  2270  2584  157  3299  2327  264  3161  4741  3218  2740  2136  4013  2769  2402  4032  2004  3733  2368  3441  1965  169  1956  1089  1393  3338  3951  4384  129  3221  4262  4885  937  2084  2603  783  439  2963  1004  63  472  2454  557  2272  2157  2262  2474  4559  210  4093  1591  495  1822  3830  566  2906  1251  4138  2946  2057  2692  962  209  2710  2814  1257  1405  4008  308  4673  3491  3251  543  4305  4363  1982  970  4275  4698  394  4695  2590  436  793  3737  450  4399  4944  3210  141  1  3643  2434  4576  1868  2395  4361  944  3987  639  244  1923  2043  2598  3542  488  2456  3177  3356  3526  2719  2039  1777  3239  2250  1954  1224  1499  140  3851  1077  3991  560  3187  3031  1695  2606  4905  177  3165  123  2363  4561  657  1256  2643  661  2006  2683  713  1716  1947  1350  4532  1341  3749  4178  4143  4699  1132  1775  3476  365  3731  4069  2863  4205  1937  2148  3838  3646  4078  2523  986  2382  1181  2496  3145  2585  3422  2339  4853  182  4529  3774  4583  1083  4622  1755  4888  1093  1363  138  2112  1789  1283  4088  673  692  3277  2072  1754  1647  3478  4795  1359  2150  2244  4330  599  2699  2696  4266  4718  2940  891  3300  1332  4449  1212  1452  4549  3486  2842  2052  2654  3208  2589  1344  343  2925  1180  2069  4059  4104  4111  889  4679  456  1388  4834  2546  2455  338  1205  3824  1068  1633  1651  2923  3967  2390  3721  3739  4444  3729  360  4709  85  940  1462  2067  1377  2629  2793  4878  1028  894  2755  768  3717  3543  4328  3684  4610  4691  3502  4029  4131  1932  3206  4690  233  2459  234  2173  3582  1669  3602  278  2866  4603  336  1291  3923  3595  3281  533  4654  2623  4659  4588  3802  4151  408  4045  1867  2278  943  993  3506  588  3946  2604  4850  2608  4752  4938  1351  3067  4927  1428  4409  4750  1424  3401  2439  2240  2858  4484  2713  325  2060  2745  536  2738  3858  2993  3383  2263  340  4862  2315  3330  2208  1685  4200  2018  4668  1202  1364  174  3560  371  2453  2020  4677  2088  3791  4536  3000  1046  1453  1176  2036  3384  1391  349  496  1196  839  1600  2478  1113  3437  2677  895  1249  3811  708  158  3283  464  4286  4820  4195  3217  3764  1495  4242  4818  1429  4936  4649  3434  946  479  114  1846  2688  4152  4625  4408  4618  2029  2191  1122  3535  84  738  2080  977  4261  752  645  2337  1750  3778  2944  3099  4703  132  3017  3657  2124  2909  3275  3461  3849  2533  3681  4290  4563  3005  1609  2974  3720  1642  1178  2254  1882  1087  3578  1593  1360  213  4346  4966  2431  4284  1996  561  806  2824  4170  3751  1258  3674  331  4486  2509  985  1328  2639  638  3429  3872  679  1237  2916  1940  4327  3568  4177  3994  2621  2881  1133  3087  1455  3579  1621  1210  3101  717  2130  212  1272  871  1408  3072  1531  760  4914  282  4669  853  1214  2188  1573  3393  3662  2048  3664  4110  801  2388  2728  3352  3919  1013  851  637  2764  3601  4815  1804  226  1421  4721  4475  2838  3424  104  4859  2660  999  2197  4083  3199  3471  1236  3018  998  3836  2171  857  3361  711  1086  291  196  3883  2023  4694  1632  2279  2338  255  3882  1282  2594  3723  1641  746  2386  301  164  3547  1190  4097  3223  4335  2152  2574  2049  1006  3028  3395  136  4708  2964  3225  1220  1284  2982  2514  1941  459  3880  538  121  2158  4639  2503  2214  4011  3080  3355  1001  4660  4886  4095  3779  1171  2464  3348  4624  4359  836  3556  1238  4067  "
     ]
    },
    {
     "name": "stdout",
     "output_type": "stream",
     "text": [
      "1537  4884  906  1477  2016  2235  1162  2086  4541  1399  3142  1567  3654  1298  4448  4169  2288  363  4121  1758  1037  2892  3015  4631  1799  3045  887  571  1088  1266  3565  3345  1379  3369  3074  4100  2296  600  827  1187  3539  689  1943  1526  2480  2565  2626  3004  4140  4352  1747  2686  4728  3707  850  4004  1728  2266  2309  4465  4092  4472  1095  4388  1407  2005  3287  1270  1066  2350  1788  3448  59  527  2297  4903  811  3631  3541  4827  3329  2034  4101  2375  4742  1139  3514  3627  1692  4791  69  2900  991  351  3890  3640  1398  2378  1967  3921  3053  460  263  1406  4447  2028  3123  4089  4222  316  385  2512  2850  2142  809  2424  4941  2902  381  3971  719  1009  781  4735  1259  4774  1474  3561  1866  2192  3237  928  812  2766  4713  1012  618  4183  4360  1390  4530  4391  4370  186  1035  2772  1042  3190  2928  1038  1241  2786  3892  2907  2440  2663 \n",
      "C IS CURRENTLY: 486700\n",
      "doing: [1, 1, 1, 1, 1, 2, 3, 6]\n",
      "MADE SZ 2\n",
      "MADE SZ 3\n",
      "MADE SZ 4\n",
      "MADE SZ 5\n",
      "MADE SZ 6\n",
      "MADE OMINOS\n",
      "MADE DICTIONARIES\n",
      "NEED TO DO 672 TOP-LEVELS\n",
      " 2800  633  2478  1279  1760  2677  1629  895  1316  1993  491  708  160  1248  1333  1862  1953  2134  2493  712  1671  1869  2564  2563  289  499  2553  1495  1570  1461  285  2054  2255  2502  2581  1881  1693  1481  318  1636  2139  1385  1338  873  1273  1513  1846  1944  2317  1718  610  2141  328  1122  880  552  2162  2754  1170  2637  1164  978  1827  1545  2499  1412  1386  2419  1569  1714  1175  1374  513  2070  1420  1699  589  782  1302  1466  1978  2457  2584  412  2461  621  2763  264  516  231  550  725  1590  1903  1609  2136  1613  786  1479  2183  2653  2836  2058  2254  1767  2145  213  794  2004  908  2085  1705  414  1076  1447  2765  1509  1956  1089  939  102  1393  2736  2024  1459  2848  2617  2840  280  1611  1743  601  917  251  561  2651  2084  2573  2722  783  731  2777  2271  2809  1146  840  2483  649  501  1230  1700  461  948  574  1328  2803  2418  2444  776  1135  1635  1822  1372  566  1872  55  586  462  1410  2726  1626  1892  1133  2681  296  789  2120  344  2140  2506  2325  2665  2710  1299  1527  1952  1257  1210  1471  1686  1833  2229  253  256  1610  2130  1680  212  1408  2159  1317  1542  1857  2422  2082  1240  2415  1264  2841  2188  660  2048  970  250  2575  2700  394  1628  596  2200  2372  1322  1575  729  793  127  858  901  2715  1349  851  2828  1619  105  1  1547  366  1804  1840  2434  2570  1868  2395  2838  1722  1033  1634  379  1137  2660  960  2197  273  2479  1179  693  152  488  829  1043  998  821  857  1777  2039  2116  902  2605  715  2017  1976  291  1555  1742  2595  1077  1394  2075  2215  2636  2243  19  2823  2023  2811  846  243  2606  1599  1842  427  1275  2291  1525  676  1696  918  2594  405  1425  1497  2508  108  602  1315  2670  1716  830  1465  1432  1350  2152  2404  1262  2227  2785  370  1674  1128  593  1775  2641  400  1793  935  1049  1253  1220  1541  788  1849  1911  1989  2128  2844  956  1832  2107  78  1657  1850  1638  2347  818  372  407  459  1011  1297  1457  1839  2343  2442  2465  2585  2757  2339  1688  2628  817  1652  1811  1847  1083  1153  1755  833  1951  1093  1363  2675  2000  1227  518  2703  1171  1540  2647  235  916  1238  672  1823  2725  2316  1796  290  650  1493  1679  1855  2016  1984  2804  1770  1399  1359  373  359  1065  1567  777  1356  2101  2150  1582  2244  2762  1528  2025  2521  1994  2781  1091  2775  2288  426  1267  1211  2592  1206  1037  2448  2494  2770  2485  2842  1434  295  293  571  884  955  1204  1538  1707  2105  2246  1736  775  764  575  1246  2292  2652  2727  805  1019  2100  1177  2184  1734  695  600  1559  1187  1554  262  689  1602  1802  2232  2269  2296  2565  338  1115  1436  2156  2122  2686  1308  634  653  1782  369  988  1020  1728  2012  2321  1856  377  68  2390  2610  2782  1751  2706  360  486  530  85  1407  1462  1595  1377  2352  193  2299  2558  2353  894  1044  1380  1404  675  1926  1114  2586  2678  1439  356  2007  2198  2774  323  2790  635  995  1005  1675  1163  868  1644  2375  774  406  1919  2379  652  2459  2619  355  219  367  1243  166  2687  959  1291  572  1883  1157  1054  2751  816  286  2707  444  2074  2522  1099  1244  2669  1383  524  541  854  588  346  915  86  1402  2261  2164  1663  1414  1731  864  229  1351  2312  1342  2512  2149  303  2123  1907  442  883  1970  1492  2051  2489  1009  2472  386  510  613  781  2240  813  537  2462  947  437  1125  500  804  910  2820  1866  2242  517  2697  615  431  812  878  928  1025  2165  2435  1658  2622  340  402  632  1711  2098  2640  2208  1733  2018  476  618  629  666  1390  1366  1101  2260  1986  2784  371  1896  2453  1305  2832  1035  73  1615  1392  2030  2135  2761  53  1036  580  1535  2531  1453  2772  2055  640  2786  2662  1152  498  1260  315  2440  1423  1690  1271  1473  1826  2313  2663  839  1600 \n",
      "C IS CURRENTLY: 885152\n",
      "doing: [1, 1, 1, 1, 1, 2, 4, 5]\n",
      "MADE SZ 2\n",
      "MADE SZ 3\n",
      "MADE SZ 4\n",
      "MADE SZ 5\n",
      "MADE OMINOS\n",
      "MADE DICTIONARIES\n",
      "NEED TO DO 273 TOP-LEVELS\n",
      " 1316  1249  491  464  1103  1000  289  74  1495  1566  176  285  1337  252  921  1189  133  975  1031  803  1442  563  1194  552  1170  1164  1544  773  534  1400  1116  513  248  227  605  782  1616  195  157  550  786  1479  1178  506  822  1370  681  1552  390  769  1076  1154  682  1089  1611  974  917  966  1004  877  766  948  776  1119  1135  757  495  55  1488  573  239  569  150  1184  512  717  175  1079  1505  1136  200  1017  1584  592  1411  452  172  314  492  1264  1573  583  1475  1100  475  1013  942  1445  1150  851  105  1  1172  226  470  379  639  1137  348  860  320  693  829  648  570  843  1182  902  1086  1499  1555  422  1159  1003  1536  19  535  663  751  1084  661  1321  602  740  1074  1026  1350  1006  1132  365  735  1312  1239  1057  1253  788  1313  741  956  375  718  1024  1014  1297  407  612  1181  1310  121  1058  109  1540  1281  440  673  1238  906  1493  1359  359  481  762  1332  1452  551  1586  493  936  571  293  884  1088  859  810  623  456  1624  1041  1115  1592  1168  653  1068  1020  1486  791  1560  85  170  798  1018  1380  867  1114  1185  199  796  868  669  233  406  1121  232  758  1294  959  1142  1109  539  286  943  460  263  357  1494  1096  67  927  1340  1342  1039  883  87  719  972  1427  668  613  1075  395  813  1259  804  404  1213  615  878  409  812  1551  1309  989  1140  618  666  1366  174  186  321  389  420  1305  646  53  1036  1514  1535  1046  1152  502  1423  1196  1271 \n",
      "C IS CURRENTLY: 1321184\n",
      "doing: [1, 1, 1, 1, 1, 3, 3, 5]\n",
      "MADE SZ 2\n",
      "MADE SZ 3\n",
      "MADE SZ 4\n",
      "MADE SZ 5\n",
      "MADE OMINOS\n",
      "MADE DICTIONARIES\n",
      "NEED TO DO 226 TOP-LEVELS\n",
      " 1113  712  992  173  289  31  835  803  1082  1170  1164  671  780  930  645  284  474  1116  685  412  447  353  555  984  221  1166  855  697  786  390  184  619  484  1094  294  162  548  240  429  980  806  514  1146  63  630  210  1237  757  66  462  909  573  728  344  787  747  1257  717  483  205  310  592  760  549  853  965  987  660  44  324  453  729  110  475  1013  942  981  1150  637  339  1  43  352  1123  244  273  183  522  860  152  118  1223  821  843  702  411  785  422  790  1159  968  688  1003  1008  177  759  317  163  1282  746  276  164  830  241  924  755  771  935  825  283  614  459  1011  433  538  677  26  457  823  440  607  337  60  332  481  334  750  1051  467  1207  674  1211  1098  1206  1037  627  493  469  577  884  1226  242  1231  364  707  695  689  920  1041  1255  1021  767  124  643  530  85  867  739  675  428  1071  1185  254  811  865  774  849  388  406  234  852  223  166  1222  1157  539  286  444  1244  263  554  588  531  1295  206  808  976  1165  613  684  813  437  1287  500  910  710  691  36  340  1263  792  807  319  952  389  1030  598  856  222  646  1176  745  983  841  1215  839 \n",
      "C IS CURRENTLY: 1508708\n",
      "doing: [1, 1, 1, 1, 1, 3, 4, 4]\n",
      "MADE SZ 2\n",
      "MADE SZ 3\n",
      "MADE SZ 4\n",
      "MADE OMINOS\n",
      "MADE DICTIONARIES\n",
      "NEED TO DO 69 TOP-LEVELS\n",
      " 329  124  530  85  66  512  342  542  199  289  499  323  247  375  31  285  494  175  479  266  565  223  265  26  44  110  554  290  1  316  211  455  43  60  157  195  379  447  546  264  550  353  510  376  118  383  404  465  469  36  411  410  560  497  240  260  262  177  317  338  485  63  322  438  449  480  496  276  164 \n",
      "C IS CURRENTLY: 1701788\n",
      "doing: [1, 1, 1, 1, 2, 2, 2, 6]\n",
      "MADE SZ 2\n",
      "MADE SZ 3\n",
      "MADE SZ 4\n",
      "MADE SZ 5\n",
      "MADE SZ 6\n",
      "MADE OMINOS\n",
      "MADE DICTIONARIES\n",
      "NEED TO DO 660 TOP-LEVELS\n",
      " 1760  2111  1333  2376  905  2308  1481  2351  873  354  563  2631  1327  1714  2009  1116  685  2625  1329  1479  154  1664  1821  2433  294  642  240  2671  2571  917  1512  2114  2207  461  148  1991  776  1135  957  1410  2325  1503  111  933  1201  2076  1141  763  1240  130  2700  2575  1968  2490  99  1349  366  1779  2302  736  183  103  1043  2650  1643  1276  982  732  911  2399  1003  2243  1938  846  454  191  312  1599  751  2380  1672  2443  2097  508  1074  2691  241  1072  593  654  2220  1055  1694  2347  1638  368  1381  922  1227  2221  1604  672  2316  1794  650  1984  418  2129  171  824  1973  1645  1496  1710  503  1098  1463  1884  2485  2290  1288  1548  707  497  1167  2184  1602  274  1922  2156  2426  97  1245  1715  1751  2706  1740  1437  2353  1926  1506  1114  2421  1330  254  1942  2545  2593  1898  816  392  1494  2312  1708  2123  2137  2520  701  87  237  1730  386  1988  2462  1502  2709  517  1691  2389  2640  1543  540  1875  161  1725  119  2030  2487  53  580  502  305  1325  1423  1690  1564  1248  1891  1261  597  2649  1218  1031  327  2555  1170  951  2056  80  1520  2505  786  2549  1558  1487  681  903  996  2024  280  1611  961  2645  2679  1293  649  1854  656  1820  1670  2441  2083  55  1579  344  483  1079  1610  1584  815  1542  2247  901  270  1619  1547  1467  273  1143  2068  1032  118  2361  1771  904  81  2595  1159  19  268  686  163  2704  1661  2508  2032  329  1242  1262  1128  2033  1253  2128  1304  1650  893  1014  544  1413  2095  823  440  2554  1679  2438  2708  481  1893  762  238  295  912  2519  398  208  2672  2100  1254  1838  1812  1554  1339  2321  643  1861  2110  275  1111  1005  247  1852  1121  2003  2537  2333  662  1334  1950  2504  1039  1078  442  1219  945  684  61  500  330  2622  409  680  1106  2531  714  1478  2303  1409  2630  1862  1953  1395  2065  2287  2139  2189  1556  1718  803  1819  2633  2283  489  2668  534  2310  2638  1723  227  157  2327  2340  153  2712  697  1347  2004  2185  1393  2370  429  1458  783  439  2454  557  501  2272  2167  245  2474  2211  1635  1468  1251  2452  2710  888  1787  1596  1278  2159  778  1857  543  583  1628  2590  967  141  1  214  1868  944  470  1108  1173  1923  2515  1504  1568  2017  1224  863  2374  785  2002  2215  2066  378  1695  657  2643  1435  1525  661  1365  1497  1341  1132  1775  1539  1561  1443  2568  1969  1403  521  2496  2329  1307  1363  2112  518  866  235  673  2330  1112  1764  838  599  2696  2521  2658  2538  2052  2654  1147  1724  1450  2642  1601  528  1231  770  1736  2652  456  2460  1734  262  2546  2013  2390  124  2629  1377  1217  1185  1483  356  1422  1919  234  2619  367  959  1291  1737  2008  651  993  2604  2258  1907  228  2051  1165  2240  1824  2263  2018  807  2453  2020  1438  2449  1176  1260  983  1196  2473  2478  2677  520  708  158  2530  464  1998  478  384  1047  1396  828  1280  1846  2688  1880  748  2108  752  645  1966  1302  132  2533  1590  725  2653  224  1360  769  1130  1975  1844  2431  1996  561  1258  877  1700  2509  1234  1872  2578  239  1892  969  1184  1470  1952  1210  212  310  1272  1408  1415  1531  282  1573  2357  1575  1885  2463  2160  468  2027  1045  196  576  1275  1282  2594  405  1321  746  164  1315  1190  2583  2574  1701  2193  741  159  448  121  1001  1623  2362  457  722  644  1477  784  359  1567  1582  299  1267  1749  1206  1586  469  887  1088  1707  1990  443  827  1361  689  1943  1526  2565  2122  879  369  1020  1021  990  1095  698  486  1270  1300  2007  796  1183  726  1139  2181  2716  223  2528  1886  434  1406  2286  2164  206  385  381  719  1427  1125  1025  2367  2543  632  1916  186  420  856  1717  1038  2432  2180  2346 \n",
      "C IS CURRENTLY: 1967352\n",
      "doing: [1, 1, 1, 1, 2, 2, 3, 5]\n",
      "MADE SZ 2\n",
      "MADE SZ 3\n",
      "MADE SZ 4\n",
      "MADE SZ 5\n",
      "MADE OMINOS\n",
      "MADE DICTIONARIES\n",
      "NEED TO DO 229 TOP-LEVELS\n",
      " 1113  1279  895  1249  215  160  464  1248  1050  542  499  1265  799  318  597  479  1124  828  1337  252  1218  1273  727  328  511  489  977  752  951  898  284  564  1208  716  326  248  685  1155  264  516  797  430  984  1188  1329  855  590  822  225  619  204  845  733  102  881  966  731  630  649  877  331  501  656  679  495  1324  55  909  1034  1007  573  962  296  789  1158  787  1299  1257  717  1079  205  1136  1201  655  1199  265  282  853  1264  801  394  453  596  127  475  525  1029  105  1  1063  366  1286  556  744  1022  226  470  379  352  1268  591  152  829  702  730  1045  902  737  863  688  19  832  454  535  759  661  276  108  581  713  1053  1026  1072  771  1253  848  788  283  1055  907  509  78  448  1297  926  1083  1093  885  1227  672  834  897  359  891  1207  1212  1206  482  1010  770  374  471  208  827  634  850  68  486  85  382  1018  894  867  739  247  726  194  669  865  849  406  994  219  802  166  749  336  572  816  286  263  86  1192  206  809  872  883  432  381  1023  719  972  1165  386  781  376  754  395  813  325  517  615  431  1025  523  526  504  1140  361  792  952  1305  73  53  580  687  640  305  315 \n",
      "C IS CURRENTLY: 2722700\n",
      "doing: [1, 1, 1, 1, 2, 2, 4, 4]\n",
      "MADE SZ 2\n",
      "MADE SZ 3\n",
      "MADE SZ 4\n",
      "MADE OMINOS\n",
      "MADE DICTIONARIES\n",
      "NEED TO DO 60 TOP-LEVELS\n",
      " 85  170  464  55  365  239  150  199  289  74  176  375  285  175  407  233  200  406  121  252  109  232  133  452  172  314  286  460  263  357  475  440  67  105  1  226  248  227  359  470  195  157  379  87  348  395  320  404  409  293  390  422  174  456  19  186  321  389  420  53 \n",
      "C IS CURRENTLY: 3111682\n",
      "doing: [1, 1, 1, 1, 2, 3, 3, 4]\n",
      "MADE SZ 2\n",
      "MADE SZ 3\n",
      "MADE SZ 4\n",
      "MADE OMINOS\n",
      "MADE DICTIONARIES\n",
      "NEED TO DO 72 TOP-LEVELS\n",
      " 584  68  306  241  491  85  160  55  365  384  199  289  527  78  521  253  318  308  538  592  421  219  265  282  166  452  572  539  453  596  552  327  511  489  127  541  554  588  86  425  105  1  206  607  418  307  359  332  417  237  522  395  217  152  302  536  304  364  507  102  497  371  19  73  380  53  446  358  480  331  108  602 \n",
      "C IS CURRENTLY: 3780644\n",
      "doing: [1, 1, 1, 1, 3, 3, 3, 3]\n",
      "MADE SZ 2\n",
      "MADE SZ 3\n",
      "MADE OMINOS\n",
      "MADE DICTIONARIES\n",
      "NEED TO DO 13 TOP-LEVELS\n",
      " 124  85  26  43  60  66  44  110  118  63  31  36  1 \n",
      "C IS CURRENTLY: 3828385\n",
      "doing: [1, 1, 1, 2, 2, 2, 2, 5]\n",
      "MADE SZ 2\n",
      "MADE SZ 3\n",
      "MADE SZ 4\n",
      "MADE SZ 5\n",
      "MADE OMINOS\n",
      "MADE DICTIONARIES\n",
      "NEED TO DO 217 TOP-LEVELS\n",
      " 464  131  391  249  300  384  173  992  74  690  886  921  1117  133  354  1060  819  721  951  93  716  1116  227  605  441  132  617  555  697  120  154  681  76  794  204  845  733  1076  62  1154  961  601  731  529  840  1004  649  656  766  638  55  150  1133  717  483  1136  1141  655  620  763  660  250  394  1056  1080  981  339  1  556  765  1033  379  639  244  183  931  1173  152  465  723  553  570  702  902  1086  196  667  19  1008  424  759  657  751  918  164  740  508  581  713  830  1026  1074  1132  151  144  735  1197  1067  893  448  718  372  612  459  696  677  820  700  298  350  890  440  585  622  834  94  115  607  897  777  599  332  299  891  762  363  627  1147  242  343  410  770  775  913  875  393  1167  695  274  262  72  338  1205  449  369  377  584  1069  1095  940  193  894  547  199  254  247  458  194  669  403  1121  234  852  367  749  83  487  220  263  357  524  665  753  1192  229  316  385  587  670  595  432  923  1023  87  1165  594  1075  684  537  947  1125  347  517  878  862  523  540  186  321  73  598  53  116  502  498  745  322 \n",
      "C IS CURRENTLY: 4031793\n",
      "doing: [1, 1, 1, 2, 2, 2, 3, 4]\n",
      "MADE SZ 2\n",
      "MADE SZ 3\n",
      "MADE SZ 4\n",
      "MADE OMINOS\n",
      "MADE DICTIONARIES\n",
      "NEED TO DO 72 TOP-LEVELS\n"
     ]
    },
    {
     "name": "stdout",
     "output_type": "stream",
     "text": [
      " 584  68  306  241  491  85  160  55  365  384  199  289  527  78  521  253  318  308  538  592  421  219  265  282  166  452  572  539  453  596  552  327  511  489  127  541  554  588  86  425  105  1  206  607  418  307  359  332  417  237  522  395  217  152  302  536  304  364  507  102  497  371  19  73  380  53  446  358  480  331  108  602 \n",
      "C IS CURRENTLY: 4754653\n",
      "doing: [1, 1, 1, 2, 2, 3, 3, 3]\n",
      "MADE SZ 2\n",
      "MADE SZ 3\n",
      "MADE OMINOS\n",
      "MADE DICTIONARIES\n",
      "NEED TO DO 16 TOP-LEVELS\n",
      " 68  85  166  160  55  102  19  73  53  152  127  78  86  108  105  1 \n",
      "C IS CURRENTLY: 5065413\n",
      "doing: [1, 1, 2, 2, 2, 2, 2, 4]\n",
      "MADE SZ 2\n",
      "MADE SZ 3\n",
      "MADE SZ 4\n",
      "MADE OMINOS\n",
      "MADE DICTIONARIES\n",
      "NEED TO DO 60 TOP-LEVELS\n",
      " 85  170  464  55  365  239  150  199  289  74  176  375  285  175  407  233  200  406  121  252  109  232  133  452  172  314  286  460  263  357  475  440  67  105  1  226  248  227  359  470  195  157  379  87  348  395  320  404  409  293  390  422  174  456  19  186  321  389  420  53 \n",
      "C IS CURRENTLY: 5152885\n",
      "doing: [1, 1, 2, 2, 2, 2, 3, 3]\n",
      "MADE SZ 2\n",
      "MADE SZ 3\n",
      "MADE OMINOS\n",
      "MADE DICTIONARIES\n",
      "NEED TO DO 16 TOP-LEVELS\n",
      " 68  85  166  160  55  102  19  73  53  152  127  78  86  108  105  1 \n",
      "C IS CURRENTLY: 5341781\n",
      "doing: [1, 2, 2, 2, 2, 2, 2, 3]\n",
      "MADE SZ 2\n",
      "MADE SZ 3\n",
      "MADE OMINOS\n",
      "MADE DICTIONARIES\n",
      "NEED TO DO 16 TOP-LEVELS\n",
      " 68  85  166  160  55  102  19  73  53  152  127  78  86  108  105  1 \n",
      "C IS CURRENTLY: 5361829\n",
      "doing: [2, 2, 2, 2, 2, 2, 2, 2]\n",
      "MADE SZ 2\n",
      "MADE OMINOS\n",
      "MADE DICTIONARIES\n",
      "NEED TO DO 3 TOP-LEVELS\n",
      " 37  3  39 \n",
      "C IS CURRENTLY: 5362109\n"
     ]
    }
   ],
   "source": []
  },
  {
   "cell_type": "code",
   "execution_count": 50,
   "metadata": {},
   "outputs": [
    {
     "name": "stdout",
     "output_type": "stream",
     "text": [
      "5362109"
     ]
    }
   ],
   "source": []
  },
  {
   "cell_type": "code",
   "execution_count": null,
   "metadata": {},
   "outputs": [
    {
     "name": "stdout",
     "output_type": "stream",
     "text": [
      "192doing: [1, 1, 1, 1, 21]\n",
      "MADE SZ 2 40\n",
      "MADE SZ 3 94\n",
      "MADE SZ 4 228\n",
      "MADE SZ 5 571\n",
      "MADE SZ 6 1436\n",
      "MADE SZ 7 3546\n",
      "MADE SZ 8 8409\n",
      "MADE SZ 9 18874\n",
      "MADE SZ 10 39622\n",
      "MADE SZ 11 76876\n",
      "MADE SZ 12 136217\n",
      "MADE SZ 13 217531\n",
      "MADE SZ 14 307864\n",
      "MADE SZ 15 378190\n",
      "MADE SZ 16 392525\n",
      "MADE SZ 17 332580\n",
      "MADE SZ 18 221076\n",
      "MADE SZ 19 111180\n",
      "MADE SZ 20 41288\n",
      "MADE SZ 21 11195\n",
      "MADE OMINOS\n",
      "MADE DICTIONARIES\n",
      "NEED TO DO 9297 TOP-LEVELS\n"
     ]
    },
    {
     "name": "stdout",
     "output_type": "stream",
     "text": [
      " 11163  4495  6928  9905  6380  1316  6265  5459  4473  5099  8312  4460  8805  1333  9934  4517  6757  3120  1671  1131  5335  9488  9911  10440  5342  6336  10486  74  1662  1265  4163  10134  6827  7551  2308  10458  1461  7237  1881  318  5251  2061  10396  873  1273  7250  8536  6037  3688  4300  6200  7514  9410  3093  5784  7807  6990  10269  4915  1791  2631  6583  7398  5551  5870  8075  5228  8752  1400  8686  3073  6118  8985  5822  10225  1327  10826  3624  8045  6764  4432  10388  9641  8648  7070  7264  1616  8563  10533  4392  8197  8421  10939  621  6167  6251  430  2251  1166  10374  1329  8058  10206  4507  1479  2396  3496  6699  7077  10965  154  7849  5047  6332  6938  8767  5279  2071  4390  4758  6731  6611  1683  5226  845  4150  6155  5420  2787  9341  642  4755  162  6803  4154  6889  10750  2671  9667  8634  4247  2103  6178  2414  2809  1146  3001  8037  2114  6592  9208  8252  5563  4269  9916  4793  1230  6220  776  6634  8284  8991  1324  8027  8547  3810  573  4224  3340  4584  1460  2867  5589  3597  3663  7466  7504  2325  8388  9760  90  3121  1527  7363  7756  9357  6538  7379  7705  1201  2933  5765  3432  1418  4706  620  10565  4548  965  146  1148  3629  4102  660  9657  4787  1985  5578  8205  7456  110  1813  6591  8666  2615  6775  4006  4601  8771  9161  9336  981  1150  6103  4534  6921  525  1029  6745  899  8064  366  2922  9446  5629  6904  2302  3495  1722  5829  10365  2277  4892  10889  5139  5192  6762  10414  7071  7960  345  5626  5164  8691  6176  6769  5395  2655  4847  7129  8601  2458  982  10630  732  8516  9106  5487  941  8794  10044  6483  2243  5998  6102  2811  4645  7927  454  8051  8404  8188  312  1599  9331  6988  9464  9263  6927  5953  5971  9991  2097  9360  3493  602  5305  9194  9551  5966  4436  1853  6630  370  5769  1933  6472  1887  2826  6018  5219  4340  7401  9438  9940  3193  4806  3404  7796  2532  5218  3164  2347  5423  5493  5004  8002  10343  9490  2932  5725  7471  8127  7053  10112  3508  1652  8028  9526  10561  3257  2888  2241  7738  3146  1563  4147  5571  9851  9085  10722  2647  9258  9077  9798  6567  7180  115  5012  5061  8653  1984  8119  418  9790  373  455  4316  9318  7629  9329  4403  5812  11055  11179  6408  3954  9802  1496  6903  426  8105  10164  8903  3003  9970  10057  6216  7424  2077  2494  6548  7806  2485  9778  3051  7074  10296  3035  7479  8940  914  6311  859  2290  7677  10351  2572  2727  5481  471  5902  5941  4321  393  9944  3258  7178  10676  2184  4628  6480  1602  6624  5633  8088  10436  7818  2269  4538  8498  2093  9240  8288  5397  10005  9094  1522  3558  9401  1858  5354  1430  7485  8558  9447  2831  2999  3460  1751  1560  1740  9402  2236  3332  1018  1044  1926  10242  4325  2421  1114  2976  4035  2154  8266  8702  1607  254  628  3188  5774  7381  3291  10330  2168  1134  4661  11220  9885  4001  2245  5100  10879  9375  10140  8850  2079  3114  10932  5965  7000  166  2687  11001  4054  10422  8901  7076  2301  10557  2219  3343  10502  286  6117  7709  6727  6753  7154  4060  4910  5658  5757  10617  6723  3823  126  3746  6950  4556  7312  4245  10381  10677  10003  4981  9276  8097  10154  303  2123  6522  7254  8704  10105  10122  594  386  8439  1530  3669  6066  11103  1213  4385  2697  4024  7431  6160  1691  1698  2527  7553  2962  4858  8832  10577  1309  4733  11139  3815  98  4551  7104  10512  2901  666  7637  2212  1875  4978  1896  3564  10400  5321  73  5215  2487  9788  222  6523  11014  687  2566  4319  10968  10818  498  3030  8209  4937  10523  7447  1826  3522  4980  5232  6714  10279  1629  7664  1807  8561  3403  6410  7209  391  7003  6956  207  9554  4928  5968  10878  5720  8665  1565  5916  10177  3685  6026  10636  3289  5345  7951  4577  5090  10494  3789  10959  7522  625  4520  6980  10118  1129  8310  9887  10646  8925  4519  7826  4468  3894  4249  5972  10455  3583  10143  10224  1060  3593  4693  7797  1797  780  951  7511  11073  8396  8531  5860  2851  6221  7898  1879  6640  9912  326  3182  1420  10051  7315  10211  2064  4246  6962  8325  4273  5605  6660  8743  8537  9476  3615  4148  855  4930  9841  7348  1517  7704  1487  4562  6085  4846  2319  10089  2587  7731  5847  8185  143  3745  1447  7930  9387  3613  4627  8871  5752  548  5183  11203  2840  7601  2968  2651  3771  5828  7798  7886  3700  6060  2679  8581  8111  8619  1250  5464  6017  1825  3390  6059  8504  9534  9967  9170  656  1820  2960  3350  2803  5632  8911  10944  9087  4199  2249  7284  1579  2632  7556  2822  8593  9921  7770  9399  787  6404  10641  10317  747  2893  6104  6860  9461  10184  4567  4726  6966  1471  1963  7043  1498  1610  10931  3990  1120  2536  10997  6851  1542  3540  9333  2795  9234  6999  7446  2415  7803  10810  3166  6230  6994  324  6015  7191  2200  7917  3794  8952  8914  9840  3813  9436  8334  10769  4372  7046  4466  5439  5714  8245  307  6648  4292  11183  5575  5154  9319  7682  4077  2068  1032  2398  1323  10447  10861  4057  2116  10650  11189  3812  9472  7787  100  4655  7213  8739  1555  7718  7950  10266  5946  790  9177  1346  4894  268  7440  8412  8923  8050  2746  5069  9653  10131  1732  7197  2291  10141  9039  4880  4955  10918  108  1105  3494  9815  7631  1262  3848  3609  9185  5268  3772  10480  6605  6329  6879  9054  6643  788  1285  9999  5253  5217  494  3023  5518  7353  7565  7649  106  2465  2618  5137  6964  2620  3606  3952  10993  4457  6284  2959  3800  2856  1153  4098  10459  10752  2794  4863  5418  350  6570  9583  5477  3992  5074  6271  9279  10980  9613  834  3157  10524  1679  5519  3934  3449  6057  8092  5471  10506  9457  337  2101  60  3261  2544  1277  4117  5325  2567  1051  1893  5671  5710  7057  7708  10720  4924  7666  3704  7128  8140  3638  10983  10482  1785  4779  8214  8662  4873  5522  936  6415  8126  6414  2857  10216  4953  7785  2246  5356  189  2147  7489  398  5465  5163  6837  896  2965  2100  3055  4650  7908  10706  5304  10390  11006  2801  8406  10900  10398  11036  7515  1649  6787  9477  8645  5256  8685  10361  5490  7727  3201  9182  5379  2311  2427  7929  5798  9016  10142  9941  10284  10794  4869  3243  8042  2939  9753  2656  1380  3128  9358  9719  1439  8428  8309  7763  7678  9512  8376  3656  6601  5834  7609  7509  2379  8168  7685  1243  3130  3020  4662  1480  2891  2751  10038  3382  7319  9100  9924  6357  3925  10276  10432  3304  8145  4229  7120  45  4412  4225  1402  954  4896  5853  6171  7467  6128  662  1334  3115  3975  4800  7847  7865  7966  8020  4041  9615  11008  3366  3973  1039  808  2149  4785  5670  6080  7510  7616  10208  10600  442  2489  4125  10830  7957  9253  1075  4255  10550  2685  684  3057  10055  5660  4341  5906  6571  3054  862  3202  4424  9964  870  9686  2666  7755  4023  11089  476  629  2887  8892  2118  3776  7142  7272  7711  1030  6398  706  1104  2761  5327  5505  9303  10248  7182  4640  5957  4864  2303  7614  8578  9307  7519  10364  8615  5456  10250  7185  7802  4353  7878  4678  2109  5434  10525  3407  11180  4047  2305  1805  6481  2780  6457  6374  8152  1000  8172  8030  3983  1570  7080  5653  2094  2808  4746  10185  5275  3585  2139  5997  9722  445  5230  835  1376  6541  10594  7232  3962  727  8776  2141  1819  2748  4802  5045  49  5684  8804  8456  9638  10451  552  7027  10166  11124  2635  8807  8948  4857  5553  7560  7276  3306  3891  5801  6446  7607  2638  7923  3219  5473  4642  5020  10469  5521  1466  6836  3299  10783  6712  5102  264  4254  3161  4580  7030  4297  984  221  10245  153  4908  10587  6056  579  590  1370  11066  619  3878  8778  4943  3081  7164  2185  4833  1089  3951  11211  2370  5094  1945  1458  9731  4653  2084  8673  149  439  9797  8517  11154  6213  1729  7667  2087  9919  10074  6844  5005  8612  8924  2954  2412  5731  210  2211  7267  4093  1635  5389  7575  6568  8018  6661  6372  2057  10730  6039  1726  2810  9274  2710  9578  8847  8497  4855  1890  6644  9741  10344  3632  6609  1405  2501  5252  8102  175  5964  2031  2517  9936  1278  6495  10472  4982  6674  6826  3251  543  4264  4305  9835  9502  4883  10425  6145  7403  3831  4560  6751  4904  6054  9398  10331  9448  793  1574  4635  3210  9301  4277  11017  4113  4237  8816  7389  8474  7021  10349  6419  4361  5067  5756  6703  6957  9579  10657  3987  3611  1123  10095  10116  9469  10970  5874  6229  1186  6315  9819  829  10535  1504  7579  1568  1777  7799  2955  2497  2017  4382  4582  3851  7961  7478  7671  2215  3991  4387  5062  9738  9751  2066  950  3031  5601  2606  6364  9772  5166  3165  123  2363  9984  1977  3105  9727  9842  3804  6392  8969  5974  6677  3138  740  581  10077  1716  10707  10745  532  658  1350  4616  3665  5467  7673  11172  4716  4178  8803  3517  4143  6901  7033  5810  1132  3242  4069  2958  771  4754  8736  8000  2568  1989  6111  7655  7824  9673  3136  4127  8882  10159  2523  5242  5833  2382  4962  6399  2468  7697  2585  2889  2268  2855  3641  817  4853  5523  4622  5080  8681  9044  10028  9267  4135  9619  138  2112  3447  4369  703  8904  292  6266  2717  4762  9212  692  2330  8292  9700  6690  6248  1112  7608  5776  1770  3697  3933  9242  2244  5224  7075  6435  1518  4718  11047  1156  5296  3895  4877  1962  6427  2538  4449  10581  11104  3438  7980  6373  1016  7078  11125  1913  2642  1601  9651  626  364  8017  6133  1180  6602  8377  9499  9948  9663  623  5236  1388  4738  4334  2460  6915  6436  6286  5705  262  2546  92  7368  8840  2455  6261  4128  10612  5707  4075  10947  8367  1843  1902  3359  5691  2852  6016  6779  5736  8484  1828  9794  8106  10663  5472  791  3729  6476  6533  4709  4725  2067  2629  1377  3781  4878  6418  1028  4764  1773  4206  5167  1071  6919  1422  3543  6896  7268  8238  9779  458  3684  4691  1675  1476  4431  3899  4029  6735  3206  9449  233  1709  3787  1919  10129  2619  7350  3970  6726  8680  10894  3602  5411  278  8272  3112  8403  9745  4654  7187  64  7829  568  6391  4588  8603  1397  7698  444  257  220  2304  4045  9421  7931  6780  2676  4797  5092  5872  864  5875  10100  6817  6405  4826  1424  3634  2466  8405  7059  2373  2326  2472  7304  4210  6235  6895  10682  4484  2713  437  5535  10217  11018  5652  3683  878  6542  5196  10778  340  3314  6395  7270  5222  11110  4144  6577  4668  6566  7833  371  4821  6847  5856  9818  2088  2832  7749  7877  9870  7063  3976  116  6432  7360  3548  7231  6366  3621  1391  5276  10379  1630  1774  10998  1964  9990  9973  3437  895  5903  8631  8535  8326  491  3283  5066  7158  9139  7067  6341  5414  8956  1103  2563  5398  2599  7337  1534  9716  8638  6493  10193  10471  2044  1047  2054  4936  946  8594  6502  828  1859  4216  5951  9219  4408  8014  9946  10157  2029  8636  2191  328  7387  10529  6628  1912  2994  9992  9396  3726  9207  6742  4261  8734  9598  425  3874  4124  7997  9143  10764  1175  77  311  4188  10387  605  4901  8200  8551  1681  8425  4106  4288  1389  5113  550  10212  11002  6300  3046  2425  5929  9215  5103  5546  1178  8959  2058  10647  2254  1882  225  9803  2899  5841  7527  3048  204  8447  4343  180  8920  1975  9511  8156  2869  4031  6531  413  10311  4252  8728  806  4170  4963  4192  7885  11130  3736  2829  9661  877  9090  5509  948  3872  10048  2639  8843  6608  10495  5984  6748  8285  10520  10854  7736  10087  3568  4464  2332  9697  9204  4518  6738  3977  1470  6456  9836  6573  4443  9002  9091  5531  1833  4766  7220  717  1145  1686  3167  4220  7134  8575  212  310  6496  3042  6036  9954  760  8995  6055  11205  4572  6746  2938  4558  10485  8430  1573  3664  9886  8275  5112  9895  9926  10433  11045  5042  3352  3819  6856  8387  3763  8170  9878  6975  4600  1804  6685  7605  7759  1022  6053  10167  10086  7174  5780  43  6908  1033  4889  6684  3324  1137  104  1268  2470  6158  7855  999  8809  2160  7729  9540  2979  919  7840  6998  3018  7196  2695  857  2846  8248  8510  1318  5506  711  5701  6849  8810  291  3169  4952  5932  3883  576  3061  281  2023  10156  1667  578  4694  4916  10456  10403  8939  2328  8255  1721  8963  10862  405  1321  3547  2386  3673  5229  7095  7251  4637  3223  6049  10853  5617  9381  4760  1269  1416  2917  3364  4263  925  4684  9238  11033  11210  8694  5221  1562  1874  2964  3225  1793  7439  1057  3793  7800  10908  8263  3941  611  283  2982  8083  1850  5179  5350  2492  2411  5031  10544  3880  9227  2983  9484  9855  10362  109  2226  4639  7469  7146  3141  9293  10945  8201  5693  4660  7906  2196  6543  2000  5512  9001  11113  4359  8330  3556  6245  1238  8224  8443  906  1493  4792  9515  2086  5309  3198  7971  359  3465  6658  8635  1687  1622  2231  9754  9344  7977  8253  3515  7817  4121  198  8493  7435  272  1037  1586  5647  10949  2978  6354  8232  469  3045  7652  11202  3207  7473  7973  6389  7423  7724  8915  3345  7127  9241  9696  10092  9975  1752  8726  443  8239  4824  2410  6489  7972  2232  2556  3178  1526  2565  3004  8391  3089  8851  9767  10171  4279  10467  1747  2686  1308  9162  9486  3953  5376  1501  7595  1021  1728  4312  8544  2837  9479  9857  990  10288  3205  11068  4472  3659  698  8574  2005  9473  2678  2350  42  8654  9414  9614  5852  2733  5744  1300  9627  7949  4485  2297  4903  9557  811  2507  6534  9113  11003  3574  4798  3329  3618  2375  4161  6162  1139  6249  3514  4842  6201  7347  6639  10739  69  5977  10503  351  2206  4477  572  5772  9883  1886  4965  2378  3921  4082  8520  3176  1383  6912  2028  3123  4301  2261  7574  8521  7300  4222  8780  5669  8852  385  4304  4934  9024  11035  3911  7546  6460  923  10785  10305  1427  4957  8590  10875  1125  2331  1931  1081  4508  6122  8413  10214  7624  9562  8453  812  2543  10340  5802  3968  5450  8258  6926  1012  5809  6217  1916  10473  8755  11129  186  7658  420  6958  8420  1035  856  7512  2408  7619  6259  5333  7397  1038  9047  9637  6959  6356  7918  218  3785  10758  9244  6068  10597  1090  4130  4811  8186  10553  9424  29  9408  2812  7748  10461  2564  8588  8527  6454  7054  2376  3826  11013  10479  11042  4427  5746  8714  6272  892  2502  10162  10658  5310  4156  5317  9367  11061  10992  9487  9860  8605  3598  4411  4715  2835  6367  7316  5502  2648  9839  9339  7573  1451  10103  1194  880  6507  6688  7932  5844  7045  671  8154  4479  5894  2886  3397  7902  5650  4339  5357  8133  8346  8409  5043  284  8607  6501  9266  6312  7321  10004  5743  685  5869  8067  4122  7825  9097  5446  10835  8670  7166  5862  5124  6334  10765  5297  5169  7289  7313  9503  7694  7249  4701  71  5363  9330  7065  7484  5655  1127  1664  4377  5281  1821  3377  4719  5837  8839  908  3331  5526  7458  10301  11095  8229  4781  1795  6547  294  606  4005  4732  6504  10733  10772  881  8741  1959  261  4747  9130  514  10649  4471  8384  1358  2207  4849  10023  4071  10496  9470  957  4682  9787  9048  10777  4109  586  4400  6914  2674  5096  8071  8919  9901  7535  3524  2701  10966  5973  1158  6886  4740  5388  95  236  6443  111  11109  1598  2210  5560  7956  7939  1505  8066  4823  9951  11147  1924  3780  8098  6247  1876  2524  1199  763  5988  7483  7941  9974  6347  3876  6820  9593  6862  3212  3119  8579  2053  2490  1445  309  5755  10828  2996  1349  11044  4171  10020  8199  3864  2186  6100  9000  3481  7663  9073  736  591  8898  6322  3497  103  9430  4313  5792  10802  2491  6890  6402  7112  9124  730  1719  9576  6387  8697  4207  9843  5261  7859  5351  8007  10293  6631  4276  1003  7219  1536  3110  3950  4186  4421  6494  7762  8742  10170  846  10734  8094  1677  3942  9069  5003  1672  10884  918  8598  3466  1946  10911  4856  508  1368  2691  2113  5049  2698  5907  1763  1444  1608  8295  4136  1072  654  11219  4299  6210  6765  7198  11038  10651  8731  2035  5503  7534  9629  9600  5044  10236  10281  718  6033  9837  818  372  2991  5882  8331  4948  4984  7068  8753  4720  9724  3549  8793  2115  3027  5642  279  9590  2541  6301  3406  5657  7905  4428  2675  1191  10838  3220  3908  11136  4439  5323  3349  9371  10151  10175  4546  8307  5796  963  2872  1794  650  8821  8893  3040  8358  2129  4501  6296  9565  9174  7723  1829  750  2089  8826  3719  11197  1091  178  8390  8522  10071  4126  6784  1098  3926  8675  2559  1884  9527  9635  2609  2998  3566  6004  2627  8125  9998  5085  9409  4133  10386  4234  6105  9758  9662  2903  10265  1177  3107  10475  1748  1559  274  1073  5330  3770  8533  28  10430  2156  9442  634  2821  1449  584  9575  1757  6511  6464  7372  10891  2344  3484  39  2199  2021  2352  3767  6346  6633  8265  8355  58  3469  8318  9744  9907  10046  739  6424  9769  10197  10634  2179  6529  5613  7233  7236  5584  9108  4055  2400  9521  3346  8472  9666  7195  5088  3274  8519  6425  4164  421  5441  6146  7453  9848  7022  3525  2518  8945  10431  5269  2406  6843  5982  7754  8044  3936  7406  8423  10049  10709  11085  2914  10971  6108  8930  3889  1233  3389  587  7746  3501  7790  1708  1656  7935  7713  7216  7408  11091  2520  1492  5514  5764  5945  10322  1730  3010  668  2127  9985  1988  2081  2462  9958  11140  10808  6513  10724  8329  5197  6650  4483  7273  4019  3978  7979  8841  10006  8076  10373  4187  1603  3260  2389  6096  2098  11079  10625  1543  2293  3368  5567  8553  792  5609  4064  9730  10072  7194  598  7441  2135  3488  3832  9621  10097  3309  6839  5211  5721  745  305  4120  7433  1325  27  1690  10194  10667  6991  9313  10926  6044  7707  6294  8806  2779  8477  11050  3859  4172  7909  3227  10437  2467  2239  542  10408  4511  8700  10526  11080  3999  4145  8086  3905  6127  597  1636  1454  33  3546  2673  2649  7204  7292  8812  9351  1218  2860  1031  6888  3660  6351  3226  7945  5959  7620  2555  6293  9900  230  1412  7253  10353  10857  7867  3577  2956  8499  4765  5182  9780  10501  4969  513  8418  3852  1699  1216  4250  11181  2461  3125  5312  3651  7097  10465  6946  1188  7852  10047  401  2919  7544  847  786  1613  1814  3453  7386  10735  822  1354  3865  2218  8457  5422  8748  8895  9384  10073  10036  903  6431  9115  4959  10796  4947  8301  9833  11034  7505  9441  4315  9546  1094  6384  2138  5682  6945  7354  9364  8460  260  9217  7946  5976  10033  1174  2573  9586  9782  9602  4482  438  1614  3510  6651  4028  1971  2616  3639  4674  5142  2131  8967  7758  9290  6242  7695  9353  699  1372  9325  5382  55  7821  1589  10325  694  7635  2423  3452  709  728  3709  3457  5706  2144  6474  9096  3385  9302  1745  2405  6761  7776  9879  2644  483  11141  4702  6487  10518  2552  9831  6861  10710  4585  4236  4868  4318  10872  9599  3993  452  8682  3916  5666  6811  9933  6604  10138  10654  8235  9908  3143  192  729  6382  7901  10286  6084  8797  3427  3648  10104  7537  3959  4149  339  7028  9081  8864  10940  10404  2248  9466  5277  5867  1027  3091  1917  1485  379  1934  5597  5246  9190  3575  9746  10198  10262  8782  9570  4589  5908  9636  6370  1606  7301  648  570  821  826  4320  5700  10927  9618  81  3710  7611  5115  1343  7186  4228  5558  9422  1851  3554  4326  5172  5831  424  7199  2356  8532  9707  9813  5478  8324  8690  1084  5603  8640  2704  2508  861  2760  3104  3479  9898  8270  10161  4118  10543  6692  924  1128  4481  5002  7883  5628  3705  8947  1239  10107  3855  1253  7085  10243  7744  10678  4921  8829  1067  1832  10831  9463  7419  8824  11171  6211  1979  3033  8029  8104  9340  8716  9209  3881  8478  6087  10411  6666  2628  7588  3363  10836  10936  5475  3414  2890  3966  7018  8299  5898  9084  6563  8465  5712  5799  10209  7880  1888  10960  3245  10176  3122  8426  10595  6330  440  5466  622  6526  9861  7016  7987  5534  9606  101  6557  4478  6679  2708  5864  7967  34  8846  11160  11132  467  1431  238  2155  2936  674  2592  6816  7072  8195  8215  9412  7436  9517  5267  1092  9643  5050  7480  8231  775  2797  9118  1815  3986  4074  6841  6664  5751  5189  805  8196  1019  8114  1254  10984  2611  8416  5987  5120  9425  1812  3092  3713  6874  10982  10552  2195  11029  3365  8149  7850  2579  3263  4048  653  5817  3818  8021  988  9617  362  5656  8251  8348  3605  5328  10155  1595  6065  2929  3589  7291  9668  9687  5501  938  10488  6166  4836  3906  8321  6313  6917  7864  247  10571  4700  6032  6159  631  6400  2880  7375  1852  403  1121  7580  6148  8354  3063  9151  994  3732  10941  9243  4788  9533  749  4575  6597  2537  1198  2314  7258  7336  487  3037  8775  541  7474  7193  5857  753  1809  9976  1482  4918  3701  9388  9519  3645  6288  1529  6707  10903  7773  10754  5815  1078  743  546  6870  7282  11148  4843  2904  4768  1048  10759  3834  8994  8183  11072  2622  4949  6401  4394  1711  7257  11022  2026  9612  6973  11153  6773  2784  8792  6508  9299  1986  4613  3319  4442  4287  423  6151  9611  7086  315  5673  9759  3805  10111  9968  1279  3997  9699  5445  9963  5618  8808  8557  9116  4989  3229  9122  1953  3600  712  6019  10601  2047  6051  7105  4724  4522  8308  3803  8765  4804  6222  1232  2255  2287  7298  4932  779  11192  10880  4081  1718  10895  6121  803  2014  2633  3551  10551  10788  11208  5663  6368  819  8006  10257  7205  4393  1816  2601  3378  9196  9683  2668  1544  2499  4535  5238  9864  10308  534  2310  5528  4420  3430  4739  559  10223  5486  5586  2070  8910  5845  10798  2806  2584  515  4217  157  8687  5681  5789  5762  6022  8342  9680  4741  7567  4523  2712  7052  10775  2136  697  5104  8096  8220  7650  6450  3927  2949  1746  10800  6710  2402  4032  10753  1965  3039  1154  2342  7044  7600  10511  4384  6199  10240  10182  3221  9164  10059  6556  3748  7039  6791  8283  2963  8417  783  8202  9858  6386  529  63  472  630  9720  8009  557  501  8236  10892  3132  6320  8799  2262  2511  2542  6478  6662  10999  1119  1591  734  10389  7038  10278  11088  2946  8796  5735  150  8115  3011  5542  5201  10255  9037  8973  4283  8764  2814  9391  4586  7343  9825  9413  5923  10873  7786  3538  1292  9548  9017  8724  7892  1982  9308  4731  1628  8813  9223  9811  5482  8122  2238  7701  5114  2945  953  8831  6250  6225  3533  6258  1769  9928  8684  30  7365  4050  7263  3643  2434  8281  9220  10109  11207  8660  6819  91  8059  2500  8380  8897  9362  639  10662  6314  3766  6809  8203  6381  6845  10025  10609  2336  4652  7962  6174  2598  3998  8866  9283  10222  7202  7346  10018  9804  5576  8679  6075  4282  4371  7765  10726  10898  1224  1499  140  4456  785  5214  6156  6940  1077  5739  3604  7639  8751  9452  10183  5193  3937  7306  9105  5838  177  759  8518  10834  427  10675  1435  6759  8745  3282  1921  8564  9698  6202  1341  10656  4699  9119  756  10684  10871  1561  3731  11121  1541  1937  8528  5130  8297  5890  3838  825  6188  3646  78  5602  1864  5587  3145  6680  8862  9712  10369  5550  2339  3086  4529  4583  6074  10933  2878  10345  8112  10832  3553  518  7593  866  2771  3049  4244  10792  1754  10527  5419  10950  3478  40  3100  3211  3777  6992  9923  10642  11064  7627  4256  2940  891  1784  6353  9735  3619  1452  5210  10298  2052  842  4683  2320  3208  4784  8546  884  1778  4510  7024  11193  1344  7719  7925  2942  246  764  4727  10043  2069  3798  7764  7910  8622  8737  5850  6306  10626  7845  4834  1734  4590  2815  5421  4593  5645  8084  5257  6114  8438  10592  2013  2923  11146  10681  2390  4780  1507  5352  9350  3739  6303  4444  267  3840  8857  10621  10509  1462  3425  6172  798  6850  2755  7042  2774  2790  5039  768  6327  6469  1665  1185  9277  8441  3044  8929  5734  4463  11155  4610  8604  194  3502  1002  3591  4131  5593  7692  234  2173  758  5072  5141  3512  2866  1142  2282  1605  533  3281  10816  1620  3637  10560  2008  651  1867  1948  8721  9167  993  3506  7938  9543  9865  9953  4643  3850  6830  6730  2604  4850  5579  4644  6290  8591  7812  8511  9856  9902  2358  5913  7820  10132  8628  7113  8047  8243  10751  2439  2858  179  3636  7060  8070  4689  8315  8786  10606  2001  9082  6331  4358  1658  5286  4226  11004  989  4200  1685  7621  7393  8592  9801  519  5793  7069  1263  8296  1364  9173  9539  5383  10661  4677  8900  10045  4344  3791  4502  9710  10870  2588  1438  1311  1516  9832  4488  7481  7875  8890  5447  4796  3686  4942  349  6646  7425  1196  10123  56  4209  8313  839  633  2478  1113  1772  1249  7137  6953  8464  8723  464  1998  4116  3117  8193  8060  4820  5627  9587  384  9704  3217  5915  9206  6485  10363  4598  4818  10333  1429  8703  479  10839  10548  2688  3867  9256  9947  10275  6575  3362  4085  4618  6434  8364  9326  10728  5148  3535  84  3456  738  5557  6073  5760  6783  7390  2741  5106  9078  5641  8333  9523  10702  11009  11083  6565  9827  10039  4705  6097  645  5402  1790  4293  564  6871  2182  4450  5497  6807  10583  1978  3017  4157  5604  5980  7465  8217  1720  6687  9689  4290  11105  10974  5010  1903  6324  8538  2910  2974  4455  6524  3720  8374  1552  8881  9393  5917  3192  76  224  1360  8432  7051  213  9292  7324  2393  769  9423  4977  414  287  9892  10150  11182  4346  6470  9184  10517  7539  8671  7175  2720  6393  6409  9282  4419  5808  5191  6515  2824  2791  9764  9969  1258  8054  1353  8880  7984  4486  4213  6140  9471  2444  2941  8100  10083  6937  8986  3265  6622  10008  4177  7602  8908  5160  2908  9250  10252  6729  1299  1455  139  1960  3750  4983  3518  3579  1952  2576  4838  6806  6822  6893  5480  8633  9717  10542  2436  1272  1408  3072  6101  8345  2953  9493  5332  4386  3224  6257  4914  4607  282  1860  1904  2972  1214  4296  4669  8912  3393  9338  9972  10290  7857  4110  801  5178  8015  2728  2990  4512  6072  6170  10173  2646  2561  6183  6801  4890  9498  5438  10060  10312  2409  5159  3601  5738  4815  5692  8877  6273  2570  10468  10755  7597  8340  10289  6981  7422  8352  6379  4859  6865  6209  6447  10851  3199  2041  604  320  3956  1236  3572  5713  4049  1768  4452  6465  6701  998  3836  10967  2171  4402  7981  702  9332  6971  7953  10282  11000  10341  1225  6808  7548  6448  3521  7823  8814  5865  10056  11143  9648  10227  2338  277  3230  1519  8894  8968  10013  10813  4611  9056  2594  746  4335  164  4196  1792  4579  9023  9045  2152  5426  2049  2785  10774  5924  136  9183  9765  5131  7299  342  2193  3562  9345  10366  9121  2514  7896  10153  6766  7385  926  8068  9806  3353  5583  10858  10380  3948  4011  3080  3355  4381  2209  3131  2078  2362  457  3256  3779  4860  3348  5008  6291  9695  10935  836  4067  4884  8225  9983  6799  10067  2235  8906  3185  7737  4065  4897  3142  5348  9868  1567  2898  5732  2407  7081  1298  299  8573  7699  7881  7107  4854  1980  1799  6842  571  7940  1266  955  3565  9894  1010  5912  9009  1345  6859  8817  505  3369  3247  8488  8907  5326  10040  10394  8668  10902  1361  5199  3539  10791  11070  6274  9229  3499  7922  7338  11046  8134  5287  9389  4728  10244  879  7989  8632  1020  4004  2610  5963  1486  4405  6872  7130  7598  4295  6437  1069  4092  1306  1235  2705  5778  6878  7582  7468  7982  8582  8770  10035  1066  6082  1936  193  2099  3448  10716  7774  10727  6179  5644  7290  7651  2198  3631  4233  7536  8151  9582  8830  2813  4742  7247  10842  10115  8597  9374  6369  7752  9014  9808  223  4354  8486  3761  1883  1378  8732  1928  4380  259  3053  5680  997  1099  3594  558  1837  2286  4068  4180  665  6589  4089  9639  9881  4414  4317  7165  1731  8756  9136  5975  2512  6113  7710  2387  7037  7794  9300  5646  432  3971  8458  3740  3321  6000  8501  10054  4774  1474  3232  3561  6468  2242  3237  928  5082  2488  4336  2475  2435  3820  6270  4713  8385  7985  5590  6439  4597  7841  4183  2742  4469  9516  5782  4530  10712  6739  8617  341  6490  1110  6238  10881  2928  3047  5432  8983  8583  3892  6492  9230  6749  6846  3644  10925  2663  7017  6345  6700  3194  1760  8791  306  10820  4621  9927  6421  9761  9873  7356  11092  11145  8191  9420  7361  5950  8708  3170  3180  6719  2553  6482  8514  5636  3064  8874  4073  10196  9652  285  5993  8800  9392  2420  1481  5444  2885  8487  2351  1337  6929  10664  2882  5773  5428  7594  6884  2597  3490  975  9168  354  5622  7670  1929  7418  1082  9796  10099  2162  3200  9285  5936  10803  8365  3126  117  5216  6038  9317  3386  3509  4629  9456  1588  1714  3841  474  2009  2951  4489  6092  9321  8971  9591  3286  2625  3661  4599  3246  4310  7278  4568  9035  7766  10669  9518  10228  5023  6922  1446  353  3007  2730  7943  5059  3445  8555  5240  79  4162  10849  1331  11213  5056  6882  10670  2773  107  3825  5011  2765  8343  9197  416  3500  4911  2525  5084  8207  2547  3480  10559  10972  240  8372  9356  974  8204  10893  4697  7073  3472  10948  6298  6027  6672  7781  5013  11011  7394  3376  7657  9239  10299  5843  5108  2613  1097  5781  9869  2664  6689  9459  6362  10180  2539  5248  6307  8244  11101  5385  7444  9547  9989  8481  5302  3843  5083  6824  9766  9297  8277  1503  5266  6397  8256  11094  8509  3979  4667  396  6147  6009  3821  7460  7532  4413  1017  2661  1141  592  973  10532  7498  1873  3487  6951  3786  545  6135  4671  2700  1062  9979  1968  7486  4871  7013  3482  8625  6046  8678  8177  8337  7314  4201  6099  5156  8692  7349  7492  2132  556  5186  10267  7334  2767  4900  7954  128  5233  1417  6207  6569  522  3451  5979  931  8095  7377  152  742  4407  1043  723  4591  2650  6641  843  1643  2170  2359  3398  3735  6008  9732  2384  6588  9981  8837  9337  2075  5198  7596  3060  6396  10253  3160  1938  8935  1008  1274  8136  10070  8706  663  446  751  11058  5098  9067  5944  9524  9684  659  2416  10823  3216  3312  5132  1465  2323  10782  3900  241  9852  9820  197  4845  5688  7333  7031  9715  3738  11167  10068  4810  848  10598  4500  2947  4940  1786  614  1694  8150  612  7151  4714  4462  433  5665  2634  1107  5406  677  2747  5235  9020  3454  7890  1381  9545  4119  2090  4973  2203  6717  2221  7181  8089  10567  1540  4182  6967  890  958  4350  6484  7318  8677  8332  916  3754  672  9623  1906  94  2213  5374  8148  9693  4307  7757  9211  3016  10942  4814  5717  3450  4425  4492  641  9135  2252  6593  8079  10882  6246  9255  9679  4970  1211  551  8842  10001  2117  10822  3702  7540  10337  4687  3420  4968  5823  4017  3374  7122  1209  3070  7683  3940  9553  9494  5960  707  3680  7135  5742  8979  3098  1759  2580  6276  6613  1802  8216  11010  11015  3271  6536  4376  7407  2915  1922  3623  3938  1115  8053  9628  9939  7294  7501  1782  1252  2975  2403  8643  9132  10781  7804  377  1245  4039  6083  9288  2010  9117  1437  8849  10158  3534  4656  7928  5134  867  5208  4861  5401  1506  6796  5204  7502  10690  11161  6365  9536  9581  4525  3854  9799  3932  8798  1644  2988  4670  5194  5454  7998  7032  6887  10093  10102  4710  7283  6488  3799  8366  3253  9187  35  7612  8363  6182  1571  816  5396  2707  6197  4476  1900  4902  5468  6420  5704  7084  1831  7252  7590  9228  9826  554  9980  10964  346  10620  7266  8436  10287  8025  5110  3272  8223  3790  7976  8187  3668  3387  872  8166  8476  237  10799  8530  9426  613  6595  9817  10921  5443  11126  7760  5824  11027  517  6923  3523  4311  5457  5904  6932  949  1551  7173  1580  5283  10570  504  2640  5340  7303  4913  4505  7399  8467  9482  3358  7286  10648  1713  9995  540  5116  161  952  5588  10215  11175  3443  119  2030  7500  5541  1514  3228  580  10975  10221  9675  640  10478  502  9978  10261  10896  3140  1423  6877  1271  7783  8452  4773  4985  6881  8611  4876  9195  8609  6828  8087  9846  1532  249  9334  5495  5448  173  6193  10417  7789  10493  10579  4647  1735  3301  6236  7036  10174  10618  4090  6902  2177  70  9013  10410  886  1385  3036  6428  3375  4663  1513  7248  6955  10326  7411  7739  10019  2557  4324  10058  11134  7114  4553  6219  10683  10002  3240  327  7225  6652  7167  773  1545  9133  2178  5479  7990  720  2056  4453  4926  8401  8887  8974  9008  1955  8120  9610  9871  248  1520  11043  2935  8429  447  5187  8117  7287  5820  5143  5814  7434  217  6278  5417  6891  1830  4434  506  6144  120  1558  5249  7224  9564  11019  1767  9834  3833  5344  6527  10302  2085  5158  2437  4664  5608  6705  996  5943  5054  1459  2969  1355  2617  3734  4865  4979  6741  961  7690  4034  10230  251  6282  10464  10912  7558  2859  10324  10737  4638  4365  3742  649  4988  9561  1854  5954  6863  9777  2418  7430  9850  2280  10863  3266  7049  5440  6137  8130  3328  7606  7828  8999  155  569  3254  7654  1625  6579  9867  2073  10864  8855  3288  9346  10738  10144  4513  1576  929  8211  3961  2513  2548  7858  7717  9181  10693  815  5899  8431  5264  11120  5849  10256  9372  8822  6163  9218  3147  3888  2827  11131  2247  10628  8630  4882  1322  10580  2759  5433  9660  1800  1080  1806  647  137  8928  8989  1547  765  1448  8463  6704  10238  10652  10064  11133  9987  10186  5539  4396  7234  1143  11076  4533  6894  3388  7642  10125  10487  4743  4704  4874  5689  8657  4166  5362  1182  3428  2605  7550  2595  3944  5213  8953  10555  10352  10427  3462  2986  3326  5378  8976  243  6477  535  2927  7900  1612  317  8035  8360  8661  9785  676  3622  10179  2190  1425  4497  5271  5093  2498  6772  10909  2032  10655  8820  8580  3822  11086  2924  3360  5939  4323  755  3236  2450  7775  1312  144  735  11116  8466  6333  400  4564  5761  4620  7371  8085  375  3025  7529  1024  4578  5895  5071  544  6233  1310  3603  4437  2757  8613  8623  3557  7147  8978  8174  1811  11177  5868  6466  7079  7339  7861  7897  10359  3489  3439  8922  5800  823  1823  2554  6340  5556  8772  9509  3154  3473  4990  10383  11108  6897  11209  3006  6873  7959  9102  4581  481  4506  5173  5825  6499  9296  2781  10639  2775  7628  3050  7025  2607  3869  8576  11123  8827  11204  5375  3134  4909  7162  10360  4181  9213  913  5573  4042  9514  4675  8306  1762  5260  695  1838  380  1554  8938  6983  8182  3610  9369  10207  10844  4375  7006  4012  1697  4898  1995  7712  10725  6035  2011  10807  1384  7116  7734  2012  5747  8449  6736  68  2799  2950  10428  4608  4770  7525  7740  9252  275  9495  7259  382  724  3467  3592  5610  2299  6463  9718  7660  5876  6411  547  1111  4594  5785  8475  3862  199  7050  7008  5365  5507  3463  5207  6952  11112  3642  669  3077  7870  11168  406  5559  7004  683  2223  5520  7970  8198  232  4617  7848  5463  10540  3958  8982  5598  6949  83  6444  6528  3097  3373  8302  3924  4175  6132  3148  7382  8865  10370  2074  2333  8936  4946  10633  3796  10283  8860  4808  5846  1192  4657  5403  8496  2355  5775  9880  2369  8081  4891  9066  595  1023  6328  6794  3871  8480  7561  3773  10973  7638  7888  10937  5722  2267  61  6550  4285  2820  3863  7860  1489  1761  3012  4132  2165  7832  8164  8955  3024  6864  4397  4440  7490  5585  6866  9945  9672  7221  2783  8286  772  8905  10052  10405  2551  5258  10602  2133  10740  5391  4958  8249  3435  3124  3285  4975  2038  8276  8693  1106  2222  8980  9692  2091  9792  10463  1152  3483  3904  10264  2289  841  8268  2040  1215  7325  3672  4401  5494  7207  3678  9004  7691  6069  9010  10371  1050  1889  4763  7429  7507  9405  3559  4267  7102  7659  4137  9608  4280  11102  10629  8221  9866  1899  6029  1617  3267  799  3280  5029  2481  3423  6112  5129  6805  7007  7364  8454  4454  252  4504  6021  7648  8316  9245  5715  1556  4389  6659  9631  3620  6906  4907  2283  8323  8744  4052  4189  5985  2744  6596  8933  9630  4257  3808  3907  8279  7445  8305  716  6519  8024  7242  2270  5821  2693  1587  1155  7720  7212  8802  2327  2763  5678  10901  3218  4839  10797  9640  10335  6285  4013  3470  2769  5887  4079  390  8470  10987  2004  484  3396  4302  2394  5537  5900  7863  1956  9059  9395  1393  5805  8052  2721  5928  129  88  1743  5952  9786  11178  9893  2722  937  8434  3828  6455  1456  2454  5091  2272  4487  6275  7822  5017  4559  6126  6560  1822  9529  9584  8556  2259  2977  3405  9281  9597  6190  8650  9918  10241  7831  5336  3400  1787  4332  8663  9877  4008  6262  2159  6900  8262  3491  3090  1411  4363  9889  6378  1264  4633  7055  10229  10358  9359  970  6337  10329  596  11096  7239  7610  967  4211  4748  5307  7633  8585  9658  7518  7988  5301  3103  2714  7309  9800  10976  2395  3584  9756  10126  3939  2833  4566  7138  8560  3922  9549  5637  9445  1108  5001  9645  1923  2515  10172  3041  5470  488  7963  3356  8785  9007  3155  8896  10443  4676  5703  10204  10850  2250  1954  5893  7688  11037  1909  2684  863  2374  6045  1742  7750  9231  11099  9838  2002  4570  560  688  2237  5319  1673  6119  8954  9650  5545  2397  5695  4544  4561  2643  1256  5399  5914  11087  358  8471  4342  11135  1696  1766  661  9528  9938  10907  8489  2006  713  1947  8179  6064  10867  4532  4430  8074  6984  3203  365  7978  2863  4205  8267  2659  9929  4545  4875  1443  6578  2148  4996  1969  6458  10515  3671  6252  10554  509  4626  6343  521  10233  3162  5771  1464  1181  3313  10977  9854  10674  1058  6094  9507  9433  4020  7554  10866  11082  8944  1083  1307  2819  6150  7491  8124  2265  8392  1363  1997  9530  9771  7317  5107  4271  4088  235  3129  9306  971  3873  10210  1647  1855  8875  2734  4795  1065  9289  1764  3571  838  8062  4266  2696  4711  9481  2025  4753  7391  1994  10575  3426  3300  6267  1200  2921  7771  6383  5981  6598  9028  7815  8942  1147  5038  11053  10258  5393  528  410  1736  5716  4337  7275  2925  1246  1810  4104  4059  4658  6081  7310  837  9015  11156  7091  5241  979  1203  3596  8165  10300  10729  1205  10666  3528  3824  10500  2205  7779  7124  1651  1915  7904  3721  7351  8870  11028  10489  360  3172  5661  6943  7516  9932  6005  894  3459  4208  8568  11081  9971  6107  1483  6970  6728  3095  7778  8300  3173  1646  6093  1932  10957  52  2230  2364  2459  5740  8773  6974  9750  367  10619  959  336  3923  11217  9665  7222  3802  8240  6713  6350  2278  2816  9550  5631  2870  524  1974  854  588  932  67  6763  6287  9068  7630  10205  11170  4027  6838  8513  10742  4927  4474  4409  10011  8278  7769  6939  7669  8508  395  10085  9956  3013  2060  7188  6283  6670  5933  8128  8696  6281  6335  3856  6539  10688  9705  6376  3383  10990  11201  526  3835  9179  9478  9734  2208  7869  9328  10521  399  2295  11196  5803  3560  10438  3241  10254  6264  1221  2020  9305  1336  9052  10790  7159  1046  2036  2153  6052  4496  1260  7088  7153  2873  5212  7009  1600  8506  2582  5881  7581  8886  9287  9439  9343  7011  520  4917  4805  6067  5925  4778  5807  10584  4286  1557  478  8158  3764  8733  1495  2997  9592  6116  3255  9254  7689  7157  4242  6012  3617  2756  5265  490  7722  8759  5144  5416  3152  7320  165  10848  8099  5291  133  1678  1880  4634  6317  748  8571  7087  5153  2080  6645 "
     ]
    },
    {
     "name": "stdout",
     "output_type": "stream",
     "text": [
      " 2876  10946  2637  8760  11107  8784  5498  10320  8960  752  6823  9703  8176  9949  3788  5492  1569  1373  7837  8341  2337  2830  5970  1727  1750  3778  4828  7703  1302  441  3099  132  3175  3204  4703  5596  2533  231  725  7277  6590  7061  10747  3005  8129  5425  6813  2653  2183  6412  302  6289  8616  10962  3214  11190  7795  8113  1087  2981  1593  5311  7229  7517  8844  122  10314  7506  8790  4355  1509  4966  6800  8815  10419  9247  9295  5711  601  3259  4061  4107  10888  731  4070  5767  9074  3674  6510  7920  331  10643  2776  1700  5619  2509  3429  7121  679  5580  7047  7374  4155  1872  9147  9633  3068  1357  3616  4374  1626  3183  969  1133  2881  296  6228  5859  6514  5272  6875  8347  8709  6675  9845  5451  3334  10914  3186  3984  6138  10538  7170  1210  6241  6521  5848  7809  7226  705  5795  8065  1415  4893  9093  265  5635  2216  5955  3662  6041  8683  5316  2388  5640  2372  466  1885  3875  1013  10685  3667  9246  6061  7200  11127  851  637  6734  9781  744  3809  4270  10399  4429  4721  5209  2729  9129  3424  10806  11114  9763  11106  10714  2660  9774  8823  9812  9046  6232  9681  2930  2027  465  6348  8548  10860  6642  5582  4021  4212  10304  737  1086  4345  7136  1660  3310  7177  7547  7549  3153  11071  196  9383  8141  2614  6924  7618  7410  7730  10809  5223  6125  6131  7344  9959  5364  2279  10705  1275  3882  1282  2163  1641  5053  7969  4097  5811  6638  1190  8943  5879  2583  5562  8957  4197  9455  10814  1776  3028  8618  1674  9394  9567  4708  8162  8584  1701  5719  1987  1220  1284  4221  1313  741  6587  7370  10490  5177  448  4467  5935  8695  5247  2343  459  5883  7508  5804  2158  10736  2503  1847  2214  6375  8440  8554  10195  833  298  3325  1001  4134  4615  6972  10795  6954  5510  722  7392  9875  5174  3690  6995  5651  1706  2447  9571  9789  644  5484  10746  1477  3238  6770  784  1162  4757  6442  7150  9092  9114  10110  10821  10514  6709  6960  332  10098  7523  5931  4169  2879  10920  7889  5896  1749  4491  5552  10291  482  10492  10232  5840  10770  3714  6215  5675  1335  6512  5958  6825  10996  10090  6194  5033  7995  8641  7805  11052  5254  5648  10402  5190  689  1943  2626  8227  4072  7743  9193  4352  10499  5111  10645  1314  369  850  10528  9273  2266  8411  8602  7768  2596  4465  1935  486  8946  11216  3287  7488  1270  2586  8234  4357  9647  8559  9822  8109  5105  2007  10668  796  1352  11057  6010  1553  9475  9859  5126  2034  9257  9589  3795  2181  865  2716  5737  388  3021  7155  5331  10106  7034  7144  9062  991  6479  7211  7432  6795  3890  2092  8206  8539  11023  8540  7646  3113  7733  1967  6985  3184  7285  2522  3504  10824  1244  7417  3032  357  1406  4348  915  5136  7645  10168  6212  5205  10376  206  927  4749  1340  3305  2142  4096  8883  670  2984  6832  9585  1659  2902  4537  7777  9577  5830  7921  9909  10840  5620  10260  11031  1259  9320  10415  10163  804  910  4146  5324  691  6441  5687  7056  2884  1025  2367  2766  6516  10065  6047  5991  10062  9323  618  2260  7396  8407  10773  3969  8542  2417  6195  6619  8992  9729  1717  10703  10615  2432  9018  9382  8383  9140  2346  2907  4867  9566  1473  5052  1704  3513  5123  5672  5055  9011  9708  5543  6857  2111  5185  10319  7203  4547  5162  9508  5996  6139  7163  5476  7362  905  176  4809  3711  5889  4817  10686  4398  10582  7543  10695  10032  3308  11007  3929  2284  9191  2805  7732  10922  1845  4954  5568  1442  8459  3109  9706  563  4848  6963  3213  2735  8825  10315  2354  4707  4912  8524  9678  2562  2172  10187  11051  721  10079  5313  930  5458  7747  1195  1386  10624  10989  7426  1144  1116  6867  7851  188  7530  1835  7269  7827  1871  8468  10190  11026  9419  3887  5322  7661  4159  4129  6673  6792  7839  11151  5779  8444  10731  5524  9063  4174  6342  8494  184  1780  2145  4614  9172  794  7103  7895  733  1705  4812  7066  10391  5577  4987  5572  8369  4832  1426  2862  2732  9920  7092  6910  3059  966  5064  10429  10589  1102  2777  5768  7451  1512  3195  10771  840  6071  10412  6535  4571  4632  4956  6123  8090  10270  11030  9233  461  148  10929  1991  10481  6907  1135  8350  3156  66  8061  5863  1410  9791  4931  6546  7968  7801  10393  9830  3327  844  6394  9120  9022  2624  256  2737  8614  2045  5854  8389  9171  3797  565  5299  9506  8157  2082  1240  6997  549  135  2841  6581  7271  8171  3716  2575  8698  453  1100  4851  7179  8789  1247  7101  9314  10988  3058  3608  8437  1286  3914  4972  5839  8485  1779  5527  10280  7679  8446  6621  1634  9169  10484  6982  9733  9988  348  2204  9897  10348  7330  3520  6277  3965  6752  7623  1348  3842  8144  6665  1276  1484  5405  5696  3446  11097  5649  4680  1976  8664  9407  9711  10904  2875  4115  7019  7459  2636  9773  667  911  1618  10007  795  5694  8667  5836  6540  2324  832  10691  8958  7328  8339  191  10378  8368  7413  8719  4331  2443  10963  9676  6933  276  8507  8769  3756  4259  5625  3279  1798  3753  6062  8147  10385  10235  2752  10717  6462  2682  3159  7617  9671  7119  8139  1369  9150  6363  1049  2849  8495  1375  3691  5884  956  5184  1055  8512  4040  4461  4822  1638  9810  5758  2257  7842  7874  1739  4681  7714  8269  2985  4539  7409  8502  3323  3666  6129  8970  700  2778  5109  609  5614  6691  7378  9903  8981  922  1227  7260  2703  3347  9006  8596  5927  1604  3989  5150  1228  10439  4515  2316  1796  5654  7455  3885  10231  8264  607  6996  171  5697  6848  5749  6909  6944  6584  7014  3963  5873  334  8921  9888  3505  8950  1645  3928  9688  313  1463  2845  10673  1801  2591  3587  6459  577  7753  8361  113  293  3955  9922  1538  1637  6855  8899  7331  4009  1925  6106  2292  3149  8699  8146  11128  5930  10786  5685  4801  7171  10590  7577  3658  1118  9962  1624  8951  7814  8932  2426  7792  10537  7586  8462  1715  8142  10741  4790  9965  2706  3920  8586  9036  4729  2558  4961  7912  2353  2758  5431  6840  5920  333  11162  1957  3747  5290  10744  6130  7420  4142  8250  185  3273  5816  8155  8713  1594  9294  9664  1738  11056  6371  11206  849  10697  266  2022  1942  5730  1927  5855  10698  10978  9019  10757  2593  4274  1898  5871  3127  3682  6407  7622  9309  3163  5770  6626  1494  2413  3635  5273  86  9270  10453  3317  9033  2913  2312  3655  4769  7297  5346  8926  7521  9075  1682  3474  6876  7716  5353  2839  701  87  3215  6120  1502  8395  947  11188  7089  3964  4717  6254  7559  4997  5947  1059  3311  9793  6834  5289  1101  1992  1725  10259  1939  3744  8754  1392  6196  9157  562  10513  4422  7427  8845  3806  9752  10466  9031  7302  9863  11025  3576  9649  8763  6976  2348  5741  8078  3982  6831  1564  6268  8811  10042  5361  134  215  1248  3411  5708  8118  5436  5607  882  4417  10133  10012  499  201  3985  2967  1818  7497  8422  10574  876  5118  31  1981  3996  1401  7326  4241  3886  7449  9411  5532  3910  2749  11118  9874  1189  1117  2345  8853  5750  2317  4383  473  9740  10943  1490  8567  8828  7584  9434  1170  5019  10556  6941  9453  8222  1756  11174  3652  4995  80  7934  6013  9262  9522  2989  9862  3431  9435  412  10024  3415  3630  2146  5453  10460  5337  9721  9467  4044  5270  9624  6552  2549  2788  6240  8137  9237  1668  9284  11041  167  8375  5455  7118  8159  1076  2920  5285  10031  4258  8651  8246  8917  3370  7830  4960  1611  3715  5338  5380  6007  8063  761  6616  8884  3930  1293  7428  5095  463  4552  3341  7415  9225  6829  1870  7082  10623  2451  4974  1508  9982  2441  3730  6683  3079  10956  2083  4364  5561  1983  5664  4906  6582  7854  10452  2681  5787  2140  8381  10776  2877  7340  2365  8902  4771  1654  9311  9552  4648  5358  5089  10498  5569  7149  205  1161  1584  3408  7190  4410  269  10549  492  10671  65  4514  6740  44  10029  1056  4094  10274  6979  9849  270  4114  5728  7005  1367  9268  9776  6430  1619  1840  10718  7192  7332  800  3758  6682  8863  1467  2702  3336  3507  7352  5962  352  6934  10979  6255  8033  9131  38  118  8218  1223  553  3743  6623  6110  7443  9083  9101  2750  902  2874  5989  715  1771  7944  411  4499  5485  6733  9432  7991  9997  7810  10146  4722  10338  3706  8735  10342  10910  8834  5060  4349  9520  8777  4215  7834  9354  686  7235  3935  5181  3106  163  7999  9390  8658  1053  7615  4786  89  1242  5308  5390  8669  4807  9622  10442  6310  2033  3468  4516  5339  8280  5999  9814  10268  5427  8259  10825  3699  7513  10815  3981  1583  1841  4569  4294  5699  1808  6737  6760  10375  9952  1413  26  4251  10578  8562  10672  387  5698  7230  8861  1281  9616  3008  7023  7015  9058  2725  9574  10219  2804  3316  10377  2516  3988  8483  9315  4404  7741  10426  897  5513  1356  6358  6028  2560  9406  10868  5225  762  4000  7876  7913  5377  10644  4141  8854  627  1585  3536  5777  1877  5606  1226  3588  4239  4214  242  5355  7583  9040  810  2519  8189  10418  7632  11169  575  5897  9904  6706  208  3475  7169  4003  5942  10113  7643  2952  3653  3760  6854  9199  2119  1168  2482  2569  4730  8290  8320  1339  8402  3567  3725  5592  5639  7274  8717  643  3550  1666  1861  1521 "
     ]
    },
    {
     "name": "stdout",
     "output_type": "stream",
     "text": [
      " 4203  2110  7894  4002  8715  46  7366  9572  6359  4935  3298  7020  7715  3775  3530  7745  9642  995  5538  8180  10015  5006  7578  10761  6892  10805  2003  5018  6561  8587  852  8173  355  2948  10145  187  8525  3762  8031  1149  3333  6349  539  814  1371  6002  3718  4540  2669  3741  10679  4173  2911  8730  9259  8859  7454  1414  7132  7557  8433  2504  2037  2680  3531  1342  4688  3094  8419  10272  8043  3698  6771  10434  6585  9368  4446  945  754  4803  8747  6785  3171  9961  8378  383  710  330  4923  8093  8233  2391  409  1914  2429  680  8738  10534  5263  4373  6880  7110  10448  5188  6599  7975  10061  7246  10694  3792  7279  1305  8181  1615  2377  5723  5200  271  2486  2531  714  3879  6989  8110  11005  7994  10200  1409  2630  5057  7156  1753  9656  5070  6853  9966  3807  5394  8649  4103  8435  5220  3728  6058  9145  5366  7345  2854  10313  2383  1862  9930  10906  300  11074  1895  5533  1289  8451  6925  10573  8175  7700  8289  8529  2063  3412  1169  8370  8722  2065  2581  10855  6244  6208  704  9080  4314  9853  2189  2868  10536  2723  5659  5835  1944  3915  4666  4167  3009  9747  1533  6390  10091  3917  1744  4602  6500  11198  489  8998  2995  6461  8984  898  3111  3151  8931  4604  7772  227  6453  195  3296  6916  6223  9609  2340  10316  5128  2740  8885  8975  6883  10318  11075  11093  1085  5384  8005  1347  3625  8003  11191  3931  9742  3733  7414  3441  8373  169  9198  8167  9914  11060  2848  10239  4243  9064  5140  7280  10588  6732  4885  11021  7161  6506  5412  9226  6001  9324  10516  2603  4879  6142  6134  2062  5574  1004  10014  5288  4819  7589  9216  8937  2157  2167  245  5861  574  3545  4459  8046  3722  8356  9355  5674  495  566  10865  8868  2961  6014  1007  7029  2692  2452  962  3367  6491  3555  8595  9496  9694  11150  7201  2471  888  3078  7992  7098  1257  4925  6671  9272  8688  6168  8344  308  4673  10336  8357  5413  4920  1317  778  1857  3233  3909  172  314  7926  5555  7457  8961  10905  4278  7329  4275  8545  4698  394  4695  7100  7223  7626  9148  9397  2590  4037  10066  10354  3737  5499  5662  5885  4399  6318  8304  141  1  7566  1511  4576  214  1868  5058  5611  9795  10147  2796  10608  244  6572  3419  2176  693  1173  2043  4951  7214  3303  7674  6253  6986  1836  3177  3526  2719  1918  7295  3189  3239  2253  9483  6413  9682  9910  8712  9378  6040  5940  9138  4950  4153  10457  3769  8228  5015  3187  7041  7702  9127  6725  1695  4367  5051  2535  2817  8450  2612  9104  6308  5314  8990  1525  9977  9189  4308  11158  10108  10435  3133  4595  9691  10292  10307  10640  1775  3476  1539  6003  7872  7131  2550  7924  10027  10037  10837  6793  7412  1911  3295  4829  7955  2107  10120  907  8049  8057  986  3056  6620  9450  1297  7307  616  1961  2329  5832  5948  7862  1688  820  7373  10593  8674  8672  3774  4623  2753  5000  1755  9076  3703  7570  4265  9404  7305  964  7884  4751  1789  5892  8016  10178  6361  11077  10762  1283  9474  3394  5165  3277  1865  3949  5334  4015  6076  8569  2798  9670  8740  10614  3817  1359  4330  5280  10114  2762  5554  2699  417  10406  9026  7761  2658  6157  1332  7782  4549  7140  7281  9159  10445  7937  8399  2654  6797  6048  6786  9925  10934  2589  7964  8996  1724  1450  5612  2228  3902  5797  6192  343  6206  7243  5621  4111  4679  456  7388  8260  5488  4971  6532  5442  6663  10951  3248  1436  4108  6292  9491  7835  8349  5683  3755  1068  8210  9535  8273  5077  7893  4840  8123  9235  10462  10732  767  10599  6471  4036  3694  9935  940  2793  10847  6549  10767  9160  9376  1404  1217  3717  8610  10611  10026  6520  8408  3337  6136  7323  4789  5986  9373  3458  6668  7090  6790  7123  7463  6214  9762  1669  7728  4557  2600  8073  1291  9060  3595  6708  8038  8469  2623  4659  10787  4151  408  10874  5034  7726  6553  9558  10213  3946  9144  7531  8041  9513  10519  8386  7115  10700  4026  229  4938  190  6905  5387  9569  10397  2802  5146  4362  6161  6754  7058  7684  5076  5063  228  3401  1165  5121  8534  9400  4641  9677  11176  1803  1824  9784  5634  10890  9913  2745  9186  9625  615  3858  4619  402  3391  6006  2315  5992  2018  3957  807  6518  1138  2201  5234  9327  4686  156  8004  1036  4230  5119  3000  1453  10917  1176  2341  10339  3384  5547  983  2313  6716  6545  5877  5135  7640  7218  2677  8213  9377  10522  10659  3811  160  1741  582  10050  5303  6617  8056  10616  4835  6750  7012  9348  9437  10470  8589  4202  3980  5381  3442  5409  8319  9531  10817  4232  5525  6497  9286  3402  5041  4062  2718  3434  3877  5783  6815  7376  1396  9291  7383  114  8473  1846  4152  9221  10508  4825  1122  5858  10766  9714  8101  2477  5161  9937  3897  3870  6977  5726  11214  8762  11117  9158  1303  1208  608  5956  9454  1061  1966  11144  3069  2944  5320  2711  6360  9844  9950  6629  2124  2909  3275  5994  3849  4596  4696  6070  516  3681  6189  7183  9342  4563  10310  10409  2275  8293  9149  10355  4231  8526  10246  8163  8577  1642  8621  10483  10763  9465  4772  3168  6720  3410  1863  3573  5729  7563  3626  8257  2175  5048  7126  9709  10665  939  102  4227  6835  9385  5117  2431  10372  4284  11063  6544  3708  5245  10449  3751  2483  9417  10627  6767  3974  5516  5623  7767  8503  9166  10958  985  1328  4844  4922  10357  1920  2916  1940  3096  4526  7462  4406  239  4007  2621  6778  2120  6804  9728  7672  9304  8317  10985  4776  9429  3101  8977  10566  10711  7686  6186  10309  9770  8294  8490  3351  2422  5180  3085  10421  5176  8711  2048  250  5244  8026  6433  7335  2357  7533  8034  9510  5255  5786  6695  127  934  7993  8523  9264  9403  10188  10444  9504  5911  5400  7911  2828  2764  1063  10969  5079  4193  8010  5452  1419  4475  203  2992  8889  2197  2479  9541  468  4524  6024  8328  5151  3019  3116  3361  8353  8848  1045  10124  11069  9312  9050  11159  8647  2335  9155  9674  11032  3679  3421  4543  2823  9347  4573  2957  1632  3519  4099  8833  7653  255  5278  2042  485  8414  3563  9451  1491  10721  5460  301  6263  1315  5934  830  1432  10160  2574  5766  8039  3614  8359  10845  3395  7813  5818  5866  2273  8131  8543  5147  8720  10699  900  3853  1197  3903  8541  5369  7470  7784  6564  9088  6868  159  3209  3244  8410  6858  8606  1941  9823  1839  1011  696  4123  538  5122  6305  121  6319  7168  3580  3633  2392  5306  10886  10530  1951  9057  10541  4886  3231  4470  6088  4445  1171  7788  10930  4624  5690  10251  9723  168  4105  10760  2016  4692  8964  6724  2934  3433  211  1399  1524  3014  4541  6789  7094  10203  777  5851  10635  1515  1582  10081  4033  9943  8655  9214  10303  10846  5643  2690  2288  5600  1267  7108  6295  5668  10084  5496  2897  8550  4631  3015  9415  9544  887  1088  1627  1653  3235  2667  11164  4574  3727  374  10088  1379  3570  3074  10041  9156  5630  8397  2296  600  1187  8878  2480  4493  5152  10080  2122  5483  9041  8132  480  3707  5343  6558  1597  6586  3418  2309  2782  8032  4881  8121  10030  1095  10135  1070  10347  530  5239  7482  8492  1472  1930  675  10017  6768  9361  9142  527  7172  9111  10591  726  4827  5748  8656  3250  2577  6388  10859  4791  10121  10165  4992  10719  219  5878  802  9099  2528  9200  3640  3440  8241  10704  10504  7395  7936  7721  4933  8873  3913  6667  4447  7256  8779  10082  10569  11040  10149  3174  9178  32  316  6755  5581  8867  2424  8766  6686  10474  3845  9123  9555  381  3599  6486  7585  1009  5967  781  3586  9021  2495  813  6445  9298  1287  9489  10546  9379  1866  7568  8371  8091  10981  5978  632  9749  6023  5284  1140  2298  4360  2151  4391  4744  7476  4646  5075  321  5508  9560  10924  1042  1535  3190  5262  1241  2180  2786  9386  4418  322  7914  2224  2440  6574  9783  7421  3076  9775 \n",
      "C IS CURRENTLY: 11195\n",
      "doing: [1, 1, 1, 2, 20]\n",
      "MADE SZ 2 40\n",
      "MADE SZ 3 94\n",
      "MADE SZ 4 228\n",
      "MADE SZ 5 571\n",
      "MADE SZ 6 1436\n",
      "MADE SZ 7 3546\n",
      "MADE SZ 8 8409\n",
      "MADE SZ 9 18874\n",
      "MADE SZ 10 39622\n",
      "MADE SZ 11 76876\n",
      "MADE SZ 12 136217\n",
      "MADE SZ 13 217531\n",
      "MADE SZ 14 307864\n",
      "MADE SZ 15 378190\n",
      "MADE SZ 16 392525\n",
      "MADE SZ 17 332580\n",
      "MADE SZ 18 221076\n",
      "MADE SZ 19 111180\n",
      "MADE SZ 20 41288\n",
      "MADE OMINOS\n"
     ]
    }
   ],
   "source": []
  },
  {
   "cell_type": "code",
   "execution_count": null,
   "metadata": {},
   "outputs": [],
   "source": []
  },
  {
   "cell_type": "code",
   "execution_count": 16,
   "metadata": {},
   "outputs": [
    {
     "name": "stdout",
     "output_type": "stream",
     "text": [
      "MADE SZ 2 60\n",
      "MADE SZ 3 148\n",
      "MADE SZ 4 381\n",
      "MADE SZ 5 1024\n",
      "MADE SZ 6 2816\n",
      "MADE SZ 7 7816\n",
      "MADE SZ 8 21586\n",
      "MADE SZ 9 58624\n",
      "MADE OMINOS\n",
      "27544  500 1000 1500 2000 2500 3000 3500 4000 4500 5000 5500 6000 6500 7000 7500 "
     ]
    },
    {
     "ename": "InterruptException",
     "evalue": "InterruptException:",
     "output_type": "error",
     "traceback": [
      "InterruptException:",
      "",
      "Stacktrace:",
      " [1] copy at ./array.jl:299 [inlined]",
      " [2] rem_vertex!(::SimpleGraph{Int64}, ::Int64) at /home/zachary/.julia/packages/LightGraphs/PPsyP/src/SimpleGraphs/SimpleGraphs.jl:111",
      " [3] check_holes(::Array{Int8,2}, ::Array{Int64,1}) at ./In[7]:11",
      " [4] build_conflicts(::Array{Array{Int8,2},1}, ::Array{Int64,1}, ::Int64) at ./In[15]:25",
      " [5] enumerator(::Array{Int64,1}, ::Array{Int64,1}, ::Int64) at ./In[12]:29",
      " [6] top-level scope at util.jl:156",
      " [7] top-level scope at In[16]:1"
     ]
    }
   ],
   "source": []
  },
  {
   "cell_type": "code",
   "execution_count": 23,
   "metadata": {},
   "outputs": [
    {
     "ename": "LoadError",
     "evalue": "syntax: invalid escape sequence",
     "output_type": "error",
     "traceback": [
      "syntax: invalid escape sequence",
      ""
     ]
    }
   ],
   "source": [
    "enumerator()"
   ]
  },
  {
   "cell_type": "code",
   "execution_count": null,
   "metadata": {},
   "outputs": [],
   "source": []
  },
  {
   "cell_type": "code",
   "execution_count": null,
   "metadata": {},
   "outputs": [],
   "source": []
  },
  {
   "cell_type": "code",
   "execution_count": 2,
   "metadata": {},
   "outputs": [
    {
     "data": {
      "text/plain": [
       "false"
      ]
     },
     "execution_count": 2,
     "metadata": {},
     "output_type": "execute_result"
    }
   ],
   "source": []
  },
  {
   "cell_type": "code",
   "execution_count": null,
   "metadata": {},
   "outputs": [],
   "source": []
  }
 ],
 "metadata": {
  "kernelspec": {
   "display_name": "Julia 1.0.1",
   "language": "julia",
   "name": "julia-1.0"
  },
  "language_info": {
   "file_extension": ".jl",
   "mimetype": "application/julia",
   "name": "julia",
   "version": "1.0.1"
  }
 },
 "nbformat": 4,
 "nbformat_minor": 2
}
